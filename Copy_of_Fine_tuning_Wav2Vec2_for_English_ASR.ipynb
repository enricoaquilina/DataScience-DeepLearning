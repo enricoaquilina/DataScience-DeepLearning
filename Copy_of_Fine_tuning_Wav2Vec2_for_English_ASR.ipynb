{
  "nbformat": 4,
  "nbformat_minor": 0,
  "metadata": {
    "colab": {
      "provenance": [],
      "toc_visible": true,
      "machine_shape": "hm",
      "include_colab_link": true
    },
    "kernelspec": {
      "name": "python3",
      "display_name": "Python 3"
    },
    "accelerator": "GPU",
    "widgets": {
      "application/vnd.jupyter.widget-state+json": {
        "524b5795780746f5966c06b878cc0fbc": {
          "model_module": "@jupyter-widgets/controls",
          "model_name": "HBoxModel",
          "model_module_version": "1.5.0",
          "state": {
            "_dom_classes": [],
            "_model_module": "@jupyter-widgets/controls",
            "_model_module_version": "1.5.0",
            "_model_name": "HBoxModel",
            "_view_count": null,
            "_view_module": "@jupyter-widgets/controls",
            "_view_module_version": "1.5.0",
            "_view_name": "HBoxView",
            "box_style": "",
            "children": [
              "IPY_MODEL_8eb41fee8e1c452a9d69a07a266d871a",
              "IPY_MODEL_f22febfc3bbe48058be84b2a20e906f5",
              "IPY_MODEL_ab51fefefa1b464a9a780b80c6f0c020"
            ],
            "layout": "IPY_MODEL_88fd1cb973f8485b97caa19b7801c3d3"
          }
        },
        "8eb41fee8e1c452a9d69a07a266d871a": {
          "model_module": "@jupyter-widgets/controls",
          "model_name": "HTMLModel",
          "model_module_version": "1.5.0",
          "state": {
            "_dom_classes": [],
            "_model_module": "@jupyter-widgets/controls",
            "_model_module_version": "1.5.0",
            "_model_name": "HTMLModel",
            "_view_count": null,
            "_view_module": "@jupyter-widgets/controls",
            "_view_module_version": "1.5.0",
            "_view_name": "HTMLView",
            "description": "",
            "description_tooltip": null,
            "layout": "IPY_MODEL_3234edc4a75e4658acd19feef174e88f",
            "placeholder": "​",
            "style": "IPY_MODEL_6bfe6219ad934146a4d680e38ed19879",
            "value": "Downloading: 100%"
          }
        },
        "f22febfc3bbe48058be84b2a20e906f5": {
          "model_module": "@jupyter-widgets/controls",
          "model_name": "FloatProgressModel",
          "model_module_version": "1.5.0",
          "state": {
            "_dom_classes": [],
            "_model_module": "@jupyter-widgets/controls",
            "_model_module_version": "1.5.0",
            "_model_name": "FloatProgressModel",
            "_view_count": null,
            "_view_module": "@jupyter-widgets/controls",
            "_view_module_version": "1.5.0",
            "_view_name": "ProgressView",
            "bar_style": "success",
            "description": "",
            "description_tooltip": null,
            "layout": "IPY_MODEL_63e9fc689ea54fbfa7226cc9918977cb",
            "max": 215,
            "min": 0,
            "orientation": "horizontal",
            "style": "IPY_MODEL_dc034b4bf9e34963ab79f391c55d44ac",
            "value": 215
          }
        },
        "ab51fefefa1b464a9a780b80c6f0c020": {
          "model_module": "@jupyter-widgets/controls",
          "model_name": "HTMLModel",
          "model_module_version": "1.5.0",
          "state": {
            "_dom_classes": [],
            "_model_module": "@jupyter-widgets/controls",
            "_model_module_version": "1.5.0",
            "_model_name": "HTMLModel",
            "_view_count": null,
            "_view_module": "@jupyter-widgets/controls",
            "_view_module_version": "1.5.0",
            "_view_name": "HTMLView",
            "description": "",
            "description_tooltip": null,
            "layout": "IPY_MODEL_6b3288ffeef34c2a925d2554c7c4f521",
            "placeholder": "​",
            "style": "IPY_MODEL_116e45bbe2d640d18d6a47309692dc20",
            "value": " 215/215 [00:00&lt;00:00, 8.22kB/s]"
          }
        },
        "88fd1cb973f8485b97caa19b7801c3d3": {
          "model_module": "@jupyter-widgets/base",
          "model_name": "LayoutModel",
          "model_module_version": "1.2.0",
          "state": {
            "_model_module": "@jupyter-widgets/base",
            "_model_module_version": "1.2.0",
            "_model_name": "LayoutModel",
            "_view_count": null,
            "_view_module": "@jupyter-widgets/base",
            "_view_module_version": "1.2.0",
            "_view_name": "LayoutView",
            "align_content": null,
            "align_items": null,
            "align_self": null,
            "border": null,
            "bottom": null,
            "display": null,
            "flex": null,
            "flex_flow": null,
            "grid_area": null,
            "grid_auto_columns": null,
            "grid_auto_flow": null,
            "grid_auto_rows": null,
            "grid_column": null,
            "grid_gap": null,
            "grid_row": null,
            "grid_template_areas": null,
            "grid_template_columns": null,
            "grid_template_rows": null,
            "height": null,
            "justify_content": null,
            "justify_items": null,
            "left": null,
            "margin": null,
            "max_height": null,
            "max_width": null,
            "min_height": null,
            "min_width": null,
            "object_fit": null,
            "object_position": null,
            "order": null,
            "overflow": null,
            "overflow_x": null,
            "overflow_y": null,
            "padding": null,
            "right": null,
            "top": null,
            "visibility": null,
            "width": null
          }
        },
        "3234edc4a75e4658acd19feef174e88f": {
          "model_module": "@jupyter-widgets/base",
          "model_name": "LayoutModel",
          "model_module_version": "1.2.0",
          "state": {
            "_model_module": "@jupyter-widgets/base",
            "_model_module_version": "1.2.0",
            "_model_name": "LayoutModel",
            "_view_count": null,
            "_view_module": "@jupyter-widgets/base",
            "_view_module_version": "1.2.0",
            "_view_name": "LayoutView",
            "align_content": null,
            "align_items": null,
            "align_self": null,
            "border": null,
            "bottom": null,
            "display": null,
            "flex": null,
            "flex_flow": null,
            "grid_area": null,
            "grid_auto_columns": null,
            "grid_auto_flow": null,
            "grid_auto_rows": null,
            "grid_column": null,
            "grid_gap": null,
            "grid_row": null,
            "grid_template_areas": null,
            "grid_template_columns": null,
            "grid_template_rows": null,
            "height": null,
            "justify_content": null,
            "justify_items": null,
            "left": null,
            "margin": null,
            "max_height": null,
            "max_width": null,
            "min_height": null,
            "min_width": null,
            "object_fit": null,
            "object_position": null,
            "order": null,
            "overflow": null,
            "overflow_x": null,
            "overflow_y": null,
            "padding": null,
            "right": null,
            "top": null,
            "visibility": null,
            "width": null
          }
        },
        "6bfe6219ad934146a4d680e38ed19879": {
          "model_module": "@jupyter-widgets/controls",
          "model_name": "DescriptionStyleModel",
          "model_module_version": "1.5.0",
          "state": {
            "_model_module": "@jupyter-widgets/controls",
            "_model_module_version": "1.5.0",
            "_model_name": "DescriptionStyleModel",
            "_view_count": null,
            "_view_module": "@jupyter-widgets/base",
            "_view_module_version": "1.2.0",
            "_view_name": "StyleView",
            "description_width": ""
          }
        },
        "63e9fc689ea54fbfa7226cc9918977cb": {
          "model_module": "@jupyter-widgets/base",
          "model_name": "LayoutModel",
          "model_module_version": "1.2.0",
          "state": {
            "_model_module": "@jupyter-widgets/base",
            "_model_module_version": "1.2.0",
            "_model_name": "LayoutModel",
            "_view_count": null,
            "_view_module": "@jupyter-widgets/base",
            "_view_module_version": "1.2.0",
            "_view_name": "LayoutView",
            "align_content": null,
            "align_items": null,
            "align_self": null,
            "border": null,
            "bottom": null,
            "display": null,
            "flex": null,
            "flex_flow": null,
            "grid_area": null,
            "grid_auto_columns": null,
            "grid_auto_flow": null,
            "grid_auto_rows": null,
            "grid_column": null,
            "grid_gap": null,
            "grid_row": null,
            "grid_template_areas": null,
            "grid_template_columns": null,
            "grid_template_rows": null,
            "height": null,
            "justify_content": null,
            "justify_items": null,
            "left": null,
            "margin": null,
            "max_height": null,
            "max_width": null,
            "min_height": null,
            "min_width": null,
            "object_fit": null,
            "object_position": null,
            "order": null,
            "overflow": null,
            "overflow_x": null,
            "overflow_y": null,
            "padding": null,
            "right": null,
            "top": null,
            "visibility": null,
            "width": null
          }
        },
        "dc034b4bf9e34963ab79f391c55d44ac": {
          "model_module": "@jupyter-widgets/controls",
          "model_name": "ProgressStyleModel",
          "model_module_version": "1.5.0",
          "state": {
            "_model_module": "@jupyter-widgets/controls",
            "_model_module_version": "1.5.0",
            "_model_name": "ProgressStyleModel",
            "_view_count": null,
            "_view_module": "@jupyter-widgets/base",
            "_view_module_version": "1.2.0",
            "_view_name": "StyleView",
            "bar_color": null,
            "description_width": ""
          }
        },
        "6b3288ffeef34c2a925d2554c7c4f521": {
          "model_module": "@jupyter-widgets/base",
          "model_name": "LayoutModel",
          "model_module_version": "1.2.0",
          "state": {
            "_model_module": "@jupyter-widgets/base",
            "_model_module_version": "1.2.0",
            "_model_name": "LayoutModel",
            "_view_count": null,
            "_view_module": "@jupyter-widgets/base",
            "_view_module_version": "1.2.0",
            "_view_name": "LayoutView",
            "align_content": null,
            "align_items": null,
            "align_self": null,
            "border": null,
            "bottom": null,
            "display": null,
            "flex": null,
            "flex_flow": null,
            "grid_area": null,
            "grid_auto_columns": null,
            "grid_auto_flow": null,
            "grid_auto_rows": null,
            "grid_column": null,
            "grid_gap": null,
            "grid_row": null,
            "grid_template_areas": null,
            "grid_template_columns": null,
            "grid_template_rows": null,
            "height": null,
            "justify_content": null,
            "justify_items": null,
            "left": null,
            "margin": null,
            "max_height": null,
            "max_width": null,
            "min_height": null,
            "min_width": null,
            "object_fit": null,
            "object_position": null,
            "order": null,
            "overflow": null,
            "overflow_x": null,
            "overflow_y": null,
            "padding": null,
            "right": null,
            "top": null,
            "visibility": null,
            "width": null
          }
        },
        "116e45bbe2d640d18d6a47309692dc20": {
          "model_module": "@jupyter-widgets/controls",
          "model_name": "DescriptionStyleModel",
          "model_module_version": "1.5.0",
          "state": {
            "_model_module": "@jupyter-widgets/controls",
            "_model_module_version": "1.5.0",
            "_model_name": "DescriptionStyleModel",
            "_view_count": null,
            "_view_module": "@jupyter-widgets/base",
            "_view_module_version": "1.2.0",
            "_view_name": "StyleView",
            "description_width": ""
          }
        },
        "66d5a397b26e4d66a97bc3b3159e96bd": {
          "model_module": "@jupyter-widgets/controls",
          "model_name": "HBoxModel",
          "model_module_version": "1.5.0",
          "state": {
            "_dom_classes": [],
            "_model_module": "@jupyter-widgets/controls",
            "_model_module_version": "1.5.0",
            "_model_name": "HBoxModel",
            "_view_count": null,
            "_view_module": "@jupyter-widgets/controls",
            "_view_module_version": "1.5.0",
            "_view_name": "HBoxView",
            "box_style": "",
            "children": [
              "IPY_MODEL_041870fd5bac43b394956252364a16c4",
              "IPY_MODEL_26f6574d99724fb29159071dda6039b5",
              "IPY_MODEL_55d0bfd5c746402f89e6b86a7ca37b3a"
            ],
            "layout": "IPY_MODEL_b69bad861f014c20b4cb470c73b1fe37"
          }
        },
        "041870fd5bac43b394956252364a16c4": {
          "model_module": "@jupyter-widgets/controls",
          "model_name": "HTMLModel",
          "model_module_version": "1.5.0",
          "state": {
            "_dom_classes": [],
            "_model_module": "@jupyter-widgets/controls",
            "_model_module_version": "1.5.0",
            "_model_name": "HTMLModel",
            "_view_count": null,
            "_view_module": "@jupyter-widgets/controls",
            "_view_module_version": "1.5.0",
            "_view_name": "HTMLView",
            "description": "",
            "description_tooltip": null,
            "layout": "IPY_MODEL_940e030ce7ae40d68136ddf1a1a67736",
            "placeholder": "​",
            "style": "IPY_MODEL_c80bdd3bae794c08b81c950a33ff9ba0",
            "value": "Downloading: 100%"
          }
        },
        "26f6574d99724fb29159071dda6039b5": {
          "model_module": "@jupyter-widgets/controls",
          "model_name": "FloatProgressModel",
          "model_module_version": "1.5.0",
          "state": {
            "_dom_classes": [],
            "_model_module": "@jupyter-widgets/controls",
            "_model_module_version": "1.5.0",
            "_model_name": "FloatProgressModel",
            "_view_count": null,
            "_view_module": "@jupyter-widgets/controls",
            "_view_module_version": "1.5.0",
            "_view_name": "ProgressView",
            "bar_style": "success",
            "description": "",
            "description_tooltip": null,
            "layout": "IPY_MODEL_7b0c8bc5bb66433384aeb47bf99001ae",
            "max": 217,
            "min": 0,
            "orientation": "horizontal",
            "style": "IPY_MODEL_6b03d462bd0f4fbeab0df76bbb881621",
            "value": 217
          }
        },
        "55d0bfd5c746402f89e6b86a7ca37b3a": {
          "model_module": "@jupyter-widgets/controls",
          "model_name": "HTMLModel",
          "model_module_version": "1.5.0",
          "state": {
            "_dom_classes": [],
            "_model_module": "@jupyter-widgets/controls",
            "_model_module_version": "1.5.0",
            "_model_name": "HTMLModel",
            "_view_count": null,
            "_view_module": "@jupyter-widgets/controls",
            "_view_module_version": "1.5.0",
            "_view_name": "HTMLView",
            "description": "",
            "description_tooltip": null,
            "layout": "IPY_MODEL_be78bdab8638431e80c087a0fe9a7a8f",
            "placeholder": "​",
            "style": "IPY_MODEL_d44a1f0b3216469fb1ac597951f9471a",
            "value": " 217/217 [00:00&lt;00:00, 8.74kB/s]"
          }
        },
        "b69bad861f014c20b4cb470c73b1fe37": {
          "model_module": "@jupyter-widgets/base",
          "model_name": "LayoutModel",
          "model_module_version": "1.2.0",
          "state": {
            "_model_module": "@jupyter-widgets/base",
            "_model_module_version": "1.2.0",
            "_model_name": "LayoutModel",
            "_view_count": null,
            "_view_module": "@jupyter-widgets/base",
            "_view_module_version": "1.2.0",
            "_view_name": "LayoutView",
            "align_content": null,
            "align_items": null,
            "align_self": null,
            "border": null,
            "bottom": null,
            "display": null,
            "flex": null,
            "flex_flow": null,
            "grid_area": null,
            "grid_auto_columns": null,
            "grid_auto_flow": null,
            "grid_auto_rows": null,
            "grid_column": null,
            "grid_gap": null,
            "grid_row": null,
            "grid_template_areas": null,
            "grid_template_columns": null,
            "grid_template_rows": null,
            "height": null,
            "justify_content": null,
            "justify_items": null,
            "left": null,
            "margin": null,
            "max_height": null,
            "max_width": null,
            "min_height": null,
            "min_width": null,
            "object_fit": null,
            "object_position": null,
            "order": null,
            "overflow": null,
            "overflow_x": null,
            "overflow_y": null,
            "padding": null,
            "right": null,
            "top": null,
            "visibility": null,
            "width": null
          }
        },
        "940e030ce7ae40d68136ddf1a1a67736": {
          "model_module": "@jupyter-widgets/base",
          "model_name": "LayoutModel",
          "model_module_version": "1.2.0",
          "state": {
            "_model_module": "@jupyter-widgets/base",
            "_model_module_version": "1.2.0",
            "_model_name": "LayoutModel",
            "_view_count": null,
            "_view_module": "@jupyter-widgets/base",
            "_view_module_version": "1.2.0",
            "_view_name": "LayoutView",
            "align_content": null,
            "align_items": null,
            "align_self": null,
            "border": null,
            "bottom": null,
            "display": null,
            "flex": null,
            "flex_flow": null,
            "grid_area": null,
            "grid_auto_columns": null,
            "grid_auto_flow": null,
            "grid_auto_rows": null,
            "grid_column": null,
            "grid_gap": null,
            "grid_row": null,
            "grid_template_areas": null,
            "grid_template_columns": null,
            "grid_template_rows": null,
            "height": null,
            "justify_content": null,
            "justify_items": null,
            "left": null,
            "margin": null,
            "max_height": null,
            "max_width": null,
            "min_height": null,
            "min_width": null,
            "object_fit": null,
            "object_position": null,
            "order": null,
            "overflow": null,
            "overflow_x": null,
            "overflow_y": null,
            "padding": null,
            "right": null,
            "top": null,
            "visibility": null,
            "width": null
          }
        },
        "c80bdd3bae794c08b81c950a33ff9ba0": {
          "model_module": "@jupyter-widgets/controls",
          "model_name": "DescriptionStyleModel",
          "model_module_version": "1.5.0",
          "state": {
            "_model_module": "@jupyter-widgets/controls",
            "_model_module_version": "1.5.0",
            "_model_name": "DescriptionStyleModel",
            "_view_count": null,
            "_view_module": "@jupyter-widgets/base",
            "_view_module_version": "1.2.0",
            "_view_name": "StyleView",
            "description_width": ""
          }
        },
        "7b0c8bc5bb66433384aeb47bf99001ae": {
          "model_module": "@jupyter-widgets/base",
          "model_name": "LayoutModel",
          "model_module_version": "1.2.0",
          "state": {
            "_model_module": "@jupyter-widgets/base",
            "_model_module_version": "1.2.0",
            "_model_name": "LayoutModel",
            "_view_count": null,
            "_view_module": "@jupyter-widgets/base",
            "_view_module_version": "1.2.0",
            "_view_name": "LayoutView",
            "align_content": null,
            "align_items": null,
            "align_self": null,
            "border": null,
            "bottom": null,
            "display": null,
            "flex": null,
            "flex_flow": null,
            "grid_area": null,
            "grid_auto_columns": null,
            "grid_auto_flow": null,
            "grid_auto_rows": null,
            "grid_column": null,
            "grid_gap": null,
            "grid_row": null,
            "grid_template_areas": null,
            "grid_template_columns": null,
            "grid_template_rows": null,
            "height": null,
            "justify_content": null,
            "justify_items": null,
            "left": null,
            "margin": null,
            "max_height": null,
            "max_width": null,
            "min_height": null,
            "min_width": null,
            "object_fit": null,
            "object_position": null,
            "order": null,
            "overflow": null,
            "overflow_x": null,
            "overflow_y": null,
            "padding": null,
            "right": null,
            "top": null,
            "visibility": null,
            "width": null
          }
        },
        "6b03d462bd0f4fbeab0df76bbb881621": {
          "model_module": "@jupyter-widgets/controls",
          "model_name": "ProgressStyleModel",
          "model_module_version": "1.5.0",
          "state": {
            "_model_module": "@jupyter-widgets/controls",
            "_model_module_version": "1.5.0",
            "_model_name": "ProgressStyleModel",
            "_view_count": null,
            "_view_module": "@jupyter-widgets/base",
            "_view_module_version": "1.2.0",
            "_view_name": "StyleView",
            "bar_color": null,
            "description_width": ""
          }
        },
        "be78bdab8638431e80c087a0fe9a7a8f": {
          "model_module": "@jupyter-widgets/base",
          "model_name": "LayoutModel",
          "model_module_version": "1.2.0",
          "state": {
            "_model_module": "@jupyter-widgets/base",
            "_model_module_version": "1.2.0",
            "_model_name": "LayoutModel",
            "_view_count": null,
            "_view_module": "@jupyter-widgets/base",
            "_view_module_version": "1.2.0",
            "_view_name": "LayoutView",
            "align_content": null,
            "align_items": null,
            "align_self": null,
            "border": null,
            "bottom": null,
            "display": null,
            "flex": null,
            "flex_flow": null,
            "grid_area": null,
            "grid_auto_columns": null,
            "grid_auto_flow": null,
            "grid_auto_rows": null,
            "grid_column": null,
            "grid_gap": null,
            "grid_row": null,
            "grid_template_areas": null,
            "grid_template_columns": null,
            "grid_template_rows": null,
            "height": null,
            "justify_content": null,
            "justify_items": null,
            "left": null,
            "margin": null,
            "max_height": null,
            "max_width": null,
            "min_height": null,
            "min_width": null,
            "object_fit": null,
            "object_position": null,
            "order": null,
            "overflow": null,
            "overflow_x": null,
            "overflow_y": null,
            "padding": null,
            "right": null,
            "top": null,
            "visibility": null,
            "width": null
          }
        },
        "d44a1f0b3216469fb1ac597951f9471a": {
          "model_module": "@jupyter-widgets/controls",
          "model_name": "DescriptionStyleModel",
          "model_module_version": "1.5.0",
          "state": {
            "_model_module": "@jupyter-widgets/controls",
            "_model_module_version": "1.5.0",
            "_model_name": "DescriptionStyleModel",
            "_view_count": null,
            "_view_module": "@jupyter-widgets/base",
            "_view_module_version": "1.2.0",
            "_view_name": "StyleView",
            "description_width": ""
          }
        },
        "a0e897961bb049438847879cf082adf3": {
          "model_module": "@jupyter-widgets/controls",
          "model_name": "HBoxModel",
          "model_module_version": "1.5.0",
          "state": {
            "_dom_classes": [],
            "_model_module": "@jupyter-widgets/controls",
            "_model_module_version": "1.5.0",
            "_model_name": "HBoxModel",
            "_view_count": null,
            "_view_module": "@jupyter-widgets/controls",
            "_view_module_version": "1.5.0",
            "_view_name": "HBoxView",
            "box_style": "",
            "children": [
              "IPY_MODEL_820ac3ce474346728b80a609d47848ee",
              "IPY_MODEL_045273b88fa04afba97bf7ba6027f164",
              "IPY_MODEL_4847949da7b64782895b4fca8b432ec8"
            ],
            "layout": "IPY_MODEL_427b99cf8b964a59bbbf0b4d04504906"
          }
        },
        "820ac3ce474346728b80a609d47848ee": {
          "model_module": "@jupyter-widgets/controls",
          "model_name": "HTMLModel",
          "model_module_version": "1.5.0",
          "state": {
            "_dom_classes": [],
            "_model_module": "@jupyter-widgets/controls",
            "_model_module_version": "1.5.0",
            "_model_name": "HTMLModel",
            "_view_count": null,
            "_view_module": "@jupyter-widgets/controls",
            "_view_module_version": "1.5.0",
            "_view_name": "HTMLView",
            "description": "",
            "description_tooltip": null,
            "layout": "IPY_MODEL_f652ea3e007c42669e445a7247bb0430",
            "placeholder": "​",
            "style": "IPY_MODEL_527bf8b3612b4da89479424c5b66681e",
            "value": "Downloading: 100%"
          }
        },
        "045273b88fa04afba97bf7ba6027f164": {
          "model_module": "@jupyter-widgets/controls",
          "model_name": "FloatProgressModel",
          "model_module_version": "1.5.0",
          "state": {
            "_dom_classes": [],
            "_model_module": "@jupyter-widgets/controls",
            "_model_module_version": "1.5.0",
            "_model_name": "FloatProgressModel",
            "_view_count": null,
            "_view_module": "@jupyter-widgets/controls",
            "_view_module_version": "1.5.0",
            "_view_name": "ProgressView",
            "bar_style": "success",
            "description": "",
            "description_tooltip": null,
            "layout": "IPY_MODEL_708ff309676040119bccd6f21d1684f6",
            "max": 268,
            "min": 0,
            "orientation": "horizontal",
            "style": "IPY_MODEL_6a8694b9181f4828ba3ef4ff828fd1c3",
            "value": 268
          }
        },
        "4847949da7b64782895b4fca8b432ec8": {
          "model_module": "@jupyter-widgets/controls",
          "model_name": "HTMLModel",
          "model_module_version": "1.5.0",
          "state": {
            "_dom_classes": [],
            "_model_module": "@jupyter-widgets/controls",
            "_model_module_version": "1.5.0",
            "_model_name": "HTMLModel",
            "_view_count": null,
            "_view_module": "@jupyter-widgets/controls",
            "_view_module_version": "1.5.0",
            "_view_name": "HTMLView",
            "description": "",
            "description_tooltip": null,
            "layout": "IPY_MODEL_90dbfe5bab604315b329a6a8fcf131b1",
            "placeholder": "​",
            "style": "IPY_MODEL_b1a51bfb07774b7bac783d1c4d5a680c",
            "value": " 268/268 [00:00&lt;00:00, 11.2kB/s]"
          }
        },
        "427b99cf8b964a59bbbf0b4d04504906": {
          "model_module": "@jupyter-widgets/base",
          "model_name": "LayoutModel",
          "model_module_version": "1.2.0",
          "state": {
            "_model_module": "@jupyter-widgets/base",
            "_model_module_version": "1.2.0",
            "_model_name": "LayoutModel",
            "_view_count": null,
            "_view_module": "@jupyter-widgets/base",
            "_view_module_version": "1.2.0",
            "_view_name": "LayoutView",
            "align_content": null,
            "align_items": null,
            "align_self": null,
            "border": null,
            "bottom": null,
            "display": null,
            "flex": null,
            "flex_flow": null,
            "grid_area": null,
            "grid_auto_columns": null,
            "grid_auto_flow": null,
            "grid_auto_rows": null,
            "grid_column": null,
            "grid_gap": null,
            "grid_row": null,
            "grid_template_areas": null,
            "grid_template_columns": null,
            "grid_template_rows": null,
            "height": null,
            "justify_content": null,
            "justify_items": null,
            "left": null,
            "margin": null,
            "max_height": null,
            "max_width": null,
            "min_height": null,
            "min_width": null,
            "object_fit": null,
            "object_position": null,
            "order": null,
            "overflow": null,
            "overflow_x": null,
            "overflow_y": null,
            "padding": null,
            "right": null,
            "top": null,
            "visibility": null,
            "width": null
          }
        },
        "f652ea3e007c42669e445a7247bb0430": {
          "model_module": "@jupyter-widgets/base",
          "model_name": "LayoutModel",
          "model_module_version": "1.2.0",
          "state": {
            "_model_module": "@jupyter-widgets/base",
            "_model_module_version": "1.2.0",
            "_model_name": "LayoutModel",
            "_view_count": null,
            "_view_module": "@jupyter-widgets/base",
            "_view_module_version": "1.2.0",
            "_view_name": "LayoutView",
            "align_content": null,
            "align_items": null,
            "align_self": null,
            "border": null,
            "bottom": null,
            "display": null,
            "flex": null,
            "flex_flow": null,
            "grid_area": null,
            "grid_auto_columns": null,
            "grid_auto_flow": null,
            "grid_auto_rows": null,
            "grid_column": null,
            "grid_gap": null,
            "grid_row": null,
            "grid_template_areas": null,
            "grid_template_columns": null,
            "grid_template_rows": null,
            "height": null,
            "justify_content": null,
            "justify_items": null,
            "left": null,
            "margin": null,
            "max_height": null,
            "max_width": null,
            "min_height": null,
            "min_width": null,
            "object_fit": null,
            "object_position": null,
            "order": null,
            "overflow": null,
            "overflow_x": null,
            "overflow_y": null,
            "padding": null,
            "right": null,
            "top": null,
            "visibility": null,
            "width": null
          }
        },
        "527bf8b3612b4da89479424c5b66681e": {
          "model_module": "@jupyter-widgets/controls",
          "model_name": "DescriptionStyleModel",
          "model_module_version": "1.5.0",
          "state": {
            "_model_module": "@jupyter-widgets/controls",
            "_model_module_version": "1.5.0",
            "_model_name": "DescriptionStyleModel",
            "_view_count": null,
            "_view_module": "@jupyter-widgets/base",
            "_view_module_version": "1.2.0",
            "_view_name": "StyleView",
            "description_width": ""
          }
        },
        "708ff309676040119bccd6f21d1684f6": {
          "model_module": "@jupyter-widgets/base",
          "model_name": "LayoutModel",
          "model_module_version": "1.2.0",
          "state": {
            "_model_module": "@jupyter-widgets/base",
            "_model_module_version": "1.2.0",
            "_model_name": "LayoutModel",
            "_view_count": null,
            "_view_module": "@jupyter-widgets/base",
            "_view_module_version": "1.2.0",
            "_view_name": "LayoutView",
            "align_content": null,
            "align_items": null,
            "align_self": null,
            "border": null,
            "bottom": null,
            "display": null,
            "flex": null,
            "flex_flow": null,
            "grid_area": null,
            "grid_auto_columns": null,
            "grid_auto_flow": null,
            "grid_auto_rows": null,
            "grid_column": null,
            "grid_gap": null,
            "grid_row": null,
            "grid_template_areas": null,
            "grid_template_columns": null,
            "grid_template_rows": null,
            "height": null,
            "justify_content": null,
            "justify_items": null,
            "left": null,
            "margin": null,
            "max_height": null,
            "max_width": null,
            "min_height": null,
            "min_width": null,
            "object_fit": null,
            "object_position": null,
            "order": null,
            "overflow": null,
            "overflow_x": null,
            "overflow_y": null,
            "padding": null,
            "right": null,
            "top": null,
            "visibility": null,
            "width": null
          }
        },
        "6a8694b9181f4828ba3ef4ff828fd1c3": {
          "model_module": "@jupyter-widgets/controls",
          "model_name": "ProgressStyleModel",
          "model_module_version": "1.5.0",
          "state": {
            "_model_module": "@jupyter-widgets/controls",
            "_model_module_version": "1.5.0",
            "_model_name": "ProgressStyleModel",
            "_view_count": null,
            "_view_module": "@jupyter-widgets/base",
            "_view_module_version": "1.2.0",
            "_view_name": "StyleView",
            "bar_color": null,
            "description_width": ""
          }
        },
        "90dbfe5bab604315b329a6a8fcf131b1": {
          "model_module": "@jupyter-widgets/base",
          "model_name": "LayoutModel",
          "model_module_version": "1.2.0",
          "state": {
            "_model_module": "@jupyter-widgets/base",
            "_model_module_version": "1.2.0",
            "_model_name": "LayoutModel",
            "_view_count": null,
            "_view_module": "@jupyter-widgets/base",
            "_view_module_version": "1.2.0",
            "_view_name": "LayoutView",
            "align_content": null,
            "align_items": null,
            "align_self": null,
            "border": null,
            "bottom": null,
            "display": null,
            "flex": null,
            "flex_flow": null,
            "grid_area": null,
            "grid_auto_columns": null,
            "grid_auto_flow": null,
            "grid_auto_rows": null,
            "grid_column": null,
            "grid_gap": null,
            "grid_row": null,
            "grid_template_areas": null,
            "grid_template_columns": null,
            "grid_template_rows": null,
            "height": null,
            "justify_content": null,
            "justify_items": null,
            "left": null,
            "margin": null,
            "max_height": null,
            "max_width": null,
            "min_height": null,
            "min_width": null,
            "object_fit": null,
            "object_position": null,
            "order": null,
            "overflow": null,
            "overflow_x": null,
            "overflow_y": null,
            "padding": null,
            "right": null,
            "top": null,
            "visibility": null,
            "width": null
          }
        },
        "b1a51bfb07774b7bac783d1c4d5a680c": {
          "model_module": "@jupyter-widgets/controls",
          "model_name": "DescriptionStyleModel",
          "model_module_version": "1.5.0",
          "state": {
            "_model_module": "@jupyter-widgets/controls",
            "_model_module_version": "1.5.0",
            "_model_name": "DescriptionStyleModel",
            "_view_count": null,
            "_view_module": "@jupyter-widgets/base",
            "_view_module_version": "1.2.0",
            "_view_name": "StyleView",
            "description_width": ""
          }
        },
        "6ca0c9b3d250425b9597de9baa6bd77b": {
          "model_module": "@jupyter-widgets/controls",
          "model_name": "HBoxModel",
          "model_module_version": "1.5.0",
          "state": {
            "_dom_classes": [],
            "_model_module": "@jupyter-widgets/controls",
            "_model_module_version": "1.5.0",
            "_model_name": "HBoxModel",
            "_view_count": null,
            "_view_module": "@jupyter-widgets/controls",
            "_view_module_version": "1.5.0",
            "_view_name": "HBoxView",
            "box_style": "",
            "children": [
              "IPY_MODEL_b7d46c7f5da646eba0ed9e38fed6b4ee",
              "IPY_MODEL_7291673613bb43848bec1abee7447078",
              "IPY_MODEL_5c49d625a7f742f1a64820bc6f749f3a"
            ],
            "layout": "IPY_MODEL_a6a5bcb980df41d1b3e7b581701eae16"
          }
        },
        "b7d46c7f5da646eba0ed9e38fed6b4ee": {
          "model_module": "@jupyter-widgets/controls",
          "model_name": "HTMLModel",
          "model_module_version": "1.5.0",
          "state": {
            "_dom_classes": [],
            "_model_module": "@jupyter-widgets/controls",
            "_model_module_version": "1.5.0",
            "_model_name": "HTMLModel",
            "_view_count": null,
            "_view_module": "@jupyter-widgets/controls",
            "_view_module_version": "1.5.0",
            "_view_name": "HTMLView",
            "description": "",
            "description_tooltip": null,
            "layout": "IPY_MODEL_6412d390b2ce416fae910d689c3f6e70",
            "placeholder": "​",
            "style": "IPY_MODEL_255c276a050446ed9df81f8eeb7c1178",
            "value": "Downloading: 100%"
          }
        },
        "7291673613bb43848bec1abee7447078": {
          "model_module": "@jupyter-widgets/controls",
          "model_name": "FloatProgressModel",
          "model_module_version": "1.5.0",
          "state": {
            "_dom_classes": [],
            "_model_module": "@jupyter-widgets/controls",
            "_model_module_version": "1.5.0",
            "_model_name": "FloatProgressModel",
            "_view_count": null,
            "_view_module": "@jupyter-widgets/controls",
            "_view_module_version": "1.5.0",
            "_view_name": "ProgressView",
            "bar_style": "success",
            "description": "",
            "description_tooltip": null,
            "layout": "IPY_MODEL_ddd975596c234b0eacc40ef18ef40778",
            "max": 85,
            "min": 0,
            "orientation": "horizontal",
            "style": "IPY_MODEL_a5fd824b8eb64bb7b8d83354961927e6",
            "value": 85
          }
        },
        "5c49d625a7f742f1a64820bc6f749f3a": {
          "model_module": "@jupyter-widgets/controls",
          "model_name": "HTMLModel",
          "model_module_version": "1.5.0",
          "state": {
            "_dom_classes": [],
            "_model_module": "@jupyter-widgets/controls",
            "_model_module_version": "1.5.0",
            "_model_name": "HTMLModel",
            "_view_count": null,
            "_view_module": "@jupyter-widgets/controls",
            "_view_module_version": "1.5.0",
            "_view_name": "HTMLView",
            "description": "",
            "description_tooltip": null,
            "layout": "IPY_MODEL_17e3d063396848548af91c55c8f8e282",
            "placeholder": "​",
            "style": "IPY_MODEL_a3b48bc669674ff2a0bcce75a50e81eb",
            "value": " 85.0/85.0 [00:00&lt;00:00, 3.59kB/s]"
          }
        },
        "a6a5bcb980df41d1b3e7b581701eae16": {
          "model_module": "@jupyter-widgets/base",
          "model_name": "LayoutModel",
          "model_module_version": "1.2.0",
          "state": {
            "_model_module": "@jupyter-widgets/base",
            "_model_module_version": "1.2.0",
            "_model_name": "LayoutModel",
            "_view_count": null,
            "_view_module": "@jupyter-widgets/base",
            "_view_module_version": "1.2.0",
            "_view_name": "LayoutView",
            "align_content": null,
            "align_items": null,
            "align_self": null,
            "border": null,
            "bottom": null,
            "display": null,
            "flex": null,
            "flex_flow": null,
            "grid_area": null,
            "grid_auto_columns": null,
            "grid_auto_flow": null,
            "grid_auto_rows": null,
            "grid_column": null,
            "grid_gap": null,
            "grid_row": null,
            "grid_template_areas": null,
            "grid_template_columns": null,
            "grid_template_rows": null,
            "height": null,
            "justify_content": null,
            "justify_items": null,
            "left": null,
            "margin": null,
            "max_height": null,
            "max_width": null,
            "min_height": null,
            "min_width": null,
            "object_fit": null,
            "object_position": null,
            "order": null,
            "overflow": null,
            "overflow_x": null,
            "overflow_y": null,
            "padding": null,
            "right": null,
            "top": null,
            "visibility": null,
            "width": null
          }
        },
        "6412d390b2ce416fae910d689c3f6e70": {
          "model_module": "@jupyter-widgets/base",
          "model_name": "LayoutModel",
          "model_module_version": "1.2.0",
          "state": {
            "_model_module": "@jupyter-widgets/base",
            "_model_module_version": "1.2.0",
            "_model_name": "LayoutModel",
            "_view_count": null,
            "_view_module": "@jupyter-widgets/base",
            "_view_module_version": "1.2.0",
            "_view_name": "LayoutView",
            "align_content": null,
            "align_items": null,
            "align_self": null,
            "border": null,
            "bottom": null,
            "display": null,
            "flex": null,
            "flex_flow": null,
            "grid_area": null,
            "grid_auto_columns": null,
            "grid_auto_flow": null,
            "grid_auto_rows": null,
            "grid_column": null,
            "grid_gap": null,
            "grid_row": null,
            "grid_template_areas": null,
            "grid_template_columns": null,
            "grid_template_rows": null,
            "height": null,
            "justify_content": null,
            "justify_items": null,
            "left": null,
            "margin": null,
            "max_height": null,
            "max_width": null,
            "min_height": null,
            "min_width": null,
            "object_fit": null,
            "object_position": null,
            "order": null,
            "overflow": null,
            "overflow_x": null,
            "overflow_y": null,
            "padding": null,
            "right": null,
            "top": null,
            "visibility": null,
            "width": null
          }
        },
        "255c276a050446ed9df81f8eeb7c1178": {
          "model_module": "@jupyter-widgets/controls",
          "model_name": "DescriptionStyleModel",
          "model_module_version": "1.5.0",
          "state": {
            "_model_module": "@jupyter-widgets/controls",
            "_model_module_version": "1.5.0",
            "_model_name": "DescriptionStyleModel",
            "_view_count": null,
            "_view_module": "@jupyter-widgets/base",
            "_view_module_version": "1.2.0",
            "_view_name": "StyleView",
            "description_width": ""
          }
        },
        "ddd975596c234b0eacc40ef18ef40778": {
          "model_module": "@jupyter-widgets/base",
          "model_name": "LayoutModel",
          "model_module_version": "1.2.0",
          "state": {
            "_model_module": "@jupyter-widgets/base",
            "_model_module_version": "1.2.0",
            "_model_name": "LayoutModel",
            "_view_count": null,
            "_view_module": "@jupyter-widgets/base",
            "_view_module_version": "1.2.0",
            "_view_name": "LayoutView",
            "align_content": null,
            "align_items": null,
            "align_self": null,
            "border": null,
            "bottom": null,
            "display": null,
            "flex": null,
            "flex_flow": null,
            "grid_area": null,
            "grid_auto_columns": null,
            "grid_auto_flow": null,
            "grid_auto_rows": null,
            "grid_column": null,
            "grid_gap": null,
            "grid_row": null,
            "grid_template_areas": null,
            "grid_template_columns": null,
            "grid_template_rows": null,
            "height": null,
            "justify_content": null,
            "justify_items": null,
            "left": null,
            "margin": null,
            "max_height": null,
            "max_width": null,
            "min_height": null,
            "min_width": null,
            "object_fit": null,
            "object_position": null,
            "order": null,
            "overflow": null,
            "overflow_x": null,
            "overflow_y": null,
            "padding": null,
            "right": null,
            "top": null,
            "visibility": null,
            "width": null
          }
        },
        "a5fd824b8eb64bb7b8d83354961927e6": {
          "model_module": "@jupyter-widgets/controls",
          "model_name": "ProgressStyleModel",
          "model_module_version": "1.5.0",
          "state": {
            "_model_module": "@jupyter-widgets/controls",
            "_model_module_version": "1.5.0",
            "_model_name": "ProgressStyleModel",
            "_view_count": null,
            "_view_module": "@jupyter-widgets/base",
            "_view_module_version": "1.2.0",
            "_view_name": "StyleView",
            "bar_color": null,
            "description_width": ""
          }
        },
        "17e3d063396848548af91c55c8f8e282": {
          "model_module": "@jupyter-widgets/base",
          "model_name": "LayoutModel",
          "model_module_version": "1.2.0",
          "state": {
            "_model_module": "@jupyter-widgets/base",
            "_model_module_version": "1.2.0",
            "_model_name": "LayoutModel",
            "_view_count": null,
            "_view_module": "@jupyter-widgets/base",
            "_view_module_version": "1.2.0",
            "_view_name": "LayoutView",
            "align_content": null,
            "align_items": null,
            "align_self": null,
            "border": null,
            "bottom": null,
            "display": null,
            "flex": null,
            "flex_flow": null,
            "grid_area": null,
            "grid_auto_columns": null,
            "grid_auto_flow": null,
            "grid_auto_rows": null,
            "grid_column": null,
            "grid_gap": null,
            "grid_row": null,
            "grid_template_areas": null,
            "grid_template_columns": null,
            "grid_template_rows": null,
            "height": null,
            "justify_content": null,
            "justify_items": null,
            "left": null,
            "margin": null,
            "max_height": null,
            "max_width": null,
            "min_height": null,
            "min_width": null,
            "object_fit": null,
            "object_position": null,
            "order": null,
            "overflow": null,
            "overflow_x": null,
            "overflow_y": null,
            "padding": null,
            "right": null,
            "top": null,
            "visibility": null,
            "width": null
          }
        },
        "a3b48bc669674ff2a0bcce75a50e81eb": {
          "model_module": "@jupyter-widgets/controls",
          "model_name": "DescriptionStyleModel",
          "model_module_version": "1.5.0",
          "state": {
            "_model_module": "@jupyter-widgets/controls",
            "_model_module_version": "1.5.0",
            "_model_name": "DescriptionStyleModel",
            "_view_count": null,
            "_view_module": "@jupyter-widgets/base",
            "_view_module_version": "1.2.0",
            "_view_name": "StyleView",
            "description_width": ""
          }
        },
        "8fbdb230253a4152be95bf6229049f09": {
          "model_module": "@jupyter-widgets/controls",
          "model_name": "HBoxModel",
          "model_module_version": "1.5.0",
          "state": {
            "_dom_classes": [],
            "_model_module": "@jupyter-widgets/controls",
            "_model_module_version": "1.5.0",
            "_model_name": "HBoxModel",
            "_view_count": null,
            "_view_module": "@jupyter-widgets/controls",
            "_view_module_version": "1.5.0",
            "_view_name": "HBoxView",
            "box_style": "",
            "children": [
              "IPY_MODEL_857f0c099d8549e98991a93c791db4c1",
              "IPY_MODEL_16561789e2b9417a80ddcb6ef9d8676a",
              "IPY_MODEL_050c9d6bfd1e4b6ebe67401183a8d397"
            ],
            "layout": "IPY_MODEL_5874591082f944ff9b32202a1edbfd60"
          }
        },
        "857f0c099d8549e98991a93c791db4c1": {
          "model_module": "@jupyter-widgets/controls",
          "model_name": "HTMLModel",
          "model_module_version": "1.5.0",
          "state": {
            "_dom_classes": [],
            "_model_module": "@jupyter-widgets/controls",
            "_model_module_version": "1.5.0",
            "_model_name": "HTMLModel",
            "_view_count": null,
            "_view_module": "@jupyter-widgets/controls",
            "_view_module_version": "1.5.0",
            "_view_name": "HTMLView",
            "description": "",
            "description_tooltip": null,
            "layout": "IPY_MODEL_8c968b160d3d4fbb998840734f9f07e4",
            "placeholder": "​",
            "style": "IPY_MODEL_d2fd7c9e56b1419f9d23a10c260a7c7d",
            "value": ""
          }
        },
        "16561789e2b9417a80ddcb6ef9d8676a": {
          "model_module": "@jupyter-widgets/controls",
          "model_name": "FloatProgressModel",
          "model_module_version": "1.5.0",
          "state": {
            "_dom_classes": [],
            "_model_module": "@jupyter-widgets/controls",
            "_model_module_version": "1.5.0",
            "_model_name": "FloatProgressModel",
            "_view_count": null,
            "_view_module": "@jupyter-widgets/controls",
            "_view_module_version": "1.5.0",
            "_view_name": "ProgressView",
            "bar_style": "success",
            "description": "",
            "description_tooltip": null,
            "layout": "IPY_MODEL_4a03fb6d945f4102bc4f7192195d810d",
            "max": 1,
            "min": 0,
            "orientation": "horizontal",
            "style": "IPY_MODEL_8ab2466b187047fbbe4d8b72455b1108",
            "value": 1
          }
        },
        "050c9d6bfd1e4b6ebe67401183a8d397": {
          "model_module": "@jupyter-widgets/controls",
          "model_name": "HTMLModel",
          "model_module_version": "1.5.0",
          "state": {
            "_dom_classes": [],
            "_model_module": "@jupyter-widgets/controls",
            "_model_module_version": "1.5.0",
            "_model_name": "HTMLModel",
            "_view_count": null,
            "_view_module": "@jupyter-widgets/controls",
            "_view_module_version": "1.5.0",
            "_view_name": "HTMLView",
            "description": "",
            "description_tooltip": null,
            "layout": "IPY_MODEL_89472d79793e4db9afa6845fb016c8ad",
            "placeholder": "​",
            "style": "IPY_MODEL_f5e79b8c3a634eae8a555f18b9dc9bd6",
            "value": " 1680/? [00:55&lt;00:00, 30.41ex/s]"
          }
        },
        "5874591082f944ff9b32202a1edbfd60": {
          "model_module": "@jupyter-widgets/base",
          "model_name": "LayoutModel",
          "model_module_version": "1.2.0",
          "state": {
            "_model_module": "@jupyter-widgets/base",
            "_model_module_version": "1.2.0",
            "_model_name": "LayoutModel",
            "_view_count": null,
            "_view_module": "@jupyter-widgets/base",
            "_view_module_version": "1.2.0",
            "_view_name": "LayoutView",
            "align_content": null,
            "align_items": null,
            "align_self": null,
            "border": null,
            "bottom": null,
            "display": null,
            "flex": null,
            "flex_flow": null,
            "grid_area": null,
            "grid_auto_columns": null,
            "grid_auto_flow": null,
            "grid_auto_rows": null,
            "grid_column": null,
            "grid_gap": null,
            "grid_row": null,
            "grid_template_areas": null,
            "grid_template_columns": null,
            "grid_template_rows": null,
            "height": null,
            "justify_content": null,
            "justify_items": null,
            "left": null,
            "margin": null,
            "max_height": null,
            "max_width": null,
            "min_height": null,
            "min_width": null,
            "object_fit": null,
            "object_position": null,
            "order": null,
            "overflow": null,
            "overflow_x": null,
            "overflow_y": null,
            "padding": null,
            "right": null,
            "top": null,
            "visibility": null,
            "width": null
          }
        },
        "8c968b160d3d4fbb998840734f9f07e4": {
          "model_module": "@jupyter-widgets/base",
          "model_name": "LayoutModel",
          "model_module_version": "1.2.0",
          "state": {
            "_model_module": "@jupyter-widgets/base",
            "_model_module_version": "1.2.0",
            "_model_name": "LayoutModel",
            "_view_count": null,
            "_view_module": "@jupyter-widgets/base",
            "_view_module_version": "1.2.0",
            "_view_name": "LayoutView",
            "align_content": null,
            "align_items": null,
            "align_self": null,
            "border": null,
            "bottom": null,
            "display": null,
            "flex": null,
            "flex_flow": null,
            "grid_area": null,
            "grid_auto_columns": null,
            "grid_auto_flow": null,
            "grid_auto_rows": null,
            "grid_column": null,
            "grid_gap": null,
            "grid_row": null,
            "grid_template_areas": null,
            "grid_template_columns": null,
            "grid_template_rows": null,
            "height": null,
            "justify_content": null,
            "justify_items": null,
            "left": null,
            "margin": null,
            "max_height": null,
            "max_width": null,
            "min_height": null,
            "min_width": null,
            "object_fit": null,
            "object_position": null,
            "order": null,
            "overflow": null,
            "overflow_x": null,
            "overflow_y": null,
            "padding": null,
            "right": null,
            "top": null,
            "visibility": null,
            "width": null
          }
        },
        "d2fd7c9e56b1419f9d23a10c260a7c7d": {
          "model_module": "@jupyter-widgets/controls",
          "model_name": "DescriptionStyleModel",
          "model_module_version": "1.5.0",
          "state": {
            "_model_module": "@jupyter-widgets/controls",
            "_model_module_version": "1.5.0",
            "_model_name": "DescriptionStyleModel",
            "_view_count": null,
            "_view_module": "@jupyter-widgets/base",
            "_view_module_version": "1.2.0",
            "_view_name": "StyleView",
            "description_width": ""
          }
        },
        "4a03fb6d945f4102bc4f7192195d810d": {
          "model_module": "@jupyter-widgets/base",
          "model_name": "LayoutModel",
          "model_module_version": "1.2.0",
          "state": {
            "_model_module": "@jupyter-widgets/base",
            "_model_module_version": "1.2.0",
            "_model_name": "LayoutModel",
            "_view_count": null,
            "_view_module": "@jupyter-widgets/base",
            "_view_module_version": "1.2.0",
            "_view_name": "LayoutView",
            "align_content": null,
            "align_items": null,
            "align_self": null,
            "border": null,
            "bottom": null,
            "display": null,
            "flex": null,
            "flex_flow": null,
            "grid_area": null,
            "grid_auto_columns": null,
            "grid_auto_flow": null,
            "grid_auto_rows": null,
            "grid_column": null,
            "grid_gap": null,
            "grid_row": null,
            "grid_template_areas": null,
            "grid_template_columns": null,
            "grid_template_rows": null,
            "height": null,
            "justify_content": null,
            "justify_items": null,
            "left": null,
            "margin": null,
            "max_height": null,
            "max_width": null,
            "min_height": null,
            "min_width": null,
            "object_fit": null,
            "object_position": null,
            "order": null,
            "overflow": null,
            "overflow_x": null,
            "overflow_y": null,
            "padding": null,
            "right": null,
            "top": null,
            "visibility": null,
            "width": "20px"
          }
        },
        "8ab2466b187047fbbe4d8b72455b1108": {
          "model_module": "@jupyter-widgets/controls",
          "model_name": "ProgressStyleModel",
          "model_module_version": "1.5.0",
          "state": {
            "_model_module": "@jupyter-widgets/controls",
            "_model_module_version": "1.5.0",
            "_model_name": "ProgressStyleModel",
            "_view_count": null,
            "_view_module": "@jupyter-widgets/base",
            "_view_module_version": "1.2.0",
            "_view_name": "StyleView",
            "bar_color": null,
            "description_width": ""
          }
        },
        "89472d79793e4db9afa6845fb016c8ad": {
          "model_module": "@jupyter-widgets/base",
          "model_name": "LayoutModel",
          "model_module_version": "1.2.0",
          "state": {
            "_model_module": "@jupyter-widgets/base",
            "_model_module_version": "1.2.0",
            "_model_name": "LayoutModel",
            "_view_count": null,
            "_view_module": "@jupyter-widgets/base",
            "_view_module_version": "1.2.0",
            "_view_name": "LayoutView",
            "align_content": null,
            "align_items": null,
            "align_self": null,
            "border": null,
            "bottom": null,
            "display": null,
            "flex": null,
            "flex_flow": null,
            "grid_area": null,
            "grid_auto_columns": null,
            "grid_auto_flow": null,
            "grid_auto_rows": null,
            "grid_column": null,
            "grid_gap": null,
            "grid_row": null,
            "grid_template_areas": null,
            "grid_template_columns": null,
            "grid_template_rows": null,
            "height": null,
            "justify_content": null,
            "justify_items": null,
            "left": null,
            "margin": null,
            "max_height": null,
            "max_width": null,
            "min_height": null,
            "min_width": null,
            "object_fit": null,
            "object_position": null,
            "order": null,
            "overflow": null,
            "overflow_x": null,
            "overflow_y": null,
            "padding": null,
            "right": null,
            "top": null,
            "visibility": null,
            "width": null
          }
        },
        "f5e79b8c3a634eae8a555f18b9dc9bd6": {
          "model_module": "@jupyter-widgets/controls",
          "model_name": "DescriptionStyleModel",
          "model_module_version": "1.5.0",
          "state": {
            "_model_module": "@jupyter-widgets/controls",
            "_model_module_version": "1.5.0",
            "_model_name": "DescriptionStyleModel",
            "_view_count": null,
            "_view_module": "@jupyter-widgets/base",
            "_view_module_version": "1.2.0",
            "_view_name": "StyleView",
            "description_width": ""
          }
        },
        "9987c26e5dc9448fbc9f8631b9d9d3c8": {
          "model_module": "@jupyter-widgets/controls",
          "model_name": "VBoxModel",
          "model_module_version": "1.5.0",
          "state": {
            "_dom_classes": [],
            "_model_module": "@jupyter-widgets/controls",
            "_model_module_version": "1.5.0",
            "_model_name": "VBoxModel",
            "_view_count": null,
            "_view_module": "@jupyter-widgets/controls",
            "_view_module_version": "1.5.0",
            "_view_name": "VBoxView",
            "box_style": "",
            "children": [
              "IPY_MODEL_b153761d7c9a49a9800729b6ea71a2bf",
              "IPY_MODEL_0fdd98ac08d14204841be945bfac9610",
              "IPY_MODEL_0b351065a62e41738c045f82a534591a",
              "IPY_MODEL_426a0a1590ca49458c608b108e90d988",
              "IPY_MODEL_61f1830ab0574e3da4805f44e052d146"
            ],
            "layout": "IPY_MODEL_2fcd4d30837e49e79a1f7cd2192d01f5"
          }
        },
        "b153761d7c9a49a9800729b6ea71a2bf": {
          "model_module": "@jupyter-widgets/controls",
          "model_name": "HTMLModel",
          "model_module_version": "1.5.0",
          "state": {
            "_dom_classes": [],
            "_model_module": "@jupyter-widgets/controls",
            "_model_module_version": "1.5.0",
            "_model_name": "HTMLModel",
            "_view_count": null,
            "_view_module": "@jupyter-widgets/controls",
            "_view_module_version": "1.5.0",
            "_view_name": "HTMLView",
            "description": "",
            "description_tooltip": null,
            "layout": "IPY_MODEL_26d4de070f7647c48428d84815659d8a",
            "placeholder": "​",
            "style": "IPY_MODEL_13cdfa39eda64802b8d2c0883cd0fe32",
            "value": "<center> <img\nsrc=https://huggingface.co/front/assets/huggingface_logo-noborder.svg\nalt='Hugging Face'> <br> Copy a token from <a\nhref=\"https://huggingface.co/settings/tokens\" target=\"_blank\">your Hugging Face\ntokens page</a> and paste it below. <br> Immediately click login after copying\nyour token or it might be stored in plain text in this notebook file. </center>"
          }
        },
        "0fdd98ac08d14204841be945bfac9610": {
          "model_module": "@jupyter-widgets/controls",
          "model_name": "PasswordModel",
          "model_module_version": "1.5.0",
          "state": {
            "_dom_classes": [],
            "_model_module": "@jupyter-widgets/controls",
            "_model_module_version": "1.5.0",
            "_model_name": "PasswordModel",
            "_view_count": null,
            "_view_module": "@jupyter-widgets/controls",
            "_view_module_version": "1.5.0",
            "_view_name": "PasswordView",
            "continuous_update": true,
            "description": "Token:",
            "description_tooltip": null,
            "disabled": false,
            "layout": "IPY_MODEL_947a6126a8414bd69379b4e24d0ba616",
            "placeholder": "​",
            "style": "IPY_MODEL_b40a53ae9c55438697bb150145009261",
            "value": ""
          }
        },
        "0b351065a62e41738c045f82a534591a": {
          "model_module": "@jupyter-widgets/controls",
          "model_name": "CheckboxModel",
          "model_module_version": "1.5.0",
          "state": {
            "_dom_classes": [],
            "_model_module": "@jupyter-widgets/controls",
            "_model_module_version": "1.5.0",
            "_model_name": "CheckboxModel",
            "_view_count": null,
            "_view_module": "@jupyter-widgets/controls",
            "_view_module_version": "1.5.0",
            "_view_name": "CheckboxView",
            "description": "Add token as git credential?",
            "description_tooltip": null,
            "disabled": false,
            "indent": true,
            "layout": "IPY_MODEL_3c8c1e91f5204f4d89790fdd7aae8ee5",
            "style": "IPY_MODEL_02e1f7a66369447dad493e5567e4de37",
            "value": true
          }
        },
        "426a0a1590ca49458c608b108e90d988": {
          "model_module": "@jupyter-widgets/controls",
          "model_name": "ButtonModel",
          "model_module_version": "1.5.0",
          "state": {
            "_dom_classes": [],
            "_model_module": "@jupyter-widgets/controls",
            "_model_module_version": "1.5.0",
            "_model_name": "ButtonModel",
            "_view_count": null,
            "_view_module": "@jupyter-widgets/controls",
            "_view_module_version": "1.5.0",
            "_view_name": "ButtonView",
            "button_style": "",
            "description": "Login",
            "disabled": false,
            "icon": "",
            "layout": "IPY_MODEL_1a0d44777b1c4e959f69f7cee74bca62",
            "style": "IPY_MODEL_f2c8e528716b4174804818d9b49bece2",
            "tooltip": ""
          }
        },
        "61f1830ab0574e3da4805f44e052d146": {
          "model_module": "@jupyter-widgets/controls",
          "model_name": "HTMLModel",
          "model_module_version": "1.5.0",
          "state": {
            "_dom_classes": [],
            "_model_module": "@jupyter-widgets/controls",
            "_model_module_version": "1.5.0",
            "_model_name": "HTMLModel",
            "_view_count": null,
            "_view_module": "@jupyter-widgets/controls",
            "_view_module_version": "1.5.0",
            "_view_name": "HTMLView",
            "description": "",
            "description_tooltip": null,
            "layout": "IPY_MODEL_853a03eca4e64566970f5ecf8a0860b8",
            "placeholder": "​",
            "style": "IPY_MODEL_02720c3ea910401095ca13b7718ee9f4",
            "value": "\n<b>Pro Tip:</b> If you don't already have one, you can create a dedicated\n'notebooks' token with 'write' access, that you can then easily reuse for all\nnotebooks. </center>"
          }
        },
        "2fcd4d30837e49e79a1f7cd2192d01f5": {
          "model_module": "@jupyter-widgets/base",
          "model_name": "LayoutModel",
          "model_module_version": "1.2.0",
          "state": {
            "_model_module": "@jupyter-widgets/base",
            "_model_module_version": "1.2.0",
            "_model_name": "LayoutModel",
            "_view_count": null,
            "_view_module": "@jupyter-widgets/base",
            "_view_module_version": "1.2.0",
            "_view_name": "LayoutView",
            "align_content": null,
            "align_items": "center",
            "align_self": null,
            "border": null,
            "bottom": null,
            "display": "flex",
            "flex": null,
            "flex_flow": "column",
            "grid_area": null,
            "grid_auto_columns": null,
            "grid_auto_flow": null,
            "grid_auto_rows": null,
            "grid_column": null,
            "grid_gap": null,
            "grid_row": null,
            "grid_template_areas": null,
            "grid_template_columns": null,
            "grid_template_rows": null,
            "height": null,
            "justify_content": null,
            "justify_items": null,
            "left": null,
            "margin": null,
            "max_height": null,
            "max_width": null,
            "min_height": null,
            "min_width": null,
            "object_fit": null,
            "object_position": null,
            "order": null,
            "overflow": null,
            "overflow_x": null,
            "overflow_y": null,
            "padding": null,
            "right": null,
            "top": null,
            "visibility": null,
            "width": "50%"
          }
        },
        "26d4de070f7647c48428d84815659d8a": {
          "model_module": "@jupyter-widgets/base",
          "model_name": "LayoutModel",
          "model_module_version": "1.2.0",
          "state": {
            "_model_module": "@jupyter-widgets/base",
            "_model_module_version": "1.2.0",
            "_model_name": "LayoutModel",
            "_view_count": null,
            "_view_module": "@jupyter-widgets/base",
            "_view_module_version": "1.2.0",
            "_view_name": "LayoutView",
            "align_content": null,
            "align_items": null,
            "align_self": null,
            "border": null,
            "bottom": null,
            "display": null,
            "flex": null,
            "flex_flow": null,
            "grid_area": null,
            "grid_auto_columns": null,
            "grid_auto_flow": null,
            "grid_auto_rows": null,
            "grid_column": null,
            "grid_gap": null,
            "grid_row": null,
            "grid_template_areas": null,
            "grid_template_columns": null,
            "grid_template_rows": null,
            "height": null,
            "justify_content": null,
            "justify_items": null,
            "left": null,
            "margin": null,
            "max_height": null,
            "max_width": null,
            "min_height": null,
            "min_width": null,
            "object_fit": null,
            "object_position": null,
            "order": null,
            "overflow": null,
            "overflow_x": null,
            "overflow_y": null,
            "padding": null,
            "right": null,
            "top": null,
            "visibility": null,
            "width": null
          }
        },
        "13cdfa39eda64802b8d2c0883cd0fe32": {
          "model_module": "@jupyter-widgets/controls",
          "model_name": "DescriptionStyleModel",
          "model_module_version": "1.5.0",
          "state": {
            "_model_module": "@jupyter-widgets/controls",
            "_model_module_version": "1.5.0",
            "_model_name": "DescriptionStyleModel",
            "_view_count": null,
            "_view_module": "@jupyter-widgets/base",
            "_view_module_version": "1.2.0",
            "_view_name": "StyleView",
            "description_width": ""
          }
        },
        "947a6126a8414bd69379b4e24d0ba616": {
          "model_module": "@jupyter-widgets/base",
          "model_name": "LayoutModel",
          "model_module_version": "1.2.0",
          "state": {
            "_model_module": "@jupyter-widgets/base",
            "_model_module_version": "1.2.0",
            "_model_name": "LayoutModel",
            "_view_count": null,
            "_view_module": "@jupyter-widgets/base",
            "_view_module_version": "1.2.0",
            "_view_name": "LayoutView",
            "align_content": null,
            "align_items": null,
            "align_self": null,
            "border": null,
            "bottom": null,
            "display": null,
            "flex": null,
            "flex_flow": null,
            "grid_area": null,
            "grid_auto_columns": null,
            "grid_auto_flow": null,
            "grid_auto_rows": null,
            "grid_column": null,
            "grid_gap": null,
            "grid_row": null,
            "grid_template_areas": null,
            "grid_template_columns": null,
            "grid_template_rows": null,
            "height": null,
            "justify_content": null,
            "justify_items": null,
            "left": null,
            "margin": null,
            "max_height": null,
            "max_width": null,
            "min_height": null,
            "min_width": null,
            "object_fit": null,
            "object_position": null,
            "order": null,
            "overflow": null,
            "overflow_x": null,
            "overflow_y": null,
            "padding": null,
            "right": null,
            "top": null,
            "visibility": null,
            "width": null
          }
        },
        "b40a53ae9c55438697bb150145009261": {
          "model_module": "@jupyter-widgets/controls",
          "model_name": "DescriptionStyleModel",
          "model_module_version": "1.5.0",
          "state": {
            "_model_module": "@jupyter-widgets/controls",
            "_model_module_version": "1.5.0",
            "_model_name": "DescriptionStyleModel",
            "_view_count": null,
            "_view_module": "@jupyter-widgets/base",
            "_view_module_version": "1.2.0",
            "_view_name": "StyleView",
            "description_width": ""
          }
        },
        "3c8c1e91f5204f4d89790fdd7aae8ee5": {
          "model_module": "@jupyter-widgets/base",
          "model_name": "LayoutModel",
          "model_module_version": "1.2.0",
          "state": {
            "_model_module": "@jupyter-widgets/base",
            "_model_module_version": "1.2.0",
            "_model_name": "LayoutModel",
            "_view_count": null,
            "_view_module": "@jupyter-widgets/base",
            "_view_module_version": "1.2.0",
            "_view_name": "LayoutView",
            "align_content": null,
            "align_items": null,
            "align_self": null,
            "border": null,
            "bottom": null,
            "display": null,
            "flex": null,
            "flex_flow": null,
            "grid_area": null,
            "grid_auto_columns": null,
            "grid_auto_flow": null,
            "grid_auto_rows": null,
            "grid_column": null,
            "grid_gap": null,
            "grid_row": null,
            "grid_template_areas": null,
            "grid_template_columns": null,
            "grid_template_rows": null,
            "height": null,
            "justify_content": null,
            "justify_items": null,
            "left": null,
            "margin": null,
            "max_height": null,
            "max_width": null,
            "min_height": null,
            "min_width": null,
            "object_fit": null,
            "object_position": null,
            "order": null,
            "overflow": null,
            "overflow_x": null,
            "overflow_y": null,
            "padding": null,
            "right": null,
            "top": null,
            "visibility": null,
            "width": null
          }
        },
        "02e1f7a66369447dad493e5567e4de37": {
          "model_module": "@jupyter-widgets/controls",
          "model_name": "DescriptionStyleModel",
          "model_module_version": "1.5.0",
          "state": {
            "_model_module": "@jupyter-widgets/controls",
            "_model_module_version": "1.5.0",
            "_model_name": "DescriptionStyleModel",
            "_view_count": null,
            "_view_module": "@jupyter-widgets/base",
            "_view_module_version": "1.2.0",
            "_view_name": "StyleView",
            "description_width": ""
          }
        },
        "1a0d44777b1c4e959f69f7cee74bca62": {
          "model_module": "@jupyter-widgets/base",
          "model_name": "LayoutModel",
          "model_module_version": "1.2.0",
          "state": {
            "_model_module": "@jupyter-widgets/base",
            "_model_module_version": "1.2.0",
            "_model_name": "LayoutModel",
            "_view_count": null,
            "_view_module": "@jupyter-widgets/base",
            "_view_module_version": "1.2.0",
            "_view_name": "LayoutView",
            "align_content": null,
            "align_items": null,
            "align_self": null,
            "border": null,
            "bottom": null,
            "display": null,
            "flex": null,
            "flex_flow": null,
            "grid_area": null,
            "grid_auto_columns": null,
            "grid_auto_flow": null,
            "grid_auto_rows": null,
            "grid_column": null,
            "grid_gap": null,
            "grid_row": null,
            "grid_template_areas": null,
            "grid_template_columns": null,
            "grid_template_rows": null,
            "height": null,
            "justify_content": null,
            "justify_items": null,
            "left": null,
            "margin": null,
            "max_height": null,
            "max_width": null,
            "min_height": null,
            "min_width": null,
            "object_fit": null,
            "object_position": null,
            "order": null,
            "overflow": null,
            "overflow_x": null,
            "overflow_y": null,
            "padding": null,
            "right": null,
            "top": null,
            "visibility": null,
            "width": null
          }
        },
        "f2c8e528716b4174804818d9b49bece2": {
          "model_module": "@jupyter-widgets/controls",
          "model_name": "ButtonStyleModel",
          "model_module_version": "1.5.0",
          "state": {
            "_model_module": "@jupyter-widgets/controls",
            "_model_module_version": "1.5.0",
            "_model_name": "ButtonStyleModel",
            "_view_count": null,
            "_view_module": "@jupyter-widgets/base",
            "_view_module_version": "1.2.0",
            "_view_name": "StyleView",
            "button_color": null,
            "font_weight": ""
          }
        },
        "853a03eca4e64566970f5ecf8a0860b8": {
          "model_module": "@jupyter-widgets/base",
          "model_name": "LayoutModel",
          "model_module_version": "1.2.0",
          "state": {
            "_model_module": "@jupyter-widgets/base",
            "_model_module_version": "1.2.0",
            "_model_name": "LayoutModel",
            "_view_count": null,
            "_view_module": "@jupyter-widgets/base",
            "_view_module_version": "1.2.0",
            "_view_name": "LayoutView",
            "align_content": null,
            "align_items": null,
            "align_self": null,
            "border": null,
            "bottom": null,
            "display": null,
            "flex": null,
            "flex_flow": null,
            "grid_area": null,
            "grid_auto_columns": null,
            "grid_auto_flow": null,
            "grid_auto_rows": null,
            "grid_column": null,
            "grid_gap": null,
            "grid_row": null,
            "grid_template_areas": null,
            "grid_template_columns": null,
            "grid_template_rows": null,
            "height": null,
            "justify_content": null,
            "justify_items": null,
            "left": null,
            "margin": null,
            "max_height": null,
            "max_width": null,
            "min_height": null,
            "min_width": null,
            "object_fit": null,
            "object_position": null,
            "order": null,
            "overflow": null,
            "overflow_x": null,
            "overflow_y": null,
            "padding": null,
            "right": null,
            "top": null,
            "visibility": null,
            "width": null
          }
        },
        "02720c3ea910401095ca13b7718ee9f4": {
          "model_module": "@jupyter-widgets/controls",
          "model_name": "DescriptionStyleModel",
          "model_module_version": "1.5.0",
          "state": {
            "_model_module": "@jupyter-widgets/controls",
            "_model_module_version": "1.5.0",
            "_model_name": "DescriptionStyleModel",
            "_view_count": null,
            "_view_module": "@jupyter-widgets/base",
            "_view_module_version": "1.2.0",
            "_view_name": "StyleView",
            "description_width": ""
          }
        },
        "e3c80f0418744e72947aca55eac9c9a6": {
          "model_module": "@jupyter-widgets/controls",
          "model_name": "HBoxModel",
          "model_module_version": "1.5.0",
          "state": {
            "_dom_classes": [],
            "_model_module": "@jupyter-widgets/controls",
            "_model_module_version": "1.5.0",
            "_model_name": "HBoxModel",
            "_view_count": null,
            "_view_module": "@jupyter-widgets/controls",
            "_view_module_version": "1.5.0",
            "_view_name": "HBoxView",
            "box_style": "",
            "children": [
              "IPY_MODEL_5737ab25e08e4d3b8e1b5a8ef866aad4",
              "IPY_MODEL_d36115f4f1d040569afe158d70b7b407",
              "IPY_MODEL_16e69ffbb9eb464f8fab23832553e8fa"
            ],
            "layout": "IPY_MODEL_713a8c92de7b4405a92287f390bcf843"
          }
        },
        "5737ab25e08e4d3b8e1b5a8ef866aad4": {
          "model_module": "@jupyter-widgets/controls",
          "model_name": "HTMLModel",
          "model_module_version": "1.5.0",
          "state": {
            "_dom_classes": [],
            "_model_module": "@jupyter-widgets/controls",
            "_model_module_version": "1.5.0",
            "_model_name": "HTMLModel",
            "_view_count": null,
            "_view_module": "@jupyter-widgets/controls",
            "_view_module_version": "1.5.0",
            "_view_name": "HTMLView",
            "description": "",
            "description_tooltip": null,
            "layout": "IPY_MODEL_1f5839c6ab674ce7bff5789f8ae87345",
            "placeholder": "​",
            "style": "IPY_MODEL_883e5eae7d8e466b8b5ad82d3b0f5215",
            "value": "Downloading: "
          }
        },
        "d36115f4f1d040569afe158d70b7b407": {
          "model_module": "@jupyter-widgets/controls",
          "model_name": "FloatProgressModel",
          "model_module_version": "1.5.0",
          "state": {
            "_dom_classes": [],
            "_model_module": "@jupyter-widgets/controls",
            "_model_module_version": "1.5.0",
            "_model_name": "FloatProgressModel",
            "_view_count": null,
            "_view_module": "@jupyter-widgets/controls",
            "_view_module_version": "1.5.0",
            "_view_name": "ProgressView",
            "bar_style": "success",
            "description": "",
            "description_tooltip": null,
            "layout": "IPY_MODEL_200fafdd997446ea937d618e693c6b09",
            "max": 2403,
            "min": 0,
            "orientation": "horizontal",
            "style": "IPY_MODEL_230a69a888c547b9a6ff5725524a6a1f",
            "value": 2403
          }
        },
        "16e69ffbb9eb464f8fab23832553e8fa": {
          "model_module": "@jupyter-widgets/controls",
          "model_name": "HTMLModel",
          "model_module_version": "1.5.0",
          "state": {
            "_dom_classes": [],
            "_model_module": "@jupyter-widgets/controls",
            "_model_module_version": "1.5.0",
            "_model_name": "HTMLModel",
            "_view_count": null,
            "_view_module": "@jupyter-widgets/controls",
            "_view_module_version": "1.5.0",
            "_view_name": "HTMLView",
            "description": "",
            "description_tooltip": null,
            "layout": "IPY_MODEL_b8ef66bc559445b0be0d7ce1809de1b8",
            "placeholder": "​",
            "style": "IPY_MODEL_d3357607d34446f39a06928001e768a4",
            "value": " 7.06k/? [00:00&lt;00:00, 304kB/s]"
          }
        },
        "713a8c92de7b4405a92287f390bcf843": {
          "model_module": "@jupyter-widgets/base",
          "model_name": "LayoutModel",
          "model_module_version": "1.2.0",
          "state": {
            "_model_module": "@jupyter-widgets/base",
            "_model_module_version": "1.2.0",
            "_model_name": "LayoutModel",
            "_view_count": null,
            "_view_module": "@jupyter-widgets/base",
            "_view_module_version": "1.2.0",
            "_view_name": "LayoutView",
            "align_content": null,
            "align_items": null,
            "align_self": null,
            "border": null,
            "bottom": null,
            "display": null,
            "flex": null,
            "flex_flow": null,
            "grid_area": null,
            "grid_auto_columns": null,
            "grid_auto_flow": null,
            "grid_auto_rows": null,
            "grid_column": null,
            "grid_gap": null,
            "grid_row": null,
            "grid_template_areas": null,
            "grid_template_columns": null,
            "grid_template_rows": null,
            "height": null,
            "justify_content": null,
            "justify_items": null,
            "left": null,
            "margin": null,
            "max_height": null,
            "max_width": null,
            "min_height": null,
            "min_width": null,
            "object_fit": null,
            "object_position": null,
            "order": null,
            "overflow": null,
            "overflow_x": null,
            "overflow_y": null,
            "padding": null,
            "right": null,
            "top": null,
            "visibility": null,
            "width": null
          }
        },
        "1f5839c6ab674ce7bff5789f8ae87345": {
          "model_module": "@jupyter-widgets/base",
          "model_name": "LayoutModel",
          "model_module_version": "1.2.0",
          "state": {
            "_model_module": "@jupyter-widgets/base",
            "_model_module_version": "1.2.0",
            "_model_name": "LayoutModel",
            "_view_count": null,
            "_view_module": "@jupyter-widgets/base",
            "_view_module_version": "1.2.0",
            "_view_name": "LayoutView",
            "align_content": null,
            "align_items": null,
            "align_self": null,
            "border": null,
            "bottom": null,
            "display": null,
            "flex": null,
            "flex_flow": null,
            "grid_area": null,
            "grid_auto_columns": null,
            "grid_auto_flow": null,
            "grid_auto_rows": null,
            "grid_column": null,
            "grid_gap": null,
            "grid_row": null,
            "grid_template_areas": null,
            "grid_template_columns": null,
            "grid_template_rows": null,
            "height": null,
            "justify_content": null,
            "justify_items": null,
            "left": null,
            "margin": null,
            "max_height": null,
            "max_width": null,
            "min_height": null,
            "min_width": null,
            "object_fit": null,
            "object_position": null,
            "order": null,
            "overflow": null,
            "overflow_x": null,
            "overflow_y": null,
            "padding": null,
            "right": null,
            "top": null,
            "visibility": null,
            "width": null
          }
        },
        "883e5eae7d8e466b8b5ad82d3b0f5215": {
          "model_module": "@jupyter-widgets/controls",
          "model_name": "DescriptionStyleModel",
          "model_module_version": "1.5.0",
          "state": {
            "_model_module": "@jupyter-widgets/controls",
            "_model_module_version": "1.5.0",
            "_model_name": "DescriptionStyleModel",
            "_view_count": null,
            "_view_module": "@jupyter-widgets/base",
            "_view_module_version": "1.2.0",
            "_view_name": "StyleView",
            "description_width": ""
          }
        },
        "200fafdd997446ea937d618e693c6b09": {
          "model_module": "@jupyter-widgets/base",
          "model_name": "LayoutModel",
          "model_module_version": "1.2.0",
          "state": {
            "_model_module": "@jupyter-widgets/base",
            "_model_module_version": "1.2.0",
            "_model_name": "LayoutModel",
            "_view_count": null,
            "_view_module": "@jupyter-widgets/base",
            "_view_module_version": "1.2.0",
            "_view_name": "LayoutView",
            "align_content": null,
            "align_items": null,
            "align_self": null,
            "border": null,
            "bottom": null,
            "display": null,
            "flex": null,
            "flex_flow": null,
            "grid_area": null,
            "grid_auto_columns": null,
            "grid_auto_flow": null,
            "grid_auto_rows": null,
            "grid_column": null,
            "grid_gap": null,
            "grid_row": null,
            "grid_template_areas": null,
            "grid_template_columns": null,
            "grid_template_rows": null,
            "height": null,
            "justify_content": null,
            "justify_items": null,
            "left": null,
            "margin": null,
            "max_height": null,
            "max_width": null,
            "min_height": null,
            "min_width": null,
            "object_fit": null,
            "object_position": null,
            "order": null,
            "overflow": null,
            "overflow_x": null,
            "overflow_y": null,
            "padding": null,
            "right": null,
            "top": null,
            "visibility": null,
            "width": null
          }
        },
        "230a69a888c547b9a6ff5725524a6a1f": {
          "model_module": "@jupyter-widgets/controls",
          "model_name": "ProgressStyleModel",
          "model_module_version": "1.5.0",
          "state": {
            "_model_module": "@jupyter-widgets/controls",
            "_model_module_version": "1.5.0",
            "_model_name": "ProgressStyleModel",
            "_view_count": null,
            "_view_module": "@jupyter-widgets/base",
            "_view_module_version": "1.2.0",
            "_view_name": "StyleView",
            "bar_color": null,
            "description_width": ""
          }
        },
        "b8ef66bc559445b0be0d7ce1809de1b8": {
          "model_module": "@jupyter-widgets/base",
          "model_name": "LayoutModel",
          "model_module_version": "1.2.0",
          "state": {
            "_model_module": "@jupyter-widgets/base",
            "_model_module_version": "1.2.0",
            "_model_name": "LayoutModel",
            "_view_count": null,
            "_view_module": "@jupyter-widgets/base",
            "_view_module_version": "1.2.0",
            "_view_name": "LayoutView",
            "align_content": null,
            "align_items": null,
            "align_self": null,
            "border": null,
            "bottom": null,
            "display": null,
            "flex": null,
            "flex_flow": null,
            "grid_area": null,
            "grid_auto_columns": null,
            "grid_auto_flow": null,
            "grid_auto_rows": null,
            "grid_column": null,
            "grid_gap": null,
            "grid_row": null,
            "grid_template_areas": null,
            "grid_template_columns": null,
            "grid_template_rows": null,
            "height": null,
            "justify_content": null,
            "justify_items": null,
            "left": null,
            "margin": null,
            "max_height": null,
            "max_width": null,
            "min_height": null,
            "min_width": null,
            "object_fit": null,
            "object_position": null,
            "order": null,
            "overflow": null,
            "overflow_x": null,
            "overflow_y": null,
            "padding": null,
            "right": null,
            "top": null,
            "visibility": null,
            "width": null
          }
        },
        "d3357607d34446f39a06928001e768a4": {
          "model_module": "@jupyter-widgets/controls",
          "model_name": "DescriptionStyleModel",
          "model_module_version": "1.5.0",
          "state": {
            "_model_module": "@jupyter-widgets/controls",
            "_model_module_version": "1.5.0",
            "_model_name": "DescriptionStyleModel",
            "_view_count": null,
            "_view_module": "@jupyter-widgets/base",
            "_view_module_version": "1.2.0",
            "_view_name": "StyleView",
            "description_width": ""
          }
        },
        "ccda91f82dec42e7b6dbdae4dd9e387c": {
          "model_module": "@jupyter-widgets/controls",
          "model_name": "HBoxModel",
          "model_module_version": "1.5.0",
          "state": {
            "_dom_classes": [],
            "_model_module": "@jupyter-widgets/controls",
            "_model_module_version": "1.5.0",
            "_model_name": "HBoxModel",
            "_view_count": null,
            "_view_module": "@jupyter-widgets/controls",
            "_view_module_version": "1.5.0",
            "_view_name": "HBoxView",
            "box_style": "",
            "children": [
              "IPY_MODEL_ac15a95b142b4280b7cdc8b3e64c761d",
              "IPY_MODEL_a306aa5503a74c13a2488b9f04f57f01",
              "IPY_MODEL_ae8bdc1bb0814ead8fdc82ce01efbb6e"
            ],
            "layout": "IPY_MODEL_7b209c2a88fa430a831e1363806714ae"
          }
        },
        "ac15a95b142b4280b7cdc8b3e64c761d": {
          "model_module": "@jupyter-widgets/controls",
          "model_name": "HTMLModel",
          "model_module_version": "1.5.0",
          "state": {
            "_dom_classes": [],
            "_model_module": "@jupyter-widgets/controls",
            "_model_module_version": "1.5.0",
            "_model_name": "HTMLModel",
            "_view_count": null,
            "_view_module": "@jupyter-widgets/controls",
            "_view_module_version": "1.5.0",
            "_view_name": "HTMLView",
            "description": "",
            "description_tooltip": null,
            "layout": "IPY_MODEL_4350195bc38246a0890fb1c1f3e8a3ae",
            "placeholder": "​",
            "style": "IPY_MODEL_fc826d6f162d417f8ec3b2f4debd17f5",
            "value": "Downloading: "
          }
        },
        "a306aa5503a74c13a2488b9f04f57f01": {
          "model_module": "@jupyter-widgets/controls",
          "model_name": "FloatProgressModel",
          "model_module_version": "1.5.0",
          "state": {
            "_dom_classes": [],
            "_model_module": "@jupyter-widgets/controls",
            "_model_module_version": "1.5.0",
            "_model_name": "FloatProgressModel",
            "_view_count": null,
            "_view_module": "@jupyter-widgets/controls",
            "_view_module_version": "1.5.0",
            "_view_name": "ProgressView",
            "bar_style": "success",
            "description": "",
            "description_tooltip": null,
            "layout": "IPY_MODEL_747fc34e1bea4c5b9bad15b28881ab24",
            "max": 1060,
            "min": 0,
            "orientation": "horizontal",
            "style": "IPY_MODEL_cb08ca67e4064f059da5e9c5b9c618e4",
            "value": 1060
          }
        },
        "ae8bdc1bb0814ead8fdc82ce01efbb6e": {
          "model_module": "@jupyter-widgets/controls",
          "model_name": "HTMLModel",
          "model_module_version": "1.5.0",
          "state": {
            "_dom_classes": [],
            "_model_module": "@jupyter-widgets/controls",
            "_model_module_version": "1.5.0",
            "_model_name": "HTMLModel",
            "_view_count": null,
            "_view_module": "@jupyter-widgets/controls",
            "_view_module_version": "1.5.0",
            "_view_name": "HTMLView",
            "description": "",
            "description_tooltip": null,
            "layout": "IPY_MODEL_1a746ea056ed43fa9d5f09137ede215c",
            "placeholder": "​",
            "style": "IPY_MODEL_4c203eca265c4278a55a1a5f62cc14c4",
            "value": " 2.64k/? [00:00&lt;00:00, 127kB/s]"
          }
        },
        "7b209c2a88fa430a831e1363806714ae": {
          "model_module": "@jupyter-widgets/base",
          "model_name": "LayoutModel",
          "model_module_version": "1.2.0",
          "state": {
            "_model_module": "@jupyter-widgets/base",
            "_model_module_version": "1.2.0",
            "_model_name": "LayoutModel",
            "_view_count": null,
            "_view_module": "@jupyter-widgets/base",
            "_view_module_version": "1.2.0",
            "_view_name": "LayoutView",
            "align_content": null,
            "align_items": null,
            "align_self": null,
            "border": null,
            "bottom": null,
            "display": null,
            "flex": null,
            "flex_flow": null,
            "grid_area": null,
            "grid_auto_columns": null,
            "grid_auto_flow": null,
            "grid_auto_rows": null,
            "grid_column": null,
            "grid_gap": null,
            "grid_row": null,
            "grid_template_areas": null,
            "grid_template_columns": null,
            "grid_template_rows": null,
            "height": null,
            "justify_content": null,
            "justify_items": null,
            "left": null,
            "margin": null,
            "max_height": null,
            "max_width": null,
            "min_height": null,
            "min_width": null,
            "object_fit": null,
            "object_position": null,
            "order": null,
            "overflow": null,
            "overflow_x": null,
            "overflow_y": null,
            "padding": null,
            "right": null,
            "top": null,
            "visibility": null,
            "width": null
          }
        },
        "4350195bc38246a0890fb1c1f3e8a3ae": {
          "model_module": "@jupyter-widgets/base",
          "model_name": "LayoutModel",
          "model_module_version": "1.2.0",
          "state": {
            "_model_module": "@jupyter-widgets/base",
            "_model_module_version": "1.2.0",
            "_model_name": "LayoutModel",
            "_view_count": null,
            "_view_module": "@jupyter-widgets/base",
            "_view_module_version": "1.2.0",
            "_view_name": "LayoutView",
            "align_content": null,
            "align_items": null,
            "align_self": null,
            "border": null,
            "bottom": null,
            "display": null,
            "flex": null,
            "flex_flow": null,
            "grid_area": null,
            "grid_auto_columns": null,
            "grid_auto_flow": null,
            "grid_auto_rows": null,
            "grid_column": null,
            "grid_gap": null,
            "grid_row": null,
            "grid_template_areas": null,
            "grid_template_columns": null,
            "grid_template_rows": null,
            "height": null,
            "justify_content": null,
            "justify_items": null,
            "left": null,
            "margin": null,
            "max_height": null,
            "max_width": null,
            "min_height": null,
            "min_width": null,
            "object_fit": null,
            "object_position": null,
            "order": null,
            "overflow": null,
            "overflow_x": null,
            "overflow_y": null,
            "padding": null,
            "right": null,
            "top": null,
            "visibility": null,
            "width": null
          }
        },
        "fc826d6f162d417f8ec3b2f4debd17f5": {
          "model_module": "@jupyter-widgets/controls",
          "model_name": "DescriptionStyleModel",
          "model_module_version": "1.5.0",
          "state": {
            "_model_module": "@jupyter-widgets/controls",
            "_model_module_version": "1.5.0",
            "_model_name": "DescriptionStyleModel",
            "_view_count": null,
            "_view_module": "@jupyter-widgets/base",
            "_view_module_version": "1.2.0",
            "_view_name": "StyleView",
            "description_width": ""
          }
        },
        "747fc34e1bea4c5b9bad15b28881ab24": {
          "model_module": "@jupyter-widgets/base",
          "model_name": "LayoutModel",
          "model_module_version": "1.2.0",
          "state": {
            "_model_module": "@jupyter-widgets/base",
            "_model_module_version": "1.2.0",
            "_model_name": "LayoutModel",
            "_view_count": null,
            "_view_module": "@jupyter-widgets/base",
            "_view_module_version": "1.2.0",
            "_view_name": "LayoutView",
            "align_content": null,
            "align_items": null,
            "align_self": null,
            "border": null,
            "bottom": null,
            "display": null,
            "flex": null,
            "flex_flow": null,
            "grid_area": null,
            "grid_auto_columns": null,
            "grid_auto_flow": null,
            "grid_auto_rows": null,
            "grid_column": null,
            "grid_gap": null,
            "grid_row": null,
            "grid_template_areas": null,
            "grid_template_columns": null,
            "grid_template_rows": null,
            "height": null,
            "justify_content": null,
            "justify_items": null,
            "left": null,
            "margin": null,
            "max_height": null,
            "max_width": null,
            "min_height": null,
            "min_width": null,
            "object_fit": null,
            "object_position": null,
            "order": null,
            "overflow": null,
            "overflow_x": null,
            "overflow_y": null,
            "padding": null,
            "right": null,
            "top": null,
            "visibility": null,
            "width": null
          }
        },
        "cb08ca67e4064f059da5e9c5b9c618e4": {
          "model_module": "@jupyter-widgets/controls",
          "model_name": "ProgressStyleModel",
          "model_module_version": "1.5.0",
          "state": {
            "_model_module": "@jupyter-widgets/controls",
            "_model_module_version": "1.5.0",
            "_model_name": "ProgressStyleModel",
            "_view_count": null,
            "_view_module": "@jupyter-widgets/base",
            "_view_module_version": "1.2.0",
            "_view_name": "StyleView",
            "bar_color": null,
            "description_width": ""
          }
        },
        "1a746ea056ed43fa9d5f09137ede215c": {
          "model_module": "@jupyter-widgets/base",
          "model_name": "LayoutModel",
          "model_module_version": "1.2.0",
          "state": {
            "_model_module": "@jupyter-widgets/base",
            "_model_module_version": "1.2.0",
            "_model_name": "LayoutModel",
            "_view_count": null,
            "_view_module": "@jupyter-widgets/base",
            "_view_module_version": "1.2.0",
            "_view_name": "LayoutView",
            "align_content": null,
            "align_items": null,
            "align_self": null,
            "border": null,
            "bottom": null,
            "display": null,
            "flex": null,
            "flex_flow": null,
            "grid_area": null,
            "grid_auto_columns": null,
            "grid_auto_flow": null,
            "grid_auto_rows": null,
            "grid_column": null,
            "grid_gap": null,
            "grid_row": null,
            "grid_template_areas": null,
            "grid_template_columns": null,
            "grid_template_rows": null,
            "height": null,
            "justify_content": null,
            "justify_items": null,
            "left": null,
            "margin": null,
            "max_height": null,
            "max_width": null,
            "min_height": null,
            "min_width": null,
            "object_fit": null,
            "object_position": null,
            "order": null,
            "overflow": null,
            "overflow_x": null,
            "overflow_y": null,
            "padding": null,
            "right": null,
            "top": null,
            "visibility": null,
            "width": null
          }
        },
        "4c203eca265c4278a55a1a5f62cc14c4": {
          "model_module": "@jupyter-widgets/controls",
          "model_name": "DescriptionStyleModel",
          "model_module_version": "1.5.0",
          "state": {
            "_model_module": "@jupyter-widgets/controls",
            "_model_module_version": "1.5.0",
            "_model_name": "DescriptionStyleModel",
            "_view_count": null,
            "_view_module": "@jupyter-widgets/base",
            "_view_module_version": "1.2.0",
            "_view_name": "StyleView",
            "description_width": ""
          }
        },
        "b0b85e7689ef4c3eb319e02c5e02e7f9": {
          "model_module": "@jupyter-widgets/controls",
          "model_name": "HBoxModel",
          "model_module_version": "1.5.0",
          "state": {
            "_dom_classes": [],
            "_model_module": "@jupyter-widgets/controls",
            "_model_module_version": "1.5.0",
            "_model_name": "HBoxModel",
            "_view_count": null,
            "_view_module": "@jupyter-widgets/controls",
            "_view_module_version": "1.5.0",
            "_view_name": "HBoxView",
            "box_style": "",
            "children": [
              "IPY_MODEL_a72bb932febb4771a71cdb8d4d3f699b",
              "IPY_MODEL_9c818625485b4108855996b54a529541",
              "IPY_MODEL_a37da01f65464865b45beaa6f291ec0d"
            ],
            "layout": "IPY_MODEL_66ed11a5dee847bba9b829f2631ff18c"
          }
        },
        "a72bb932febb4771a71cdb8d4d3f699b": {
          "model_module": "@jupyter-widgets/controls",
          "model_name": "HTMLModel",
          "model_module_version": "1.5.0",
          "state": {
            "_dom_classes": [],
            "_model_module": "@jupyter-widgets/controls",
            "_model_module_version": "1.5.0",
            "_model_name": "HTMLModel",
            "_view_count": null,
            "_view_module": "@jupyter-widgets/controls",
            "_view_module_version": "1.5.0",
            "_view_name": "HTMLView",
            "description": "",
            "description_tooltip": null,
            "layout": "IPY_MODEL_06a6587fcf5748f090f91777c65b082a",
            "placeholder": "​",
            "style": "IPY_MODEL_48d0665084fd47baabc696c1a81de644",
            "value": "Downloading: 100%"
          }
        },
        "9c818625485b4108855996b54a529541": {
          "model_module": "@jupyter-widgets/controls",
          "model_name": "FloatProgressModel",
          "model_module_version": "1.5.0",
          "state": {
            "_dom_classes": [],
            "_model_module": "@jupyter-widgets/controls",
            "_model_module_version": "1.5.0",
            "_model_name": "FloatProgressModel",
            "_view_count": null,
            "_view_module": "@jupyter-widgets/controls",
            "_view_module_version": "1.5.0",
            "_view_name": "ProgressView",
            "bar_style": "success",
            "description": "",
            "description_tooltip": null,
            "layout": "IPY_MODEL_d2ba702338db408d8b3288208ebb056c",
            "max": 869007403,
            "min": 0,
            "orientation": "horizontal",
            "style": "IPY_MODEL_06604e0a2c88495ea8367af438713b17",
            "value": 869007403
          }
        },
        "a37da01f65464865b45beaa6f291ec0d": {
          "model_module": "@jupyter-widgets/controls",
          "model_name": "HTMLModel",
          "model_module_version": "1.5.0",
          "state": {
            "_dom_classes": [],
            "_model_module": "@jupyter-widgets/controls",
            "_model_module_version": "1.5.0",
            "_model_name": "HTMLModel",
            "_view_count": null,
            "_view_module": "@jupyter-widgets/controls",
            "_view_module_version": "1.5.0",
            "_view_name": "HTMLView",
            "description": "",
            "description_tooltip": null,
            "layout": "IPY_MODEL_a0aa74f0b2f04b8da14f392348a164c9",
            "placeholder": "​",
            "style": "IPY_MODEL_99c4e3d05b5f4a1dbd52f0252d427124",
            "value": " 869M/869M [01:40&lt;00:00, 7.23MB/s]"
          }
        },
        "66ed11a5dee847bba9b829f2631ff18c": {
          "model_module": "@jupyter-widgets/base",
          "model_name": "LayoutModel",
          "model_module_version": "1.2.0",
          "state": {
            "_model_module": "@jupyter-widgets/base",
            "_model_module_version": "1.2.0",
            "_model_name": "LayoutModel",
            "_view_count": null,
            "_view_module": "@jupyter-widgets/base",
            "_view_module_version": "1.2.0",
            "_view_name": "LayoutView",
            "align_content": null,
            "align_items": null,
            "align_self": null,
            "border": null,
            "bottom": null,
            "display": null,
            "flex": null,
            "flex_flow": null,
            "grid_area": null,
            "grid_auto_columns": null,
            "grid_auto_flow": null,
            "grid_auto_rows": null,
            "grid_column": null,
            "grid_gap": null,
            "grid_row": null,
            "grid_template_areas": null,
            "grid_template_columns": null,
            "grid_template_rows": null,
            "height": null,
            "justify_content": null,
            "justify_items": null,
            "left": null,
            "margin": null,
            "max_height": null,
            "max_width": null,
            "min_height": null,
            "min_width": null,
            "object_fit": null,
            "object_position": null,
            "order": null,
            "overflow": null,
            "overflow_x": null,
            "overflow_y": null,
            "padding": null,
            "right": null,
            "top": null,
            "visibility": null,
            "width": null
          }
        },
        "06a6587fcf5748f090f91777c65b082a": {
          "model_module": "@jupyter-widgets/base",
          "model_name": "LayoutModel",
          "model_module_version": "1.2.0",
          "state": {
            "_model_module": "@jupyter-widgets/base",
            "_model_module_version": "1.2.0",
            "_model_name": "LayoutModel",
            "_view_count": null,
            "_view_module": "@jupyter-widgets/base",
            "_view_module_version": "1.2.0",
            "_view_name": "LayoutView",
            "align_content": null,
            "align_items": null,
            "align_self": null,
            "border": null,
            "bottom": null,
            "display": null,
            "flex": null,
            "flex_flow": null,
            "grid_area": null,
            "grid_auto_columns": null,
            "grid_auto_flow": null,
            "grid_auto_rows": null,
            "grid_column": null,
            "grid_gap": null,
            "grid_row": null,
            "grid_template_areas": null,
            "grid_template_columns": null,
            "grid_template_rows": null,
            "height": null,
            "justify_content": null,
            "justify_items": null,
            "left": null,
            "margin": null,
            "max_height": null,
            "max_width": null,
            "min_height": null,
            "min_width": null,
            "object_fit": null,
            "object_position": null,
            "order": null,
            "overflow": null,
            "overflow_x": null,
            "overflow_y": null,
            "padding": null,
            "right": null,
            "top": null,
            "visibility": null,
            "width": null
          }
        },
        "48d0665084fd47baabc696c1a81de644": {
          "model_module": "@jupyter-widgets/controls",
          "model_name": "DescriptionStyleModel",
          "model_module_version": "1.5.0",
          "state": {
            "_model_module": "@jupyter-widgets/controls",
            "_model_module_version": "1.5.0",
            "_model_name": "DescriptionStyleModel",
            "_view_count": null,
            "_view_module": "@jupyter-widgets/base",
            "_view_module_version": "1.2.0",
            "_view_name": "StyleView",
            "description_width": ""
          }
        },
        "d2ba702338db408d8b3288208ebb056c": {
          "model_module": "@jupyter-widgets/base",
          "model_name": "LayoutModel",
          "model_module_version": "1.2.0",
          "state": {
            "_model_module": "@jupyter-widgets/base",
            "_model_module_version": "1.2.0",
            "_model_name": "LayoutModel",
            "_view_count": null,
            "_view_module": "@jupyter-widgets/base",
            "_view_module_version": "1.2.0",
            "_view_name": "LayoutView",
            "align_content": null,
            "align_items": null,
            "align_self": null,
            "border": null,
            "bottom": null,
            "display": null,
            "flex": null,
            "flex_flow": null,
            "grid_area": null,
            "grid_auto_columns": null,
            "grid_auto_flow": null,
            "grid_auto_rows": null,
            "grid_column": null,
            "grid_gap": null,
            "grid_row": null,
            "grid_template_areas": null,
            "grid_template_columns": null,
            "grid_template_rows": null,
            "height": null,
            "justify_content": null,
            "justify_items": null,
            "left": null,
            "margin": null,
            "max_height": null,
            "max_width": null,
            "min_height": null,
            "min_width": null,
            "object_fit": null,
            "object_position": null,
            "order": null,
            "overflow": null,
            "overflow_x": null,
            "overflow_y": null,
            "padding": null,
            "right": null,
            "top": null,
            "visibility": null,
            "width": null
          }
        },
        "06604e0a2c88495ea8367af438713b17": {
          "model_module": "@jupyter-widgets/controls",
          "model_name": "ProgressStyleModel",
          "model_module_version": "1.5.0",
          "state": {
            "_model_module": "@jupyter-widgets/controls",
            "_model_module_version": "1.5.0",
            "_model_name": "ProgressStyleModel",
            "_view_count": null,
            "_view_module": "@jupyter-widgets/base",
            "_view_module_version": "1.2.0",
            "_view_name": "StyleView",
            "bar_color": null,
            "description_width": ""
          }
        },
        "a0aa74f0b2f04b8da14f392348a164c9": {
          "model_module": "@jupyter-widgets/base",
          "model_name": "LayoutModel",
          "model_module_version": "1.2.0",
          "state": {
            "_model_module": "@jupyter-widgets/base",
            "_model_module_version": "1.2.0",
            "_model_name": "LayoutModel",
            "_view_count": null,
            "_view_module": "@jupyter-widgets/base",
            "_view_module_version": "1.2.0",
            "_view_name": "LayoutView",
            "align_content": null,
            "align_items": null,
            "align_self": null,
            "border": null,
            "bottom": null,
            "display": null,
            "flex": null,
            "flex_flow": null,
            "grid_area": null,
            "grid_auto_columns": null,
            "grid_auto_flow": null,
            "grid_auto_rows": null,
            "grid_column": null,
            "grid_gap": null,
            "grid_row": null,
            "grid_template_areas": null,
            "grid_template_columns": null,
            "grid_template_rows": null,
            "height": null,
            "justify_content": null,
            "justify_items": null,
            "left": null,
            "margin": null,
            "max_height": null,
            "max_width": null,
            "min_height": null,
            "min_width": null,
            "object_fit": null,
            "object_position": null,
            "order": null,
            "overflow": null,
            "overflow_x": null,
            "overflow_y": null,
            "padding": null,
            "right": null,
            "top": null,
            "visibility": null,
            "width": null
          }
        },
        "99c4e3d05b5f4a1dbd52f0252d427124": {
          "model_module": "@jupyter-widgets/controls",
          "model_name": "DescriptionStyleModel",
          "model_module_version": "1.5.0",
          "state": {
            "_model_module": "@jupyter-widgets/controls",
            "_model_module_version": "1.5.0",
            "_model_name": "DescriptionStyleModel",
            "_view_count": null,
            "_view_module": "@jupyter-widgets/base",
            "_view_module_version": "1.2.0",
            "_view_name": "StyleView",
            "description_width": ""
          }
        },
        "4c0c56864f4d4758b1584cd7587a576d": {
          "model_module": "@jupyter-widgets/controls",
          "model_name": "HBoxModel",
          "model_module_version": "1.5.0",
          "state": {
            "_dom_classes": [],
            "_model_module": "@jupyter-widgets/controls",
            "_model_module_version": "1.5.0",
            "_model_name": "HBoxModel",
            "_view_count": null,
            "_view_module": "@jupyter-widgets/controls",
            "_view_module_version": "1.5.0",
            "_view_name": "HBoxView",
            "box_style": "",
            "children": [
              "IPY_MODEL_4ccd72afc65c4d9084b11c99f1ee0ecf",
              "IPY_MODEL_b48c0b3e625b40f192c48579fb9e1715",
              "IPY_MODEL_1b36df5761fe49e591bb384f76c767e3"
            ],
            "layout": "IPY_MODEL_b88c1b83041043668f328c56c63e6dea"
          }
        },
        "4ccd72afc65c4d9084b11c99f1ee0ecf": {
          "model_module": "@jupyter-widgets/controls",
          "model_name": "HTMLModel",
          "model_module_version": "1.5.0",
          "state": {
            "_dom_classes": [],
            "_model_module": "@jupyter-widgets/controls",
            "_model_module_version": "1.5.0",
            "_model_name": "HTMLModel",
            "_view_count": null,
            "_view_module": "@jupyter-widgets/controls",
            "_view_module_version": "1.5.0",
            "_view_name": "HTMLView",
            "description": "",
            "description_tooltip": null,
            "layout": "IPY_MODEL_9dce776cc0d449c993c9f36f1ca13ebc",
            "placeholder": "​",
            "style": "IPY_MODEL_3221d46a65c74834a73b277adf4a15b1",
            "value": ""
          }
        },
        "b48c0b3e625b40f192c48579fb9e1715": {
          "model_module": "@jupyter-widgets/controls",
          "model_name": "FloatProgressModel",
          "model_module_version": "1.5.0",
          "state": {
            "_dom_classes": [],
            "_model_module": "@jupyter-widgets/controls",
            "_model_module_version": "1.5.0",
            "_model_name": "FloatProgressModel",
            "_view_count": null,
            "_view_module": "@jupyter-widgets/controls",
            "_view_module_version": "1.5.0",
            "_view_name": "ProgressView",
            "bar_style": "info",
            "description": "",
            "description_tooltip": null,
            "layout": "IPY_MODEL_798b5adbe63c4c66888a25a68b0e46bf",
            "max": 1,
            "min": 0,
            "orientation": "horizontal",
            "style": "IPY_MODEL_99c871ecbefd49398d116ec70d409a55",
            "value": 1
          }
        },
        "1b36df5761fe49e591bb384f76c767e3": {
          "model_module": "@jupyter-widgets/controls",
          "model_name": "HTMLModel",
          "model_module_version": "1.5.0",
          "state": {
            "_dom_classes": [],
            "_model_module": "@jupyter-widgets/controls",
            "_model_module_version": "1.5.0",
            "_model_name": "HTMLModel",
            "_view_count": null,
            "_view_module": "@jupyter-widgets/controls",
            "_view_module_version": "1.5.0",
            "_view_name": "HTMLView",
            "description": "",
            "description_tooltip": null,
            "layout": "IPY_MODEL_56af2c98cc1e4f218f4d84253c11b156",
            "placeholder": "​",
            "style": "IPY_MODEL_eec8a5153a3b4e80982ba4d0b4f0e454",
            "value": " 4546/0 [00:03&lt;00:00, 1406.08 examples/s]"
          }
        },
        "b88c1b83041043668f328c56c63e6dea": {
          "model_module": "@jupyter-widgets/base",
          "model_name": "LayoutModel",
          "model_module_version": "1.2.0",
          "state": {
            "_model_module": "@jupyter-widgets/base",
            "_model_module_version": "1.2.0",
            "_model_name": "LayoutModel",
            "_view_count": null,
            "_view_module": "@jupyter-widgets/base",
            "_view_module_version": "1.2.0",
            "_view_name": "LayoutView",
            "align_content": null,
            "align_items": null,
            "align_self": null,
            "border": null,
            "bottom": null,
            "display": null,
            "flex": null,
            "flex_flow": null,
            "grid_area": null,
            "grid_auto_columns": null,
            "grid_auto_flow": null,
            "grid_auto_rows": null,
            "grid_column": null,
            "grid_gap": null,
            "grid_row": null,
            "grid_template_areas": null,
            "grid_template_columns": null,
            "grid_template_rows": null,
            "height": null,
            "justify_content": null,
            "justify_items": null,
            "left": null,
            "margin": null,
            "max_height": null,
            "max_width": null,
            "min_height": null,
            "min_width": null,
            "object_fit": null,
            "object_position": null,
            "order": null,
            "overflow": null,
            "overflow_x": null,
            "overflow_y": null,
            "padding": null,
            "right": null,
            "top": null,
            "visibility": "hidden",
            "width": null
          }
        },
        "9dce776cc0d449c993c9f36f1ca13ebc": {
          "model_module": "@jupyter-widgets/base",
          "model_name": "LayoutModel",
          "model_module_version": "1.2.0",
          "state": {
            "_model_module": "@jupyter-widgets/base",
            "_model_module_version": "1.2.0",
            "_model_name": "LayoutModel",
            "_view_count": null,
            "_view_module": "@jupyter-widgets/base",
            "_view_module_version": "1.2.0",
            "_view_name": "LayoutView",
            "align_content": null,
            "align_items": null,
            "align_self": null,
            "border": null,
            "bottom": null,
            "display": null,
            "flex": null,
            "flex_flow": null,
            "grid_area": null,
            "grid_auto_columns": null,
            "grid_auto_flow": null,
            "grid_auto_rows": null,
            "grid_column": null,
            "grid_gap": null,
            "grid_row": null,
            "grid_template_areas": null,
            "grid_template_columns": null,
            "grid_template_rows": null,
            "height": null,
            "justify_content": null,
            "justify_items": null,
            "left": null,
            "margin": null,
            "max_height": null,
            "max_width": null,
            "min_height": null,
            "min_width": null,
            "object_fit": null,
            "object_position": null,
            "order": null,
            "overflow": null,
            "overflow_x": null,
            "overflow_y": null,
            "padding": null,
            "right": null,
            "top": null,
            "visibility": null,
            "width": null
          }
        },
        "3221d46a65c74834a73b277adf4a15b1": {
          "model_module": "@jupyter-widgets/controls",
          "model_name": "DescriptionStyleModel",
          "model_module_version": "1.5.0",
          "state": {
            "_model_module": "@jupyter-widgets/controls",
            "_model_module_version": "1.5.0",
            "_model_name": "DescriptionStyleModel",
            "_view_count": null,
            "_view_module": "@jupyter-widgets/base",
            "_view_module_version": "1.2.0",
            "_view_name": "StyleView",
            "description_width": ""
          }
        },
        "798b5adbe63c4c66888a25a68b0e46bf": {
          "model_module": "@jupyter-widgets/base",
          "model_name": "LayoutModel",
          "model_module_version": "1.2.0",
          "state": {
            "_model_module": "@jupyter-widgets/base",
            "_model_module_version": "1.2.0",
            "_model_name": "LayoutModel",
            "_view_count": null,
            "_view_module": "@jupyter-widgets/base",
            "_view_module_version": "1.2.0",
            "_view_name": "LayoutView",
            "align_content": null,
            "align_items": null,
            "align_self": null,
            "border": null,
            "bottom": null,
            "display": null,
            "flex": null,
            "flex_flow": null,
            "grid_area": null,
            "grid_auto_columns": null,
            "grid_auto_flow": null,
            "grid_auto_rows": null,
            "grid_column": null,
            "grid_gap": null,
            "grid_row": null,
            "grid_template_areas": null,
            "grid_template_columns": null,
            "grid_template_rows": null,
            "height": null,
            "justify_content": null,
            "justify_items": null,
            "left": null,
            "margin": null,
            "max_height": null,
            "max_width": null,
            "min_height": null,
            "min_width": null,
            "object_fit": null,
            "object_position": null,
            "order": null,
            "overflow": null,
            "overflow_x": null,
            "overflow_y": null,
            "padding": null,
            "right": null,
            "top": null,
            "visibility": null,
            "width": "20px"
          }
        },
        "99c871ecbefd49398d116ec70d409a55": {
          "model_module": "@jupyter-widgets/controls",
          "model_name": "ProgressStyleModel",
          "model_module_version": "1.5.0",
          "state": {
            "_model_module": "@jupyter-widgets/controls",
            "_model_module_version": "1.5.0",
            "_model_name": "ProgressStyleModel",
            "_view_count": null,
            "_view_module": "@jupyter-widgets/base",
            "_view_module_version": "1.2.0",
            "_view_name": "StyleView",
            "bar_color": null,
            "description_width": ""
          }
        },
        "56af2c98cc1e4f218f4d84253c11b156": {
          "model_module": "@jupyter-widgets/base",
          "model_name": "LayoutModel",
          "model_module_version": "1.2.0",
          "state": {
            "_model_module": "@jupyter-widgets/base",
            "_model_module_version": "1.2.0",
            "_model_name": "LayoutModel",
            "_view_count": null,
            "_view_module": "@jupyter-widgets/base",
            "_view_module_version": "1.2.0",
            "_view_name": "LayoutView",
            "align_content": null,
            "align_items": null,
            "align_self": null,
            "border": null,
            "bottom": null,
            "display": null,
            "flex": null,
            "flex_flow": null,
            "grid_area": null,
            "grid_auto_columns": null,
            "grid_auto_flow": null,
            "grid_auto_rows": null,
            "grid_column": null,
            "grid_gap": null,
            "grid_row": null,
            "grid_template_areas": null,
            "grid_template_columns": null,
            "grid_template_rows": null,
            "height": null,
            "justify_content": null,
            "justify_items": null,
            "left": null,
            "margin": null,
            "max_height": null,
            "max_width": null,
            "min_height": null,
            "min_width": null,
            "object_fit": null,
            "object_position": null,
            "order": null,
            "overflow": null,
            "overflow_x": null,
            "overflow_y": null,
            "padding": null,
            "right": null,
            "top": null,
            "visibility": null,
            "width": null
          }
        },
        "eec8a5153a3b4e80982ba4d0b4f0e454": {
          "model_module": "@jupyter-widgets/controls",
          "model_name": "DescriptionStyleModel",
          "model_module_version": "1.5.0",
          "state": {
            "_model_module": "@jupyter-widgets/controls",
            "_model_module_version": "1.5.0",
            "_model_name": "DescriptionStyleModel",
            "_view_count": null,
            "_view_module": "@jupyter-widgets/base",
            "_view_module_version": "1.2.0",
            "_view_name": "StyleView",
            "description_width": ""
          }
        },
        "4d1579aebaf34495af5c6144216ab781": {
          "model_module": "@jupyter-widgets/controls",
          "model_name": "HBoxModel",
          "model_module_version": "1.5.0",
          "state": {
            "_dom_classes": [],
            "_model_module": "@jupyter-widgets/controls",
            "_model_module_version": "1.5.0",
            "_model_name": "HBoxModel",
            "_view_count": null,
            "_view_module": "@jupyter-widgets/controls",
            "_view_module_version": "1.5.0",
            "_view_name": "HBoxView",
            "box_style": "",
            "children": [
              "IPY_MODEL_3fab5054f0ec4d42a266e3c2d7cd93f0",
              "IPY_MODEL_54786d793c544589a6ae21e39a6c0b45",
              "IPY_MODEL_def9515c426f4919b4aa9e91621a7d1f"
            ],
            "layout": "IPY_MODEL_7350a865e8034d4cb96a5fd012b79a0f"
          }
        },
        "3fab5054f0ec4d42a266e3c2d7cd93f0": {
          "model_module": "@jupyter-widgets/controls",
          "model_name": "HTMLModel",
          "model_module_version": "1.5.0",
          "state": {
            "_dom_classes": [],
            "_model_module": "@jupyter-widgets/controls",
            "_model_module_version": "1.5.0",
            "_model_name": "HTMLModel",
            "_view_count": null,
            "_view_module": "@jupyter-widgets/controls",
            "_view_module_version": "1.5.0",
            "_view_name": "HTMLView",
            "description": "",
            "description_tooltip": null,
            "layout": "IPY_MODEL_9759291a3b6f46aa9f57818f65797229",
            "placeholder": "​",
            "style": "IPY_MODEL_17aa58db372e4f718cdecc32ed02b8fa",
            "value": ""
          }
        },
        "54786d793c544589a6ae21e39a6c0b45": {
          "model_module": "@jupyter-widgets/controls",
          "model_name": "FloatProgressModel",
          "model_module_version": "1.5.0",
          "state": {
            "_dom_classes": [],
            "_model_module": "@jupyter-widgets/controls",
            "_model_module_version": "1.5.0",
            "_model_name": "FloatProgressModel",
            "_view_count": null,
            "_view_module": "@jupyter-widgets/controls",
            "_view_module_version": "1.5.0",
            "_view_name": "ProgressView",
            "bar_style": "info",
            "description": "",
            "description_tooltip": null,
            "layout": "IPY_MODEL_9b2e50aebe18421c87e72ad028a8b197",
            "max": 1,
            "min": 0,
            "orientation": "horizontal",
            "style": "IPY_MODEL_a028b73a9b4246ed9a3368f4866cb579",
            "value": 1
          }
        },
        "def9515c426f4919b4aa9e91621a7d1f": {
          "model_module": "@jupyter-widgets/controls",
          "model_name": "HTMLModel",
          "model_module_version": "1.5.0",
          "state": {
            "_dom_classes": [],
            "_model_module": "@jupyter-widgets/controls",
            "_model_module_version": "1.5.0",
            "_model_name": "HTMLModel",
            "_view_count": null,
            "_view_module": "@jupyter-widgets/controls",
            "_view_module_version": "1.5.0",
            "_view_name": "HTMLView",
            "description": "",
            "description_tooltip": null,
            "layout": "IPY_MODEL_d76b17a9c60646c194d8a3cdf58d606f",
            "placeholder": "​",
            "style": "IPY_MODEL_b9f857bdc63d477b9a921b8dca1e3f2b",
            "value": " 1590/0 [00:01&lt;00:00, 1444.91 examples/s]"
          }
        },
        "7350a865e8034d4cb96a5fd012b79a0f": {
          "model_module": "@jupyter-widgets/base",
          "model_name": "LayoutModel",
          "model_module_version": "1.2.0",
          "state": {
            "_model_module": "@jupyter-widgets/base",
            "_model_module_version": "1.2.0",
            "_model_name": "LayoutModel",
            "_view_count": null,
            "_view_module": "@jupyter-widgets/base",
            "_view_module_version": "1.2.0",
            "_view_name": "LayoutView",
            "align_content": null,
            "align_items": null,
            "align_self": null,
            "border": null,
            "bottom": null,
            "display": null,
            "flex": null,
            "flex_flow": null,
            "grid_area": null,
            "grid_auto_columns": null,
            "grid_auto_flow": null,
            "grid_auto_rows": null,
            "grid_column": null,
            "grid_gap": null,
            "grid_row": null,
            "grid_template_areas": null,
            "grid_template_columns": null,
            "grid_template_rows": null,
            "height": null,
            "justify_content": null,
            "justify_items": null,
            "left": null,
            "margin": null,
            "max_height": null,
            "max_width": null,
            "min_height": null,
            "min_width": null,
            "object_fit": null,
            "object_position": null,
            "order": null,
            "overflow": null,
            "overflow_x": null,
            "overflow_y": null,
            "padding": null,
            "right": null,
            "top": null,
            "visibility": "hidden",
            "width": null
          }
        },
        "9759291a3b6f46aa9f57818f65797229": {
          "model_module": "@jupyter-widgets/base",
          "model_name": "LayoutModel",
          "model_module_version": "1.2.0",
          "state": {
            "_model_module": "@jupyter-widgets/base",
            "_model_module_version": "1.2.0",
            "_model_name": "LayoutModel",
            "_view_count": null,
            "_view_module": "@jupyter-widgets/base",
            "_view_module_version": "1.2.0",
            "_view_name": "LayoutView",
            "align_content": null,
            "align_items": null,
            "align_self": null,
            "border": null,
            "bottom": null,
            "display": null,
            "flex": null,
            "flex_flow": null,
            "grid_area": null,
            "grid_auto_columns": null,
            "grid_auto_flow": null,
            "grid_auto_rows": null,
            "grid_column": null,
            "grid_gap": null,
            "grid_row": null,
            "grid_template_areas": null,
            "grid_template_columns": null,
            "grid_template_rows": null,
            "height": null,
            "justify_content": null,
            "justify_items": null,
            "left": null,
            "margin": null,
            "max_height": null,
            "max_width": null,
            "min_height": null,
            "min_width": null,
            "object_fit": null,
            "object_position": null,
            "order": null,
            "overflow": null,
            "overflow_x": null,
            "overflow_y": null,
            "padding": null,
            "right": null,
            "top": null,
            "visibility": null,
            "width": null
          }
        },
        "17aa58db372e4f718cdecc32ed02b8fa": {
          "model_module": "@jupyter-widgets/controls",
          "model_name": "DescriptionStyleModel",
          "model_module_version": "1.5.0",
          "state": {
            "_model_module": "@jupyter-widgets/controls",
            "_model_module_version": "1.5.0",
            "_model_name": "DescriptionStyleModel",
            "_view_count": null,
            "_view_module": "@jupyter-widgets/base",
            "_view_module_version": "1.2.0",
            "_view_name": "StyleView",
            "description_width": ""
          }
        },
        "9b2e50aebe18421c87e72ad028a8b197": {
          "model_module": "@jupyter-widgets/base",
          "model_name": "LayoutModel",
          "model_module_version": "1.2.0",
          "state": {
            "_model_module": "@jupyter-widgets/base",
            "_model_module_version": "1.2.0",
            "_model_name": "LayoutModel",
            "_view_count": null,
            "_view_module": "@jupyter-widgets/base",
            "_view_module_version": "1.2.0",
            "_view_name": "LayoutView",
            "align_content": null,
            "align_items": null,
            "align_self": null,
            "border": null,
            "bottom": null,
            "display": null,
            "flex": null,
            "flex_flow": null,
            "grid_area": null,
            "grid_auto_columns": null,
            "grid_auto_flow": null,
            "grid_auto_rows": null,
            "grid_column": null,
            "grid_gap": null,
            "grid_row": null,
            "grid_template_areas": null,
            "grid_template_columns": null,
            "grid_template_rows": null,
            "height": null,
            "justify_content": null,
            "justify_items": null,
            "left": null,
            "margin": null,
            "max_height": null,
            "max_width": null,
            "min_height": null,
            "min_width": null,
            "object_fit": null,
            "object_position": null,
            "order": null,
            "overflow": null,
            "overflow_x": null,
            "overflow_y": null,
            "padding": null,
            "right": null,
            "top": null,
            "visibility": null,
            "width": "20px"
          }
        },
        "a028b73a9b4246ed9a3368f4866cb579": {
          "model_module": "@jupyter-widgets/controls",
          "model_name": "ProgressStyleModel",
          "model_module_version": "1.5.0",
          "state": {
            "_model_module": "@jupyter-widgets/controls",
            "_model_module_version": "1.5.0",
            "_model_name": "ProgressStyleModel",
            "_view_count": null,
            "_view_module": "@jupyter-widgets/base",
            "_view_module_version": "1.2.0",
            "_view_name": "StyleView",
            "bar_color": null,
            "description_width": ""
          }
        },
        "d76b17a9c60646c194d8a3cdf58d606f": {
          "model_module": "@jupyter-widgets/base",
          "model_name": "LayoutModel",
          "model_module_version": "1.2.0",
          "state": {
            "_model_module": "@jupyter-widgets/base",
            "_model_module_version": "1.2.0",
            "_model_name": "LayoutModel",
            "_view_count": null,
            "_view_module": "@jupyter-widgets/base",
            "_view_module_version": "1.2.0",
            "_view_name": "LayoutView",
            "align_content": null,
            "align_items": null,
            "align_self": null,
            "border": null,
            "bottom": null,
            "display": null,
            "flex": null,
            "flex_flow": null,
            "grid_area": null,
            "grid_auto_columns": null,
            "grid_auto_flow": null,
            "grid_auto_rows": null,
            "grid_column": null,
            "grid_gap": null,
            "grid_row": null,
            "grid_template_areas": null,
            "grid_template_columns": null,
            "grid_template_rows": null,
            "height": null,
            "justify_content": null,
            "justify_items": null,
            "left": null,
            "margin": null,
            "max_height": null,
            "max_width": null,
            "min_height": null,
            "min_width": null,
            "object_fit": null,
            "object_position": null,
            "order": null,
            "overflow": null,
            "overflow_x": null,
            "overflow_y": null,
            "padding": null,
            "right": null,
            "top": null,
            "visibility": null,
            "width": null
          }
        },
        "b9f857bdc63d477b9a921b8dca1e3f2b": {
          "model_module": "@jupyter-widgets/controls",
          "model_name": "DescriptionStyleModel",
          "model_module_version": "1.5.0",
          "state": {
            "_model_module": "@jupyter-widgets/controls",
            "_model_module_version": "1.5.0",
            "_model_name": "DescriptionStyleModel",
            "_view_count": null,
            "_view_module": "@jupyter-widgets/base",
            "_view_module_version": "1.2.0",
            "_view_name": "StyleView",
            "description_width": ""
          }
        },
        "6d24a640e18f44dfbd7a2a5b31eb1b7d": {
          "model_module": "@jupyter-widgets/controls",
          "model_name": "HBoxModel",
          "model_module_version": "1.5.0",
          "state": {
            "_dom_classes": [],
            "_model_module": "@jupyter-widgets/controls",
            "_model_module_version": "1.5.0",
            "_model_name": "HBoxModel",
            "_view_count": null,
            "_view_module": "@jupyter-widgets/controls",
            "_view_module_version": "1.5.0",
            "_view_name": "HBoxView",
            "box_style": "",
            "children": [
              "IPY_MODEL_85acaa72035241f58789c9853a694067",
              "IPY_MODEL_54c2dab6324741d58d28e8a1bc87fdc2",
              "IPY_MODEL_a810d724ecf4486a91213dba927f2553"
            ],
            "layout": "IPY_MODEL_7f79a6dddb884893b52a7ae44deff794"
          }
        },
        "85acaa72035241f58789c9853a694067": {
          "model_module": "@jupyter-widgets/controls",
          "model_name": "HTMLModel",
          "model_module_version": "1.5.0",
          "state": {
            "_dom_classes": [],
            "_model_module": "@jupyter-widgets/controls",
            "_model_module_version": "1.5.0",
            "_model_name": "HTMLModel",
            "_view_count": null,
            "_view_module": "@jupyter-widgets/controls",
            "_view_module_version": "1.5.0",
            "_view_name": "HTMLView",
            "description": "",
            "description_tooltip": null,
            "layout": "IPY_MODEL_bec4325e668441b783ad073de9032f94",
            "placeholder": "​",
            "style": "IPY_MODEL_08578c5ad16046b18b9ede84664a0e17",
            "value": "100%"
          }
        },
        "54c2dab6324741d58d28e8a1bc87fdc2": {
          "model_module": "@jupyter-widgets/controls",
          "model_name": "FloatProgressModel",
          "model_module_version": "1.5.0",
          "state": {
            "_dom_classes": [],
            "_model_module": "@jupyter-widgets/controls",
            "_model_module_version": "1.5.0",
            "_model_name": "FloatProgressModel",
            "_view_count": null,
            "_view_module": "@jupyter-widgets/controls",
            "_view_module_version": "1.5.0",
            "_view_name": "ProgressView",
            "bar_style": "success",
            "description": "",
            "description_tooltip": null,
            "layout": "IPY_MODEL_f6064511cf69471db9b7d4625a212b4b",
            "max": 2,
            "min": 0,
            "orientation": "horizontal",
            "style": "IPY_MODEL_4f06c13d2e3c4c7aa34f34380c0cc61d",
            "value": 2
          }
        },
        "a810d724ecf4486a91213dba927f2553": {
          "model_module": "@jupyter-widgets/controls",
          "model_name": "HTMLModel",
          "model_module_version": "1.5.0",
          "state": {
            "_dom_classes": [],
            "_model_module": "@jupyter-widgets/controls",
            "_model_module_version": "1.5.0",
            "_model_name": "HTMLModel",
            "_view_count": null,
            "_view_module": "@jupyter-widgets/controls",
            "_view_module_version": "1.5.0",
            "_view_name": "HTMLView",
            "description": "",
            "description_tooltip": null,
            "layout": "IPY_MODEL_1c6a6f98f1464092965e563f351e7111",
            "placeholder": "​",
            "style": "IPY_MODEL_277aa86421554da6ac3dcacd8c6d6a75",
            "value": " 2/2 [00:00&lt;00:00, 89.24it/s]"
          }
        },
        "7f79a6dddb884893b52a7ae44deff794": {
          "model_module": "@jupyter-widgets/base",
          "model_name": "LayoutModel",
          "model_module_version": "1.2.0",
          "state": {
            "_model_module": "@jupyter-widgets/base",
            "_model_module_version": "1.2.0",
            "_model_name": "LayoutModel",
            "_view_count": null,
            "_view_module": "@jupyter-widgets/base",
            "_view_module_version": "1.2.0",
            "_view_name": "LayoutView",
            "align_content": null,
            "align_items": null,
            "align_self": null,
            "border": null,
            "bottom": null,
            "display": null,
            "flex": null,
            "flex_flow": null,
            "grid_area": null,
            "grid_auto_columns": null,
            "grid_auto_flow": null,
            "grid_auto_rows": null,
            "grid_column": null,
            "grid_gap": null,
            "grid_row": null,
            "grid_template_areas": null,
            "grid_template_columns": null,
            "grid_template_rows": null,
            "height": null,
            "justify_content": null,
            "justify_items": null,
            "left": null,
            "margin": null,
            "max_height": null,
            "max_width": null,
            "min_height": null,
            "min_width": null,
            "object_fit": null,
            "object_position": null,
            "order": null,
            "overflow": null,
            "overflow_x": null,
            "overflow_y": null,
            "padding": null,
            "right": null,
            "top": null,
            "visibility": null,
            "width": null
          }
        },
        "bec4325e668441b783ad073de9032f94": {
          "model_module": "@jupyter-widgets/base",
          "model_name": "LayoutModel",
          "model_module_version": "1.2.0",
          "state": {
            "_model_module": "@jupyter-widgets/base",
            "_model_module_version": "1.2.0",
            "_model_name": "LayoutModel",
            "_view_count": null,
            "_view_module": "@jupyter-widgets/base",
            "_view_module_version": "1.2.0",
            "_view_name": "LayoutView",
            "align_content": null,
            "align_items": null,
            "align_self": null,
            "border": null,
            "bottom": null,
            "display": null,
            "flex": null,
            "flex_flow": null,
            "grid_area": null,
            "grid_auto_columns": null,
            "grid_auto_flow": null,
            "grid_auto_rows": null,
            "grid_column": null,
            "grid_gap": null,
            "grid_row": null,
            "grid_template_areas": null,
            "grid_template_columns": null,
            "grid_template_rows": null,
            "height": null,
            "justify_content": null,
            "justify_items": null,
            "left": null,
            "margin": null,
            "max_height": null,
            "max_width": null,
            "min_height": null,
            "min_width": null,
            "object_fit": null,
            "object_position": null,
            "order": null,
            "overflow": null,
            "overflow_x": null,
            "overflow_y": null,
            "padding": null,
            "right": null,
            "top": null,
            "visibility": null,
            "width": null
          }
        },
        "08578c5ad16046b18b9ede84664a0e17": {
          "model_module": "@jupyter-widgets/controls",
          "model_name": "DescriptionStyleModel",
          "model_module_version": "1.5.0",
          "state": {
            "_model_module": "@jupyter-widgets/controls",
            "_model_module_version": "1.5.0",
            "_model_name": "DescriptionStyleModel",
            "_view_count": null,
            "_view_module": "@jupyter-widgets/base",
            "_view_module_version": "1.2.0",
            "_view_name": "StyleView",
            "description_width": ""
          }
        },
        "f6064511cf69471db9b7d4625a212b4b": {
          "model_module": "@jupyter-widgets/base",
          "model_name": "LayoutModel",
          "model_module_version": "1.2.0",
          "state": {
            "_model_module": "@jupyter-widgets/base",
            "_model_module_version": "1.2.0",
            "_model_name": "LayoutModel",
            "_view_count": null,
            "_view_module": "@jupyter-widgets/base",
            "_view_module_version": "1.2.0",
            "_view_name": "LayoutView",
            "align_content": null,
            "align_items": null,
            "align_self": null,
            "border": null,
            "bottom": null,
            "display": null,
            "flex": null,
            "flex_flow": null,
            "grid_area": null,
            "grid_auto_columns": null,
            "grid_auto_flow": null,
            "grid_auto_rows": null,
            "grid_column": null,
            "grid_gap": null,
            "grid_row": null,
            "grid_template_areas": null,
            "grid_template_columns": null,
            "grid_template_rows": null,
            "height": null,
            "justify_content": null,
            "justify_items": null,
            "left": null,
            "margin": null,
            "max_height": null,
            "max_width": null,
            "min_height": null,
            "min_width": null,
            "object_fit": null,
            "object_position": null,
            "order": null,
            "overflow": null,
            "overflow_x": null,
            "overflow_y": null,
            "padding": null,
            "right": null,
            "top": null,
            "visibility": null,
            "width": null
          }
        },
        "4f06c13d2e3c4c7aa34f34380c0cc61d": {
          "model_module": "@jupyter-widgets/controls",
          "model_name": "ProgressStyleModel",
          "model_module_version": "1.5.0",
          "state": {
            "_model_module": "@jupyter-widgets/controls",
            "_model_module_version": "1.5.0",
            "_model_name": "ProgressStyleModel",
            "_view_count": null,
            "_view_module": "@jupyter-widgets/base",
            "_view_module_version": "1.2.0",
            "_view_name": "StyleView",
            "bar_color": null,
            "description_width": ""
          }
        },
        "1c6a6f98f1464092965e563f351e7111": {
          "model_module": "@jupyter-widgets/base",
          "model_name": "LayoutModel",
          "model_module_version": "1.2.0",
          "state": {
            "_model_module": "@jupyter-widgets/base",
            "_model_module_version": "1.2.0",
            "_model_name": "LayoutModel",
            "_view_count": null,
            "_view_module": "@jupyter-widgets/base",
            "_view_module_version": "1.2.0",
            "_view_name": "LayoutView",
            "align_content": null,
            "align_items": null,
            "align_self": null,
            "border": null,
            "bottom": null,
            "display": null,
            "flex": null,
            "flex_flow": null,
            "grid_area": null,
            "grid_auto_columns": null,
            "grid_auto_flow": null,
            "grid_auto_rows": null,
            "grid_column": null,
            "grid_gap": null,
            "grid_row": null,
            "grid_template_areas": null,
            "grid_template_columns": null,
            "grid_template_rows": null,
            "height": null,
            "justify_content": null,
            "justify_items": null,
            "left": null,
            "margin": null,
            "max_height": null,
            "max_width": null,
            "min_height": null,
            "min_width": null,
            "object_fit": null,
            "object_position": null,
            "order": null,
            "overflow": null,
            "overflow_x": null,
            "overflow_y": null,
            "padding": null,
            "right": null,
            "top": null,
            "visibility": null,
            "width": null
          }
        },
        "277aa86421554da6ac3dcacd8c6d6a75": {
          "model_module": "@jupyter-widgets/controls",
          "model_name": "DescriptionStyleModel",
          "model_module_version": "1.5.0",
          "state": {
            "_model_module": "@jupyter-widgets/controls",
            "_model_module_version": "1.5.0",
            "_model_name": "DescriptionStyleModel",
            "_view_count": null,
            "_view_module": "@jupyter-widgets/base",
            "_view_module_version": "1.2.0",
            "_view_name": "StyleView",
            "description_width": ""
          }
        },
        "b83adc573dc84e5b9beeced905c4ac9e": {
          "model_module": "@jupyter-widgets/controls",
          "model_name": "HBoxModel",
          "model_module_version": "1.5.0",
          "state": {
            "_dom_classes": [],
            "_model_module": "@jupyter-widgets/controls",
            "_model_module_version": "1.5.0",
            "_model_name": "HBoxModel",
            "_view_count": null,
            "_view_module": "@jupyter-widgets/controls",
            "_view_module_version": "1.5.0",
            "_view_name": "HBoxView",
            "box_style": "",
            "children": [
              "IPY_MODEL_91d3987b2fd949cda1dd64699fbac641",
              "IPY_MODEL_3882db25bd1940edbb015b988a9f3d6c",
              "IPY_MODEL_4501bb5a8dc7455eb6a841569b38c2e3"
            ],
            "layout": "IPY_MODEL_750c0de96cc54e50bc98df50721e3e01"
          }
        },
        "91d3987b2fd949cda1dd64699fbac641": {
          "model_module": "@jupyter-widgets/controls",
          "model_name": "HTMLModel",
          "model_module_version": "1.5.0",
          "state": {
            "_dom_classes": [],
            "_model_module": "@jupyter-widgets/controls",
            "_model_module_version": "1.5.0",
            "_model_name": "HTMLModel",
            "_view_count": null,
            "_view_module": "@jupyter-widgets/controls",
            "_view_module_version": "1.5.0",
            "_view_name": "HTMLView",
            "description": "",
            "description_tooltip": null,
            "layout": "IPY_MODEL_84e67f9cce944ca99470407051bcbe81",
            "placeholder": "​",
            "style": "IPY_MODEL_7b6ce51e3ac141bc9554b858016ae5e6",
            "value": ""
          }
        },
        "3882db25bd1940edbb015b988a9f3d6c": {
          "model_module": "@jupyter-widgets/controls",
          "model_name": "FloatProgressModel",
          "model_module_version": "1.5.0",
          "state": {
            "_dom_classes": [],
            "_model_module": "@jupyter-widgets/controls",
            "_model_module_version": "1.5.0",
            "_model_name": "FloatProgressModel",
            "_view_count": null,
            "_view_module": "@jupyter-widgets/controls",
            "_view_module_version": "1.5.0",
            "_view_name": "ProgressView",
            "bar_style": "success",
            "description": "",
            "description_tooltip": null,
            "layout": "IPY_MODEL_627cc34f6c8b46f887027fbf72492e80",
            "max": 1,
            "min": 0,
            "orientation": "horizontal",
            "style": "IPY_MODEL_df3cd0786ff340ba8777b2c3f3044657",
            "value": 1
          }
        },
        "4501bb5a8dc7455eb6a841569b38c2e3": {
          "model_module": "@jupyter-widgets/controls",
          "model_name": "HTMLModel",
          "model_module_version": "1.5.0",
          "state": {
            "_dom_classes": [],
            "_model_module": "@jupyter-widgets/controls",
            "_model_module_version": "1.5.0",
            "_model_name": "HTMLModel",
            "_view_count": null,
            "_view_module": "@jupyter-widgets/controls",
            "_view_module_version": "1.5.0",
            "_view_name": "HTMLView",
            "description": "",
            "description_tooltip": null,
            "layout": "IPY_MODEL_1b85776470f44578ba9203956c52ddf1",
            "placeholder": "​",
            "style": "IPY_MODEL_7494b907118b4e6f8b72758a258e9934",
            "value": " 4620/? [00:00&lt;00:00, 11275.36ex/s]"
          }
        },
        "750c0de96cc54e50bc98df50721e3e01": {
          "model_module": "@jupyter-widgets/base",
          "model_name": "LayoutModel",
          "model_module_version": "1.2.0",
          "state": {
            "_model_module": "@jupyter-widgets/base",
            "_model_module_version": "1.2.0",
            "_model_name": "LayoutModel",
            "_view_count": null,
            "_view_module": "@jupyter-widgets/base",
            "_view_module_version": "1.2.0",
            "_view_name": "LayoutView",
            "align_content": null,
            "align_items": null,
            "align_self": null,
            "border": null,
            "bottom": null,
            "display": null,
            "flex": null,
            "flex_flow": null,
            "grid_area": null,
            "grid_auto_columns": null,
            "grid_auto_flow": null,
            "grid_auto_rows": null,
            "grid_column": null,
            "grid_gap": null,
            "grid_row": null,
            "grid_template_areas": null,
            "grid_template_columns": null,
            "grid_template_rows": null,
            "height": null,
            "justify_content": null,
            "justify_items": null,
            "left": null,
            "margin": null,
            "max_height": null,
            "max_width": null,
            "min_height": null,
            "min_width": null,
            "object_fit": null,
            "object_position": null,
            "order": null,
            "overflow": null,
            "overflow_x": null,
            "overflow_y": null,
            "padding": null,
            "right": null,
            "top": null,
            "visibility": null,
            "width": null
          }
        },
        "84e67f9cce944ca99470407051bcbe81": {
          "model_module": "@jupyter-widgets/base",
          "model_name": "LayoutModel",
          "model_module_version": "1.2.0",
          "state": {
            "_model_module": "@jupyter-widgets/base",
            "_model_module_version": "1.2.0",
            "_model_name": "LayoutModel",
            "_view_count": null,
            "_view_module": "@jupyter-widgets/base",
            "_view_module_version": "1.2.0",
            "_view_name": "LayoutView",
            "align_content": null,
            "align_items": null,
            "align_self": null,
            "border": null,
            "bottom": null,
            "display": null,
            "flex": null,
            "flex_flow": null,
            "grid_area": null,
            "grid_auto_columns": null,
            "grid_auto_flow": null,
            "grid_auto_rows": null,
            "grid_column": null,
            "grid_gap": null,
            "grid_row": null,
            "grid_template_areas": null,
            "grid_template_columns": null,
            "grid_template_rows": null,
            "height": null,
            "justify_content": null,
            "justify_items": null,
            "left": null,
            "margin": null,
            "max_height": null,
            "max_width": null,
            "min_height": null,
            "min_width": null,
            "object_fit": null,
            "object_position": null,
            "order": null,
            "overflow": null,
            "overflow_x": null,
            "overflow_y": null,
            "padding": null,
            "right": null,
            "top": null,
            "visibility": null,
            "width": null
          }
        },
        "7b6ce51e3ac141bc9554b858016ae5e6": {
          "model_module": "@jupyter-widgets/controls",
          "model_name": "DescriptionStyleModel",
          "model_module_version": "1.5.0",
          "state": {
            "_model_module": "@jupyter-widgets/controls",
            "_model_module_version": "1.5.0",
            "_model_name": "DescriptionStyleModel",
            "_view_count": null,
            "_view_module": "@jupyter-widgets/base",
            "_view_module_version": "1.2.0",
            "_view_name": "StyleView",
            "description_width": ""
          }
        },
        "627cc34f6c8b46f887027fbf72492e80": {
          "model_module": "@jupyter-widgets/base",
          "model_name": "LayoutModel",
          "model_module_version": "1.2.0",
          "state": {
            "_model_module": "@jupyter-widgets/base",
            "_model_module_version": "1.2.0",
            "_model_name": "LayoutModel",
            "_view_count": null,
            "_view_module": "@jupyter-widgets/base",
            "_view_module_version": "1.2.0",
            "_view_name": "LayoutView",
            "align_content": null,
            "align_items": null,
            "align_self": null,
            "border": null,
            "bottom": null,
            "display": null,
            "flex": null,
            "flex_flow": null,
            "grid_area": null,
            "grid_auto_columns": null,
            "grid_auto_flow": null,
            "grid_auto_rows": null,
            "grid_column": null,
            "grid_gap": null,
            "grid_row": null,
            "grid_template_areas": null,
            "grid_template_columns": null,
            "grid_template_rows": null,
            "height": null,
            "justify_content": null,
            "justify_items": null,
            "left": null,
            "margin": null,
            "max_height": null,
            "max_width": null,
            "min_height": null,
            "min_width": null,
            "object_fit": null,
            "object_position": null,
            "order": null,
            "overflow": null,
            "overflow_x": null,
            "overflow_y": null,
            "padding": null,
            "right": null,
            "top": null,
            "visibility": null,
            "width": "20px"
          }
        },
        "df3cd0786ff340ba8777b2c3f3044657": {
          "model_module": "@jupyter-widgets/controls",
          "model_name": "ProgressStyleModel",
          "model_module_version": "1.5.0",
          "state": {
            "_model_module": "@jupyter-widgets/controls",
            "_model_module_version": "1.5.0",
            "_model_name": "ProgressStyleModel",
            "_view_count": null,
            "_view_module": "@jupyter-widgets/base",
            "_view_module_version": "1.2.0",
            "_view_name": "StyleView",
            "bar_color": null,
            "description_width": ""
          }
        },
        "1b85776470f44578ba9203956c52ddf1": {
          "model_module": "@jupyter-widgets/base",
          "model_name": "LayoutModel",
          "model_module_version": "1.2.0",
          "state": {
            "_model_module": "@jupyter-widgets/base",
            "_model_module_version": "1.2.0",
            "_model_name": "LayoutModel",
            "_view_count": null,
            "_view_module": "@jupyter-widgets/base",
            "_view_module_version": "1.2.0",
            "_view_name": "LayoutView",
            "align_content": null,
            "align_items": null,
            "align_self": null,
            "border": null,
            "bottom": null,
            "display": null,
            "flex": null,
            "flex_flow": null,
            "grid_area": null,
            "grid_auto_columns": null,
            "grid_auto_flow": null,
            "grid_auto_rows": null,
            "grid_column": null,
            "grid_gap": null,
            "grid_row": null,
            "grid_template_areas": null,
            "grid_template_columns": null,
            "grid_template_rows": null,
            "height": null,
            "justify_content": null,
            "justify_items": null,
            "left": null,
            "margin": null,
            "max_height": null,
            "max_width": null,
            "min_height": null,
            "min_width": null,
            "object_fit": null,
            "object_position": null,
            "order": null,
            "overflow": null,
            "overflow_x": null,
            "overflow_y": null,
            "padding": null,
            "right": null,
            "top": null,
            "visibility": null,
            "width": null
          }
        },
        "7494b907118b4e6f8b72758a258e9934": {
          "model_module": "@jupyter-widgets/controls",
          "model_name": "DescriptionStyleModel",
          "model_module_version": "1.5.0",
          "state": {
            "_model_module": "@jupyter-widgets/controls",
            "_model_module_version": "1.5.0",
            "_model_name": "DescriptionStyleModel",
            "_view_count": null,
            "_view_module": "@jupyter-widgets/base",
            "_view_module_version": "1.2.0",
            "_view_name": "StyleView",
            "description_width": ""
          }
        },
        "ce560b3394514346b8784e8941f0cf0b": {
          "model_module": "@jupyter-widgets/controls",
          "model_name": "HBoxModel",
          "model_module_version": "1.5.0",
          "state": {
            "_dom_classes": [],
            "_model_module": "@jupyter-widgets/controls",
            "_model_module_version": "1.5.0",
            "_model_name": "HBoxModel",
            "_view_count": null,
            "_view_module": "@jupyter-widgets/controls",
            "_view_module_version": "1.5.0",
            "_view_name": "HBoxView",
            "box_style": "",
            "children": [
              "IPY_MODEL_5cfe887d22154c428c9e851b0da7c3a2",
              "IPY_MODEL_61bad8f0ab13444a9501831deeb9fb29",
              "IPY_MODEL_97f8ed2c2fa64e4f87b52cb76c77404c"
            ],
            "layout": "IPY_MODEL_4c4cacfb77c64d3f9cd329b6a0e37de4"
          }
        },
        "5cfe887d22154c428c9e851b0da7c3a2": {
          "model_module": "@jupyter-widgets/controls",
          "model_name": "HTMLModel",
          "model_module_version": "1.5.0",
          "state": {
            "_dom_classes": [],
            "_model_module": "@jupyter-widgets/controls",
            "_model_module_version": "1.5.0",
            "_model_name": "HTMLModel",
            "_view_count": null,
            "_view_module": "@jupyter-widgets/controls",
            "_view_module_version": "1.5.0",
            "_view_name": "HTMLView",
            "description": "",
            "description_tooltip": null,
            "layout": "IPY_MODEL_2555dfb6b60e4bbaa460b58a8bb06a91",
            "placeholder": "​",
            "style": "IPY_MODEL_5043b80fe14b4d8392608901249080a0",
            "value": ""
          }
        },
        "61bad8f0ab13444a9501831deeb9fb29": {
          "model_module": "@jupyter-widgets/controls",
          "model_name": "FloatProgressModel",
          "model_module_version": "1.5.0",
          "state": {
            "_dom_classes": [],
            "_model_module": "@jupyter-widgets/controls",
            "_model_module_version": "1.5.0",
            "_model_name": "FloatProgressModel",
            "_view_count": null,
            "_view_module": "@jupyter-widgets/controls",
            "_view_module_version": "1.5.0",
            "_view_name": "ProgressView",
            "bar_style": "success",
            "description": "",
            "description_tooltip": null,
            "layout": "IPY_MODEL_3f04fe02a6b9452c9f36e9040dd703ff",
            "max": 1,
            "min": 0,
            "orientation": "horizontal",
            "style": "IPY_MODEL_ce4a3314d0ee4fae87a7394ef0127e6a",
            "value": 1
          }
        },
        "97f8ed2c2fa64e4f87b52cb76c77404c": {
          "model_module": "@jupyter-widgets/controls",
          "model_name": "HTMLModel",
          "model_module_version": "1.5.0",
          "state": {
            "_dom_classes": [],
            "_model_module": "@jupyter-widgets/controls",
            "_model_module_version": "1.5.0",
            "_model_name": "HTMLModel",
            "_view_count": null,
            "_view_module": "@jupyter-widgets/controls",
            "_view_module_version": "1.5.0",
            "_view_name": "HTMLView",
            "description": "",
            "description_tooltip": null,
            "layout": "IPY_MODEL_37675131da95465cbfbaaae0260655f1",
            "placeholder": "​",
            "style": "IPY_MODEL_bbc65ad1199c49d485546790d69d7543",
            "value": " 1680/? [00:00&lt;00:00, 8187.80ex/s]"
          }
        },
        "4c4cacfb77c64d3f9cd329b6a0e37de4": {
          "model_module": "@jupyter-widgets/base",
          "model_name": "LayoutModel",
          "model_module_version": "1.2.0",
          "state": {
            "_model_module": "@jupyter-widgets/base",
            "_model_module_version": "1.2.0",
            "_model_name": "LayoutModel",
            "_view_count": null,
            "_view_module": "@jupyter-widgets/base",
            "_view_module_version": "1.2.0",
            "_view_name": "LayoutView",
            "align_content": null,
            "align_items": null,
            "align_self": null,
            "border": null,
            "bottom": null,
            "display": null,
            "flex": null,
            "flex_flow": null,
            "grid_area": null,
            "grid_auto_columns": null,
            "grid_auto_flow": null,
            "grid_auto_rows": null,
            "grid_column": null,
            "grid_gap": null,
            "grid_row": null,
            "grid_template_areas": null,
            "grid_template_columns": null,
            "grid_template_rows": null,
            "height": null,
            "justify_content": null,
            "justify_items": null,
            "left": null,
            "margin": null,
            "max_height": null,
            "max_width": null,
            "min_height": null,
            "min_width": null,
            "object_fit": null,
            "object_position": null,
            "order": null,
            "overflow": null,
            "overflow_x": null,
            "overflow_y": null,
            "padding": null,
            "right": null,
            "top": null,
            "visibility": null,
            "width": null
          }
        },
        "2555dfb6b60e4bbaa460b58a8bb06a91": {
          "model_module": "@jupyter-widgets/base",
          "model_name": "LayoutModel",
          "model_module_version": "1.2.0",
          "state": {
            "_model_module": "@jupyter-widgets/base",
            "_model_module_version": "1.2.0",
            "_model_name": "LayoutModel",
            "_view_count": null,
            "_view_module": "@jupyter-widgets/base",
            "_view_module_version": "1.2.0",
            "_view_name": "LayoutView",
            "align_content": null,
            "align_items": null,
            "align_self": null,
            "border": null,
            "bottom": null,
            "display": null,
            "flex": null,
            "flex_flow": null,
            "grid_area": null,
            "grid_auto_columns": null,
            "grid_auto_flow": null,
            "grid_auto_rows": null,
            "grid_column": null,
            "grid_gap": null,
            "grid_row": null,
            "grid_template_areas": null,
            "grid_template_columns": null,
            "grid_template_rows": null,
            "height": null,
            "justify_content": null,
            "justify_items": null,
            "left": null,
            "margin": null,
            "max_height": null,
            "max_width": null,
            "min_height": null,
            "min_width": null,
            "object_fit": null,
            "object_position": null,
            "order": null,
            "overflow": null,
            "overflow_x": null,
            "overflow_y": null,
            "padding": null,
            "right": null,
            "top": null,
            "visibility": null,
            "width": null
          }
        },
        "5043b80fe14b4d8392608901249080a0": {
          "model_module": "@jupyter-widgets/controls",
          "model_name": "DescriptionStyleModel",
          "model_module_version": "1.5.0",
          "state": {
            "_model_module": "@jupyter-widgets/controls",
            "_model_module_version": "1.5.0",
            "_model_name": "DescriptionStyleModel",
            "_view_count": null,
            "_view_module": "@jupyter-widgets/base",
            "_view_module_version": "1.2.0",
            "_view_name": "StyleView",
            "description_width": ""
          }
        },
        "3f04fe02a6b9452c9f36e9040dd703ff": {
          "model_module": "@jupyter-widgets/base",
          "model_name": "LayoutModel",
          "model_module_version": "1.2.0",
          "state": {
            "_model_module": "@jupyter-widgets/base",
            "_model_module_version": "1.2.0",
            "_model_name": "LayoutModel",
            "_view_count": null,
            "_view_module": "@jupyter-widgets/base",
            "_view_module_version": "1.2.0",
            "_view_name": "LayoutView",
            "align_content": null,
            "align_items": null,
            "align_self": null,
            "border": null,
            "bottom": null,
            "display": null,
            "flex": null,
            "flex_flow": null,
            "grid_area": null,
            "grid_auto_columns": null,
            "grid_auto_flow": null,
            "grid_auto_rows": null,
            "grid_column": null,
            "grid_gap": null,
            "grid_row": null,
            "grid_template_areas": null,
            "grid_template_columns": null,
            "grid_template_rows": null,
            "height": null,
            "justify_content": null,
            "justify_items": null,
            "left": null,
            "margin": null,
            "max_height": null,
            "max_width": null,
            "min_height": null,
            "min_width": null,
            "object_fit": null,
            "object_position": null,
            "order": null,
            "overflow": null,
            "overflow_x": null,
            "overflow_y": null,
            "padding": null,
            "right": null,
            "top": null,
            "visibility": null,
            "width": "20px"
          }
        },
        "ce4a3314d0ee4fae87a7394ef0127e6a": {
          "model_module": "@jupyter-widgets/controls",
          "model_name": "ProgressStyleModel",
          "model_module_version": "1.5.0",
          "state": {
            "_model_module": "@jupyter-widgets/controls",
            "_model_module_version": "1.5.0",
            "_model_name": "ProgressStyleModel",
            "_view_count": null,
            "_view_module": "@jupyter-widgets/base",
            "_view_module_version": "1.2.0",
            "_view_name": "StyleView",
            "bar_color": null,
            "description_width": ""
          }
        },
        "37675131da95465cbfbaaae0260655f1": {
          "model_module": "@jupyter-widgets/base",
          "model_name": "LayoutModel",
          "model_module_version": "1.2.0",
          "state": {
            "_model_module": "@jupyter-widgets/base",
            "_model_module_version": "1.2.0",
            "_model_name": "LayoutModel",
            "_view_count": null,
            "_view_module": "@jupyter-widgets/base",
            "_view_module_version": "1.2.0",
            "_view_name": "LayoutView",
            "align_content": null,
            "align_items": null,
            "align_self": null,
            "border": null,
            "bottom": null,
            "display": null,
            "flex": null,
            "flex_flow": null,
            "grid_area": null,
            "grid_auto_columns": null,
            "grid_auto_flow": null,
            "grid_auto_rows": null,
            "grid_column": null,
            "grid_gap": null,
            "grid_row": null,
            "grid_template_areas": null,
            "grid_template_columns": null,
            "grid_template_rows": null,
            "height": null,
            "justify_content": null,
            "justify_items": null,
            "left": null,
            "margin": null,
            "max_height": null,
            "max_width": null,
            "min_height": null,
            "min_width": null,
            "object_fit": null,
            "object_position": null,
            "order": null,
            "overflow": null,
            "overflow_x": null,
            "overflow_y": null,
            "padding": null,
            "right": null,
            "top": null,
            "visibility": null,
            "width": null
          }
        },
        "bbc65ad1199c49d485546790d69d7543": {
          "model_module": "@jupyter-widgets/controls",
          "model_name": "DescriptionStyleModel",
          "model_module_version": "1.5.0",
          "state": {
            "_model_module": "@jupyter-widgets/controls",
            "_model_module_version": "1.5.0",
            "_model_name": "DescriptionStyleModel",
            "_view_count": null,
            "_view_module": "@jupyter-widgets/base",
            "_view_module_version": "1.2.0",
            "_view_name": "StyleView",
            "description_width": ""
          }
        },
        "5e0a1f087e0943df91a2c408e46f9691": {
          "model_module": "@jupyter-widgets/controls",
          "model_name": "HBoxModel",
          "model_module_version": "1.5.0",
          "state": {
            "_dom_classes": [],
            "_model_module": "@jupyter-widgets/controls",
            "_model_module_version": "1.5.0",
            "_model_name": "HBoxModel",
            "_view_count": null,
            "_view_module": "@jupyter-widgets/controls",
            "_view_module_version": "1.5.0",
            "_view_name": "HBoxView",
            "box_style": "",
            "children": [
              "IPY_MODEL_4acb6762fc6a488395a09995d7e06170",
              "IPY_MODEL_0f9c6963c5b54cf88f969e53cb876dc9",
              "IPY_MODEL_ac9282ddb4bb442192a3bf0390e26768"
            ],
            "layout": "IPY_MODEL_50a3e7ee60764dd1a45a82056c9b91be"
          }
        },
        "4acb6762fc6a488395a09995d7e06170": {
          "model_module": "@jupyter-widgets/controls",
          "model_name": "HTMLModel",
          "model_module_version": "1.5.0",
          "state": {
            "_dom_classes": [],
            "_model_module": "@jupyter-widgets/controls",
            "_model_module_version": "1.5.0",
            "_model_name": "HTMLModel",
            "_view_count": null,
            "_view_module": "@jupyter-widgets/controls",
            "_view_module_version": "1.5.0",
            "_view_name": "HTMLView",
            "description": "",
            "description_tooltip": null,
            "layout": "IPY_MODEL_b16034df16b74cfc96fac163666df940",
            "placeholder": "​",
            "style": "IPY_MODEL_7b8dca33f6f944c28b78e83143348d27",
            "value": "100%"
          }
        },
        "0f9c6963c5b54cf88f969e53cb876dc9": {
          "model_module": "@jupyter-widgets/controls",
          "model_name": "FloatProgressModel",
          "model_module_version": "1.5.0",
          "state": {
            "_dom_classes": [],
            "_model_module": "@jupyter-widgets/controls",
            "_model_module_version": "1.5.0",
            "_model_name": "FloatProgressModel",
            "_view_count": null,
            "_view_module": "@jupyter-widgets/controls",
            "_view_module_version": "1.5.0",
            "_view_name": "ProgressView",
            "bar_style": "success",
            "description": "",
            "description_tooltip": null,
            "layout": "IPY_MODEL_fed84477808542f58c0191363e98acb2",
            "max": 1,
            "min": 0,
            "orientation": "horizontal",
            "style": "IPY_MODEL_ffa786f7de684648a8ceaed275406b46",
            "value": 1
          }
        },
        "ac9282ddb4bb442192a3bf0390e26768": {
          "model_module": "@jupyter-widgets/controls",
          "model_name": "HTMLModel",
          "model_module_version": "1.5.0",
          "state": {
            "_dom_classes": [],
            "_model_module": "@jupyter-widgets/controls",
            "_model_module_version": "1.5.0",
            "_model_name": "HTMLModel",
            "_view_count": null,
            "_view_module": "@jupyter-widgets/controls",
            "_view_module_version": "1.5.0",
            "_view_name": "HTMLView",
            "description": "",
            "description_tooltip": null,
            "layout": "IPY_MODEL_adf80797e0bf470c844f161af3499b46",
            "placeholder": "​",
            "style": "IPY_MODEL_202196ce94664eab8abbca435a2bdcf8",
            "value": " 1/1 [00:00&lt;00:00, 14.94ba/s]"
          }
        },
        "50a3e7ee60764dd1a45a82056c9b91be": {
          "model_module": "@jupyter-widgets/base",
          "model_name": "LayoutModel",
          "model_module_version": "1.2.0",
          "state": {
            "_model_module": "@jupyter-widgets/base",
            "_model_module_version": "1.2.0",
            "_model_name": "LayoutModel",
            "_view_count": null,
            "_view_module": "@jupyter-widgets/base",
            "_view_module_version": "1.2.0",
            "_view_name": "LayoutView",
            "align_content": null,
            "align_items": null,
            "align_self": null,
            "border": null,
            "bottom": null,
            "display": null,
            "flex": null,
            "flex_flow": null,
            "grid_area": null,
            "grid_auto_columns": null,
            "grid_auto_flow": null,
            "grid_auto_rows": null,
            "grid_column": null,
            "grid_gap": null,
            "grid_row": null,
            "grid_template_areas": null,
            "grid_template_columns": null,
            "grid_template_rows": null,
            "height": null,
            "justify_content": null,
            "justify_items": null,
            "left": null,
            "margin": null,
            "max_height": null,
            "max_width": null,
            "min_height": null,
            "min_width": null,
            "object_fit": null,
            "object_position": null,
            "order": null,
            "overflow": null,
            "overflow_x": null,
            "overflow_y": null,
            "padding": null,
            "right": null,
            "top": null,
            "visibility": null,
            "width": null
          }
        },
        "b16034df16b74cfc96fac163666df940": {
          "model_module": "@jupyter-widgets/base",
          "model_name": "LayoutModel",
          "model_module_version": "1.2.0",
          "state": {
            "_model_module": "@jupyter-widgets/base",
            "_model_module_version": "1.2.0",
            "_model_name": "LayoutModel",
            "_view_count": null,
            "_view_module": "@jupyter-widgets/base",
            "_view_module_version": "1.2.0",
            "_view_name": "LayoutView",
            "align_content": null,
            "align_items": null,
            "align_self": null,
            "border": null,
            "bottom": null,
            "display": null,
            "flex": null,
            "flex_flow": null,
            "grid_area": null,
            "grid_auto_columns": null,
            "grid_auto_flow": null,
            "grid_auto_rows": null,
            "grid_column": null,
            "grid_gap": null,
            "grid_row": null,
            "grid_template_areas": null,
            "grid_template_columns": null,
            "grid_template_rows": null,
            "height": null,
            "justify_content": null,
            "justify_items": null,
            "left": null,
            "margin": null,
            "max_height": null,
            "max_width": null,
            "min_height": null,
            "min_width": null,
            "object_fit": null,
            "object_position": null,
            "order": null,
            "overflow": null,
            "overflow_x": null,
            "overflow_y": null,
            "padding": null,
            "right": null,
            "top": null,
            "visibility": null,
            "width": null
          }
        },
        "7b8dca33f6f944c28b78e83143348d27": {
          "model_module": "@jupyter-widgets/controls",
          "model_name": "DescriptionStyleModel",
          "model_module_version": "1.5.0",
          "state": {
            "_model_module": "@jupyter-widgets/controls",
            "_model_module_version": "1.5.0",
            "_model_name": "DescriptionStyleModel",
            "_view_count": null,
            "_view_module": "@jupyter-widgets/base",
            "_view_module_version": "1.2.0",
            "_view_name": "StyleView",
            "description_width": ""
          }
        },
        "fed84477808542f58c0191363e98acb2": {
          "model_module": "@jupyter-widgets/base",
          "model_name": "LayoutModel",
          "model_module_version": "1.2.0",
          "state": {
            "_model_module": "@jupyter-widgets/base",
            "_model_module_version": "1.2.0",
            "_model_name": "LayoutModel",
            "_view_count": null,
            "_view_module": "@jupyter-widgets/base",
            "_view_module_version": "1.2.0",
            "_view_name": "LayoutView",
            "align_content": null,
            "align_items": null,
            "align_self": null,
            "border": null,
            "bottom": null,
            "display": null,
            "flex": null,
            "flex_flow": null,
            "grid_area": null,
            "grid_auto_columns": null,
            "grid_auto_flow": null,
            "grid_auto_rows": null,
            "grid_column": null,
            "grid_gap": null,
            "grid_row": null,
            "grid_template_areas": null,
            "grid_template_columns": null,
            "grid_template_rows": null,
            "height": null,
            "justify_content": null,
            "justify_items": null,
            "left": null,
            "margin": null,
            "max_height": null,
            "max_width": null,
            "min_height": null,
            "min_width": null,
            "object_fit": null,
            "object_position": null,
            "order": null,
            "overflow": null,
            "overflow_x": null,
            "overflow_y": null,
            "padding": null,
            "right": null,
            "top": null,
            "visibility": null,
            "width": null
          }
        },
        "ffa786f7de684648a8ceaed275406b46": {
          "model_module": "@jupyter-widgets/controls",
          "model_name": "ProgressStyleModel",
          "model_module_version": "1.5.0",
          "state": {
            "_model_module": "@jupyter-widgets/controls",
            "_model_module_version": "1.5.0",
            "_model_name": "ProgressStyleModel",
            "_view_count": null,
            "_view_module": "@jupyter-widgets/base",
            "_view_module_version": "1.2.0",
            "_view_name": "StyleView",
            "bar_color": null,
            "description_width": ""
          }
        },
        "adf80797e0bf470c844f161af3499b46": {
          "model_module": "@jupyter-widgets/base",
          "model_name": "LayoutModel",
          "model_module_version": "1.2.0",
          "state": {
            "_model_module": "@jupyter-widgets/base",
            "_model_module_version": "1.2.0",
            "_model_name": "LayoutModel",
            "_view_count": null,
            "_view_module": "@jupyter-widgets/base",
            "_view_module_version": "1.2.0",
            "_view_name": "LayoutView",
            "align_content": null,
            "align_items": null,
            "align_self": null,
            "border": null,
            "bottom": null,
            "display": null,
            "flex": null,
            "flex_flow": null,
            "grid_area": null,
            "grid_auto_columns": null,
            "grid_auto_flow": null,
            "grid_auto_rows": null,
            "grid_column": null,
            "grid_gap": null,
            "grid_row": null,
            "grid_template_areas": null,
            "grid_template_columns": null,
            "grid_template_rows": null,
            "height": null,
            "justify_content": null,
            "justify_items": null,
            "left": null,
            "margin": null,
            "max_height": null,
            "max_width": null,
            "min_height": null,
            "min_width": null,
            "object_fit": null,
            "object_position": null,
            "order": null,
            "overflow": null,
            "overflow_x": null,
            "overflow_y": null,
            "padding": null,
            "right": null,
            "top": null,
            "visibility": null,
            "width": null
          }
        },
        "202196ce94664eab8abbca435a2bdcf8": {
          "model_module": "@jupyter-widgets/controls",
          "model_name": "DescriptionStyleModel",
          "model_module_version": "1.5.0",
          "state": {
            "_model_module": "@jupyter-widgets/controls",
            "_model_module_version": "1.5.0",
            "_model_name": "DescriptionStyleModel",
            "_view_count": null,
            "_view_module": "@jupyter-widgets/base",
            "_view_module_version": "1.2.0",
            "_view_name": "StyleView",
            "description_width": ""
          }
        },
        "213bafd9180a4ebabfa20006481f0dd7": {
          "model_module": "@jupyter-widgets/controls",
          "model_name": "HBoxModel",
          "model_module_version": "1.5.0",
          "state": {
            "_dom_classes": [],
            "_model_module": "@jupyter-widgets/controls",
            "_model_module_version": "1.5.0",
            "_model_name": "HBoxModel",
            "_view_count": null,
            "_view_module": "@jupyter-widgets/controls",
            "_view_module_version": "1.5.0",
            "_view_name": "HBoxView",
            "box_style": "",
            "children": [
              "IPY_MODEL_da95db23b61a43b1b4e501dcf1ba92bd",
              "IPY_MODEL_a6ce22e8358c4f5db58ff79d3641a40d",
              "IPY_MODEL_54b5fbe7a91b4ec588a11819b60b5e5b"
            ],
            "layout": "IPY_MODEL_bb622f8274e64c1e889fcdeceef26a67"
          }
        },
        "da95db23b61a43b1b4e501dcf1ba92bd": {
          "model_module": "@jupyter-widgets/controls",
          "model_name": "HTMLModel",
          "model_module_version": "1.5.0",
          "state": {
            "_dom_classes": [],
            "_model_module": "@jupyter-widgets/controls",
            "_model_module_version": "1.5.0",
            "_model_name": "HTMLModel",
            "_view_count": null,
            "_view_module": "@jupyter-widgets/controls",
            "_view_module_version": "1.5.0",
            "_view_name": "HTMLView",
            "description": "",
            "description_tooltip": null,
            "layout": "IPY_MODEL_6403002cd75144d8a2fe480b6b06ea14",
            "placeholder": "​",
            "style": "IPY_MODEL_52998efb1ad74abf949e2ef42800d50e",
            "value": "100%"
          }
        },
        "a6ce22e8358c4f5db58ff79d3641a40d": {
          "model_module": "@jupyter-widgets/controls",
          "model_name": "FloatProgressModel",
          "model_module_version": "1.5.0",
          "state": {
            "_dom_classes": [],
            "_model_module": "@jupyter-widgets/controls",
            "_model_module_version": "1.5.0",
            "_model_name": "FloatProgressModel",
            "_view_count": null,
            "_view_module": "@jupyter-widgets/controls",
            "_view_module_version": "1.5.0",
            "_view_name": "ProgressView",
            "bar_style": "success",
            "description": "",
            "description_tooltip": null,
            "layout": "IPY_MODEL_a5da19b3fb114809b4920564f32fc1a7",
            "max": 1,
            "min": 0,
            "orientation": "horizontal",
            "style": "IPY_MODEL_7ac7283330334086916f7dcd9afc4db3",
            "value": 1
          }
        },
        "54b5fbe7a91b4ec588a11819b60b5e5b": {
          "model_module": "@jupyter-widgets/controls",
          "model_name": "HTMLModel",
          "model_module_version": "1.5.0",
          "state": {
            "_dom_classes": [],
            "_model_module": "@jupyter-widgets/controls",
            "_model_module_version": "1.5.0",
            "_model_name": "HTMLModel",
            "_view_count": null,
            "_view_module": "@jupyter-widgets/controls",
            "_view_module_version": "1.5.0",
            "_view_name": "HTMLView",
            "description": "",
            "description_tooltip": null,
            "layout": "IPY_MODEL_8d773011157d4ad89b284187aa14b74a",
            "placeholder": "​",
            "style": "IPY_MODEL_396658e4b4dc428ca2c373ecd5cc6737",
            "value": " 1/1 [00:00&lt;00:00, 24.27ba/s]"
          }
        },
        "bb622f8274e64c1e889fcdeceef26a67": {
          "model_module": "@jupyter-widgets/base",
          "model_name": "LayoutModel",
          "model_module_version": "1.2.0",
          "state": {
            "_model_module": "@jupyter-widgets/base",
            "_model_module_version": "1.2.0",
            "_model_name": "LayoutModel",
            "_view_count": null,
            "_view_module": "@jupyter-widgets/base",
            "_view_module_version": "1.2.0",
            "_view_name": "LayoutView",
            "align_content": null,
            "align_items": null,
            "align_self": null,
            "border": null,
            "bottom": null,
            "display": null,
            "flex": null,
            "flex_flow": null,
            "grid_area": null,
            "grid_auto_columns": null,
            "grid_auto_flow": null,
            "grid_auto_rows": null,
            "grid_column": null,
            "grid_gap": null,
            "grid_row": null,
            "grid_template_areas": null,
            "grid_template_columns": null,
            "grid_template_rows": null,
            "height": null,
            "justify_content": null,
            "justify_items": null,
            "left": null,
            "margin": null,
            "max_height": null,
            "max_width": null,
            "min_height": null,
            "min_width": null,
            "object_fit": null,
            "object_position": null,
            "order": null,
            "overflow": null,
            "overflow_x": null,
            "overflow_y": null,
            "padding": null,
            "right": null,
            "top": null,
            "visibility": null,
            "width": null
          }
        },
        "6403002cd75144d8a2fe480b6b06ea14": {
          "model_module": "@jupyter-widgets/base",
          "model_name": "LayoutModel",
          "model_module_version": "1.2.0",
          "state": {
            "_model_module": "@jupyter-widgets/base",
            "_model_module_version": "1.2.0",
            "_model_name": "LayoutModel",
            "_view_count": null,
            "_view_module": "@jupyter-widgets/base",
            "_view_module_version": "1.2.0",
            "_view_name": "LayoutView",
            "align_content": null,
            "align_items": null,
            "align_self": null,
            "border": null,
            "bottom": null,
            "display": null,
            "flex": null,
            "flex_flow": null,
            "grid_area": null,
            "grid_auto_columns": null,
            "grid_auto_flow": null,
            "grid_auto_rows": null,
            "grid_column": null,
            "grid_gap": null,
            "grid_row": null,
            "grid_template_areas": null,
            "grid_template_columns": null,
            "grid_template_rows": null,
            "height": null,
            "justify_content": null,
            "justify_items": null,
            "left": null,
            "margin": null,
            "max_height": null,
            "max_width": null,
            "min_height": null,
            "min_width": null,
            "object_fit": null,
            "object_position": null,
            "order": null,
            "overflow": null,
            "overflow_x": null,
            "overflow_y": null,
            "padding": null,
            "right": null,
            "top": null,
            "visibility": null,
            "width": null
          }
        },
        "52998efb1ad74abf949e2ef42800d50e": {
          "model_module": "@jupyter-widgets/controls",
          "model_name": "DescriptionStyleModel",
          "model_module_version": "1.5.0",
          "state": {
            "_model_module": "@jupyter-widgets/controls",
            "_model_module_version": "1.5.0",
            "_model_name": "DescriptionStyleModel",
            "_view_count": null,
            "_view_module": "@jupyter-widgets/base",
            "_view_module_version": "1.2.0",
            "_view_name": "StyleView",
            "description_width": ""
          }
        },
        "a5da19b3fb114809b4920564f32fc1a7": {
          "model_module": "@jupyter-widgets/base",
          "model_name": "LayoutModel",
          "model_module_version": "1.2.0",
          "state": {
            "_model_module": "@jupyter-widgets/base",
            "_model_module_version": "1.2.0",
            "_model_name": "LayoutModel",
            "_view_count": null,
            "_view_module": "@jupyter-widgets/base",
            "_view_module_version": "1.2.0",
            "_view_name": "LayoutView",
            "align_content": null,
            "align_items": null,
            "align_self": null,
            "border": null,
            "bottom": null,
            "display": null,
            "flex": null,
            "flex_flow": null,
            "grid_area": null,
            "grid_auto_columns": null,
            "grid_auto_flow": null,
            "grid_auto_rows": null,
            "grid_column": null,
            "grid_gap": null,
            "grid_row": null,
            "grid_template_areas": null,
            "grid_template_columns": null,
            "grid_template_rows": null,
            "height": null,
            "justify_content": null,
            "justify_items": null,
            "left": null,
            "margin": null,
            "max_height": null,
            "max_width": null,
            "min_height": null,
            "min_width": null,
            "object_fit": null,
            "object_position": null,
            "order": null,
            "overflow": null,
            "overflow_x": null,
            "overflow_y": null,
            "padding": null,
            "right": null,
            "top": null,
            "visibility": null,
            "width": null
          }
        },
        "7ac7283330334086916f7dcd9afc4db3": {
          "model_module": "@jupyter-widgets/controls",
          "model_name": "ProgressStyleModel",
          "model_module_version": "1.5.0",
          "state": {
            "_model_module": "@jupyter-widgets/controls",
            "_model_module_version": "1.5.0",
            "_model_name": "ProgressStyleModel",
            "_view_count": null,
            "_view_module": "@jupyter-widgets/base",
            "_view_module_version": "1.2.0",
            "_view_name": "StyleView",
            "bar_color": null,
            "description_width": ""
          }
        },
        "8d773011157d4ad89b284187aa14b74a": {
          "model_module": "@jupyter-widgets/base",
          "model_name": "LayoutModel",
          "model_module_version": "1.2.0",
          "state": {
            "_model_module": "@jupyter-widgets/base",
            "_model_module_version": "1.2.0",
            "_model_name": "LayoutModel",
            "_view_count": null,
            "_view_module": "@jupyter-widgets/base",
            "_view_module_version": "1.2.0",
            "_view_name": "LayoutView",
            "align_content": null,
            "align_items": null,
            "align_self": null,
            "border": null,
            "bottom": null,
            "display": null,
            "flex": null,
            "flex_flow": null,
            "grid_area": null,
            "grid_auto_columns": null,
            "grid_auto_flow": null,
            "grid_auto_rows": null,
            "grid_column": null,
            "grid_gap": null,
            "grid_row": null,
            "grid_template_areas": null,
            "grid_template_columns": null,
            "grid_template_rows": null,
            "height": null,
            "justify_content": null,
            "justify_items": null,
            "left": null,
            "margin": null,
            "max_height": null,
            "max_width": null,
            "min_height": null,
            "min_width": null,
            "object_fit": null,
            "object_position": null,
            "order": null,
            "overflow": null,
            "overflow_x": null,
            "overflow_y": null,
            "padding": null,
            "right": null,
            "top": null,
            "visibility": null,
            "width": null
          }
        },
        "396658e4b4dc428ca2c373ecd5cc6737": {
          "model_module": "@jupyter-widgets/controls",
          "model_name": "DescriptionStyleModel",
          "model_module_version": "1.5.0",
          "state": {
            "_model_module": "@jupyter-widgets/controls",
            "_model_module_version": "1.5.0",
            "_model_name": "DescriptionStyleModel",
            "_view_count": null,
            "_view_module": "@jupyter-widgets/base",
            "_view_module_version": "1.2.0",
            "_view_name": "StyleView",
            "description_width": ""
          }
        },
        "52b5e935039049339e1fe7765836796a": {
          "model_module": "@jupyter-widgets/controls",
          "model_name": "HBoxModel",
          "model_module_version": "1.5.0",
          "state": {
            "_dom_classes": [],
            "_model_module": "@jupyter-widgets/controls",
            "_model_module_version": "1.5.0",
            "_model_name": "HBoxModel",
            "_view_count": null,
            "_view_module": "@jupyter-widgets/controls",
            "_view_module_version": "1.5.0",
            "_view_name": "HBoxView",
            "box_style": "",
            "children": [
              "IPY_MODEL_d8405c9d70774b84b2488e9797096129",
              "IPY_MODEL_8ae41ffa65bb40738f1fc86650efde9c",
              "IPY_MODEL_3aaba88eb30e4dceb68e2bec00b64706"
            ],
            "layout": "IPY_MODEL_60e56fd7224a4cff9f5a12e856548d09"
          }
        },
        "d8405c9d70774b84b2488e9797096129": {
          "model_module": "@jupyter-widgets/controls",
          "model_name": "HTMLModel",
          "model_module_version": "1.5.0",
          "state": {
            "_dom_classes": [],
            "_model_module": "@jupyter-widgets/controls",
            "_model_module_version": "1.5.0",
            "_model_name": "HTMLModel",
            "_view_count": null,
            "_view_module": "@jupyter-widgets/controls",
            "_view_module_version": "1.5.0",
            "_view_name": "HTMLView",
            "description": "",
            "description_tooltip": null,
            "layout": "IPY_MODEL_1d0a61fd70684d60b969808a364c171e",
            "placeholder": "​",
            "style": "IPY_MODEL_aec84df5f4bc4d209bd6c0cd76d8efa3",
            "value": "100%"
          }
        },
        "8ae41ffa65bb40738f1fc86650efde9c": {
          "model_module": "@jupyter-widgets/controls",
          "model_name": "FloatProgressModel",
          "model_module_version": "1.5.0",
          "state": {
            "_dom_classes": [],
            "_model_module": "@jupyter-widgets/controls",
            "_model_module_version": "1.5.0",
            "_model_name": "FloatProgressModel",
            "_view_count": null,
            "_view_module": "@jupyter-widgets/controls",
            "_view_module_version": "1.5.0",
            "_view_name": "ProgressView",
            "bar_style": "success",
            "description": "",
            "description_tooltip": null,
            "layout": "IPY_MODEL_4a6bc12ed09d43f4ac29db6bf1d473cd",
            "max": 5,
            "min": 0,
            "orientation": "horizontal",
            "style": "IPY_MODEL_69d673fd4b0446eb8134da48e377d62a",
            "value": 5
          }
        },
        "3aaba88eb30e4dceb68e2bec00b64706": {
          "model_module": "@jupyter-widgets/controls",
          "model_name": "HTMLModel",
          "model_module_version": "1.5.0",
          "state": {
            "_dom_classes": [],
            "_model_module": "@jupyter-widgets/controls",
            "_model_module_version": "1.5.0",
            "_model_name": "HTMLModel",
            "_view_count": null,
            "_view_module": "@jupyter-widgets/controls",
            "_view_module_version": "1.5.0",
            "_view_name": "HTMLView",
            "description": "",
            "description_tooltip": null,
            "layout": "IPY_MODEL_5fd37e0d84b246d5bf099dcca1d11226",
            "placeholder": "​",
            "style": "IPY_MODEL_802d05c5e83f402696587ff8f5db22ee",
            "value": " 5/5 [00:00&lt;00:00, 107.02ba/s]"
          }
        },
        "60e56fd7224a4cff9f5a12e856548d09": {
          "model_module": "@jupyter-widgets/base",
          "model_name": "LayoutModel",
          "model_module_version": "1.2.0",
          "state": {
            "_model_module": "@jupyter-widgets/base",
            "_model_module_version": "1.2.0",
            "_model_name": "LayoutModel",
            "_view_count": null,
            "_view_module": "@jupyter-widgets/base",
            "_view_module_version": "1.2.0",
            "_view_name": "LayoutView",
            "align_content": null,
            "align_items": null,
            "align_self": null,
            "border": null,
            "bottom": null,
            "display": null,
            "flex": null,
            "flex_flow": null,
            "grid_area": null,
            "grid_auto_columns": null,
            "grid_auto_flow": null,
            "grid_auto_rows": null,
            "grid_column": null,
            "grid_gap": null,
            "grid_row": null,
            "grid_template_areas": null,
            "grid_template_columns": null,
            "grid_template_rows": null,
            "height": null,
            "justify_content": null,
            "justify_items": null,
            "left": null,
            "margin": null,
            "max_height": null,
            "max_width": null,
            "min_height": null,
            "min_width": null,
            "object_fit": null,
            "object_position": null,
            "order": null,
            "overflow": null,
            "overflow_x": null,
            "overflow_y": null,
            "padding": null,
            "right": null,
            "top": null,
            "visibility": null,
            "width": null
          }
        },
        "1d0a61fd70684d60b969808a364c171e": {
          "model_module": "@jupyter-widgets/base",
          "model_name": "LayoutModel",
          "model_module_version": "1.2.0",
          "state": {
            "_model_module": "@jupyter-widgets/base",
            "_model_module_version": "1.2.0",
            "_model_name": "LayoutModel",
            "_view_count": null,
            "_view_module": "@jupyter-widgets/base",
            "_view_module_version": "1.2.0",
            "_view_name": "LayoutView",
            "align_content": null,
            "align_items": null,
            "align_self": null,
            "border": null,
            "bottom": null,
            "display": null,
            "flex": null,
            "flex_flow": null,
            "grid_area": null,
            "grid_auto_columns": null,
            "grid_auto_flow": null,
            "grid_auto_rows": null,
            "grid_column": null,
            "grid_gap": null,
            "grid_row": null,
            "grid_template_areas": null,
            "grid_template_columns": null,
            "grid_template_rows": null,
            "height": null,
            "justify_content": null,
            "justify_items": null,
            "left": null,
            "margin": null,
            "max_height": null,
            "max_width": null,
            "min_height": null,
            "min_width": null,
            "object_fit": null,
            "object_position": null,
            "order": null,
            "overflow": null,
            "overflow_x": null,
            "overflow_y": null,
            "padding": null,
            "right": null,
            "top": null,
            "visibility": null,
            "width": null
          }
        },
        "aec84df5f4bc4d209bd6c0cd76d8efa3": {
          "model_module": "@jupyter-widgets/controls",
          "model_name": "DescriptionStyleModel",
          "model_module_version": "1.5.0",
          "state": {
            "_model_module": "@jupyter-widgets/controls",
            "_model_module_version": "1.5.0",
            "_model_name": "DescriptionStyleModel",
            "_view_count": null,
            "_view_module": "@jupyter-widgets/base",
            "_view_module_version": "1.2.0",
            "_view_name": "StyleView",
            "description_width": ""
          }
        },
        "4a6bc12ed09d43f4ac29db6bf1d473cd": {
          "model_module": "@jupyter-widgets/base",
          "model_name": "LayoutModel",
          "model_module_version": "1.2.0",
          "state": {
            "_model_module": "@jupyter-widgets/base",
            "_model_module_version": "1.2.0",
            "_model_name": "LayoutModel",
            "_view_count": null,
            "_view_module": "@jupyter-widgets/base",
            "_view_module_version": "1.2.0",
            "_view_name": "LayoutView",
            "align_content": null,
            "align_items": null,
            "align_self": null,
            "border": null,
            "bottom": null,
            "display": null,
            "flex": null,
            "flex_flow": null,
            "grid_area": null,
            "grid_auto_columns": null,
            "grid_auto_flow": null,
            "grid_auto_rows": null,
            "grid_column": null,
            "grid_gap": null,
            "grid_row": null,
            "grid_template_areas": null,
            "grid_template_columns": null,
            "grid_template_rows": null,
            "height": null,
            "justify_content": null,
            "justify_items": null,
            "left": null,
            "margin": null,
            "max_height": null,
            "max_width": null,
            "min_height": null,
            "min_width": null,
            "object_fit": null,
            "object_position": null,
            "order": null,
            "overflow": null,
            "overflow_x": null,
            "overflow_y": null,
            "padding": null,
            "right": null,
            "top": null,
            "visibility": null,
            "width": null
          }
        },
        "69d673fd4b0446eb8134da48e377d62a": {
          "model_module": "@jupyter-widgets/controls",
          "model_name": "ProgressStyleModel",
          "model_module_version": "1.5.0",
          "state": {
            "_model_module": "@jupyter-widgets/controls",
            "_model_module_version": "1.5.0",
            "_model_name": "ProgressStyleModel",
            "_view_count": null,
            "_view_module": "@jupyter-widgets/base",
            "_view_module_version": "1.2.0",
            "_view_name": "StyleView",
            "bar_color": null,
            "description_width": ""
          }
        },
        "5fd37e0d84b246d5bf099dcca1d11226": {
          "model_module": "@jupyter-widgets/base",
          "model_name": "LayoutModel",
          "model_module_version": "1.2.0",
          "state": {
            "_model_module": "@jupyter-widgets/base",
            "_model_module_version": "1.2.0",
            "_model_name": "LayoutModel",
            "_view_count": null,
            "_view_module": "@jupyter-widgets/base",
            "_view_module_version": "1.2.0",
            "_view_name": "LayoutView",
            "align_content": null,
            "align_items": null,
            "align_self": null,
            "border": null,
            "bottom": null,
            "display": null,
            "flex": null,
            "flex_flow": null,
            "grid_area": null,
            "grid_auto_columns": null,
            "grid_auto_flow": null,
            "grid_auto_rows": null,
            "grid_column": null,
            "grid_gap": null,
            "grid_row": null,
            "grid_template_areas": null,
            "grid_template_columns": null,
            "grid_template_rows": null,
            "height": null,
            "justify_content": null,
            "justify_items": null,
            "left": null,
            "margin": null,
            "max_height": null,
            "max_width": null,
            "min_height": null,
            "min_width": null,
            "object_fit": null,
            "object_position": null,
            "order": null,
            "overflow": null,
            "overflow_x": null,
            "overflow_y": null,
            "padding": null,
            "right": null,
            "top": null,
            "visibility": null,
            "width": null
          }
        },
        "802d05c5e83f402696587ff8f5db22ee": {
          "model_module": "@jupyter-widgets/controls",
          "model_name": "DescriptionStyleModel",
          "model_module_version": "1.5.0",
          "state": {
            "_model_module": "@jupyter-widgets/controls",
            "_model_module_version": "1.5.0",
            "_model_name": "DescriptionStyleModel",
            "_view_count": null,
            "_view_module": "@jupyter-widgets/base",
            "_view_module_version": "1.2.0",
            "_view_name": "StyleView",
            "description_width": ""
          }
        },
        "4d9d47fa61e84f48afc91e39d23ef1bc": {
          "model_module": "@jupyter-widgets/controls",
          "model_name": "HBoxModel",
          "model_module_version": "1.5.0",
          "state": {
            "_dom_classes": [],
            "_model_module": "@jupyter-widgets/controls",
            "_model_module_version": "1.5.0",
            "_model_name": "HBoxModel",
            "_view_count": null,
            "_view_module": "@jupyter-widgets/controls",
            "_view_module_version": "1.5.0",
            "_view_name": "HBoxView",
            "box_style": "",
            "children": [
              "IPY_MODEL_0923950c505d43c9a1b961ba03061ab6",
              "IPY_MODEL_ed31e750d01d4eb6bdeee48501ac2e2c",
              "IPY_MODEL_edbf780c6ac5455da655d0c22d387a1f"
            ],
            "layout": "IPY_MODEL_1780d31835854650b33046a6c0ecf19b"
          }
        },
        "0923950c505d43c9a1b961ba03061ab6": {
          "model_module": "@jupyter-widgets/controls",
          "model_name": "HTMLModel",
          "model_module_version": "1.5.0",
          "state": {
            "_dom_classes": [],
            "_model_module": "@jupyter-widgets/controls",
            "_model_module_version": "1.5.0",
            "_model_name": "HTMLModel",
            "_view_count": null,
            "_view_module": "@jupyter-widgets/controls",
            "_view_module_version": "1.5.0",
            "_view_name": "HTMLView",
            "description": "",
            "description_tooltip": null,
            "layout": "IPY_MODEL_afd08f09f4fe4e9f8356aef69cccab60",
            "placeholder": "​",
            "style": "IPY_MODEL_bec204c1730945cead83b4ca3270617d",
            "value": "Downloading: "
          }
        },
        "ed31e750d01d4eb6bdeee48501ac2e2c": {
          "model_module": "@jupyter-widgets/controls",
          "model_name": "FloatProgressModel",
          "model_module_version": "1.5.0",
          "state": {
            "_dom_classes": [],
            "_model_module": "@jupyter-widgets/controls",
            "_model_module_version": "1.5.0",
            "_model_name": "FloatProgressModel",
            "_view_count": null,
            "_view_module": "@jupyter-widgets/controls",
            "_view_module_version": "1.5.0",
            "_view_name": "ProgressView",
            "bar_style": "success",
            "description": "",
            "description_tooltip": null,
            "layout": "IPY_MODEL_6bef57207a2947dbbf91ce4a21dd00fd",
            "max": 1901,
            "min": 0,
            "orientation": "horizontal",
            "style": "IPY_MODEL_4057ab14f40b4defbfaf03aac93cfbbb",
            "value": 1901
          }
        },
        "edbf780c6ac5455da655d0c22d387a1f": {
          "model_module": "@jupyter-widgets/controls",
          "model_name": "HTMLModel",
          "model_module_version": "1.5.0",
          "state": {
            "_dom_classes": [],
            "_model_module": "@jupyter-widgets/controls",
            "_model_module_version": "1.5.0",
            "_model_name": "HTMLModel",
            "_view_count": null,
            "_view_module": "@jupyter-widgets/controls",
            "_view_module_version": "1.5.0",
            "_view_name": "HTMLView",
            "description": "",
            "description_tooltip": null,
            "layout": "IPY_MODEL_0bda729b5f2f45ea89b65c896139678d",
            "placeholder": "​",
            "style": "IPY_MODEL_89933b1e278e4d77b0f3d6de997ca460",
            "value": " 4.48k/? [00:00&lt;00:00, 144kB/s]"
          }
        },
        "1780d31835854650b33046a6c0ecf19b": {
          "model_module": "@jupyter-widgets/base",
          "model_name": "LayoutModel",
          "model_module_version": "1.2.0",
          "state": {
            "_model_module": "@jupyter-widgets/base",
            "_model_module_version": "1.2.0",
            "_model_name": "LayoutModel",
            "_view_count": null,
            "_view_module": "@jupyter-widgets/base",
            "_view_module_version": "1.2.0",
            "_view_name": "LayoutView",
            "align_content": null,
            "align_items": null,
            "align_self": null,
            "border": null,
            "bottom": null,
            "display": null,
            "flex": null,
            "flex_flow": null,
            "grid_area": null,
            "grid_auto_columns": null,
            "grid_auto_flow": null,
            "grid_auto_rows": null,
            "grid_column": null,
            "grid_gap": null,
            "grid_row": null,
            "grid_template_areas": null,
            "grid_template_columns": null,
            "grid_template_rows": null,
            "height": null,
            "justify_content": null,
            "justify_items": null,
            "left": null,
            "margin": null,
            "max_height": null,
            "max_width": null,
            "min_height": null,
            "min_width": null,
            "object_fit": null,
            "object_position": null,
            "order": null,
            "overflow": null,
            "overflow_x": null,
            "overflow_y": null,
            "padding": null,
            "right": null,
            "top": null,
            "visibility": null,
            "width": null
          }
        },
        "afd08f09f4fe4e9f8356aef69cccab60": {
          "model_module": "@jupyter-widgets/base",
          "model_name": "LayoutModel",
          "model_module_version": "1.2.0",
          "state": {
            "_model_module": "@jupyter-widgets/base",
            "_model_module_version": "1.2.0",
            "_model_name": "LayoutModel",
            "_view_count": null,
            "_view_module": "@jupyter-widgets/base",
            "_view_module_version": "1.2.0",
            "_view_name": "LayoutView",
            "align_content": null,
            "align_items": null,
            "align_self": null,
            "border": null,
            "bottom": null,
            "display": null,
            "flex": null,
            "flex_flow": null,
            "grid_area": null,
            "grid_auto_columns": null,
            "grid_auto_flow": null,
            "grid_auto_rows": null,
            "grid_column": null,
            "grid_gap": null,
            "grid_row": null,
            "grid_template_areas": null,
            "grid_template_columns": null,
            "grid_template_rows": null,
            "height": null,
            "justify_content": null,
            "justify_items": null,
            "left": null,
            "margin": null,
            "max_height": null,
            "max_width": null,
            "min_height": null,
            "min_width": null,
            "object_fit": null,
            "object_position": null,
            "order": null,
            "overflow": null,
            "overflow_x": null,
            "overflow_y": null,
            "padding": null,
            "right": null,
            "top": null,
            "visibility": null,
            "width": null
          }
        },
        "bec204c1730945cead83b4ca3270617d": {
          "model_module": "@jupyter-widgets/controls",
          "model_name": "DescriptionStyleModel",
          "model_module_version": "1.5.0",
          "state": {
            "_model_module": "@jupyter-widgets/controls",
            "_model_module_version": "1.5.0",
            "_model_name": "DescriptionStyleModel",
            "_view_count": null,
            "_view_module": "@jupyter-widgets/base",
            "_view_module_version": "1.2.0",
            "_view_name": "StyleView",
            "description_width": ""
          }
        },
        "6bef57207a2947dbbf91ce4a21dd00fd": {
          "model_module": "@jupyter-widgets/base",
          "model_name": "LayoutModel",
          "model_module_version": "1.2.0",
          "state": {
            "_model_module": "@jupyter-widgets/base",
            "_model_module_version": "1.2.0",
            "_model_name": "LayoutModel",
            "_view_count": null,
            "_view_module": "@jupyter-widgets/base",
            "_view_module_version": "1.2.0",
            "_view_name": "LayoutView",
            "align_content": null,
            "align_items": null,
            "align_self": null,
            "border": null,
            "bottom": null,
            "display": null,
            "flex": null,
            "flex_flow": null,
            "grid_area": null,
            "grid_auto_columns": null,
            "grid_auto_flow": null,
            "grid_auto_rows": null,
            "grid_column": null,
            "grid_gap": null,
            "grid_row": null,
            "grid_template_areas": null,
            "grid_template_columns": null,
            "grid_template_rows": null,
            "height": null,
            "justify_content": null,
            "justify_items": null,
            "left": null,
            "margin": null,
            "max_height": null,
            "max_width": null,
            "min_height": null,
            "min_width": null,
            "object_fit": null,
            "object_position": null,
            "order": null,
            "overflow": null,
            "overflow_x": null,
            "overflow_y": null,
            "padding": null,
            "right": null,
            "top": null,
            "visibility": null,
            "width": null
          }
        },
        "4057ab14f40b4defbfaf03aac93cfbbb": {
          "model_module": "@jupyter-widgets/controls",
          "model_name": "ProgressStyleModel",
          "model_module_version": "1.5.0",
          "state": {
            "_model_module": "@jupyter-widgets/controls",
            "_model_module_version": "1.5.0",
            "_model_name": "ProgressStyleModel",
            "_view_count": null,
            "_view_module": "@jupyter-widgets/base",
            "_view_module_version": "1.2.0",
            "_view_name": "StyleView",
            "bar_color": null,
            "description_width": ""
          }
        },
        "0bda729b5f2f45ea89b65c896139678d": {
          "model_module": "@jupyter-widgets/base",
          "model_name": "LayoutModel",
          "model_module_version": "1.2.0",
          "state": {
            "_model_module": "@jupyter-widgets/base",
            "_model_module_version": "1.2.0",
            "_model_name": "LayoutModel",
            "_view_count": null,
            "_view_module": "@jupyter-widgets/base",
            "_view_module_version": "1.2.0",
            "_view_name": "LayoutView",
            "align_content": null,
            "align_items": null,
            "align_self": null,
            "border": null,
            "bottom": null,
            "display": null,
            "flex": null,
            "flex_flow": null,
            "grid_area": null,
            "grid_auto_columns": null,
            "grid_auto_flow": null,
            "grid_auto_rows": null,
            "grid_column": null,
            "grid_gap": null,
            "grid_row": null,
            "grid_template_areas": null,
            "grid_template_columns": null,
            "grid_template_rows": null,
            "height": null,
            "justify_content": null,
            "justify_items": null,
            "left": null,
            "margin": null,
            "max_height": null,
            "max_width": null,
            "min_height": null,
            "min_width": null,
            "object_fit": null,
            "object_position": null,
            "order": null,
            "overflow": null,
            "overflow_x": null,
            "overflow_y": null,
            "padding": null,
            "right": null,
            "top": null,
            "visibility": null,
            "width": null
          }
        },
        "89933b1e278e4d77b0f3d6de997ca460": {
          "model_module": "@jupyter-widgets/controls",
          "model_name": "DescriptionStyleModel",
          "model_module_version": "1.5.0",
          "state": {
            "_model_module": "@jupyter-widgets/controls",
            "_model_module_version": "1.5.0",
            "_model_name": "DescriptionStyleModel",
            "_view_count": null,
            "_view_module": "@jupyter-widgets/base",
            "_view_module_version": "1.2.0",
            "_view_name": "StyleView",
            "description_width": ""
          }
        },
        "beb29786151b48d28d2cf0b7c15f51c3": {
          "model_module": "@jupyter-widgets/controls",
          "model_name": "HBoxModel",
          "model_module_version": "1.5.0",
          "state": {
            "_dom_classes": [],
            "_model_module": "@jupyter-widgets/controls",
            "_model_module_version": "1.5.0",
            "_model_name": "HBoxModel",
            "_view_count": null,
            "_view_module": "@jupyter-widgets/controls",
            "_view_module_version": "1.5.0",
            "_view_name": "HBoxView",
            "box_style": "",
            "children": [
              "IPY_MODEL_25f73578121f45a8a8246c028c64edd5",
              "IPY_MODEL_dc533282e149492ab5299901ab5a91ae",
              "IPY_MODEL_8bff4e41cf824767b9ce07f34899f70a"
            ],
            "layout": "IPY_MODEL_f56a5a91d52c4faf95f1bf8f74be34fd"
          }
        },
        "25f73578121f45a8a8246c028c64edd5": {
          "model_module": "@jupyter-widgets/controls",
          "model_name": "HTMLModel",
          "model_module_version": "1.5.0",
          "state": {
            "_dom_classes": [],
            "_model_module": "@jupyter-widgets/controls",
            "_model_module_version": "1.5.0",
            "_model_name": "HTMLModel",
            "_view_count": null,
            "_view_module": "@jupyter-widgets/controls",
            "_view_module_version": "1.5.0",
            "_view_name": "HTMLView",
            "description": "",
            "description_tooltip": null,
            "layout": "IPY_MODEL_128c527a7a6c46eeb97770363e907101",
            "placeholder": "​",
            "style": "IPY_MODEL_b870f42a7991410cab5d977d189dcfc4",
            "value": "Downloading: 100%"
          }
        },
        "dc533282e149492ab5299901ab5a91ae": {
          "model_module": "@jupyter-widgets/controls",
          "model_name": "FloatProgressModel",
          "model_module_version": "1.5.0",
          "state": {
            "_dom_classes": [],
            "_model_module": "@jupyter-widgets/controls",
            "_model_module_version": "1.5.0",
            "_model_name": "FloatProgressModel",
            "_view_count": null,
            "_view_module": "@jupyter-widgets/controls",
            "_view_module_version": "1.5.0",
            "_view_name": "ProgressView",
            "bar_style": "success",
            "description": "",
            "description_tooltip": null,
            "layout": "IPY_MODEL_63d249c4b99d4d319a5bf9d9c2f1c6ad",
            "max": 1842,
            "min": 0,
            "orientation": "horizontal",
            "style": "IPY_MODEL_04039696c175467c9ce3d3af255c7df0",
            "value": 1842
          }
        },
        "8bff4e41cf824767b9ce07f34899f70a": {
          "model_module": "@jupyter-widgets/controls",
          "model_name": "HTMLModel",
          "model_module_version": "1.5.0",
          "state": {
            "_dom_classes": [],
            "_model_module": "@jupyter-widgets/controls",
            "_model_module_version": "1.5.0",
            "_model_name": "HTMLModel",
            "_view_count": null,
            "_view_module": "@jupyter-widgets/controls",
            "_view_module_version": "1.5.0",
            "_view_name": "HTMLView",
            "description": "",
            "description_tooltip": null,
            "layout": "IPY_MODEL_ca6f58e4a495428b8fd5965d675a48db",
            "placeholder": "​",
            "style": "IPY_MODEL_cdeb63e6db7247558aa3bf5520160c36",
            "value": " 1.84k/1.84k [00:00&lt;00:00, 107kB/s]"
          }
        },
        "f56a5a91d52c4faf95f1bf8f74be34fd": {
          "model_module": "@jupyter-widgets/base",
          "model_name": "LayoutModel",
          "model_module_version": "1.2.0",
          "state": {
            "_model_module": "@jupyter-widgets/base",
            "_model_module_version": "1.2.0",
            "_model_name": "LayoutModel",
            "_view_count": null,
            "_view_module": "@jupyter-widgets/base",
            "_view_module_version": "1.2.0",
            "_view_name": "LayoutView",
            "align_content": null,
            "align_items": null,
            "align_self": null,
            "border": null,
            "bottom": null,
            "display": null,
            "flex": null,
            "flex_flow": null,
            "grid_area": null,
            "grid_auto_columns": null,
            "grid_auto_flow": null,
            "grid_auto_rows": null,
            "grid_column": null,
            "grid_gap": null,
            "grid_row": null,
            "grid_template_areas": null,
            "grid_template_columns": null,
            "grid_template_rows": null,
            "height": null,
            "justify_content": null,
            "justify_items": null,
            "left": null,
            "margin": null,
            "max_height": null,
            "max_width": null,
            "min_height": null,
            "min_width": null,
            "object_fit": null,
            "object_position": null,
            "order": null,
            "overflow": null,
            "overflow_x": null,
            "overflow_y": null,
            "padding": null,
            "right": null,
            "top": null,
            "visibility": null,
            "width": null
          }
        },
        "128c527a7a6c46eeb97770363e907101": {
          "model_module": "@jupyter-widgets/base",
          "model_name": "LayoutModel",
          "model_module_version": "1.2.0",
          "state": {
            "_model_module": "@jupyter-widgets/base",
            "_model_module_version": "1.2.0",
            "_model_name": "LayoutModel",
            "_view_count": null,
            "_view_module": "@jupyter-widgets/base",
            "_view_module_version": "1.2.0",
            "_view_name": "LayoutView",
            "align_content": null,
            "align_items": null,
            "align_self": null,
            "border": null,
            "bottom": null,
            "display": null,
            "flex": null,
            "flex_flow": null,
            "grid_area": null,
            "grid_auto_columns": null,
            "grid_auto_flow": null,
            "grid_auto_rows": null,
            "grid_column": null,
            "grid_gap": null,
            "grid_row": null,
            "grid_template_areas": null,
            "grid_template_columns": null,
            "grid_template_rows": null,
            "height": null,
            "justify_content": null,
            "justify_items": null,
            "left": null,
            "margin": null,
            "max_height": null,
            "max_width": null,
            "min_height": null,
            "min_width": null,
            "object_fit": null,
            "object_position": null,
            "order": null,
            "overflow": null,
            "overflow_x": null,
            "overflow_y": null,
            "padding": null,
            "right": null,
            "top": null,
            "visibility": null,
            "width": null
          }
        },
        "b870f42a7991410cab5d977d189dcfc4": {
          "model_module": "@jupyter-widgets/controls",
          "model_name": "DescriptionStyleModel",
          "model_module_version": "1.5.0",
          "state": {
            "_model_module": "@jupyter-widgets/controls",
            "_model_module_version": "1.5.0",
            "_model_name": "DescriptionStyleModel",
            "_view_count": null,
            "_view_module": "@jupyter-widgets/base",
            "_view_module_version": "1.2.0",
            "_view_name": "StyleView",
            "description_width": ""
          }
        },
        "63d249c4b99d4d319a5bf9d9c2f1c6ad": {
          "model_module": "@jupyter-widgets/base",
          "model_name": "LayoutModel",
          "model_module_version": "1.2.0",
          "state": {
            "_model_module": "@jupyter-widgets/base",
            "_model_module_version": "1.2.0",
            "_model_name": "LayoutModel",
            "_view_count": null,
            "_view_module": "@jupyter-widgets/base",
            "_view_module_version": "1.2.0",
            "_view_name": "LayoutView",
            "align_content": null,
            "align_items": null,
            "align_self": null,
            "border": null,
            "bottom": null,
            "display": null,
            "flex": null,
            "flex_flow": null,
            "grid_area": null,
            "grid_auto_columns": null,
            "grid_auto_flow": null,
            "grid_auto_rows": null,
            "grid_column": null,
            "grid_gap": null,
            "grid_row": null,
            "grid_template_areas": null,
            "grid_template_columns": null,
            "grid_template_rows": null,
            "height": null,
            "justify_content": null,
            "justify_items": null,
            "left": null,
            "margin": null,
            "max_height": null,
            "max_width": null,
            "min_height": null,
            "min_width": null,
            "object_fit": null,
            "object_position": null,
            "order": null,
            "overflow": null,
            "overflow_x": null,
            "overflow_y": null,
            "padding": null,
            "right": null,
            "top": null,
            "visibility": null,
            "width": null
          }
        },
        "04039696c175467c9ce3d3af255c7df0": {
          "model_module": "@jupyter-widgets/controls",
          "model_name": "ProgressStyleModel",
          "model_module_version": "1.5.0",
          "state": {
            "_model_module": "@jupyter-widgets/controls",
            "_model_module_version": "1.5.0",
            "_model_name": "ProgressStyleModel",
            "_view_count": null,
            "_view_module": "@jupyter-widgets/base",
            "_view_module_version": "1.2.0",
            "_view_name": "StyleView",
            "bar_color": null,
            "description_width": ""
          }
        },
        "ca6f58e4a495428b8fd5965d675a48db": {
          "model_module": "@jupyter-widgets/base",
          "model_name": "LayoutModel",
          "model_module_version": "1.2.0",
          "state": {
            "_model_module": "@jupyter-widgets/base",
            "_model_module_version": "1.2.0",
            "_model_name": "LayoutModel",
            "_view_count": null,
            "_view_module": "@jupyter-widgets/base",
            "_view_module_version": "1.2.0",
            "_view_name": "LayoutView",
            "align_content": null,
            "align_items": null,
            "align_self": null,
            "border": null,
            "bottom": null,
            "display": null,
            "flex": null,
            "flex_flow": null,
            "grid_area": null,
            "grid_auto_columns": null,
            "grid_auto_flow": null,
            "grid_auto_rows": null,
            "grid_column": null,
            "grid_gap": null,
            "grid_row": null,
            "grid_template_areas": null,
            "grid_template_columns": null,
            "grid_template_rows": null,
            "height": null,
            "justify_content": null,
            "justify_items": null,
            "left": null,
            "margin": null,
            "max_height": null,
            "max_width": null,
            "min_height": null,
            "min_width": null,
            "object_fit": null,
            "object_position": null,
            "order": null,
            "overflow": null,
            "overflow_x": null,
            "overflow_y": null,
            "padding": null,
            "right": null,
            "top": null,
            "visibility": null,
            "width": null
          }
        },
        "cdeb63e6db7247558aa3bf5520160c36": {
          "model_module": "@jupyter-widgets/controls",
          "model_name": "DescriptionStyleModel",
          "model_module_version": "1.5.0",
          "state": {
            "_model_module": "@jupyter-widgets/controls",
            "_model_module_version": "1.5.0",
            "_model_name": "DescriptionStyleModel",
            "_view_count": null,
            "_view_module": "@jupyter-widgets/base",
            "_view_module_version": "1.2.0",
            "_view_name": "StyleView",
            "description_width": ""
          }
        },
        "fa7090c771154748af39216cd4432323": {
          "model_module": "@jupyter-widgets/controls",
          "model_name": "HBoxModel",
          "model_module_version": "1.5.0",
          "state": {
            "_dom_classes": [],
            "_model_module": "@jupyter-widgets/controls",
            "_model_module_version": "1.5.0",
            "_model_name": "HBoxModel",
            "_view_count": null,
            "_view_module": "@jupyter-widgets/controls",
            "_view_module_version": "1.5.0",
            "_view_name": "HBoxView",
            "box_style": "",
            "children": [
              "IPY_MODEL_1d2ee72a9bca44ab8fa3f707847982f6",
              "IPY_MODEL_0bf2cbb5d6df4792b6cb54609c5c2645",
              "IPY_MODEL_3106157143fd4da48e3fe223addbfb77"
            ],
            "layout": "IPY_MODEL_1d1b703b9c6c4a4fb7993a07b2b8aecb"
          }
        },
        "1d2ee72a9bca44ab8fa3f707847982f6": {
          "model_module": "@jupyter-widgets/controls",
          "model_name": "HTMLModel",
          "model_module_version": "1.5.0",
          "state": {
            "_dom_classes": [],
            "_model_module": "@jupyter-widgets/controls",
            "_model_module_version": "1.5.0",
            "_model_name": "HTMLModel",
            "_view_count": null,
            "_view_module": "@jupyter-widgets/controls",
            "_view_module_version": "1.5.0",
            "_view_name": "HTMLView",
            "description": "",
            "description_tooltip": null,
            "layout": "IPY_MODEL_8b204fb1caa142ce975924ce34536ed7",
            "placeholder": "​",
            "style": "IPY_MODEL_024905f3cbe44a9c86456b88c4348e1a",
            "value": "Downloading: 100%"
          }
        },
        "0bf2cbb5d6df4792b6cb54609c5c2645": {
          "model_module": "@jupyter-widgets/controls",
          "model_name": "FloatProgressModel",
          "model_module_version": "1.5.0",
          "state": {
            "_dom_classes": [],
            "_model_module": "@jupyter-widgets/controls",
            "_model_module_version": "1.5.0",
            "_model_name": "FloatProgressModel",
            "_view_count": null,
            "_view_module": "@jupyter-widgets/controls",
            "_view_module_version": "1.5.0",
            "_view_name": "ProgressView",
            "bar_style": "success",
            "description": "",
            "description_tooltip": null,
            "layout": "IPY_MODEL_1265ae8564514d40bff976f554d25710",
            "max": 380267417,
            "min": 0,
            "orientation": "horizontal",
            "style": "IPY_MODEL_826666b59d4347748aa7b961a6b88668",
            "value": 380267417
          }
        },
        "3106157143fd4da48e3fe223addbfb77": {
          "model_module": "@jupyter-widgets/controls",
          "model_name": "HTMLModel",
          "model_module_version": "1.5.0",
          "state": {
            "_dom_classes": [],
            "_model_module": "@jupyter-widgets/controls",
            "_model_module_version": "1.5.0",
            "_model_name": "HTMLModel",
            "_view_count": null,
            "_view_module": "@jupyter-widgets/controls",
            "_view_module_version": "1.5.0",
            "_view_name": "HTMLView",
            "description": "",
            "description_tooltip": null,
            "layout": "IPY_MODEL_ee9190bf654f4b08ac976f5cb6e8f73d",
            "placeholder": "​",
            "style": "IPY_MODEL_e43ef61204a4419a84769542ffb36bdb",
            "value": " 380M/380M [00:06&lt;00:00, 58.0MB/s]"
          }
        },
        "1d1b703b9c6c4a4fb7993a07b2b8aecb": {
          "model_module": "@jupyter-widgets/base",
          "model_name": "LayoutModel",
          "model_module_version": "1.2.0",
          "state": {
            "_model_module": "@jupyter-widgets/base",
            "_model_module_version": "1.2.0",
            "_model_name": "LayoutModel",
            "_view_count": null,
            "_view_module": "@jupyter-widgets/base",
            "_view_module_version": "1.2.0",
            "_view_name": "LayoutView",
            "align_content": null,
            "align_items": null,
            "align_self": null,
            "border": null,
            "bottom": null,
            "display": null,
            "flex": null,
            "flex_flow": null,
            "grid_area": null,
            "grid_auto_columns": null,
            "grid_auto_flow": null,
            "grid_auto_rows": null,
            "grid_column": null,
            "grid_gap": null,
            "grid_row": null,
            "grid_template_areas": null,
            "grid_template_columns": null,
            "grid_template_rows": null,
            "height": null,
            "justify_content": null,
            "justify_items": null,
            "left": null,
            "margin": null,
            "max_height": null,
            "max_width": null,
            "min_height": null,
            "min_width": null,
            "object_fit": null,
            "object_position": null,
            "order": null,
            "overflow": null,
            "overflow_x": null,
            "overflow_y": null,
            "padding": null,
            "right": null,
            "top": null,
            "visibility": null,
            "width": null
          }
        },
        "8b204fb1caa142ce975924ce34536ed7": {
          "model_module": "@jupyter-widgets/base",
          "model_name": "LayoutModel",
          "model_module_version": "1.2.0",
          "state": {
            "_model_module": "@jupyter-widgets/base",
            "_model_module_version": "1.2.0",
            "_model_name": "LayoutModel",
            "_view_count": null,
            "_view_module": "@jupyter-widgets/base",
            "_view_module_version": "1.2.0",
            "_view_name": "LayoutView",
            "align_content": null,
            "align_items": null,
            "align_self": null,
            "border": null,
            "bottom": null,
            "display": null,
            "flex": null,
            "flex_flow": null,
            "grid_area": null,
            "grid_auto_columns": null,
            "grid_auto_flow": null,
            "grid_auto_rows": null,
            "grid_column": null,
            "grid_gap": null,
            "grid_row": null,
            "grid_template_areas": null,
            "grid_template_columns": null,
            "grid_template_rows": null,
            "height": null,
            "justify_content": null,
            "justify_items": null,
            "left": null,
            "margin": null,
            "max_height": null,
            "max_width": null,
            "min_height": null,
            "min_width": null,
            "object_fit": null,
            "object_position": null,
            "order": null,
            "overflow": null,
            "overflow_x": null,
            "overflow_y": null,
            "padding": null,
            "right": null,
            "top": null,
            "visibility": null,
            "width": null
          }
        },
        "024905f3cbe44a9c86456b88c4348e1a": {
          "model_module": "@jupyter-widgets/controls",
          "model_name": "DescriptionStyleModel",
          "model_module_version": "1.5.0",
          "state": {
            "_model_module": "@jupyter-widgets/controls",
            "_model_module_version": "1.5.0",
            "_model_name": "DescriptionStyleModel",
            "_view_count": null,
            "_view_module": "@jupyter-widgets/base",
            "_view_module_version": "1.2.0",
            "_view_name": "StyleView",
            "description_width": ""
          }
        },
        "1265ae8564514d40bff976f554d25710": {
          "model_module": "@jupyter-widgets/base",
          "model_name": "LayoutModel",
          "model_module_version": "1.2.0",
          "state": {
            "_model_module": "@jupyter-widgets/base",
            "_model_module_version": "1.2.0",
            "_model_name": "LayoutModel",
            "_view_count": null,
            "_view_module": "@jupyter-widgets/base",
            "_view_module_version": "1.2.0",
            "_view_name": "LayoutView",
            "align_content": null,
            "align_items": null,
            "align_self": null,
            "border": null,
            "bottom": null,
            "display": null,
            "flex": null,
            "flex_flow": null,
            "grid_area": null,
            "grid_auto_columns": null,
            "grid_auto_flow": null,
            "grid_auto_rows": null,
            "grid_column": null,
            "grid_gap": null,
            "grid_row": null,
            "grid_template_areas": null,
            "grid_template_columns": null,
            "grid_template_rows": null,
            "height": null,
            "justify_content": null,
            "justify_items": null,
            "left": null,
            "margin": null,
            "max_height": null,
            "max_width": null,
            "min_height": null,
            "min_width": null,
            "object_fit": null,
            "object_position": null,
            "order": null,
            "overflow": null,
            "overflow_x": null,
            "overflow_y": null,
            "padding": null,
            "right": null,
            "top": null,
            "visibility": null,
            "width": null
          }
        },
        "826666b59d4347748aa7b961a6b88668": {
          "model_module": "@jupyter-widgets/controls",
          "model_name": "ProgressStyleModel",
          "model_module_version": "1.5.0",
          "state": {
            "_model_module": "@jupyter-widgets/controls",
            "_model_module_version": "1.5.0",
            "_model_name": "ProgressStyleModel",
            "_view_count": null,
            "_view_module": "@jupyter-widgets/base",
            "_view_module_version": "1.2.0",
            "_view_name": "StyleView",
            "bar_color": null,
            "description_width": ""
          }
        },
        "ee9190bf654f4b08ac976f5cb6e8f73d": {
          "model_module": "@jupyter-widgets/base",
          "model_name": "LayoutModel",
          "model_module_version": "1.2.0",
          "state": {
            "_model_module": "@jupyter-widgets/base",
            "_model_module_version": "1.2.0",
            "_model_name": "LayoutModel",
            "_view_count": null,
            "_view_module": "@jupyter-widgets/base",
            "_view_module_version": "1.2.0",
            "_view_name": "LayoutView",
            "align_content": null,
            "align_items": null,
            "align_self": null,
            "border": null,
            "bottom": null,
            "display": null,
            "flex": null,
            "flex_flow": null,
            "grid_area": null,
            "grid_auto_columns": null,
            "grid_auto_flow": null,
            "grid_auto_rows": null,
            "grid_column": null,
            "grid_gap": null,
            "grid_row": null,
            "grid_template_areas": null,
            "grid_template_columns": null,
            "grid_template_rows": null,
            "height": null,
            "justify_content": null,
            "justify_items": null,
            "left": null,
            "margin": null,
            "max_height": null,
            "max_width": null,
            "min_height": null,
            "min_width": null,
            "object_fit": null,
            "object_position": null,
            "order": null,
            "overflow": null,
            "overflow_x": null,
            "overflow_y": null,
            "padding": null,
            "right": null,
            "top": null,
            "visibility": null,
            "width": null
          }
        },
        "e43ef61204a4419a84769542ffb36bdb": {
          "model_module": "@jupyter-widgets/controls",
          "model_name": "DescriptionStyleModel",
          "model_module_version": "1.5.0",
          "state": {
            "_model_module": "@jupyter-widgets/controls",
            "_model_module_version": "1.5.0",
            "_model_name": "DescriptionStyleModel",
            "_view_count": null,
            "_view_module": "@jupyter-widgets/base",
            "_view_module_version": "1.2.0",
            "_view_name": "StyleView",
            "description_width": ""
          }
        }
      }
    }
  },
  "cells": [
    {
      "cell_type": "markdown",
      "metadata": {
        "id": "view-in-github",
        "colab_type": "text"
      },
      "source": [
        "<a href=\"https://colab.research.google.com/github/enricoaquilina/DataScience-DeepLearning/blob/master/Copy_of_Fine_tuning_Wav2Vec2_for_English_ASR.ipynb\" target=\"_parent\"><img src=\"https://colab.research.google.com/assets/colab-badge.svg\" alt=\"Open In Colab\"/></a>"
      ]
    },
    {
      "cell_type": "markdown",
      "metadata": {
        "id": "LBSYoWbi-45k"
      },
      "source": [
        "# **Fine-tuning Wav2Vec2 for English ASR with 🤗 Transformers**"
      ]
    },
    {
      "cell_type": "markdown",
      "metadata": {
        "id": "V7YOT2mnUiea"
      },
      "source": [
        "Wav2Vec2 is a pretrained model for Automatic Speech Recognition (ASR) and was released in [September 2020](https://ai.facebook.com/blog/wav2vec-20-learning-the-structure-of-speech-from-raw-audio/) by Alexei Baevski, Michael Auli, and Alex Conneau.\n",
        "\n",
        "Using a novel contrastive pretraining objective, Wav2Vec2 learns powerful speech representations from more than 50.000 hours of unlabeled speech. Similar, to [BERT's masked language modeling](http://jalammar.github.io/illustrated-bert/), the model learns contextualized speech representations by randomly masking feature vectors before passing them to a transformer network.\n",
        "\n",
        "![wav2vec2_structure](https://raw.githubusercontent.com/patrickvonplaten/scientific_images/master/wav2vec2.png)\n",
        "\n",
        "For the first time, it has been shown that pretraining, followed by fine-tuning on very little labeled speech data achieves competitive results to state-of-the-art ASR systems. Using as little as 10 minutes of labeled data, Wav2Vec2 yields a word error rate (WER) of less than 5% on the clean test set of [LibriSpeech](https://huggingface.co/datasets/librispeech_asr) - *cf.* with Table 9 of the [paper](https://arxiv.org/pdf/2006.11477.pdf)."
      ]
    },
    {
      "cell_type": "markdown",
      "metadata": {
        "id": "nT_QrfWtsxIz"
      },
      "source": [
        "In this notebook, we will give an in-detail explanation of how Wav2Vec2's pretrained checkpoints can be fine-tuned on any English ASR dataset. Note that in this notebook, we will fine-tune Wav2Vec2 without making use of a language model. It is much simpler to use Wav2Vec2 without a language model as an end-to-end ASR system and it has been shown that a standalone Wav2Vec2 acoustic model achieves impressive results. For demonstration purposes, we fine-tune the \"base\"-sized [pretrained checkpoint](https://huggingface.co/facebook/wav2vec2-base) on the rather small [Timit](https://huggingface.co/datasets/timit_asr) dataset that contains just 5h of training data."
      ]
    },
    {
      "cell_type": "markdown",
      "metadata": {
        "id": "Gx9OdDYrCtQ1"
      },
      "source": [
        "Wav2Vec2 is fine-tuned using Connectionist Temporal Classification (CTC), which is an algorithm that is used to train neural networks for sequence-to-sequence problems and mainly in Automatic Speech Recognition and handwriting recognition. \n",
        "\n",
        "I highly recommend reading the blog post [Sequence Modeling with CTC (2017)](https://distill.pub/2017/ctc/) very well-written blog post by Awni Hannun."
      ]
    },
    {
      "cell_type": "markdown",
      "metadata": {
        "id": "qW3J3rBizeds"
      },
      "source": [
        "First, let's try to get a good GPU in our colab! With Google Colab's free version it's sadly becoming much harder to get access to a good GPU. With Google Colab Pro, one has a much easier time getting access to a V100 or P100 GPU however."
      ]
    },
    {
      "cell_type": "code",
      "metadata": {
        "id": "SLAufgh_xxj7",
        "colab": {
          "base_uri": "https://localhost:8080/"
        },
        "outputId": "e9bf526e-66a9-44e2-97d6-f56cc8cc7084"
      },
      "source": [
        "gpu_info = !nvidia-smi\n",
        "gpu_info = '\\n'.join(gpu_info)\n",
        "if gpu_info.find('failed') >= 0:\n",
        "  print('Not connected to a GPU')\n",
        "else:\n",
        "  print(gpu_info)"
      ],
      "execution_count": 1,
      "outputs": [
        {
          "output_type": "stream",
          "name": "stdout",
          "text": [
            "Mon Dec 26 14:30:20 2022       \n",
            "+-----------------------------------------------------------------------------+\n",
            "| NVIDIA-SMI 460.32.03    Driver Version: 460.32.03    CUDA Version: 11.2     |\n",
            "|-------------------------------+----------------------+----------------------+\n",
            "| GPU  Name        Persistence-M| Bus-Id        Disp.A | Volatile Uncorr. ECC |\n",
            "| Fan  Temp  Perf  Pwr:Usage/Cap|         Memory-Usage | GPU-Util  Compute M. |\n",
            "|                               |                      |               MIG M. |\n",
            "|===============================+======================+======================|\n",
            "|   0  Tesla T4            Off  | 00000000:00:04.0 Off |                    0 |\n",
            "| N/A   58C    P0    30W /  70W |      0MiB / 15109MiB |      0%      Default |\n",
            "|                               |                      |                  N/A |\n",
            "+-------------------------------+----------------------+----------------------+\n",
            "                                                                               \n",
            "+-----------------------------------------------------------------------------+\n",
            "| Processes:                                                                  |\n",
            "|  GPU   GI   CI        PID   Type   Process name                  GPU Memory |\n",
            "|        ID   ID                                                   Usage      |\n",
            "|=============================================================================|\n",
            "|  No running processes found                                                 |\n",
            "+-----------------------------------------------------------------------------+\n"
          ]
        }
      ]
    },
    {
      "cell_type": "markdown",
      "metadata": {
        "id": "e335hPmdtASZ"
      },
      "source": [
        "Before we start, let's install both `datasets` and `transformers` from master. Also, we need the `librosa` package to load audio files and the `jiwer` to evaluate our fine-tuned model using the [word error rate (WER)](https://huggingface.co/metrics/wer) metric ${}^1$."
      ]
    },
    {
      "cell_type": "code",
      "metadata": {
        "id": "c8eh87Hoee5d"
      },
      "source": [
        "%%capture\n",
        "!pip install datasets==1.18.3\n",
        "!pip install transformers==4.24.0\n",
        "!pip install jiwer"
      ],
      "execution_count": 2,
      "outputs": []
    },
    {
      "cell_type": "markdown",
      "metadata": {
        "id": "8_6kYmDMH9lR"
      },
      "source": [
        "Next we strongly suggest to upload your training checkpoints directly to the [🤗 Hub](https://huggingface.co/) while training. The [🤗 Hub](https://huggingface.co/) has integrated version control so you can be sure that no model checkpoint is getting lost during training. \n",
        "\n",
        "To do so you have to store your authentication token from the Hugging Face website (sign up [here](https://huggingface.co/join) if you haven't already!)"
      ]
    },
    {
      "cell_type": "code",
      "metadata": {
        "colab": {
          "base_uri": "https://localhost:8080/",
          "height": 359,
          "referenced_widgets": [
            "9987c26e5dc9448fbc9f8631b9d9d3c8",
            "b153761d7c9a49a9800729b6ea71a2bf",
            "0fdd98ac08d14204841be945bfac9610",
            "0b351065a62e41738c045f82a534591a",
            "426a0a1590ca49458c608b108e90d988",
            "61f1830ab0574e3da4805f44e052d146",
            "2fcd4d30837e49e79a1f7cd2192d01f5",
            "26d4de070f7647c48428d84815659d8a",
            "13cdfa39eda64802b8d2c0883cd0fe32",
            "947a6126a8414bd69379b4e24d0ba616",
            "b40a53ae9c55438697bb150145009261",
            "3c8c1e91f5204f4d89790fdd7aae8ee5",
            "02e1f7a66369447dad493e5567e4de37",
            "1a0d44777b1c4e959f69f7cee74bca62",
            "f2c8e528716b4174804818d9b49bece2",
            "853a03eca4e64566970f5ecf8a0860b8",
            "02720c3ea910401095ca13b7718ee9f4"
          ]
        },
        "id": "zFLBDyzQIA3R",
        "outputId": "8ace8c42-fb32-4071-e111-25c137609905"
      },
      "source": [
        "from huggingface_hub import notebook_login\n",
        "\n",
        "notebook_login()"
      ],
      "execution_count": 3,
      "outputs": [
        {
          "output_type": "stream",
          "name": "stdout",
          "text": [
            "Token is valid.\n",
            "Your token has been saved in your configured git credential helpers (store).\n",
            "Your token has been saved to /root/.huggingface/token\n",
            "Login successful\n"
          ]
        }
      ]
    },
    {
      "cell_type": "markdown",
      "metadata": {
        "id": "zCyw5D23IQ1F"
      },
      "source": [
        "\n",
        "Then you need to install Git-LFS to upload your model checkpoints:"
      ]
    },
    {
      "cell_type": "code",
      "metadata": {
        "id": "Q9BnQDhOITBC"
      },
      "source": [
        "%%capture\n",
        "!apt install git-lfs"
      ],
      "execution_count": 4,
      "outputs": []
    },
    {
      "cell_type": "markdown",
      "metadata": {
        "id": "Mn9swf6EQ9Vd"
      },
      "source": [
        "\n",
        "\n",
        "\n",
        "---\n",
        "\n",
        "${}^1$ Timit is usually evaluated using the phoneme error rate (PER), but by far the most common metric in ASR is the word error rate (WER). To keep this notebook as general as possible we decided to evaluate the model using WER."
      ]
    },
    {
      "cell_type": "markdown",
      "metadata": {
        "id": "0mW-C1Nt-j7k"
      },
      "source": [
        "## Prepare Data, Tokenizer, Feature Extractor"
      ]
    },
    {
      "cell_type": "markdown",
      "metadata": {
        "id": "BeBosnY9BH3e"
      },
      "source": [
        "ASR models transcribe speech to text, which means that we both need a feature extractor that processes the speech signal to the model's input format, *e.g.* a feature vector, and a tokenizer that processes the model's output format to text. \n",
        "\n",
        "In 🤗 Transformers, the Wav2Vec2 model is thus accompanied by both a tokenizer, called [Wav2Vec2CTCTokenizer](https://huggingface.co/transformers/master/model_doc/wav2vec2.html#wav2vec2ctctokenizer), and a feature extractor, called [Wav2Vec2FeatureExtractor](https://huggingface.co/transformers/master/model_doc/wav2vec2.html#wav2vec2featureextractor).\n",
        "\n",
        "Let's start by creating the tokenizer responsible for decoding the model's predictions."
      ]
    },
    {
      "cell_type": "markdown",
      "metadata": {
        "id": "sEXEWEJGQPqD"
      },
      "source": [
        "### Create Wav2Vec2CTCTokenizer"
      ]
    },
    {
      "cell_type": "markdown",
      "metadata": {
        "id": "tWmMikuNEKl_"
      },
      "source": [
        "The [pretrained Wav2Vec2 checkpoint]( ) maps the speech signal to a sequence of context representations as illustrated in the figure above. A fine-tuned Wav2Vec2 checkpoint needs to map this sequence of context representations to its corresponding transcription so that a linear layer has to be added on top of the transformer block (shown in yellow). This linear layer is used to classifies each context representation to a token class analogous how, *e.g.*, after pretraining a linear layer is added on top of BERT's embeddings for further classification - *cf.* with *\"BERT\"* section of this [blog post](https://huggingface.co/blog/warm-starting-encoder-decoder).\n",
        "\n",
        "The output size of this layer corresponds to the number of tokens in the vocabulary, which does **not** depend on Wav2Vec2's pretraining task, but only on the labeled dataset used for fine-tuning. So in the first step, we will take a look at Timit and define a vocabulary based on the dataset's transcriptions."
      ]
    },
    {
      "cell_type": "markdown",
      "metadata": {
        "id": "bee4g9rpLxll"
      },
      "source": [
        "Let's start by loading the dataset and taking a look at its structure."
      ]
    },
    {
      "cell_type": "code",
      "metadata": {
        "id": "2MMXcWFFgCXU",
        "colab": {
          "base_uri": "https://localhost:8080/",
          "height": 200,
          "referenced_widgets": [
            "e3c80f0418744e72947aca55eac9c9a6",
            "5737ab25e08e4d3b8e1b5a8ef866aad4",
            "d36115f4f1d040569afe158d70b7b407",
            "16e69ffbb9eb464f8fab23832553e8fa",
            "713a8c92de7b4405a92287f390bcf843",
            "1f5839c6ab674ce7bff5789f8ae87345",
            "883e5eae7d8e466b8b5ad82d3b0f5215",
            "200fafdd997446ea937d618e693c6b09",
            "230a69a888c547b9a6ff5725524a6a1f",
            "b8ef66bc559445b0be0d7ce1809de1b8",
            "d3357607d34446f39a06928001e768a4",
            "ccda91f82dec42e7b6dbdae4dd9e387c",
            "ac15a95b142b4280b7cdc8b3e64c761d",
            "a306aa5503a74c13a2488b9f04f57f01",
            "ae8bdc1bb0814ead8fdc82ce01efbb6e",
            "7b209c2a88fa430a831e1363806714ae",
            "4350195bc38246a0890fb1c1f3e8a3ae",
            "fc826d6f162d417f8ec3b2f4debd17f5",
            "747fc34e1bea4c5b9bad15b28881ab24",
            "cb08ca67e4064f059da5e9c5b9c618e4",
            "1a746ea056ed43fa9d5f09137ede215c",
            "4c203eca265c4278a55a1a5f62cc14c4",
            "b0b85e7689ef4c3eb319e02c5e02e7f9",
            "a72bb932febb4771a71cdb8d4d3f699b",
            "9c818625485b4108855996b54a529541",
            "a37da01f65464865b45beaa6f291ec0d",
            "66ed11a5dee847bba9b829f2631ff18c",
            "06a6587fcf5748f090f91777c65b082a",
            "48d0665084fd47baabc696c1a81de644",
            "d2ba702338db408d8b3288208ebb056c",
            "06604e0a2c88495ea8367af438713b17",
            "a0aa74f0b2f04b8da14f392348a164c9",
            "99c4e3d05b5f4a1dbd52f0252d427124",
            "4c0c56864f4d4758b1584cd7587a576d",
            "4ccd72afc65c4d9084b11c99f1ee0ecf",
            "b48c0b3e625b40f192c48579fb9e1715",
            "1b36df5761fe49e591bb384f76c767e3",
            "b88c1b83041043668f328c56c63e6dea",
            "9dce776cc0d449c993c9f36f1ca13ebc",
            "3221d46a65c74834a73b277adf4a15b1",
            "798b5adbe63c4c66888a25a68b0e46bf",
            "99c871ecbefd49398d116ec70d409a55",
            "56af2c98cc1e4f218f4d84253c11b156",
            "eec8a5153a3b4e80982ba4d0b4f0e454",
            "4d1579aebaf34495af5c6144216ab781",
            "3fab5054f0ec4d42a266e3c2d7cd93f0",
            "54786d793c544589a6ae21e39a6c0b45",
            "def9515c426f4919b4aa9e91621a7d1f",
            "7350a865e8034d4cb96a5fd012b79a0f",
            "9759291a3b6f46aa9f57818f65797229",
            "17aa58db372e4f718cdecc32ed02b8fa",
            "9b2e50aebe18421c87e72ad028a8b197",
            "a028b73a9b4246ed9a3368f4866cb579",
            "d76b17a9c60646c194d8a3cdf58d606f",
            "b9f857bdc63d477b9a921b8dca1e3f2b",
            "6d24a640e18f44dfbd7a2a5b31eb1b7d",
            "85acaa72035241f58789c9853a694067",
            "54c2dab6324741d58d28e8a1bc87fdc2",
            "a810d724ecf4486a91213dba927f2553",
            "7f79a6dddb884893b52a7ae44deff794",
            "bec4325e668441b783ad073de9032f94",
            "08578c5ad16046b18b9ede84664a0e17",
            "f6064511cf69471db9b7d4625a212b4b",
            "4f06c13d2e3c4c7aa34f34380c0cc61d",
            "1c6a6f98f1464092965e563f351e7111",
            "277aa86421554da6ac3dcacd8c6d6a75"
          ]
        },
        "outputId": "21a4f2f3-ebc9-4bb3-c526-0edf792ddccf"
      },
      "source": [
        "from datasets import load_dataset, load_metric\n",
        "\n",
        "timit = load_dataset(\"timit_asr\")"
      ],
      "execution_count": 5,
      "outputs": [
        {
          "output_type": "display_data",
          "data": {
            "text/plain": [
              "Downloading:   0%|          | 0.00/2.40k [00:00<?, ?B/s]"
            ],
            "application/vnd.jupyter.widget-view+json": {
              "version_major": 2,
              "version_minor": 0,
              "model_id": "e3c80f0418744e72947aca55eac9c9a6"
            }
          },
          "metadata": {}
        },
        {
          "output_type": "display_data",
          "data": {
            "text/plain": [
              "Downloading:   0%|          | 0.00/1.06k [00:00<?, ?B/s]"
            ],
            "application/vnd.jupyter.widget-view+json": {
              "version_major": 2,
              "version_minor": 0,
              "model_id": "ccda91f82dec42e7b6dbdae4dd9e387c"
            }
          },
          "metadata": {}
        },
        {
          "output_type": "stream",
          "name": "stdout",
          "text": [
            "Downloading and preparing dataset timit_asr/clean (download: 828.75 MiB, generated: 7.90 MiB, post-processed: Unknown size, total: 836.65 MiB) to /root/.cache/huggingface/datasets/timit_asr/clean/2.0.1/b11b576ddcccbcefa7c9f0c4e6c2a43756f3033adffe0fb686aa61043d0450ad...\n"
          ]
        },
        {
          "output_type": "display_data",
          "data": {
            "text/plain": [
              "Downloading:   0%|          | 0.00/869M [00:00<?, ?B/s]"
            ],
            "application/vnd.jupyter.widget-view+json": {
              "version_major": 2,
              "version_minor": 0,
              "model_id": "b0b85e7689ef4c3eb319e02c5e02e7f9"
            }
          },
          "metadata": {}
        },
        {
          "output_type": "display_data",
          "data": {
            "text/plain": [
              "0 examples [00:00, ? examples/s]"
            ],
            "application/vnd.jupyter.widget-view+json": {
              "version_major": 2,
              "version_minor": 0,
              "model_id": "4c0c56864f4d4758b1584cd7587a576d"
            }
          },
          "metadata": {}
        },
        {
          "output_type": "display_data",
          "data": {
            "text/plain": [
              "0 examples [00:00, ? examples/s]"
            ],
            "application/vnd.jupyter.widget-view+json": {
              "version_major": 2,
              "version_minor": 0,
              "model_id": "4d1579aebaf34495af5c6144216ab781"
            }
          },
          "metadata": {}
        },
        {
          "output_type": "stream",
          "name": "stdout",
          "text": [
            "Dataset timit_asr downloaded and prepared to /root/.cache/huggingface/datasets/timit_asr/clean/2.0.1/b11b576ddcccbcefa7c9f0c4e6c2a43756f3033adffe0fb686aa61043d0450ad. Subsequent calls will reuse this data.\n"
          ]
        },
        {
          "output_type": "display_data",
          "data": {
            "text/plain": [
              "  0%|          | 0/2 [00:00<?, ?it/s]"
            ],
            "application/vnd.jupyter.widget-view+json": {
              "version_major": 2,
              "version_minor": 0,
              "model_id": "6d24a640e18f44dfbd7a2a5b31eb1b7d"
            }
          },
          "metadata": {}
        }
      ]
    },
    {
      "cell_type": "code",
      "metadata": {
        "colab": {
          "base_uri": "https://localhost:8080/"
        },
        "id": "QbIM-L0xdvf4",
        "outputId": "4124801a-7b40-4930-e970-bb66e2361042"
      },
      "source": [
        "timit"
      ],
      "execution_count": 6,
      "outputs": [
        {
          "output_type": "execute_result",
          "data": {
            "text/plain": [
              "DatasetDict({\n",
              "    train: Dataset({\n",
              "        features: ['file', 'audio', 'text', 'phonetic_detail', 'word_detail', 'dialect_region', 'sentence_type', 'speaker_id', 'id'],\n",
              "        num_rows: 4620\n",
              "    })\n",
              "    test: Dataset({\n",
              "        features: ['file', 'audio', 'text', 'phonetic_detail', 'word_detail', 'dialect_region', 'sentence_type', 'speaker_id', 'id'],\n",
              "        num_rows: 1680\n",
              "    })\n",
              "})"
            ]
          },
          "metadata": {},
          "execution_count": 6
        }
      ]
    },
    {
      "cell_type": "markdown",
      "metadata": {
        "id": "ri5y5N_HMANq"
      },
      "source": [
        "Many ASR datasets only provide the target text, `'text'` for each audio `'audio'` and file `'file'`. Timit actually provides much more information about each audio file, such as the `'phonetic_detail'`, etc., which is why many researchers choose to evaluate their models on phoneme classification instead of speech recognition when working with Timit. However, we want to keep the notebook as general as possible, so that we will only consider the transcribed text for fine-tuning.\n",
        "\n"
      ]
    },
    {
      "cell_type": "code",
      "metadata": {
        "id": "kbyq6lDgQc2a"
      },
      "source": [
        "timit = timit.remove_columns([\"phonetic_detail\", \"word_detail\", \"dialect_region\", \"id\", \"sentence_type\", \"speaker_id\"])"
      ],
      "execution_count": 7,
      "outputs": []
    },
    {
      "cell_type": "markdown",
      "metadata": {
        "id": "Go9Hq4e4NDT9"
      },
      "source": [
        "Let's write a short function to display some random samples of the dataset and run it a couple of times to get a feeling for the transcriptions."
      ]
    },
    {
      "cell_type": "code",
      "metadata": {
        "id": "72737oog2F6U"
      },
      "source": [
        "from datasets import ClassLabel\n",
        "import random\n",
        "import pandas as pd\n",
        "from IPython.display import display, HTML\n",
        "\n",
        "def show_random_elements(dataset, num_examples=10):\n",
        "    assert num_examples <= len(dataset), \"Can't pick more elements than there are in the dataset.\"\n",
        "    picks = []\n",
        "    for _ in range(num_examples):\n",
        "        pick = random.randint(0, len(dataset)-1)\n",
        "        while pick in picks:\n",
        "            pick = random.randint(0, len(dataset)-1)\n",
        "        picks.append(pick)\n",
        "    \n",
        "    df = pd.DataFrame(dataset[picks])\n",
        "    display(HTML(df.to_html()))"
      ],
      "execution_count": 8,
      "outputs": []
    },
    {
      "cell_type": "code",
      "metadata": {
        "colab": {
          "base_uri": "https://localhost:8080/",
          "height": 363
        },
        "id": "K_JUmf3G3b9S",
        "outputId": "a4fa98d3-b2e9-40eb-cfa4-be05afd686e5"
      },
      "source": [
        "show_random_elements(timit[\"train\"].remove_columns([\"audio\", \"file\"]), num_examples=10)"
      ],
      "execution_count": 9,
      "outputs": [
        {
          "output_type": "display_data",
          "data": {
            "text/plain": [
              "<IPython.core.display.HTML object>"
            ],
            "text/html": [
              "<table border=\"1\" class=\"dataframe\">\n",
              "  <thead>\n",
              "    <tr style=\"text-align: right;\">\n",
              "      <th></th>\n",
              "      <th>text</th>\n",
              "    </tr>\n",
              "  </thead>\n",
              "  <tbody>\n",
              "    <tr>\n",
              "      <th>0</th>\n",
              "      <td>She had your dark suit in greasy wash water all year.</td>\n",
              "    </tr>\n",
              "    <tr>\n",
              "      <th>1</th>\n",
              "      <td>You always come up with pathological examples.</td>\n",
              "    </tr>\n",
              "    <tr>\n",
              "      <th>2</th>\n",
              "      <td>A crude ladder ran down to a wooden floor.</td>\n",
              "    </tr>\n",
              "    <tr>\n",
              "      <th>3</th>\n",
              "      <td>Penguins live near the icy Antarctic.</td>\n",
              "    </tr>\n",
              "    <tr>\n",
              "      <th>4</th>\n",
              "      <td>Westchester is a county in New York.</td>\n",
              "    </tr>\n",
              "    <tr>\n",
              "      <th>5</th>\n",
              "      <td>Something pulled my leg.</td>\n",
              "    </tr>\n",
              "    <tr>\n",
              "      <th>6</th>\n",
              "      <td>The taxicab broke down and caused traffic jam.</td>\n",
              "    </tr>\n",
              "    <tr>\n",
              "      <th>7</th>\n",
              "      <td>She had your dark suit in greasy wash water all year.</td>\n",
              "    </tr>\n",
              "    <tr>\n",
              "      <th>8</th>\n",
              "      <td>They're easier to shade there.</td>\n",
              "    </tr>\n",
              "    <tr>\n",
              "      <th>9</th>\n",
              "      <td>But everybody calls you \"Junior\"!</td>\n",
              "    </tr>\n",
              "  </tbody>\n",
              "</table>"
            ]
          },
          "metadata": {}
        }
      ]
    },
    {
      "cell_type": "markdown",
      "metadata": {
        "id": "fowcOllGNNju"
      },
      "source": [
        "Alright! The transcriptions look very clean and the language seems to correspond more to written text than dialogue. This makes sense taking into account that [Timit](https://huggingface.co/datasets/timit_asr) is a read speech corpus."
      ]
    },
    {
      "cell_type": "markdown",
      "metadata": {
        "id": "vq7OR50LN49m"
      },
      "source": [
        "We can see that the transcriptions contain some special characters, such as `,.?!;:`. Without a language model, it is much harder to classify speech chunks to such special characters because they don't really correspond to a characteristic sound unit. *E.g.*, the letter `\"s\"` has a more or less clear sound, whereas the special character `\".\"` does not.\n",
        "Also in order to understand the meaning of a speech signal, it is usually not necessary to include special characters in the transcription.\n",
        "\n",
        "In addition, we normalize the text to only have lower case letters and append a word separator token at the end."
      ]
    },
    {
      "cell_type": "code",
      "metadata": {
        "id": "svKzVJ_hQGK6"
      },
      "source": [
        "import re\n",
        "chars_to_ignore_regex = '[\\,\\?\\.\\!\\-\\;\\:\\\"]'\n",
        "\n",
        "def remove_special_characters(batch):\n",
        "    batch[\"text\"] = re.sub(chars_to_ignore_regex, '', batch[\"text\"]).lower() + \" \"\n",
        "    return batch"
      ],
      "execution_count": 10,
      "outputs": []
    },
    {
      "cell_type": "code",
      "metadata": {
        "colab": {
          "base_uri": "https://localhost:8080/",
          "height": 118,
          "referenced_widgets": [
            "b83adc573dc84e5b9beeced905c4ac9e",
            "91d3987b2fd949cda1dd64699fbac641",
            "3882db25bd1940edbb015b988a9f3d6c",
            "4501bb5a8dc7455eb6a841569b38c2e3",
            "750c0de96cc54e50bc98df50721e3e01",
            "84e67f9cce944ca99470407051bcbe81",
            "7b6ce51e3ac141bc9554b858016ae5e6",
            "627cc34f6c8b46f887027fbf72492e80",
            "df3cd0786ff340ba8777b2c3f3044657",
            "1b85776470f44578ba9203956c52ddf1",
            "7494b907118b4e6f8b72758a258e9934",
            "ce560b3394514346b8784e8941f0cf0b",
            "5cfe887d22154c428c9e851b0da7c3a2",
            "61bad8f0ab13444a9501831deeb9fb29",
            "97f8ed2c2fa64e4f87b52cb76c77404c",
            "4c4cacfb77c64d3f9cd329b6a0e37de4",
            "2555dfb6b60e4bbaa460b58a8bb06a91",
            "5043b80fe14b4d8392608901249080a0",
            "3f04fe02a6b9452c9f36e9040dd703ff",
            "ce4a3314d0ee4fae87a7394ef0127e6a",
            "37675131da95465cbfbaaae0260655f1",
            "bbc65ad1199c49d485546790d69d7543"
          ]
        },
        "id": "XIHocAuTQbBR",
        "outputId": "dd13271a-6f1c-4060-8dce-151d7ea030be"
      },
      "source": [
        "timit = timit.map(remove_special_characters)"
      ],
      "execution_count": 11,
      "outputs": [
        {
          "output_type": "stream",
          "name": "stderr",
          "text": [
            "WARNING:datasets.fingerprint:Parameter 'function'=<function remove_special_characters at 0x7f5274e34310> of the transform datasets.arrow_dataset.Dataset._map_single couldn't be hashed properly, a random hash was used instead. Make sure your transforms and parameters are serializable with pickle or dill for the dataset fingerprinting and caching to work. If you reuse this transform, the caching mechanism will consider it to be different from the previous calls and recompute everything. This warning is only showed once. Subsequent hashing failures won't be showed.\n"
          ]
        },
        {
          "output_type": "display_data",
          "data": {
            "text/plain": [
              "0ex [00:00, ?ex/s]"
            ],
            "application/vnd.jupyter.widget-view+json": {
              "version_major": 2,
              "version_minor": 0,
              "model_id": "b83adc573dc84e5b9beeced905c4ac9e"
            }
          },
          "metadata": {}
        },
        {
          "output_type": "display_data",
          "data": {
            "text/plain": [
              "0ex [00:00, ?ex/s]"
            ],
            "application/vnd.jupyter.widget-view+json": {
              "version_major": 2,
              "version_minor": 0,
              "model_id": "ce560b3394514346b8784e8941f0cf0b"
            }
          },
          "metadata": {}
        }
      ]
    },
    {
      "cell_type": "code",
      "metadata": {
        "colab": {
          "base_uri": "https://localhost:8080/",
          "height": 363
        },
        "id": "RBDRAAYxRE6n",
        "outputId": "625bc885-1c88-4b17-8a51-c5cd7e78b9a8"
      },
      "source": [
        "show_random_elements(timit[\"train\"].remove_columns([\"audio\", \"file\"]))"
      ],
      "execution_count": 12,
      "outputs": [
        {
          "output_type": "display_data",
          "data": {
            "text/plain": [
              "<IPython.core.display.HTML object>"
            ],
            "text/html": [
              "<table border=\"1\" class=\"dataframe\">\n",
              "  <thead>\n",
              "    <tr style=\"text-align: right;\">\n",
              "      <th></th>\n",
              "      <th>text</th>\n",
              "    </tr>\n",
              "  </thead>\n",
              "  <tbody>\n",
              "    <tr>\n",
              "      <th>0</th>\n",
              "      <td>no girl would go this far to fool a man so she could kill him</td>\n",
              "    </tr>\n",
              "    <tr>\n",
              "      <th>1</th>\n",
              "      <td>i'll have a scoop of that exotic purple and turquoise sherbet</td>\n",
              "    </tr>\n",
              "    <tr>\n",
              "      <th>2</th>\n",
              "      <td>this coat looks like a rag heap</td>\n",
              "    </tr>\n",
              "    <tr>\n",
              "      <th>3</th>\n",
              "      <td>personal predispositions tend to blunt the ear and in turn the voice as well</td>\n",
              "    </tr>\n",
              "    <tr>\n",
              "      <th>4</th>\n",
              "      <td>norwegian sweaters are made of lamb's wool</td>\n",
              "    </tr>\n",
              "    <tr>\n",
              "      <th>5</th>\n",
              "      <td>his sudden departure shocked the cast</td>\n",
              "    </tr>\n",
              "    <tr>\n",
              "      <th>6</th>\n",
              "      <td>the beatniks crave a sexual experience in which their whole being participates</td>\n",
              "    </tr>\n",
              "    <tr>\n",
              "      <th>7</th>\n",
              "      <td>masquerade parties tax one's imagination</td>\n",
              "    </tr>\n",
              "    <tr>\n",
              "      <th>8</th>\n",
              "      <td>the blue rug was suspiciously bright and new</td>\n",
              "    </tr>\n",
              "    <tr>\n",
              "      <th>9</th>\n",
              "      <td>remember to allow identical twins to enter freely</td>\n",
              "    </tr>\n",
              "  </tbody>\n",
              "</table>"
            ]
          },
          "metadata": {}
        }
      ]
    },
    {
      "cell_type": "markdown",
      "metadata": {
        "id": "jwfaptH5RJwA"
      },
      "source": [
        "Good! This looks better. We have removed most special characters from transcriptions and normalized them to lower-case only.\n",
        "\n",
        "In CTC, it is common to classify speech chunks into letters, so we will do the same here. \n",
        "Let's extract all distinct letters of the training and test data and build our vocabulary from this set of letters.\n",
        "\n",
        "We write a mapping function that concatenates all transcriptions into one long transcription and then transforms the string into a set of chars. \n",
        "It is important to pass the argument `batched=True` to the `map(...)` function so that the mapping function has access to all transcriptions at once."
      ]
    },
    {
      "cell_type": "code",
      "metadata": {
        "id": "LwCshNbbeRZR"
      },
      "source": [
        "def extract_all_chars(batch):\n",
        "  all_text = \" \".join(batch[\"text\"])\n",
        "  vocab = list(set(all_text))\n",
        "  return {\"vocab\": [vocab], \"all_text\": [all_text]}"
      ],
      "execution_count": 13,
      "outputs": []
    },
    {
      "cell_type": "code",
      "metadata": {
        "colab": {
          "base_uri": "https://localhost:8080/",
          "height": 81,
          "referenced_widgets": [
            "5e0a1f087e0943df91a2c408e46f9691",
            "4acb6762fc6a488395a09995d7e06170",
            "0f9c6963c5b54cf88f969e53cb876dc9",
            "ac9282ddb4bb442192a3bf0390e26768",
            "50a3e7ee60764dd1a45a82056c9b91be",
            "b16034df16b74cfc96fac163666df940",
            "7b8dca33f6f944c28b78e83143348d27",
            "fed84477808542f58c0191363e98acb2",
            "ffa786f7de684648a8ceaed275406b46",
            "adf80797e0bf470c844f161af3499b46",
            "202196ce94664eab8abbca435a2bdcf8",
            "213bafd9180a4ebabfa20006481f0dd7",
            "da95db23b61a43b1b4e501dcf1ba92bd",
            "a6ce22e8358c4f5db58ff79d3641a40d",
            "54b5fbe7a91b4ec588a11819b60b5e5b",
            "bb622f8274e64c1e889fcdeceef26a67",
            "6403002cd75144d8a2fe480b6b06ea14",
            "52998efb1ad74abf949e2ef42800d50e",
            "a5da19b3fb114809b4920564f32fc1a7",
            "7ac7283330334086916f7dcd9afc4db3",
            "8d773011157d4ad89b284187aa14b74a",
            "396658e4b4dc428ca2c373ecd5cc6737"
          ]
        },
        "id": "_m6uUjjcfbjH",
        "outputId": "bb8e00cb-d0b9-491d-f831-858bec0855df"
      },
      "source": [
        "vocabs = timit.map(extract_all_chars, batched=True, batch_size=-1, keep_in_memory=True, remove_columns=timit.column_names[\"train\"])"
      ],
      "execution_count": 14,
      "outputs": [
        {
          "output_type": "display_data",
          "data": {
            "text/plain": [
              "  0%|          | 0/1 [00:00<?, ?ba/s]"
            ],
            "application/vnd.jupyter.widget-view+json": {
              "version_major": 2,
              "version_minor": 0,
              "model_id": "5e0a1f087e0943df91a2c408e46f9691"
            }
          },
          "metadata": {}
        },
        {
          "output_type": "display_data",
          "data": {
            "text/plain": [
              "  0%|          | 0/1 [00:00<?, ?ba/s]"
            ],
            "application/vnd.jupyter.widget-view+json": {
              "version_major": 2,
              "version_minor": 0,
              "model_id": "213bafd9180a4ebabfa20006481f0dd7"
            }
          },
          "metadata": {}
        }
      ]
    },
    {
      "cell_type": "markdown",
      "metadata": {
        "id": "7oVgE8RZSJNP"
      },
      "source": [
        "Now, we create the union of all distinct letters in the training dataset and test dataset and convert the resulting list into an enumerated dictionary."
      ]
    },
    {
      "cell_type": "code",
      "metadata": {
        "id": "aQfneNsmlJI0"
      },
      "source": [
        "vocab_list = list(set(vocabs[\"train\"][\"vocab\"][0]) | set(vocabs[\"test\"][\"vocab\"][0]))"
      ],
      "execution_count": 15,
      "outputs": []
    },
    {
      "cell_type": "code",
      "metadata": {
        "colab": {
          "base_uri": "https://localhost:8080/"
        },
        "id": "_0kRndSvqaKk",
        "outputId": "980f1761-3f81-41a5-815e-d58d80bb28d1"
      },
      "source": [
        "vocab_dict = {v: k for k, v in enumerate(vocab_list)}\n",
        "vocab_dict"
      ],
      "execution_count": 16,
      "outputs": [
        {
          "output_type": "execute_result",
          "data": {
            "text/plain": [
              "{'k': 0,\n",
              " 'p': 1,\n",
              " 'z': 2,\n",
              " 'y': 3,\n",
              " 'u': 4,\n",
              " 'o': 5,\n",
              " 'l': 6,\n",
              " 'b': 7,\n",
              " 'v': 8,\n",
              " ' ': 9,\n",
              " 'g': 10,\n",
              " 's': 11,\n",
              " 'f': 12,\n",
              " 'i': 13,\n",
              " 'a': 14,\n",
              " 'q': 15,\n",
              " 'e': 16,\n",
              " 'j': 17,\n",
              " 'r': 18,\n",
              " 't': 19,\n",
              " 'd': 20,\n",
              " 'w': 21,\n",
              " 'c': 22,\n",
              " \"'\": 23,\n",
              " 'n': 24,\n",
              " 'x': 25,\n",
              " 'm': 26,\n",
              " 'h': 27}"
            ]
          },
          "metadata": {},
          "execution_count": 16
        }
      ]
    },
    {
      "cell_type": "markdown",
      "metadata": {
        "id": "JOSzbvs9SXT1"
      },
      "source": [
        "Cool, we see that all letters of the alphabet occur in the dataset (which is not really surprising) and we also extracted the special characters `\" \"` and `'`. Note that we did not exclude those special characters because: \n",
        "\n",
        "- The model has to learn to predict when a word finished or else the model prediction would always be a sequence of chars which would make it impossible to separate words from each other.\n",
        "- In English, we need to keep the `'` character to differentiate between words, *e.g.*, `\"it's\"` and `\"its\"` which have very different meanings."
      ]
    },
    {
      "cell_type": "markdown",
      "metadata": {
        "id": "b1fBRCn-TRaO"
      },
      "source": [
        "To make it clearer that `\" \"` has its own token class, we give it a more visible character `|`. In addition, we also add an \"unknown\" token so that the model can later deal with characters not encountered in Timit's training set. \n",
        "\n",
        "Finally, we also add a padding token that corresponds to CTC's \"*blank token*\". The \"blank token\" is a core component of the CTC algorithm. For more information, please take a look at the \"Alignment\" section [here](https://distill.pub/2017/ctc/)."
      ]
    },
    {
      "cell_type": "code",
      "metadata": {
        "id": "npbIbBoLgaFX"
      },
      "source": [
        "vocab_dict[\"|\"] = vocab_dict[\" \"]\n",
        "del vocab_dict[\" \"]"
      ],
      "execution_count": 17,
      "outputs": []
    },
    {
      "cell_type": "code",
      "metadata": {
        "id": "znF0bNunsjbl",
        "colab": {
          "base_uri": "https://localhost:8080/"
        },
        "outputId": "f4204d26-4515-4e8d-c41e-614f5c419936"
      },
      "source": [
        "vocab_dict[\"[UNK]\"] = len(vocab_dict)\n",
        "vocab_dict[\"[PAD]\"] = len(vocab_dict)\n",
        "len(vocab_dict)"
      ],
      "execution_count": 18,
      "outputs": [
        {
          "output_type": "execute_result",
          "data": {
            "text/plain": [
              "30"
            ]
          },
          "metadata": {},
          "execution_count": 18
        }
      ]
    },
    {
      "cell_type": "markdown",
      "metadata": {
        "id": "SFPGfet8U5sL"
      },
      "source": [
        "Cool, now our vocabulary is complete and consists of 30 tokens, which means that the linear layer that we will add on top of the pretrained Wav2Vec2 checkpoint will have an output dimension of 30."
      ]
    },
    {
      "cell_type": "markdown",
      "metadata": {
        "id": "1CujRgBNVRaD"
      },
      "source": [
        "Let's now save the vocabulary as a json file."
      ]
    },
    {
      "cell_type": "code",
      "metadata": {
        "id": "ehyUoh9vk191"
      },
      "source": [
        "import json\n",
        "with open('vocab.json', 'w') as vocab_file:\n",
        "    json.dump(vocab_dict, vocab_file)"
      ],
      "execution_count": 19,
      "outputs": []
    },
    {
      "cell_type": "markdown",
      "metadata": {
        "id": "SHJDaKlIVVim"
      },
      "source": [
        "In a final step, we use the json file to instantiate an object of the `Wav2Vec2CTCTokenizer` class."
      ]
    },
    {
      "cell_type": "code",
      "metadata": {
        "id": "xriFGEWQkO4M"
      },
      "source": [
        "from transformers import Wav2Vec2CTCTokenizer\n",
        "\n",
        "tokenizer = Wav2Vec2CTCTokenizer(\"./vocab.json\", unk_token=\"[UNK]\", pad_token=\"[PAD]\", word_delimiter_token=\"|\")"
      ],
      "execution_count": 20,
      "outputs": []
    },
    {
      "cell_type": "markdown",
      "metadata": {
        "id": "P6L2EVWwIazG"
      },
      "source": [
        "If one wants to re-use the just created tokenizer with the fine-tuned model of this notebook, it is strongly advised to upload the `tokenizer` to the [🤗 Hub](https://huggingface.co/). Let's call the repo to which we will upload the files\n",
        "`\"wav2vec2-base-timit-demo-colab\"`:"
      ]
    },
    {
      "cell_type": "code",
      "metadata": {
        "id": "1mbffBdxIl0M"
      },
      "source": [
        "repo_name = \"wav2vec2-base-demo-colab\""
      ],
      "execution_count": 24,
      "outputs": []
    },
    {
      "cell_type": "markdown",
      "metadata": {
        "id": "pmpG2ftFIu3B"
      },
      "source": [
        "and upload the tokenizer to the [🤗 Hub](https://huggingface.co/)."
      ]
    },
    {
      "cell_type": "code",
      "metadata": {
        "colab": {
          "base_uri": "https://localhost:8080/"
        },
        "id": "ScBMUz8jIxJi",
        "outputId": "382374b9-a959-456a-9e37-77ceef67f861"
      },
      "source": [
        "tokenizer.push_to_hub(repo_name)"
      ],
      "execution_count": 25,
      "outputs": [
        {
          "output_type": "execute_result",
          "data": {
            "text/plain": [
              "CommitInfo(commit_url='https://huggingface.co/eaqui/wav2vec2-base-demo-colab/commit/45217280df14efbc572526abee3cd07fcf1d082c', commit_message='Upload tokenizer', commit_description='', oid='45217280df14efbc572526abee3cd07fcf1d082c', pr_url=None, pr_revision=None, pr_num=None)"
            ]
          },
          "metadata": {},
          "execution_count": 25
        }
      ]
    },
    {
      "cell_type": "markdown",
      "metadata": {
        "id": "KvL12DrNV4cx"
      },
      "source": [
        "Great, you can see the just created repository under `https://huggingface.co/<your-username>/wav2vec2-base-timit-demo-colab`"
      ]
    },
    {
      "cell_type": "markdown",
      "metadata": {
        "id": "mYcIiR2FQ96i"
      },
      "source": [
        "### Create Wav2Vec2 Feature Extractor"
      ]
    },
    {
      "cell_type": "markdown",
      "metadata": {
        "id": "Y6mDEyW719rx"
      },
      "source": [
        "Speech is a continuous signal and to be treated by computers, it first has to be discretized, which is usually called **sampling**. The sampling rate hereby plays an important role in that it defines how many data points of the speech signal are measured per second. Therefore, sampling with a higher sampling rate results in a better approximation of the *real* speech signal but also necessitates more values per second.\n",
        "\n",
        "A pretrained checkpoint expects its input data to have been sampled more or less from the same distribution as the data it was trained on. The same speech signals sampled at two different rates have a very different distribution, *e.g.*, doubling the sampling rate results in data points being twice as long. Thus, \n",
        "before fine-tuning a pretrained checkpoint of an ASR model, it is crucial to verify that the sampling rate of the data that was used to pretrain the model matches the sampling rate of the dataset used to fine-tune the model.\n",
        "\n",
        "Wav2Vec2 was pretrained on the audio data of [LibriSpeech](https://huggingface.co/datasets/librispeech_asr) and LibriVox which both were sampling with 16kHz. Our fine-tuning dataset, [Timit](hhtps://huggingface.co/datasets/timit_asr), was luckily also sampled with 16kHz. If the fine-tuning dataset would have been sampled with a rate lower or higher than 16kHz, we first would have had to up or downsample the speech signal to match the sampling rate of the data used for pretraining. \n",
        "\n"
      ]
    },
    {
      "cell_type": "markdown",
      "metadata": {
        "id": "KuUbPW7oV-B5"
      },
      "source": [
        "A Wav2Vec2 feature extractor object requires the following parameters to be instantiated:\n",
        "\n",
        "- `feature_size`: Speech models take a sequence of feature vectors as an input. While the length of this sequence obviously varies, the feature size should not. In the case of Wav2Vec2, the feature size is 1 because the model was trained on the raw speech signal ${}^2$.\n",
        "- `sampling_rate`: The sampling rate at which the model is trained on.\n",
        "- `padding_value`: For batched inference, shorter inputs need to be padded with a specific value\n",
        "- `do_normalize`: Whether the input should be *zero-mean-unit-variance* normalized or not. Usually, speech models perform better when normalizing the input\n",
        "- `return_attention_mask`: Whether the model should make use of an `attention_mask` for batched inference. In general, models should **always** make use of the `attention_mask` to mask padded tokens. However, due to a very specific design choice of `Wav2Vec2`'s \"base\" checkpoint, better results are achieved when using no `attention_mask`. This is **not** recommended for other speech models. For more information, one can take a look at [this](https://github.com/pytorch/fairseq/issues/3227) issue. **Important** If you want to use this notebook to fine-tune [large-lv60](https://huggingface.co/facebook/wav2vec2-large-lv60), this parameter should be set to `True`."
      ]
    },
    {
      "cell_type": "code",
      "metadata": {
        "id": "kAR0-2KLkopp"
      },
      "source": [
        "from transformers import Wav2Vec2FeatureExtractor\n",
        "\n",
        "feature_extractor = Wav2Vec2FeatureExtractor(feature_size=1, sampling_rate=16000, padding_value=0.0, do_normalize=True, return_attention_mask=False)"
      ],
      "execution_count": 26,
      "outputs": []
    },
    {
      "cell_type": "markdown",
      "metadata": {
        "id": "qUETetgqYC3W"
      },
      "source": [
        "Great, Wav2Vec2's feature extraction pipeline is thereby fully defined!\n",
        "\n",
        "To make the usage of Wav2Vec2 as user-friendly as possible, the feature extractor and tokenizer are *wrapped* into a single `Wav2Vec2Processor` class so that one only needs a `model` and `processor` object."
      ]
    },
    {
      "cell_type": "code",
      "metadata": {
        "id": "KYZtoW-tlZgl"
      },
      "source": [
        "from transformers import Wav2Vec2Processor\n",
        "\n",
        "processor = Wav2Vec2Processor(feature_extractor=feature_extractor, tokenizer=tokenizer)"
      ],
      "execution_count": 27,
      "outputs": []
    },
    {
      "cell_type": "markdown",
      "metadata": {
        "id": "DrKnYuvDIoOO"
      },
      "source": [
        "Next, we can prepare the dataset."
      ]
    },
    {
      "cell_type": "markdown",
      "metadata": {
        "id": "YFmShnl7RE35"
      },
      "source": [
        "### Preprocess Data\n",
        "\n",
        "So far, we have not looked at the actual values of the speech signal but just the transcription. In addition to `'text'`, our datasets include two more column names `'file'` and `'audio'`. `'file'` states the absolute path of the audio file. Let's take a look."
      ]
    },
    {
      "cell_type": "code",
      "metadata": {
        "colab": {
          "base_uri": "https://localhost:8080/",
          "height": 53
        },
        "id": "TTCS7W6XJ9BG",
        "outputId": "276f127d-81c4-481c-ee58-bdfd5e79e688"
      },
      "source": [
        "timit[\"train\"][0][\"file\"]"
      ],
      "execution_count": 28,
      "outputs": [
        {
          "output_type": "execute_result",
          "data": {
            "text/plain": [
              "'/root/.cache/huggingface/datasets/downloads/extracted/404950a46da14eac65eb4e2a8317b1372fb3971d980d91d5d5b221275b1fd7e0/data/TRAIN/DR4/MMDM0/SI681.WAV'"
            ],
            "application/vnd.google.colaboratory.intrinsic+json": {
              "type": "string"
            }
          },
          "metadata": {},
          "execution_count": 28
        }
      ]
    },
    {
      "cell_type": "markdown",
      "metadata": {
        "id": "BwxprOw4Nzrl"
      },
      "source": [
        "`Wav2Vec2` expects the input in the format of a 1-dimensional array of 16 kHz. This means that the audio file has to be loaded and resampled.\n",
        "\n",
        " Thankfully, `datasets` does this automatically when calling the column `audio`. Let try it out. "
      ]
    },
    {
      "cell_type": "code",
      "metadata": {
        "colab": {
          "base_uri": "https://localhost:8080/"
        },
        "id": "mk9QHuSsN7lf",
        "outputId": "3fca2617-195f-41dd-8193-94c155f4c75f"
      },
      "source": [
        "timit[\"train\"][0][\"audio\"]"
      ],
      "execution_count": 29,
      "outputs": [
        {
          "output_type": "execute_result",
          "data": {
            "text/plain": [
              "{'path': '/root/.cache/huggingface/datasets/downloads/extracted/404950a46da14eac65eb4e2a8317b1372fb3971d980d91d5d5b221275b1fd7e0/data/TRAIN/DR4/MMDM0/SI681.WAV',\n",
              " 'array': array([-2.1362305e-04,  6.1035156e-05,  3.0517578e-05, ...,\n",
              "        -3.0517578e-05, -9.1552734e-05, -6.1035156e-05], dtype=float32),\n",
              " 'sampling_rate': 16000}"
            ]
          },
          "metadata": {},
          "execution_count": 29
        }
      ]
    },
    {
      "cell_type": "markdown",
      "metadata": {
        "id": "wSBIGEiaKHMn"
      },
      "source": [
        "We can see that the audio file has automatically been loaded. This is thanks to the new [`\"Audio\"` feature](https://huggingface.co/docs/datasets/package_reference/main_classes.html?highlight=audio#datasets.Audio) introduced in `datasets == 4.13.3`, which loads and resamples audio files on-the-fly upon calling.\n",
        "\n",
        "The sampling rate is set to 16kHz which is what `Wav2Vec2` expects as an input."
      ]
    },
    {
      "cell_type": "markdown",
      "metadata": {
        "id": "SOckzFd4Mbzq"
      },
      "source": [
        "Great, let's listen to a couple of audio files to better understand the dataset and verify that the audio was correctly loaded. \n",
        "\n",
        "**Note**: *You can click the following cell a couple of times to listen to different speech samples.*"
      ]
    },
    {
      "cell_type": "code",
      "metadata": {
        "colab": {
          "base_uri": "https://localhost:8080/",
          "height": 93
        },
        "id": "dueM6U7Ev0OA",
        "outputId": "90343a02-31b1-4d79-950c-df7083d172fa"
      },
      "source": [
        "import IPython.display as ipd\n",
        "import numpy as np\n",
        "import random\n",
        "\n",
        "rand_int = random.randint(0, len(timit[\"train\"]))\n",
        "\n",
        "print(timit[\"train\"][rand_int][\"text\"])\n",
        "ipd.Audio(data=np.asarray(timit[\"train\"][rand_int][\"audio\"][\"array\"]), autoplay=True, rate=16000)"
      ],
      "execution_count": 30,
      "outputs": [
        {
          "output_type": "stream",
          "name": "stdout",
          "text": [
            "she had your dark suit in greasy wash water all year \n"
          ]
        },
        {
          "output_type": "execute_result",
          "data": {
            "text/plain": [
              "<IPython.lib.display.Audio object>"
            ],
            "text/html": [
              "\n",
              "                <audio  controls=\"controls\" autoplay=\"autoplay\">\n",
              "                    <source src=\"data:audio/wav;base64,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\" type=\"audio/wav\" />\n",
              "                    Your browser does not support the audio element.\n",
              "                </audio>\n",
              "              "
            ]
          },
          "metadata": {},
          "execution_count": 30
        }
      ]
    },
    {
      "cell_type": "markdown",
      "metadata": {
        "id": "1MaL9J2dNVtG"
      },
      "source": [
        "It can be heard, that the speakers change along with their speaking rate, accent, etc. Overall, the recordings sound relatively clear though, which is to be expected from a read speech corpus.\n",
        "\n",
        "Let's do a final check that the data is correctly prepared, by printing the shape of the speech input, its transcription, and the corresponding sampling rate.\n",
        "\n",
        "**Note**: *You can click the following cell a couple of times to verify multiple samples.*"
      ]
    },
    {
      "cell_type": "code",
      "metadata": {
        "colab": {
          "base_uri": "https://localhost:8080/"
        },
        "id": "1Po2g7YPuRTx",
        "outputId": "86de35f1-5736-412e-bb61-071ccbb533c4"
      },
      "source": [
        "rand_int = random.randint(0, len(timit[\"train\"]))\n",
        "\n",
        "print(\"Target text:\", timit[\"train\"][rand_int][\"text\"])\n",
        "print(\"Input array shape:\", np.asarray(timit[\"train\"][rand_int][\"audio\"][\"array\"]).shape)\n",
        "print(\"Sampling rate:\", timit[\"train\"][rand_int][\"audio\"][\"sampling_rate\"])"
      ],
      "execution_count": 31,
      "outputs": [
        {
          "output_type": "stream",
          "name": "stdout",
          "text": [
            "Target text: often you'll get back more than you put in \n",
            "Input array shape: (36045,)\n",
            "Sampling rate: 16000\n"
          ]
        }
      ]
    },
    {
      "cell_type": "markdown",
      "metadata": {
        "id": "M9teZcSwOBJ4"
      },
      "source": [
        "Good! Everything looks fine - the data is a 1-dimensional array, the sampling rate always corresponds to 16kHz, and the target text is normalized."
      ]
    },
    {
      "cell_type": "markdown",
      "metadata": {
        "id": "k3Pbn5WvOYZF"
      },
      "source": [
        "Finally, we can process the dataset to the format expected by the model for training. We will make use of the `map(...)` function.\n",
        "\n",
        "First, we load and resample the audio data, simply by calling `batch[\"audio\"]`.\n",
        "Second, we extract the `input_values` from the loaded audio file. In our case, the `Wav2Vec2Processor` only normalizes the data. For other speech models, however, this step can include more complex feature extraction, such as [Log-Mel feature extraction](https://en.wikipedia.org/wiki/Mel-frequency_cepstrum).\n",
        "Third, we encode the transcriptions to label ids.\n",
        "\n",
        "**Note**: This mapping function is a good example of how the `Wav2Vec2Processor` class should be used. In \"normal\" context, calling `processor(...)` is redirected to `Wav2Vec2FeatureExtractor`'s call method. When wrapping the processor into the `as_target_processor` context, however, the same method is redirected to `Wav2Vec2CTCTokenizer`'s call method.\n",
        "For more information please check the [docs](https://huggingface.co/transformers/master/model_doc/wav2vec2.html#transformers.Wav2Vec2Processor.__call__)."
      ]
    },
    {
      "cell_type": "code",
      "metadata": {
        "id": "eJY7I0XAwe9p"
      },
      "source": [
        "def prepare_dataset(batch):\n",
        "    audio = batch[\"audio\"]\n",
        "\n",
        "    # batched output is \"un-batched\" to ensure mapping is correct\n",
        "    batch[\"input_values\"] = processor(audio[\"array\"], sampling_rate=audio[\"sampling_rate\"]).input_values[0]\n",
        "    batch[\"input_length\"] = len(batch[\"input_values\"])\n",
        "    \n",
        "    with processor.as_target_processor():\n",
        "        batch[\"labels\"] = processor(batch[\"text\"]).input_ids\n",
        "    return batch"
      ],
      "execution_count": 32,
      "outputs": []
    },
    {
      "cell_type": "markdown",
      "metadata": {
        "id": "hVMZhH4-nP8-"
      },
      "source": [
        "Let's apply the data preparation function to all examples."
      ]
    },
    {
      "cell_type": "code",
      "metadata": {
        "id": "-np9xYK-wl8q",
        "colab": {
          "base_uri": "https://localhost:8080/",
          "height": 315
        },
        "outputId": "c9deefbe-acc6-465c-d266-3143326e2aa1"
      },
      "source": [
        "timit = timit.map(prepare_dataset, remove_columns=timit.column_names[\"train\"], num_proc=4)"
      ],
      "execution_count": 33,
      "outputs": [
        {
          "output_type": "stream",
          "name": "stderr",
          "text": [
            "/usr/local/lib/python3.8/dist-packages/transformers/models/wav2vec2/processing_wav2vec2.py:154: UserWarning: `as_target_processor` is deprecated and will be removed in v5 of Transformers. You can process your labels by using the argument `text` of the regular `__call__` method (either in the same call as your audio inputs, or in a separate call.\n",
            "  warnings.warn(\n",
            "/usr/local/lib/python3.8/dist-packages/transformers/models/wav2vec2/processing_wav2vec2.py:154: UserWarning: `as_target_processor` is deprecated and will be removed in v5 of Transformers. You can process your labels by using the argument `text` of the regular `__call__` method (either in the same call as your audio inputs, or in a separate call.\n",
            "  warnings.warn(\n",
            "/usr/local/lib/python3.8/dist-packages/transformers/models/wav2vec2/processing_wav2vec2.py:154: UserWarning: `as_target_processor` is deprecated and will be removed in v5 of Transformers. You can process your labels by using the argument `text` of the regular `__call__` method (either in the same call as your audio inputs, or in a separate call.\n",
            "  warnings.warn(\n",
            "/usr/local/lib/python3.8/dist-packages/transformers/models/wav2vec2/processing_wav2vec2.py:154: UserWarning: `as_target_processor` is deprecated and will be removed in v5 of Transformers. You can process your labels by using the argument `text` of the regular `__call__` method (either in the same call as your audio inputs, or in a separate call.\n",
            "  warnings.warn(\n",
            "/usr/local/lib/python3.8/dist-packages/transformers/models/wav2vec2/processing_wav2vec2.py:154: UserWarning: `as_target_processor` is deprecated and will be removed in v5 of Transformers. You can process your labels by using the argument `text` of the regular `__call__` method (either in the same call as your audio inputs, or in a separate call.\n",
            "  warnings.warn(\n",
            "/usr/local/lib/python3.8/dist-packages/transformers/models/wav2vec2/processing_wav2vec2.py:154: UserWarning: `as_target_processor` is deprecated and will be removed in v5 of Transformers. You can process your labels by using the argument `text` of the regular `__call__` method (either in the same call as your audio inputs, or in a separate call.\n",
            "  warnings.warn(\n",
            "/usr/local/lib/python3.8/dist-packages/transformers/models/wav2vec2/processing_wav2vec2.py:154: UserWarning: `as_target_processor` is deprecated and will be removed in v5 of Transformers. You can process your labels by using the argument `text` of the regular `__call__` method (either in the same call as your audio inputs, or in a separate call.\n",
            "  warnings.warn(\n",
            "/usr/local/lib/python3.8/dist-packages/transformers/models/wav2vec2/processing_wav2vec2.py:154: UserWarning: `as_target_processor` is deprecated and will be removed in v5 of Transformers. You can process your labels by using the argument `text` of the regular `__call__` method (either in the same call as your audio inputs, or in a separate call.\n",
            "  warnings.warn(\n"
          ]
        }
      ]
    },
    {
      "cell_type": "markdown",
      "metadata": {
        "id": "p_MuJSH8nTuQ"
      },
      "source": [
        "**Note**: Currently `datasets` make use of [`torchaudio`](https://pytorch.org/audio/stable/index.html) and [`librosa`](https://librosa.org/doc/latest/index.html) for audio loading and resampling. If you wish to implement your own costumized data loading/sampling, feel free to just make use of the `\"path\"` column instead and disregard the `\"audio\"` column."
      ]
    },
    {
      "cell_type": "markdown",
      "metadata": {
        "id": "M4J0bU1WsvAg"
      },
      "source": [
        "Long input sequences require a lot of memory. Since `Wav2Vec2` is based on `self-attention` the memory requirement scales quadratically with the input length for long input sequences (*cf.* with [this](https://www.reddit.com/r/MachineLearning/comments/genjvb/d_why_is_the_maximum_input_sequence_length_of/) reddit post). For this demo, let's filter all sequences that are longer than 4 seconds out of the training dataset."
      ]
    },
    {
      "cell_type": "code",
      "metadata": {
        "colab": {
          "base_uri": "https://localhost:8080/",
          "height": 49,
          "referenced_widgets": [
            "52b5e935039049339e1fe7765836796a",
            "d8405c9d70774b84b2488e9797096129",
            "8ae41ffa65bb40738f1fc86650efde9c",
            "3aaba88eb30e4dceb68e2bec00b64706",
            "60e56fd7224a4cff9f5a12e856548d09",
            "1d0a61fd70684d60b969808a364c171e",
            "aec84df5f4bc4d209bd6c0cd76d8efa3",
            "4a6bc12ed09d43f4ac29db6bf1d473cd",
            "69d673fd4b0446eb8134da48e377d62a",
            "5fd37e0d84b246d5bf099dcca1d11226",
            "802d05c5e83f402696587ff8f5db22ee"
          ]
        },
        "id": "nqGobEPUvG3v",
        "outputId": "3ed282b9-51e3-458f-90ca-aee4d39b1fa2"
      },
      "source": [
        "max_input_length_in_sec = 4.0\n",
        "timit[\"train\"] = timit[\"train\"].filter(lambda x: x < max_input_length_in_sec * processor.feature_extractor.sampling_rate, input_columns=[\"input_length\"])"
      ],
      "execution_count": 34,
      "outputs": [
        {
          "output_type": "display_data",
          "data": {
            "text/plain": [
              "  0%|          | 0/5 [00:00<?, ?ba/s]"
            ],
            "application/vnd.jupyter.widget-view+json": {
              "version_major": 2,
              "version_minor": 0,
              "model_id": "52b5e935039049339e1fe7765836796a"
            }
          },
          "metadata": {}
        }
      ]
    },
    {
      "cell_type": "markdown",
      "metadata": {
        "id": "25Genil2v_Br"
      },
      "source": [
        "Awesome, now we are ready to start training!"
      ]
    },
    {
      "cell_type": "markdown",
      "metadata": {
        "id": "gYlQkKVoRUos"
      },
      "source": [
        "## Training & Evaluation\n",
        "\n",
        "The data is processed so that we are ready to start setting up the training pipeline. We will make use of 🤗's [Trainer](https://huggingface.co/transformers/master/main_classes/trainer.html?highlight=trainer) for which we essentially need to do the following:\n",
        "\n",
        "- Define a data collator. In contrast to most NLP models, Wav2Vec2 has a much larger input length than output length. *E.g.*, a sample of input length 50000 has an output length of no more than 100. Given the large input sizes, it is much more efficient to pad the training batches dynamically meaning that all training samples should only be padded to the longest sample in their batch and not the overall longest sample. Therefore, fine-tuning Wav2Vec2 requires a special padding data collator, which we will define below\n",
        "\n",
        "- Evaluation metric. During training, the model should be evaluated on the word error rate. We should define a `compute_metrics` function accordingly\n",
        "\n",
        "- Load a pretrained checkpoint. We need to load a pretrained checkpoint and configure it correctly for training.\n",
        "\n",
        "- Define the training configuration.\n",
        "\n",
        "After having fine-tuned the model, we will correctly evaluate it on the test data and verify that it has indeed learned to correctly transcribe speech."
      ]
    },
    {
      "cell_type": "markdown",
      "metadata": {
        "id": "Slk403unUS91"
      },
      "source": [
        "### Set-up Trainer\n",
        "\n",
        "Let's start by defining the data collator. The code for the data collator was copied from [this example](https://github.com/huggingface/transformers/blob/9a06b6b11bdfc42eea08fa91d0c737d1863c99e3/examples/research_projects/wav2vec2/run_asr.py#L81).\n",
        "\n",
        "Without going into too many details, in contrast to the common data collators, this data collator treats the `input_values` and `labels` differently and thus applies to separate padding functions on them (again making use of Wav2Vec2's context manager). This is necessary because in speech input and output are of different modalities meaning that they should not be treated by the same padding function.\n",
        "Analogous to the common data collators, the padding tokens in the labels with `-100` so that those tokens are **not** taken into account when computing the loss."
      ]
    },
    {
      "cell_type": "code",
      "metadata": {
        "id": "tborvC9hx88e"
      },
      "source": [
        "import torch\n",
        "\n",
        "from dataclasses import dataclass, field\n",
        "from typing import Any, Dict, List, Optional, Union\n",
        "\n",
        "@dataclass\n",
        "class DataCollatorCTCWithPadding:\n",
        "    \"\"\"\n",
        "    Data collator that will dynamically pad the inputs received.\n",
        "    Args:\n",
        "        processor (:class:`~transformers.Wav2Vec2Processor`)\n",
        "            The processor used for proccessing the data.\n",
        "        padding (:obj:`bool`, :obj:`str` or :class:`~transformers.tokenization_utils_base.PaddingStrategy`, `optional`, defaults to :obj:`True`):\n",
        "            Select a strategy to pad the returned sequences (according to the model's padding side and padding index)\n",
        "            among:\n",
        "            * :obj:`True` or :obj:`'longest'`: Pad to the longest sequence in the batch (or no padding if only a single\n",
        "              sequence if provided).\n",
        "            * :obj:`'max_length'`: Pad to a maximum length specified with the argument :obj:`max_length` or to the\n",
        "              maximum acceptable input length for the model if that argument is not provided.\n",
        "            * :obj:`False` or :obj:`'do_not_pad'` (default): No padding (i.e., can output a batch with sequences of\n",
        "              different lengths).\n",
        "    \"\"\"\n",
        "\n",
        "    processor: Wav2Vec2Processor\n",
        "    padding: Union[bool, str] = True\n",
        "\n",
        "    def __call__(self, features: List[Dict[str, Union[List[int], torch.Tensor]]]) -> Dict[str, torch.Tensor]:\n",
        "        # split inputs and labels since they have to be of different lenghts and need\n",
        "        # different padding methods\n",
        "        input_features = [{\"input_values\": feature[\"input_values\"]} for feature in features]\n",
        "        label_features = [{\"input_ids\": feature[\"labels\"]} for feature in features]\n",
        "\n",
        "        batch = self.processor.pad(\n",
        "            input_features,\n",
        "            padding=self.padding,\n",
        "            return_tensors=\"pt\",\n",
        "        )\n",
        "        with self.processor.as_target_processor():\n",
        "            labels_batch = self.processor.pad(\n",
        "                label_features,\n",
        "                padding=self.padding,\n",
        "                return_tensors=\"pt\",\n",
        "            )\n",
        "\n",
        "        # replace padding with -100 to ignore loss correctly\n",
        "        labels = labels_batch[\"input_ids\"].masked_fill(labels_batch.attention_mask.ne(1), -100)\n",
        "\n",
        "        batch[\"labels\"] = labels\n",
        "\n",
        "        return batch"
      ],
      "execution_count": 35,
      "outputs": []
    },
    {
      "cell_type": "code",
      "metadata": {
        "id": "lbQf5GuZyQ4_"
      },
      "source": [
        "data_collator = DataCollatorCTCWithPadding(processor=processor, padding=True)"
      ],
      "execution_count": 36,
      "outputs": []
    },
    {
      "cell_type": "markdown",
      "metadata": {
        "id": "xO-Zdj-5cxXp"
      },
      "source": [
        "Next, the evaluation metric is defined. As mentioned earlier, the \n",
        "predominant metric in ASR is the word error rate (WER), hence we will use it in this notebook as well."
      ]
    },
    {
      "cell_type": "code",
      "metadata": {
        "id": "9Xsux2gmyXso",
        "colab": {
          "base_uri": "https://localhost:8080/",
          "height": 49,
          "referenced_widgets": [
            "4d9d47fa61e84f48afc91e39d23ef1bc",
            "0923950c505d43c9a1b961ba03061ab6",
            "ed31e750d01d4eb6bdeee48501ac2e2c",
            "edbf780c6ac5455da655d0c22d387a1f",
            "1780d31835854650b33046a6c0ecf19b",
            "afd08f09f4fe4e9f8356aef69cccab60",
            "bec204c1730945cead83b4ca3270617d",
            "6bef57207a2947dbbf91ce4a21dd00fd",
            "4057ab14f40b4defbfaf03aac93cfbbb",
            "0bda729b5f2f45ea89b65c896139678d",
            "89933b1e278e4d77b0f3d6de997ca460"
          ]
        },
        "outputId": "f31d3640-7f61-4c38-9a3f-e96629287c57"
      },
      "source": [
        "wer_metric = load_metric(\"wer\")"
      ],
      "execution_count": 37,
      "outputs": [
        {
          "output_type": "display_data",
          "data": {
            "text/plain": [
              "Downloading:   0%|          | 0.00/1.90k [00:00<?, ?B/s]"
            ],
            "application/vnd.jupyter.widget-view+json": {
              "version_major": 2,
              "version_minor": 0,
              "model_id": "4d9d47fa61e84f48afc91e39d23ef1bc"
            }
          },
          "metadata": {}
        }
      ]
    },
    {
      "cell_type": "markdown",
      "metadata": {
        "id": "E1qZU5p-deqB"
      },
      "source": [
        "The model will return a sequence of logit vectors:\n",
        "$\\mathbf{y}_1, \\ldots, \\mathbf{y}_m$ with $\\mathbf{y}_1 = f_{\\theta}(x_1, \\ldots, x_n)[0]$ and $n >> m$.\n",
        "\n",
        "A logit vector $\\mathbf{y}_1$ contains the log-odds for each word in the vocabulary we defined earlier, thus $\\text{len}(\\mathbf{y}_i) =$ `config.vocab_size`. We are interested in the most likely prediction of the model and thus take the `argmax(...)` of the logits. Also, we transform the encoded labels back to the original string by replacing `-100` with the `pad_token_id` and decoding the ids while making sure that consecutive tokens are **not** grouped to the same token in CTC style ${}^1$."
      ]
    },
    {
      "cell_type": "code",
      "metadata": {
        "id": "1XZ-kjweyTy_"
      },
      "source": [
        "def compute_metrics(pred):\n",
        "    pred_logits = pred.predictions\n",
        "    pred_ids = np.argmax(pred_logits, axis=-1)\n",
        "\n",
        "    pred.label_ids[pred.label_ids == -100] = processor.tokenizer.pad_token_id\n",
        "\n",
        "    pred_str = processor.batch_decode(pred_ids)\n",
        "    # we do not want to group tokens when computing the metrics\n",
        "    label_str = processor.batch_decode(pred.label_ids, group_tokens=False)\n",
        "\n",
        "    wer = wer_metric.compute(predictions=pred_str, references=label_str)\n",
        "\n",
        "    return {\"wer\": wer}"
      ],
      "execution_count": 38,
      "outputs": []
    },
    {
      "cell_type": "markdown",
      "metadata": {
        "id": "Xmgrx4bRwLIH"
      },
      "source": [
        "Now, we can load the pretrained `Wav2Vec2` checkpoint. The tokenizer's `pad_token_id` must be to define the model's `pad_token_id` or in the case of `Wav2Vec2ForCTC` also CTC's *blank token* ${}^2$. To save GPU memory, we enable PyTorch's [gradient checkpointing](https://pytorch.org/docs/stable/checkpoint.html) and also set the loss reduction to \"*mean*\"."
      ]
    },
    {
      "cell_type": "code",
      "metadata": {
        "colab": {
          "base_uri": "https://localhost:8080/",
          "height": 223,
          "referenced_widgets": [
            "beb29786151b48d28d2cf0b7c15f51c3",
            "25f73578121f45a8a8246c028c64edd5",
            "dc533282e149492ab5299901ab5a91ae",
            "8bff4e41cf824767b9ce07f34899f70a",
            "f56a5a91d52c4faf95f1bf8f74be34fd",
            "128c527a7a6c46eeb97770363e907101",
            "b870f42a7991410cab5d977d189dcfc4",
            "63d249c4b99d4d319a5bf9d9c2f1c6ad",
            "04039696c175467c9ce3d3af255c7df0",
            "ca6f58e4a495428b8fd5965d675a48db",
            "cdeb63e6db7247558aa3bf5520160c36",
            "fa7090c771154748af39216cd4432323",
            "1d2ee72a9bca44ab8fa3f707847982f6",
            "0bf2cbb5d6df4792b6cb54609c5c2645",
            "3106157143fd4da48e3fe223addbfb77",
            "1d1b703b9c6c4a4fb7993a07b2b8aecb",
            "8b204fb1caa142ce975924ce34536ed7",
            "024905f3cbe44a9c86456b88c4348e1a",
            "1265ae8564514d40bff976f554d25710",
            "826666b59d4347748aa7b961a6b88668",
            "ee9190bf654f4b08ac976f5cb6e8f73d",
            "e43ef61204a4419a84769542ffb36bdb"
          ]
        },
        "id": "e7cqAWIayn6w",
        "outputId": "5a518341-ec88-4286-d04d-8770ffad0f84"
      },
      "source": [
        "from transformers import Wav2Vec2ForCTC\n",
        "\n",
        "model = Wav2Vec2ForCTC.from_pretrained(\n",
        "    \"facebook/wav2vec2-base\",\n",
        "    ctc_loss_reduction=\"mean\", \n",
        "    pad_token_id=processor.tokenizer.pad_token_id,\n",
        ")"
      ],
      "execution_count": 39,
      "outputs": [
        {
          "output_type": "display_data",
          "data": {
            "text/plain": [
              "Downloading:   0%|          | 0.00/1.84k [00:00<?, ?B/s]"
            ],
            "application/vnd.jupyter.widget-view+json": {
              "version_major": 2,
              "version_minor": 0,
              "model_id": "beb29786151b48d28d2cf0b7c15f51c3"
            }
          },
          "metadata": {}
        },
        {
          "output_type": "stream",
          "name": "stderr",
          "text": [
            "/usr/local/lib/python3.8/dist-packages/transformers/configuration_utils.py:369: UserWarning: Passing `gradient_checkpointing` to a config initialization is deprecated and will be removed in v5 Transformers. Using `model.gradient_checkpointing_enable()` instead, or if you are using the `Trainer` API, pass `gradient_checkpointing=True` in your `TrainingArguments`.\n",
            "  warnings.warn(\n"
          ]
        },
        {
          "output_type": "display_data",
          "data": {
            "text/plain": [
              "Downloading:   0%|          | 0.00/380M [00:00<?, ?B/s]"
            ],
            "application/vnd.jupyter.widget-view+json": {
              "version_major": 2,
              "version_minor": 0,
              "model_id": "fa7090c771154748af39216cd4432323"
            }
          },
          "metadata": {}
        },
        {
          "output_type": "stream",
          "name": "stderr",
          "text": [
            "Some weights of the model checkpoint at facebook/wav2vec2-base were not used when initializing Wav2Vec2ForCTC: ['project_q.bias', 'project_hid.weight', 'quantizer.codevectors', 'quantizer.weight_proj.weight', 'project_hid.bias', 'project_q.weight', 'quantizer.weight_proj.bias']\n",
            "- This IS expected if you are initializing Wav2Vec2ForCTC from the checkpoint of a model trained on another task or with another architecture (e.g. initializing a BertForSequenceClassification model from a BertForPreTraining model).\n",
            "- This IS NOT expected if you are initializing Wav2Vec2ForCTC from the checkpoint of a model that you expect to be exactly identical (initializing a BertForSequenceClassification model from a BertForSequenceClassification model).\n",
            "Some weights of Wav2Vec2ForCTC were not initialized from the model checkpoint at facebook/wav2vec2-base and are newly initialized: ['lm_head.weight', 'lm_head.bias']\n",
            "You should probably TRAIN this model on a down-stream task to be able to use it for predictions and inference.\n"
          ]
        }
      ]
    },
    {
      "cell_type": "markdown",
      "metadata": {
        "id": "1DwR3XLSzGDD"
      },
      "source": [
        "The first component of Wav2Vec2 consists of a stack of CNN layers that are used to extract acoustically meaningful - but contextually independent - features from the raw speech signal. This part of the model has already been sufficiently trained during pretrainind and as stated in the [paper](https://arxiv.org/abs/2006.11477) does not need to be fine-tuned anymore. \n",
        "Thus, we can set the `requires_grad` to `False` for all parameters of the *feature extraction* part."
      ]
    },
    {
      "cell_type": "code",
      "source": [
        "model.freeze_feature_encoder()"
      ],
      "metadata": {
        "id": "Et_NUAZjWppc"
      },
      "execution_count": 40,
      "outputs": []
    },
    {
      "cell_type": "markdown",
      "metadata": {
        "id": "lD4aGhQM0K-D"
      },
      "source": [
        "In a final step, we define all parameters related to training. \n",
        "To give more explanation on some of the parameters:\n",
        "- `group_by_length` makes training more efficient by grouping training samples of similar input length into one batch. This can significantly speed up training time by heavily reducing the overall number of useless padding tokens that are passed through the model\n",
        "- `learning_rate` and `weight_decay` were heuristically tuned until fine-tuning has become stable. Note that those parameters strongly depend on the Timit dataset and might be suboptimal for other speech datasets.\n",
        "\n",
        "For more explanations on other parameters, one can take a look at the [docs](https://huggingface.co/transformers/master/main_classes/trainer.html?highlight=trainer#trainingarguments).\n",
        "\n",
        "During training, a checkpoint will be uploaded asynchronously to the hub every 400 training steps. It allows you to also play around with the demo widget even while your model is still training.\n",
        "\n",
        "**Note**: If one does not want to upload the model checkpoints to the hub, simply set `push_to_hub=False`."
      ]
    },
    {
      "cell_type": "code",
      "metadata": {
        "id": "KbeKSV7uzGPP"
      },
      "source": [
        "from transformers import TrainingArguments\n",
        "\n",
        "training_args = TrainingArguments(\n",
        "  output_dir=repo_name,\n",
        "  overwrite_output_dir=True,\n",
        "  group_by_length=True,\n",
        "  per_device_train_batch_size=8,\n",
        "  evaluation_strategy=\"steps\",\n",
        "  num_train_epochs=30,\n",
        "  fp16=True,\n",
        "  gradient_checkpointing=True,\n",
        "  save_steps=500,\n",
        "  eval_steps=500,\n",
        "  logging_steps=500,\n",
        "  learning_rate=1e-4,\n",
        "  weight_decay=0.005,\n",
        "  warmup_steps=1000,\n",
        "  save_total_limit=2,\n",
        ")"
      ],
      "execution_count": 41,
      "outputs": []
    },
    {
      "cell_type": "markdown",
      "metadata": {
        "id": "OsW-WZcL1ZtN"
      },
      "source": [
        "Now, all instances can be passed to Trainer and we are ready to start training!"
      ]
    },
    {
      "cell_type": "code",
      "metadata": {
        "id": "rY7vBmFCPFgC",
        "colab": {
          "base_uri": "https://localhost:8080/"
        },
        "outputId": "f3611dd8-762b-4784-d4cb-6969636dc7cd"
      },
      "source": [
        "from transformers import Trainer\n",
        "\n",
        "trainer = Trainer(\n",
        "    model=model,\n",
        "    data_collator=data_collator,\n",
        "    args=training_args,\n",
        "    compute_metrics=compute_metrics,\n",
        "    train_dataset=timit[\"train\"],\n",
        "    eval_dataset=timit[\"test\"],\n",
        "    tokenizer=processor.feature_extractor,\n",
        ")"
      ],
      "execution_count": 42,
      "outputs": [
        {
          "output_type": "stream",
          "name": "stderr",
          "text": [
            "Using cuda_amp half precision backend\n"
          ]
        }
      ]
    },
    {
      "cell_type": "markdown",
      "metadata": {
        "id": "UoXBx1JAA0DX"
      },
      "source": [
        "\n",
        "\n",
        "---\n",
        "\n",
        "${}^1$ To allow models to become independent of the speaker rate, in CTC, consecutive tokens that are identical are simply grouped as a single token. However, the encoded labels should not be grouped when decoding since they don't correspond to the predicted tokens of the model, which is why the `group_tokens=False` parameter has to be passed. If we wouldn't pass this parameter a word like `\"hello\"` would incorrectly be encoded, and decoded as `\"helo\"`.\n",
        "\n",
        "${}^2$ The blank token allows the model to predict a word, such as `\"hello\"` by forcing it to insert the blank token between the two l's. A CTC-conform prediction of `\"hello\"` of our model would be `[PAD] [PAD] \"h\" \"e\" \"e\" \"l\" \"l\" [PAD] \"l\" \"o\" \"o\" [PAD]`."
      ]
    },
    {
      "cell_type": "markdown",
      "metadata": {
        "id": "rpvZHM1xReIW"
      },
      "source": [
        "### Training"
      ]
    },
    {
      "cell_type": "markdown",
      "metadata": {
        "id": "j-3oKSzZ1hGq"
      },
      "source": [
        "Training will take between 90 and 270 minutes depending on the GPU allocated to this notebook. While the trained model yields satisfying results on *Timit*'s test data, it is by no means an optimally fine-tuned model. The purpose of this notebook is to demonstrate how Wav2Vec2's [base](https://huggingface.co/facebook/wav2vec2-base), [large](https://huggingface.co/facebook/wav2vec2-large), and [large-lv60](https://huggingface.co/facebook/wav2vec2-large-lv60) checkpoints can be fine-tuned on any English dataset.\n",
        "\n",
        "In case you want to use this google colab to fine-tune your model, you should make sure that your training doesn't stop due to inactivity. A simple hack to prevent this is to paste the following code into the console of this tab (*right mouse click -> inspect -> Console tab and insert code*)."
      ]
    },
    {
      "cell_type": "markdown",
      "metadata": {
        "id": "VYYAvgkW4P0m"
      },
      "source": [
        "```javascript\n",
        "function ConnectButton(){\n",
        "    console.log(\"Connect pushed\"); \n",
        "    document.querySelector(\"#top-toolbar > colab-connect-button\").shadowRoot.querySelector(\"#connect\").click() \n",
        "}\n",
        "setInterval(ConnectButton,60000);\n",
        "```"
      ]
    },
    {
      "cell_type": "markdown",
      "metadata": {
        "id": "PmY6yqd1zvzU"
      },
      "source": [
        "Depending on what GPU was allocated to your google colab it might be possible that you are seeing an `\"out-of-memory\"` error here. In this case, it's probably best to reduce `per_device_train_batch_size` to 16 or even less and eventually make use of [`gradient_accumulation`](https://huggingface.co/transformers/master/main_classes/trainer.html#trainingarguments)."
      ]
    },
    {
      "cell_type": "code",
      "metadata": {
        "colab": {
          "base_uri": "https://localhost:8080/",
          "height": 526
        },
        "id": "_UEjJqGsQw24",
        "outputId": "94cd2634-3a9c-4e38-9b47-7526f89a57d9"
      },
      "source": [
        "trainer.train()"
      ],
      "execution_count": null,
      "outputs": [
        {
          "output_type": "stream",
          "name": "stderr",
          "text": [
            "The following columns in the training set don't have a corresponding argument in `Wav2Vec2ForCTC.forward` and have been ignored: input_length. If input_length are not expected by `Wav2Vec2ForCTC.forward`,  you can safely ignore this message.\n",
            "/usr/local/lib/python3.8/dist-packages/transformers/optimization.py:306: FutureWarning: This implementation of AdamW is deprecated and will be removed in a future version. Use the PyTorch implementation torch.optim.AdamW instead, or set `no_deprecation_warning=True` to disable this warning\n",
            "  warnings.warn(\n",
            "***** Running training *****\n",
            "  Num examples = 3978\n",
            "  Num Epochs = 30\n",
            "  Instantaneous batch size per device = 8\n",
            "  Total train batch size (w. parallel, distributed & accumulation) = 8\n",
            "  Gradient Accumulation steps = 1\n",
            "  Total optimization steps = 14940\n",
            "  Number of trainable parameters = 90195872\n",
            "/usr/local/lib/python3.8/dist-packages/transformers/models/wav2vec2/processing_wav2vec2.py:154: UserWarning: `as_target_processor` is deprecated and will be removed in v5 of Transformers. You can process your labels by using the argument `text` of the regular `__call__` method (either in the same call as your audio inputs, or in a separate call.\n",
            "  warnings.warn(\n"
          ]
        },
        {
          "output_type": "display_data",
          "data": {
            "text/plain": [
              "<IPython.core.display.HTML object>"
            ],
            "text/html": [
              "\n",
              "    <div>\n",
              "      \n",
              "      <progress value='572' max='14940' style='width:300px; height:20px; vertical-align: middle;'></progress>\n",
              "      [  572/14940 04:20 < 1:49:25, 2.19 it/s, Epoch 1.15/30]\n",
              "    </div>\n",
              "    <table border=\"1\" class=\"dataframe\">\n",
              "  <thead>\n",
              " <tr style=\"text-align: left;\">\n",
              "      <th>Step</th>\n",
              "      <th>Training Loss</th>\n",
              "      <th>Validation Loss</th>\n",
              "      <th>Wer</th>\n",
              "    </tr>\n",
              "  </thead>\n",
              "  <tbody>\n",
              "    <tr>\n",
              "      <td>500</td>\n",
              "      <td>3.485700</td>\n",
              "      <td>1.605407</td>\n",
              "      <td>1.031287</td>\n",
              "    </tr>\n",
              "  </tbody>\n",
              "</table><p>"
            ]
          },
          "metadata": {}
        },
        {
          "output_type": "stream",
          "name": "stderr",
          "text": [
            "The following columns in the evaluation set don't have a corresponding argument in `Wav2Vec2ForCTC.forward` and have been ignored: input_length. If input_length are not expected by `Wav2Vec2ForCTC.forward`,  you can safely ignore this message.\n",
            "***** Running Evaluation *****\n",
            "  Num examples = 1680\n",
            "  Batch size = 8\n",
            "Saving model checkpoint to wav2vec2-base-demo-colab/checkpoint-500\n",
            "Configuration saved in wav2vec2-base-demo-colab/checkpoint-500/config.json\n",
            "Model weights saved in wav2vec2-base-demo-colab/checkpoint-500/pytorch_model.bin\n",
            "Feature extractor saved in wav2vec2-base-demo-colab/checkpoint-500/preprocessor_config.json\n",
            "/usr/local/lib/python3.8/dist-packages/transformers/models/wav2vec2/processing_wav2vec2.py:154: UserWarning: `as_target_processor` is deprecated and will be removed in v5 of Transformers. You can process your labels by using the argument `text` of the regular `__call__` method (either in the same call as your audio inputs, or in a separate call.\n",
            "  warnings.warn(\n"
          ]
        }
      ]
    },
    {
      "cell_type": "markdown",
      "metadata": {
        "id": "UCyp-v3n4Zlt"
      },
      "source": [
        "The final WER should be around 0.3 which is reasonable given that state-of-the-art phoneme error rates (PER) are just below 0.1 (see [leaderboard](https://paperswithcode.com/sota/speech-recognition-on-timit)) and that WER is usually worse than PER.\n",
        "\n",
        "You can now upload the result of the training to the Hub, just execute this instruction:"
      ]
    },
    {
      "cell_type": "code",
      "metadata": {
        "id": "JYGQYBhHNsvj"
      },
      "source": [
        "trainer.push_to_hub()"
      ],
      "execution_count": null,
      "outputs": []
    },
    {
      "cell_type": "markdown",
      "metadata": {
        "id": "djzwS5WeNu16"
      },
      "source": [
        "You can now share this model with all your friends, family, favorite pets: they can all load it with the identifier \"your-username/the-name-you-picked\" so for instance:"
      ]
    },
    {
      "cell_type": "markdown",
      "metadata": {
        "id": "Adm0LngNNxq7"
      },
      "source": [
        "```python\n",
        "from transformers import AutoModelForCTC, Wav2Vec2Processor\n",
        "\n",
        "model = AutoModelForCTC.from_pretrained(\"patrickvonplaten/wav2vec2-base-timit-demo-google-colab\")\n",
        "processor = Wav2Vec2Processor.from_pretrained(\"patrickvonplaten/wav2vec2-base-timit-demo-google-colab\")\n",
        "```"
      ]
    },
    {
      "cell_type": "markdown",
      "metadata": {
        "id": "nD4XP5IHncsY"
      },
      "source": [
        "### Evaluate\n",
        "\n",
        "In the final part, we run our model on some of the validation data to get a feeling for how well it works.\n",
        "\n",
        "Let's load the `processor` and `model`."
      ]
    },
    {
      "cell_type": "code",
      "metadata": {
        "id": "-rg0USDCnbo6",
        "colab": {
          "base_uri": "https://localhost:8080/",
          "height": 718,
          "referenced_widgets": [
            "524b5795780746f5966c06b878cc0fbc",
            "8eb41fee8e1c452a9d69a07a266d871a",
            "f22febfc3bbe48058be84b2a20e906f5",
            "ab51fefefa1b464a9a780b80c6f0c020",
            "88fd1cb973f8485b97caa19b7801c3d3",
            "3234edc4a75e4658acd19feef174e88f",
            "6bfe6219ad934146a4d680e38ed19879",
            "63e9fc689ea54fbfa7226cc9918977cb",
            "dc034b4bf9e34963ab79f391c55d44ac",
            "6b3288ffeef34c2a925d2554c7c4f521",
            "116e45bbe2d640d18d6a47309692dc20",
            "66d5a397b26e4d66a97bc3b3159e96bd",
            "041870fd5bac43b394956252364a16c4",
            "26f6574d99724fb29159071dda6039b5",
            "55d0bfd5c746402f89e6b86a7ca37b3a",
            "b69bad861f014c20b4cb470c73b1fe37",
            "940e030ce7ae40d68136ddf1a1a67736",
            "c80bdd3bae794c08b81c950a33ff9ba0",
            "7b0c8bc5bb66433384aeb47bf99001ae",
            "6b03d462bd0f4fbeab0df76bbb881621",
            "be78bdab8638431e80c087a0fe9a7a8f",
            "d44a1f0b3216469fb1ac597951f9471a",
            "a0e897961bb049438847879cf082adf3",
            "820ac3ce474346728b80a609d47848ee",
            "045273b88fa04afba97bf7ba6027f164",
            "4847949da7b64782895b4fca8b432ec8",
            "427b99cf8b964a59bbbf0b4d04504906",
            "f652ea3e007c42669e445a7247bb0430",
            "527bf8b3612b4da89479424c5b66681e",
            "708ff309676040119bccd6f21d1684f6",
            "6a8694b9181f4828ba3ef4ff828fd1c3",
            "90dbfe5bab604315b329a6a8fcf131b1",
            "b1a51bfb07774b7bac783d1c4d5a680c",
            "6ca0c9b3d250425b9597de9baa6bd77b",
            "b7d46c7f5da646eba0ed9e38fed6b4ee",
            "7291673613bb43848bec1abee7447078",
            "5c49d625a7f742f1a64820bc6f749f3a",
            "a6a5bcb980df41d1b3e7b581701eae16",
            "6412d390b2ce416fae910d689c3f6e70",
            "255c276a050446ed9df81f8eeb7c1178",
            "ddd975596c234b0eacc40ef18ef40778",
            "a5fd824b8eb64bb7b8d83354961927e6",
            "17e3d063396848548af91c55c8f8e282",
            "a3b48bc669674ff2a0bcce75a50e81eb"
          ]
        },
        "outputId": "ddfac637-7c6d-4df1-a07a-4f1278fff182"
      },
      "source": [
        "processor = Wav2Vec2Processor.from_pretrained(\"patrickvonplaten/wav2vec2-base-timit-demo-google-colab\")"
      ],
      "execution_count": null,
      "outputs": [
        {
          "output_type": "stream",
          "name": "stderr",
          "text": [
            "https://huggingface.co/patrickvonplaten/wav2vec2-base-timit-demo-google-colab/resolve/main/preprocessor_config.json not found in cache or force_download set to True, downloading to /root/.cache/huggingface/transformers/tmpjyd34ogd\n"
          ]
        },
        {
          "output_type": "display_data",
          "data": {
            "text/plain": [
              "Downloading:   0%|          | 0.00/215 [00:00<?, ?B/s]"
            ],
            "application/vnd.jupyter.widget-view+json": {
              "version_major": 2,
              "version_minor": 0,
              "model_id": "524b5795780746f5966c06b878cc0fbc"
            }
          },
          "metadata": {}
        },
        {
          "output_type": "stream",
          "name": "stderr",
          "text": [
            "storing https://huggingface.co/patrickvonplaten/wav2vec2-base-timit-demo-google-colab/resolve/main/preprocessor_config.json in cache at /root/.cache/huggingface/transformers/17fa07f6e2f88edf24c71037bed1b7cf0cf9acfef7d3353afb589689627542c1.0e3e6656f99a6f7b9eddd943463eb7f34363640fce9e87b047ebd50d4b112b50\n",
            "creating metadata file for /root/.cache/huggingface/transformers/17fa07f6e2f88edf24c71037bed1b7cf0cf9acfef7d3353afb589689627542c1.0e3e6656f99a6f7b9eddd943463eb7f34363640fce9e87b047ebd50d4b112b50\n",
            "loading feature extractor configuration file https://huggingface.co/patrickvonplaten/wav2vec2-base-timit-demo-google-colab/resolve/main/preprocessor_config.json from cache at /root/.cache/huggingface/transformers/17fa07f6e2f88edf24c71037bed1b7cf0cf9acfef7d3353afb589689627542c1.0e3e6656f99a6f7b9eddd943463eb7f34363640fce9e87b047ebd50d4b112b50\n",
            "Feature extractor Wav2Vec2FeatureExtractor {\n",
            "  \"do_normalize\": true,\n",
            "  \"feature_extractor_type\": \"Wav2Vec2FeatureExtractor\",\n",
            "  \"feature_size\": 1,\n",
            "  \"padding_side\": \"right\",\n",
            "  \"padding_value\": 0.0,\n",
            "  \"return_attention_mask\": false,\n",
            "  \"sampling_rate\": 16000\n",
            "}\n",
            "\n",
            "https://huggingface.co/patrickvonplaten/wav2vec2-base-timit-demo-google-colab/resolve/main/tokenizer_config.json not found in cache or force_download set to True, downloading to /root/.cache/huggingface/transformers/tmpcsym765z\n"
          ]
        },
        {
          "output_type": "display_data",
          "data": {
            "text/plain": [
              "Downloading:   0%|          | 0.00/217 [00:00<?, ?B/s]"
            ],
            "application/vnd.jupyter.widget-view+json": {
              "version_major": 2,
              "version_minor": 0,
              "model_id": "66d5a397b26e4d66a97bc3b3159e96bd"
            }
          },
          "metadata": {}
        },
        {
          "output_type": "stream",
          "name": "stderr",
          "text": [
            "storing https://huggingface.co/patrickvonplaten/wav2vec2-base-timit-demo-google-colab/resolve/main/tokenizer_config.json in cache at /root/.cache/huggingface/transformers/7bf2e07c1c7ed7e3d055d87aa6bd33c75e6883d98029ae3744fed6bea9e35095.59710b1a6a5501d31e746b6e464f5c44de3e55a58f80634196025936683a68a9\n",
            "creating metadata file for /root/.cache/huggingface/transformers/7bf2e07c1c7ed7e3d055d87aa6bd33c75e6883d98029ae3744fed6bea9e35095.59710b1a6a5501d31e746b6e464f5c44de3e55a58f80634196025936683a68a9\n",
            "https://huggingface.co/patrickvonplaten/wav2vec2-base-timit-demo-google-colab/resolve/main/vocab.json not found in cache or force_download set to True, downloading to /root/.cache/huggingface/transformers/tmpptj3is25\n"
          ]
        },
        {
          "output_type": "display_data",
          "data": {
            "text/plain": [
              "Downloading:   0%|          | 0.00/268 [00:00<?, ?B/s]"
            ],
            "application/vnd.jupyter.widget-view+json": {
              "version_major": 2,
              "version_minor": 0,
              "model_id": "a0e897961bb049438847879cf082adf3"
            }
          },
          "metadata": {}
        },
        {
          "output_type": "stream",
          "name": "stderr",
          "text": [
            "storing https://huggingface.co/patrickvonplaten/wav2vec2-base-timit-demo-google-colab/resolve/main/vocab.json in cache at /root/.cache/huggingface/transformers/f739813380b0880ba302557f0f990f0f64e8efe81fcc91a4fce08206a91ee215.c44a036121683e19f1a033a1765d4344364cb4633a6cbf5cf51b153f2388abb1\n",
            "creating metadata file for /root/.cache/huggingface/transformers/f739813380b0880ba302557f0f990f0f64e8efe81fcc91a4fce08206a91ee215.c44a036121683e19f1a033a1765d4344364cb4633a6cbf5cf51b153f2388abb1\n",
            "https://huggingface.co/patrickvonplaten/wav2vec2-base-timit-demo-google-colab/resolve/main/special_tokens_map.json not found in cache or force_download set to True, downloading to /root/.cache/huggingface/transformers/tmpckp9vkh1\n"
          ]
        },
        {
          "output_type": "display_data",
          "data": {
            "text/plain": [
              "Downloading:   0%|          | 0.00/85.0 [00:00<?, ?B/s]"
            ],
            "application/vnd.jupyter.widget-view+json": {
              "version_major": 2,
              "version_minor": 0,
              "model_id": "6ca0c9b3d250425b9597de9baa6bd77b"
            }
          },
          "metadata": {}
        },
        {
          "output_type": "stream",
          "name": "stderr",
          "text": [
            "storing https://huggingface.co/patrickvonplaten/wav2vec2-base-timit-demo-google-colab/resolve/main/special_tokens_map.json in cache at /root/.cache/huggingface/transformers/c239f3738252f8d8e83d9813ea82866aeec476c467a008db86229f4edc6490b0.a21d51735cf8667bcd610f057e88548d5d6a381401f6b4501a8bc6c1a9dc8498\n",
            "creating metadata file for /root/.cache/huggingface/transformers/c239f3738252f8d8e83d9813ea82866aeec476c467a008db86229f4edc6490b0.a21d51735cf8667bcd610f057e88548d5d6a381401f6b4501a8bc6c1a9dc8498\n",
            "loading file https://huggingface.co/patrickvonplaten/wav2vec2-base-timit-demo-google-colab/resolve/main/vocab.json from cache at /root/.cache/huggingface/transformers/f739813380b0880ba302557f0f990f0f64e8efe81fcc91a4fce08206a91ee215.c44a036121683e19f1a033a1765d4344364cb4633a6cbf5cf51b153f2388abb1\n",
            "loading file https://huggingface.co/patrickvonplaten/wav2vec2-base-timit-demo-google-colab/resolve/main/tokenizer_config.json from cache at /root/.cache/huggingface/transformers/7bf2e07c1c7ed7e3d055d87aa6bd33c75e6883d98029ae3744fed6bea9e35095.59710b1a6a5501d31e746b6e464f5c44de3e55a58f80634196025936683a68a9\n",
            "loading file https://huggingface.co/patrickvonplaten/wav2vec2-base-timit-demo-google-colab/resolve/main/added_tokens.json from cache at None\n",
            "loading file https://huggingface.co/patrickvonplaten/wav2vec2-base-timit-demo-google-colab/resolve/main/special_tokens_map.json from cache at /root/.cache/huggingface/transformers/c239f3738252f8d8e83d9813ea82866aeec476c467a008db86229f4edc6490b0.a21d51735cf8667bcd610f057e88548d5d6a381401f6b4501a8bc6c1a9dc8498\n",
            "Adding <s> to the vocabulary\n",
            "Adding </s> to the vocabulary\n",
            "Special tokens have been added in the vocabulary, make sure the associated word embeddings are fine-tuned or trained.\n"
          ]
        }
      ]
    },
    {
      "cell_type": "code",
      "metadata": {
        "id": "sSpFW3pDn23P",
        "colab": {
          "base_uri": "https://localhost:8080/"
        },
        "outputId": "dd9ac831-3620-4b87-98b6-c85a57150a15"
      },
      "source": [
        "model = Wav2Vec2ForCTC.from_pretrained(\"patrickvonplaten/wav2vec2-base-timit-demo-google-colab\").cuda()"
      ],
      "execution_count": null,
      "outputs": [
        {
          "output_type": "stream",
          "name": "stderr",
          "text": [
            "loading configuration file https://huggingface.co/patrickvonplaten/wav2vec2-base-timit-demo-google-colab/resolve/main/config.json from cache at /root/.cache/huggingface/transformers/7606a293c66b1cba6bb9a342dcffe3831dc19a120cfeeb9e57cdf6ffb9630f3f.3202909be16e9c482257d0c4d35b4f4c2558cea585027c729eed803ba4bf0d8e\n",
            "Model config Wav2Vec2Config {\n",
            "  \"_name_or_path\": \"facebook/wav2vec2-base\",\n",
            "  \"activation_dropout\": 0.0,\n",
            "  \"adapter_kernel_size\": 3,\n",
            "  \"adapter_stride\": 2,\n",
            "  \"add_adapter\": false,\n",
            "  \"apply_spec_augment\": true,\n",
            "  \"architectures\": [\n",
            "    \"Wav2Vec2ForCTC\"\n",
            "  ],\n",
            "  \"attention_dropout\": 0.1,\n",
            "  \"bos_token_id\": 1,\n",
            "  \"classifier_proj_size\": 256,\n",
            "  \"codevector_dim\": 256,\n",
            "  \"contrastive_logits_temperature\": 0.1,\n",
            "  \"conv_bias\": false,\n",
            "  \"conv_dim\": [\n",
            "    512,\n",
            "    512,\n",
            "    512,\n",
            "    512,\n",
            "    512,\n",
            "    512,\n",
            "    512\n",
            "  ],\n",
            "  \"conv_kernel\": [\n",
            "    10,\n",
            "    3,\n",
            "    3,\n",
            "    3,\n",
            "    3,\n",
            "    2,\n",
            "    2\n",
            "  ],\n",
            "  \"conv_stride\": [\n",
            "    5,\n",
            "    2,\n",
            "    2,\n",
            "    2,\n",
            "    2,\n",
            "    2,\n",
            "    2\n",
            "  ],\n",
            "  \"ctc_loss_reduction\": \"mean\",\n",
            "  \"ctc_zero_infinity\": false,\n",
            "  \"diversity_loss_weight\": 0.1,\n",
            "  \"do_stable_layer_norm\": false,\n",
            "  \"eos_token_id\": 2,\n",
            "  \"feat_extract_activation\": \"gelu\",\n",
            "  \"feat_extract_norm\": \"group\",\n",
            "  \"feat_proj_dropout\": 0.1,\n",
            "  \"feat_quantizer_dropout\": 0.0,\n",
            "  \"final_dropout\": 0.0,\n",
            "  \"freeze_feat_extract_train\": true,\n",
            "  \"hidden_act\": \"gelu\",\n",
            "  \"hidden_dropout\": 0.1,\n",
            "  \"hidden_size\": 768,\n",
            "  \"initializer_range\": 0.02,\n",
            "  \"intermediate_size\": 3072,\n",
            "  \"layer_norm_eps\": 1e-05,\n",
            "  \"layerdrop\": 0.0,\n",
            "  \"mask_channel_length\": 10,\n",
            "  \"mask_channel_min_space\": 1,\n",
            "  \"mask_channel_other\": 0.0,\n",
            "  \"mask_channel_prob\": 0.0,\n",
            "  \"mask_channel_selection\": \"static\",\n",
            "  \"mask_feature_length\": 10,\n",
            "  \"mask_feature_min_masks\": 0,\n",
            "  \"mask_feature_prob\": 0.0,\n",
            "  \"mask_time_length\": 10,\n",
            "  \"mask_time_min_masks\": 2,\n",
            "  \"mask_time_min_space\": 1,\n",
            "  \"mask_time_other\": 0.0,\n",
            "  \"mask_time_prob\": 0.05,\n",
            "  \"mask_time_selection\": \"static\",\n",
            "  \"model_type\": \"wav2vec2\",\n",
            "  \"no_mask_channel_overlap\": false,\n",
            "  \"no_mask_time_overlap\": false,\n",
            "  \"num_adapter_layers\": 3,\n",
            "  \"num_attention_heads\": 12,\n",
            "  \"num_codevector_groups\": 2,\n",
            "  \"num_codevectors_per_group\": 320,\n",
            "  \"num_conv_pos_embedding_groups\": 16,\n",
            "  \"num_conv_pos_embeddings\": 128,\n",
            "  \"num_feat_extract_layers\": 7,\n",
            "  \"num_hidden_layers\": 12,\n",
            "  \"num_negatives\": 100,\n",
            "  \"output_hidden_size\": 768,\n",
            "  \"pad_token_id\": 29,\n",
            "  \"proj_codevector_dim\": 256,\n",
            "  \"tdnn_dilation\": [\n",
            "    1,\n",
            "    2,\n",
            "    3,\n",
            "    1,\n",
            "    1\n",
            "  ],\n",
            "  \"tdnn_dim\": [\n",
            "    512,\n",
            "    512,\n",
            "    512,\n",
            "    512,\n",
            "    1500\n",
            "  ],\n",
            "  \"tdnn_kernel\": [\n",
            "    5,\n",
            "    3,\n",
            "    3,\n",
            "    1,\n",
            "    1\n",
            "  ],\n",
            "  \"torch_dtype\": \"float32\",\n",
            "  \"transformers_version\": \"4.17.0\",\n",
            "  \"use_weighted_layer_sum\": false,\n",
            "  \"vocab_size\": 32,\n",
            "  \"xvector_output_dim\": 512\n",
            "}\n",
            "\n",
            "loading weights file https://huggingface.co/patrickvonplaten/wav2vec2-base-timit-demo-google-colab/resolve/main/pytorch_model.bin from cache at /root/.cache/huggingface/transformers/666767bce47a87d50dfd1ceac759d5dc9db6eac8d185ae8f9a7dd388687c28c5.20bdf845b9896c1d0a213f03187b544f2a12b23d751b88c7b49a95d00bd946e1\n",
            "All model checkpoint weights were used when initializing Wav2Vec2ForCTC.\n",
            "\n",
            "All the weights of Wav2Vec2ForCTC were initialized from the model checkpoint at patrickvonplaten/wav2vec2-base-timit-demo-google-colab.\n",
            "If your task is similar to the task the model of the checkpoint was trained on, you can already use Wav2Vec2ForCTC for predictions without further training.\n"
          ]
        }
      ]
    },
    {
      "cell_type": "markdown",
      "metadata": {
        "id": "TUuZpB0v5jn_"
      },
      "source": [
        "Now, we will make use of the `map(...)` function to predict the transcription of every test sample and to save the prediction in the dataset itself. We will call the resulting dictionary `\"results\"`. \n",
        "\n",
        "**Note**: we evaluate the test data set with `batch_size=1` on purpose due to this [issue](https://github.com/pytorch/fairseq/issues/3227). Since padded inputs don't yield the exact same output as non-padded inputs, a better WER can be achieved by not padding the input at all."
      ]
    },
    {
      "cell_type": "code",
      "metadata": {
        "id": "40naJl53n7jT"
      },
      "source": [
        "def map_to_result(batch):\n",
        "  with torch.no_grad():\n",
        "    input_values = torch.tensor(batch[\"input_values\"], device=\"cuda\").unsqueeze(0)\n",
        "    logits = model(input_values).logits\n",
        "\n",
        "  pred_ids = torch.argmax(logits, dim=-1)\n",
        "  batch[\"pred_str\"] = processor.batch_decode(pred_ids)[0]\n",
        "  batch[\"text\"] = processor.decode(batch[\"labels\"], group_tokens=False)\n",
        "  \n",
        "  return batch"
      ],
      "execution_count": null,
      "outputs": []
    },
    {
      "cell_type": "code",
      "metadata": {
        "id": "uPqH7gZqrGPi",
        "colab": {
          "base_uri": "https://localhost:8080/",
          "height": 48,
          "referenced_widgets": [
            "8fbdb230253a4152be95bf6229049f09",
            "857f0c099d8549e98991a93c791db4c1",
            "16561789e2b9417a80ddcb6ef9d8676a",
            "050c9d6bfd1e4b6ebe67401183a8d397",
            "5874591082f944ff9b32202a1edbfd60",
            "8c968b160d3d4fbb998840734f9f07e4",
            "d2fd7c9e56b1419f9d23a10c260a7c7d",
            "4a03fb6d945f4102bc4f7192195d810d",
            "8ab2466b187047fbbe4d8b72455b1108",
            "89472d79793e4db9afa6845fb016c8ad",
            "f5e79b8c3a634eae8a555f18b9dc9bd6"
          ]
        },
        "outputId": "1eb633f5-c487-4cd1-8be6-aac4af385a2e"
      },
      "source": [
        "results = timit[\"test\"].map(map_to_result, remove_columns=timit[\"test\"].column_names)"
      ],
      "execution_count": null,
      "outputs": [
        {
          "output_type": "display_data",
          "data": {
            "text/plain": [
              "0ex [00:00, ?ex/s]"
            ],
            "application/vnd.jupyter.widget-view+json": {
              "version_major": 2,
              "version_minor": 0,
              "model_id": "8fbdb230253a4152be95bf6229049f09"
            }
          },
          "metadata": {}
        }
      ]
    },
    {
      "cell_type": "markdown",
      "metadata": {
        "id": "-mqpdB8R6rty"
      },
      "source": [
        "Let's compute the overall WER now."
      ]
    },
    {
      "cell_type": "code",
      "metadata": {
        "id": "PmqAb4Isx8OK",
        "colab": {
          "base_uri": "https://localhost:8080/"
        },
        "outputId": "d70180e0-77e4-458b-daff-61df307f500c"
      },
      "source": [
        "print(\"Test WER: {:.3f}\".format(wer_metric.compute(predictions=results[\"pred_str\"], references=results[\"text\"])))"
      ],
      "execution_count": null,
      "outputs": [
        {
          "output_type": "stream",
          "name": "stdout",
          "text": [
            "Test WER: 0.218\n"
          ]
        }
      ]
    },
    {
      "cell_type": "markdown",
      "metadata": {
        "id": "6Va94d8Y7Q98"
      },
      "source": [
        "21.8% WER - not bad! Our demo model would have probably made it on the official [leaderboard](https://paperswithcode.com/sota/speech-recognition-on-timit).\n",
        "\n",
        "Let's take a look at some predictions to see what errors are made by the model."
      ]
    },
    {
      "cell_type": "code",
      "metadata": {
        "id": "odNDiFVRy53w",
        "colab": {
          "base_uri": "https://localhost:8080/",
          "height": 363
        },
        "outputId": "cb787bc7-5346-449e-e314-202df442185a"
      },
      "source": [
        "show_random_elements(results)"
      ],
      "execution_count": null,
      "outputs": [
        {
          "output_type": "display_data",
          "data": {
            "text/plain": [
              "<IPython.core.display.HTML object>"
            ],
            "text/html": [
              "<table border=\"1\" class=\"dataframe\">\n",
              "  <thead>\n",
              "    <tr style=\"text-align: right;\">\n",
              "      <th></th>\n",
              "      <th>pred_str</th>\n",
              "      <th>text</th>\n",
              "    </tr>\n",
              "  </thead>\n",
              "  <tbody>\n",
              "    <tr>\n",
              "      <th>0</th>\n",
              "      <td>aim to balenge your employ you benefits package</td>\n",
              "      <td>aim to balance your employee benefit package</td>\n",
              "    </tr>\n",
              "    <tr>\n",
              "      <th>1</th>\n",
              "      <td>the fog prevented them from ariving on tom</td>\n",
              "      <td>the fog prevented them from arriving on time</td>\n",
              "    </tr>\n",
              "    <tr>\n",
              "      <th>2</th>\n",
              "      <td>young children should avoid exposure to contageous diseases</td>\n",
              "      <td>young children should avoid exposure to contagious diseases</td>\n",
              "    </tr>\n",
              "    <tr>\n",
              "      <th>3</th>\n",
              "      <td>art official intelligence is for real</td>\n",
              "      <td>artificial intelligence is for real</td>\n",
              "    </tr>\n",
              "    <tr>\n",
              "      <th>4</th>\n",
              "      <td>theire propes were two step latters a chair and a pame fen</td>\n",
              "      <td>their props were two stepladders a chair and a palm fan</td>\n",
              "    </tr>\n",
              "    <tr>\n",
              "      <th>5</th>\n",
              "      <td>if people were more generous there would be no need for wealfar</td>\n",
              "      <td>if people were more generous there would be no need for welfare</td>\n",
              "    </tr>\n",
              "    <tr>\n",
              "      <th>6</th>\n",
              "      <td>the fish began to leep frantically on the surface of the smalleaku</td>\n",
              "      <td>the fish began to leap frantically on the surface of the small lake</td>\n",
              "    </tr>\n",
              "    <tr>\n",
              "      <th>7</th>\n",
              "      <td>her rite hand aques whenever the baramatric presuer changes</td>\n",
              "      <td>her right hand aches whenever the barometric pressure changes</td>\n",
              "    </tr>\n",
              "    <tr>\n",
              "      <th>8</th>\n",
              "      <td>only lawyers loved milunears</td>\n",
              "      <td>only lawyers love millionaires</td>\n",
              "    </tr>\n",
              "    <tr>\n",
              "      <th>9</th>\n",
              "      <td>the nearest synnegu may not be within walk in distance</td>\n",
              "      <td>the nearest synagogue may not be within walking distance</td>\n",
              "    </tr>\n",
              "  </tbody>\n",
              "</table>"
            ]
          },
          "metadata": {}
        }
      ]
    },
    {
      "cell_type": "markdown",
      "metadata": {
        "id": "5HFCujhd9n4N"
      },
      "source": [
        "It becomes clear that the predicted transcriptions are acoustically very similar to the target transcriptions, but often contain spelling or grammatical errors. This shouldn't be very surprising though given that we purely rely on Wav2Vec2 without making use of a language model."
      ]
    },
    {
      "cell_type": "markdown",
      "metadata": {
        "id": "a3ydKvUl9FTK"
      },
      "source": [
        "Finally, to better understand how CTC works, it is worth taking a deeper look at the exact output of the model. Let's run the first test sample through the model, take the predicted ids and convert them to their corresponding tokens."
      ]
    },
    {
      "cell_type": "code",
      "metadata": {
        "id": "AqaM45t87uM4",
        "colab": {
          "base_uri": "https://localhost:8080/",
          "height": 73
        },
        "outputId": "2d181121-2184-48dc-a337-bb33194fd68b"
      },
      "source": [
        "model.to(\"cuda\")\n",
        "\n",
        "with torch.no_grad():\n",
        "  logits = model(torch.tensor(timit[\"test\"][:1][\"input_values\"], device=\"cuda\")).logits\n",
        "\n",
        "pred_ids = torch.argmax(logits, dim=-1)\n",
        "\n",
        "# convert ids to tokens\n",
        "\" \".join(processor.tokenizer.convert_ids_to_tokens(pred_ids[0].tolist()))"
      ],
      "execution_count": null,
      "outputs": [
        {
          "output_type": "execute_result",
          "data": {
            "text/plain": [
              "'[PAD] [PAD] [PAD] [PAD] [PAD] t t h h e | | | b [PAD] [PAD] [PAD] u u n n g g [PAD] [PAD] l l l l [PAD] o o o | | w w a a s s | | [PAD] [PAD] [PAD] p l l [PAD] e s s s s [PAD] n n t t [PAD] l l l y y | | [PAD] s s s i i t t t [PAD] u u u u u [PAD] [PAD] [PAD] [PAD] a a t t [PAD] e e d d | | [PAD] n n e e a a r | | t t h e e | | s s h h [PAD] [PAD] [PAD] [PAD] o o r r r r | [PAD] [PAD] [PAD] [PAD] [PAD] [PAD] [PAD] [PAD] [PAD]'"
            ],
            "application/vnd.google.colaboratory.intrinsic+json": {
              "type": "string"
            }
          },
          "metadata": {},
          "execution_count": 98
        }
      ]
    },
    {
      "cell_type": "markdown",
      "metadata": {
        "id": "tdO8E28g-n5C"
      },
      "source": [
        "The output should make it a bit clearer how CTC works in practice. The model is to some extent invariant to speaking rate since it has learned to either just repeat the same token in case the speech chunk to be classified still corresponds to the same token. This makes CTC a very powerful algorithm for speech recognition since the speech file's transcription is often very much independent of its length.\n",
        "\n",
        "I again advise the reader to take a look at [this](https://distill.pub/2017/ctc) very nice blog post to better understand CTC."
      ]
    }
  ]
}