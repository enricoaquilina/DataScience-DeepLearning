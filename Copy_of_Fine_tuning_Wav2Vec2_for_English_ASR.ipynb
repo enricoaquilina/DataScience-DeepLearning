{
  "nbformat": 4,
  "nbformat_minor": 0,
  "metadata": {
    "colab": {
      "provenance": [],
      "machine_shape": "hm",
      "toc_visible": true,
      "include_colab_link": true
    },
    "kernelspec": {
      "name": "python3",
      "display_name": "Python 3"
    },
    "widgets": {
      "application/vnd.jupyter.widget-state+json": {
        "c68d8dc66da14999a30332b9a8903b08": {
          "model_module": "@jupyter-widgets/controls",
          "model_name": "VBoxModel",
          "model_module_version": "1.5.0",
          "state": {
            "_dom_classes": [],
            "_model_module": "@jupyter-widgets/controls",
            "_model_module_version": "1.5.0",
            "_model_name": "VBoxModel",
            "_view_count": null,
            "_view_module": "@jupyter-widgets/controls",
            "_view_module_version": "1.5.0",
            "_view_name": "VBoxView",
            "box_style": "",
            "children": [
              "IPY_MODEL_4202e7896cf74ffc9001c0ccb639db4c",
              "IPY_MODEL_3946aff2a3b74e9fbb93be18e071d424",
              "IPY_MODEL_2d4737f86d4a42268c75781e92bc04af",
              "IPY_MODEL_949f6053810f47bab2800e891e906662",
              "IPY_MODEL_14710ad9a35f42df989f5a3089370924"
            ],
            "layout": "IPY_MODEL_7d0d9a31ebbf49f8bd872bf8d6bf9661"
          }
        },
        "4202e7896cf74ffc9001c0ccb639db4c": {
          "model_module": "@jupyter-widgets/controls",
          "model_name": "HTMLModel",
          "model_module_version": "1.5.0",
          "state": {
            "_dom_classes": [],
            "_model_module": "@jupyter-widgets/controls",
            "_model_module_version": "1.5.0",
            "_model_name": "HTMLModel",
            "_view_count": null,
            "_view_module": "@jupyter-widgets/controls",
            "_view_module_version": "1.5.0",
            "_view_name": "HTMLView",
            "description": "",
            "description_tooltip": null,
            "layout": "IPY_MODEL_602d9f350b5f46e88b126041d5d4d24b",
            "placeholder": "​",
            "style": "IPY_MODEL_72d4ecb087d741a8a8c21384d24d1909",
            "value": "<center> <img\nsrc=https://huggingface.co/front/assets/huggingface_logo-noborder.svg\nalt='Hugging Face'> <br> Copy a token from <a\nhref=\"https://huggingface.co/settings/tokens\" target=\"_blank\">your Hugging Face\ntokens page</a> and paste it below. <br> Immediately click login after copying\nyour token or it might be stored in plain text in this notebook file. </center>"
          }
        },
        "3946aff2a3b74e9fbb93be18e071d424": {
          "model_module": "@jupyter-widgets/controls",
          "model_name": "PasswordModel",
          "model_module_version": "1.5.0",
          "state": {
            "_dom_classes": [],
            "_model_module": "@jupyter-widgets/controls",
            "_model_module_version": "1.5.0",
            "_model_name": "PasswordModel",
            "_view_count": null,
            "_view_module": "@jupyter-widgets/controls",
            "_view_module_version": "1.5.0",
            "_view_name": "PasswordView",
            "continuous_update": true,
            "description": "Token:",
            "description_tooltip": null,
            "disabled": false,
            "layout": "IPY_MODEL_c985ba1a1ea54514ba957d8364f686ed",
            "placeholder": "​",
            "style": "IPY_MODEL_e49185388e6f4f2a9b9115dd934e28d7",
            "value": ""
          }
        },
        "2d4737f86d4a42268c75781e92bc04af": {
          "model_module": "@jupyter-widgets/controls",
          "model_name": "CheckboxModel",
          "model_module_version": "1.5.0",
          "state": {
            "_dom_classes": [],
            "_model_module": "@jupyter-widgets/controls",
            "_model_module_version": "1.5.0",
            "_model_name": "CheckboxModel",
            "_view_count": null,
            "_view_module": "@jupyter-widgets/controls",
            "_view_module_version": "1.5.0",
            "_view_name": "CheckboxView",
            "description": "Add token as git credential?",
            "description_tooltip": null,
            "disabled": false,
            "indent": true,
            "layout": "IPY_MODEL_94332044f67e4cb6bef2a96a328394a0",
            "style": "IPY_MODEL_02a0ac724a544d39ac53f988978ae1ad",
            "value": true
          }
        },
        "949f6053810f47bab2800e891e906662": {
          "model_module": "@jupyter-widgets/controls",
          "model_name": "ButtonModel",
          "model_module_version": "1.5.0",
          "state": {
            "_dom_classes": [],
            "_model_module": "@jupyter-widgets/controls",
            "_model_module_version": "1.5.0",
            "_model_name": "ButtonModel",
            "_view_count": null,
            "_view_module": "@jupyter-widgets/controls",
            "_view_module_version": "1.5.0",
            "_view_name": "ButtonView",
            "button_style": "",
            "description": "Login",
            "disabled": false,
            "icon": "",
            "layout": "IPY_MODEL_5b5d962dc3454c8fba475bf5e9d29826",
            "style": "IPY_MODEL_e97e1847d8a34635ad9e571c0a14267e",
            "tooltip": ""
          }
        },
        "14710ad9a35f42df989f5a3089370924": {
          "model_module": "@jupyter-widgets/controls",
          "model_name": "HTMLModel",
          "model_module_version": "1.5.0",
          "state": {
            "_dom_classes": [],
            "_model_module": "@jupyter-widgets/controls",
            "_model_module_version": "1.5.0",
            "_model_name": "HTMLModel",
            "_view_count": null,
            "_view_module": "@jupyter-widgets/controls",
            "_view_module_version": "1.5.0",
            "_view_name": "HTMLView",
            "description": "",
            "description_tooltip": null,
            "layout": "IPY_MODEL_bdb52f3083914e739b868508c23284af",
            "placeholder": "​",
            "style": "IPY_MODEL_2047f44f6ae24a4198c62dbb30ea7e11",
            "value": "\n<b>Pro Tip:</b> If you don't already have one, you can create a dedicated\n'notebooks' token with 'write' access, that you can then easily reuse for all\nnotebooks. </center>"
          }
        },
        "7d0d9a31ebbf49f8bd872bf8d6bf9661": {
          "model_module": "@jupyter-widgets/base",
          "model_name": "LayoutModel",
          "model_module_version": "1.2.0",
          "state": {
            "_model_module": "@jupyter-widgets/base",
            "_model_module_version": "1.2.0",
            "_model_name": "LayoutModel",
            "_view_count": null,
            "_view_module": "@jupyter-widgets/base",
            "_view_module_version": "1.2.0",
            "_view_name": "LayoutView",
            "align_content": null,
            "align_items": "center",
            "align_self": null,
            "border": null,
            "bottom": null,
            "display": "flex",
            "flex": null,
            "flex_flow": "column",
            "grid_area": null,
            "grid_auto_columns": null,
            "grid_auto_flow": null,
            "grid_auto_rows": null,
            "grid_column": null,
            "grid_gap": null,
            "grid_row": null,
            "grid_template_areas": null,
            "grid_template_columns": null,
            "grid_template_rows": null,
            "height": null,
            "justify_content": null,
            "justify_items": null,
            "left": null,
            "margin": null,
            "max_height": null,
            "max_width": null,
            "min_height": null,
            "min_width": null,
            "object_fit": null,
            "object_position": null,
            "order": null,
            "overflow": null,
            "overflow_x": null,
            "overflow_y": null,
            "padding": null,
            "right": null,
            "top": null,
            "visibility": null,
            "width": "50%"
          }
        },
        "602d9f350b5f46e88b126041d5d4d24b": {
          "model_module": "@jupyter-widgets/base",
          "model_name": "LayoutModel",
          "model_module_version": "1.2.0",
          "state": {
            "_model_module": "@jupyter-widgets/base",
            "_model_module_version": "1.2.0",
            "_model_name": "LayoutModel",
            "_view_count": null,
            "_view_module": "@jupyter-widgets/base",
            "_view_module_version": "1.2.0",
            "_view_name": "LayoutView",
            "align_content": null,
            "align_items": null,
            "align_self": null,
            "border": null,
            "bottom": null,
            "display": null,
            "flex": null,
            "flex_flow": null,
            "grid_area": null,
            "grid_auto_columns": null,
            "grid_auto_flow": null,
            "grid_auto_rows": null,
            "grid_column": null,
            "grid_gap": null,
            "grid_row": null,
            "grid_template_areas": null,
            "grid_template_columns": null,
            "grid_template_rows": null,
            "height": null,
            "justify_content": null,
            "justify_items": null,
            "left": null,
            "margin": null,
            "max_height": null,
            "max_width": null,
            "min_height": null,
            "min_width": null,
            "object_fit": null,
            "object_position": null,
            "order": null,
            "overflow": null,
            "overflow_x": null,
            "overflow_y": null,
            "padding": null,
            "right": null,
            "top": null,
            "visibility": null,
            "width": null
          }
        },
        "72d4ecb087d741a8a8c21384d24d1909": {
          "model_module": "@jupyter-widgets/controls",
          "model_name": "DescriptionStyleModel",
          "model_module_version": "1.5.0",
          "state": {
            "_model_module": "@jupyter-widgets/controls",
            "_model_module_version": "1.5.0",
            "_model_name": "DescriptionStyleModel",
            "_view_count": null,
            "_view_module": "@jupyter-widgets/base",
            "_view_module_version": "1.2.0",
            "_view_name": "StyleView",
            "description_width": ""
          }
        },
        "c985ba1a1ea54514ba957d8364f686ed": {
          "model_module": "@jupyter-widgets/base",
          "model_name": "LayoutModel",
          "model_module_version": "1.2.0",
          "state": {
            "_model_module": "@jupyter-widgets/base",
            "_model_module_version": "1.2.0",
            "_model_name": "LayoutModel",
            "_view_count": null,
            "_view_module": "@jupyter-widgets/base",
            "_view_module_version": "1.2.0",
            "_view_name": "LayoutView",
            "align_content": null,
            "align_items": null,
            "align_self": null,
            "border": null,
            "bottom": null,
            "display": null,
            "flex": null,
            "flex_flow": null,
            "grid_area": null,
            "grid_auto_columns": null,
            "grid_auto_flow": null,
            "grid_auto_rows": null,
            "grid_column": null,
            "grid_gap": null,
            "grid_row": null,
            "grid_template_areas": null,
            "grid_template_columns": null,
            "grid_template_rows": null,
            "height": null,
            "justify_content": null,
            "justify_items": null,
            "left": null,
            "margin": null,
            "max_height": null,
            "max_width": null,
            "min_height": null,
            "min_width": null,
            "object_fit": null,
            "object_position": null,
            "order": null,
            "overflow": null,
            "overflow_x": null,
            "overflow_y": null,
            "padding": null,
            "right": null,
            "top": null,
            "visibility": null,
            "width": null
          }
        },
        "e49185388e6f4f2a9b9115dd934e28d7": {
          "model_module": "@jupyter-widgets/controls",
          "model_name": "DescriptionStyleModel",
          "model_module_version": "1.5.0",
          "state": {
            "_model_module": "@jupyter-widgets/controls",
            "_model_module_version": "1.5.0",
            "_model_name": "DescriptionStyleModel",
            "_view_count": null,
            "_view_module": "@jupyter-widgets/base",
            "_view_module_version": "1.2.0",
            "_view_name": "StyleView",
            "description_width": ""
          }
        },
        "94332044f67e4cb6bef2a96a328394a0": {
          "model_module": "@jupyter-widgets/base",
          "model_name": "LayoutModel",
          "model_module_version": "1.2.0",
          "state": {
            "_model_module": "@jupyter-widgets/base",
            "_model_module_version": "1.2.0",
            "_model_name": "LayoutModel",
            "_view_count": null,
            "_view_module": "@jupyter-widgets/base",
            "_view_module_version": "1.2.0",
            "_view_name": "LayoutView",
            "align_content": null,
            "align_items": null,
            "align_self": null,
            "border": null,
            "bottom": null,
            "display": null,
            "flex": null,
            "flex_flow": null,
            "grid_area": null,
            "grid_auto_columns": null,
            "grid_auto_flow": null,
            "grid_auto_rows": null,
            "grid_column": null,
            "grid_gap": null,
            "grid_row": null,
            "grid_template_areas": null,
            "grid_template_columns": null,
            "grid_template_rows": null,
            "height": null,
            "justify_content": null,
            "justify_items": null,
            "left": null,
            "margin": null,
            "max_height": null,
            "max_width": null,
            "min_height": null,
            "min_width": null,
            "object_fit": null,
            "object_position": null,
            "order": null,
            "overflow": null,
            "overflow_x": null,
            "overflow_y": null,
            "padding": null,
            "right": null,
            "top": null,
            "visibility": null,
            "width": null
          }
        },
        "02a0ac724a544d39ac53f988978ae1ad": {
          "model_module": "@jupyter-widgets/controls",
          "model_name": "DescriptionStyleModel",
          "model_module_version": "1.5.0",
          "state": {
            "_model_module": "@jupyter-widgets/controls",
            "_model_module_version": "1.5.0",
            "_model_name": "DescriptionStyleModel",
            "_view_count": null,
            "_view_module": "@jupyter-widgets/base",
            "_view_module_version": "1.2.0",
            "_view_name": "StyleView",
            "description_width": ""
          }
        },
        "5b5d962dc3454c8fba475bf5e9d29826": {
          "model_module": "@jupyter-widgets/base",
          "model_name": "LayoutModel",
          "model_module_version": "1.2.0",
          "state": {
            "_model_module": "@jupyter-widgets/base",
            "_model_module_version": "1.2.0",
            "_model_name": "LayoutModel",
            "_view_count": null,
            "_view_module": "@jupyter-widgets/base",
            "_view_module_version": "1.2.0",
            "_view_name": "LayoutView",
            "align_content": null,
            "align_items": null,
            "align_self": null,
            "border": null,
            "bottom": null,
            "display": null,
            "flex": null,
            "flex_flow": null,
            "grid_area": null,
            "grid_auto_columns": null,
            "grid_auto_flow": null,
            "grid_auto_rows": null,
            "grid_column": null,
            "grid_gap": null,
            "grid_row": null,
            "grid_template_areas": null,
            "grid_template_columns": null,
            "grid_template_rows": null,
            "height": null,
            "justify_content": null,
            "justify_items": null,
            "left": null,
            "margin": null,
            "max_height": null,
            "max_width": null,
            "min_height": null,
            "min_width": null,
            "object_fit": null,
            "object_position": null,
            "order": null,
            "overflow": null,
            "overflow_x": null,
            "overflow_y": null,
            "padding": null,
            "right": null,
            "top": null,
            "visibility": null,
            "width": null
          }
        },
        "e97e1847d8a34635ad9e571c0a14267e": {
          "model_module": "@jupyter-widgets/controls",
          "model_name": "ButtonStyleModel",
          "model_module_version": "1.5.0",
          "state": {
            "_model_module": "@jupyter-widgets/controls",
            "_model_module_version": "1.5.0",
            "_model_name": "ButtonStyleModel",
            "_view_count": null,
            "_view_module": "@jupyter-widgets/base",
            "_view_module_version": "1.2.0",
            "_view_name": "StyleView",
            "button_color": null,
            "font_weight": ""
          }
        },
        "bdb52f3083914e739b868508c23284af": {
          "model_module": "@jupyter-widgets/base",
          "model_name": "LayoutModel",
          "model_module_version": "1.2.0",
          "state": {
            "_model_module": "@jupyter-widgets/base",
            "_model_module_version": "1.2.0",
            "_model_name": "LayoutModel",
            "_view_count": null,
            "_view_module": "@jupyter-widgets/base",
            "_view_module_version": "1.2.0",
            "_view_name": "LayoutView",
            "align_content": null,
            "align_items": null,
            "align_self": null,
            "border": null,
            "bottom": null,
            "display": null,
            "flex": null,
            "flex_flow": null,
            "grid_area": null,
            "grid_auto_columns": null,
            "grid_auto_flow": null,
            "grid_auto_rows": null,
            "grid_column": null,
            "grid_gap": null,
            "grid_row": null,
            "grid_template_areas": null,
            "grid_template_columns": null,
            "grid_template_rows": null,
            "height": null,
            "justify_content": null,
            "justify_items": null,
            "left": null,
            "margin": null,
            "max_height": null,
            "max_width": null,
            "min_height": null,
            "min_width": null,
            "object_fit": null,
            "object_position": null,
            "order": null,
            "overflow": null,
            "overflow_x": null,
            "overflow_y": null,
            "padding": null,
            "right": null,
            "top": null,
            "visibility": null,
            "width": null
          }
        },
        "2047f44f6ae24a4198c62dbb30ea7e11": {
          "model_module": "@jupyter-widgets/controls",
          "model_name": "DescriptionStyleModel",
          "model_module_version": "1.5.0",
          "state": {
            "_model_module": "@jupyter-widgets/controls",
            "_model_module_version": "1.5.0",
            "_model_name": "DescriptionStyleModel",
            "_view_count": null,
            "_view_module": "@jupyter-widgets/base",
            "_view_module_version": "1.2.0",
            "_view_name": "StyleView",
            "description_width": ""
          }
        },
        "1a0a554da67e4b77a4702ded6caab415": {
          "model_module": "@jupyter-widgets/controls",
          "model_name": "HBoxModel",
          "model_module_version": "1.5.0",
          "state": {
            "_dom_classes": [],
            "_model_module": "@jupyter-widgets/controls",
            "_model_module_version": "1.5.0",
            "_model_name": "HBoxModel",
            "_view_count": null,
            "_view_module": "@jupyter-widgets/controls",
            "_view_module_version": "1.5.0",
            "_view_name": "HBoxView",
            "box_style": "",
            "children": [
              "IPY_MODEL_4f9db6dc484945e389b7c63add455717",
              "IPY_MODEL_627f92c3d0f94432a714032c8b8bcaeb",
              "IPY_MODEL_1864fecc6a5444c297e20208127bb639"
            ],
            "layout": "IPY_MODEL_e789b229de814dba8b218bbfbc75cda3"
          }
        },
        "4f9db6dc484945e389b7c63add455717": {
          "model_module": "@jupyter-widgets/controls",
          "model_name": "HTMLModel",
          "model_module_version": "1.5.0",
          "state": {
            "_dom_classes": [],
            "_model_module": "@jupyter-widgets/controls",
            "_model_module_version": "1.5.0",
            "_model_name": "HTMLModel",
            "_view_count": null,
            "_view_module": "@jupyter-widgets/controls",
            "_view_module_version": "1.5.0",
            "_view_name": "HTMLView",
            "description": "",
            "description_tooltip": null,
            "layout": "IPY_MODEL_e39d247f6de345219fbb28265382e0ba",
            "placeholder": "​",
            "style": "IPY_MODEL_8d396c060b6f4a2f8f75eec2a86f9cdc",
            "value": "100%"
          }
        },
        "627f92c3d0f94432a714032c8b8bcaeb": {
          "model_module": "@jupyter-widgets/controls",
          "model_name": "FloatProgressModel",
          "model_module_version": "1.5.0",
          "state": {
            "_dom_classes": [],
            "_model_module": "@jupyter-widgets/controls",
            "_model_module_version": "1.5.0",
            "_model_name": "FloatProgressModel",
            "_view_count": null,
            "_view_module": "@jupyter-widgets/controls",
            "_view_module_version": "1.5.0",
            "_view_name": "ProgressView",
            "bar_style": "success",
            "description": "",
            "description_tooltip": null,
            "layout": "IPY_MODEL_f05543d5f96e4fc188d655f0b8b33179",
            "max": 2,
            "min": 0,
            "orientation": "horizontal",
            "style": "IPY_MODEL_ba077cd8c07248b0999d0354d9b0efcb",
            "value": 2
          }
        },
        "1864fecc6a5444c297e20208127bb639": {
          "model_module": "@jupyter-widgets/controls",
          "model_name": "HTMLModel",
          "model_module_version": "1.5.0",
          "state": {
            "_dom_classes": [],
            "_model_module": "@jupyter-widgets/controls",
            "_model_module_version": "1.5.0",
            "_model_name": "HTMLModel",
            "_view_count": null,
            "_view_module": "@jupyter-widgets/controls",
            "_view_module_version": "1.5.0",
            "_view_name": "HTMLView",
            "description": "",
            "description_tooltip": null,
            "layout": "IPY_MODEL_46fbbf638f86460fa6010c90db025fdf",
            "placeholder": "​",
            "style": "IPY_MODEL_80253dd334954e13b7c89bcb8993de25",
            "value": " 2/2 [00:00&lt;00:00, 61.86it/s]"
          }
        },
        "e789b229de814dba8b218bbfbc75cda3": {
          "model_module": "@jupyter-widgets/base",
          "model_name": "LayoutModel",
          "model_module_version": "1.2.0",
          "state": {
            "_model_module": "@jupyter-widgets/base",
            "_model_module_version": "1.2.0",
            "_model_name": "LayoutModel",
            "_view_count": null,
            "_view_module": "@jupyter-widgets/base",
            "_view_module_version": "1.2.0",
            "_view_name": "LayoutView",
            "align_content": null,
            "align_items": null,
            "align_self": null,
            "border": null,
            "bottom": null,
            "display": null,
            "flex": null,
            "flex_flow": null,
            "grid_area": null,
            "grid_auto_columns": null,
            "grid_auto_flow": null,
            "grid_auto_rows": null,
            "grid_column": null,
            "grid_gap": null,
            "grid_row": null,
            "grid_template_areas": null,
            "grid_template_columns": null,
            "grid_template_rows": null,
            "height": null,
            "justify_content": null,
            "justify_items": null,
            "left": null,
            "margin": null,
            "max_height": null,
            "max_width": null,
            "min_height": null,
            "min_width": null,
            "object_fit": null,
            "object_position": null,
            "order": null,
            "overflow": null,
            "overflow_x": null,
            "overflow_y": null,
            "padding": null,
            "right": null,
            "top": null,
            "visibility": null,
            "width": null
          }
        },
        "e39d247f6de345219fbb28265382e0ba": {
          "model_module": "@jupyter-widgets/base",
          "model_name": "LayoutModel",
          "model_module_version": "1.2.0",
          "state": {
            "_model_module": "@jupyter-widgets/base",
            "_model_module_version": "1.2.0",
            "_model_name": "LayoutModel",
            "_view_count": null,
            "_view_module": "@jupyter-widgets/base",
            "_view_module_version": "1.2.0",
            "_view_name": "LayoutView",
            "align_content": null,
            "align_items": null,
            "align_self": null,
            "border": null,
            "bottom": null,
            "display": null,
            "flex": null,
            "flex_flow": null,
            "grid_area": null,
            "grid_auto_columns": null,
            "grid_auto_flow": null,
            "grid_auto_rows": null,
            "grid_column": null,
            "grid_gap": null,
            "grid_row": null,
            "grid_template_areas": null,
            "grid_template_columns": null,
            "grid_template_rows": null,
            "height": null,
            "justify_content": null,
            "justify_items": null,
            "left": null,
            "margin": null,
            "max_height": null,
            "max_width": null,
            "min_height": null,
            "min_width": null,
            "object_fit": null,
            "object_position": null,
            "order": null,
            "overflow": null,
            "overflow_x": null,
            "overflow_y": null,
            "padding": null,
            "right": null,
            "top": null,
            "visibility": null,
            "width": null
          }
        },
        "8d396c060b6f4a2f8f75eec2a86f9cdc": {
          "model_module": "@jupyter-widgets/controls",
          "model_name": "DescriptionStyleModel",
          "model_module_version": "1.5.0",
          "state": {
            "_model_module": "@jupyter-widgets/controls",
            "_model_module_version": "1.5.0",
            "_model_name": "DescriptionStyleModel",
            "_view_count": null,
            "_view_module": "@jupyter-widgets/base",
            "_view_module_version": "1.2.0",
            "_view_name": "StyleView",
            "description_width": ""
          }
        },
        "f05543d5f96e4fc188d655f0b8b33179": {
          "model_module": "@jupyter-widgets/base",
          "model_name": "LayoutModel",
          "model_module_version": "1.2.0",
          "state": {
            "_model_module": "@jupyter-widgets/base",
            "_model_module_version": "1.2.0",
            "_model_name": "LayoutModel",
            "_view_count": null,
            "_view_module": "@jupyter-widgets/base",
            "_view_module_version": "1.2.0",
            "_view_name": "LayoutView",
            "align_content": null,
            "align_items": null,
            "align_self": null,
            "border": null,
            "bottom": null,
            "display": null,
            "flex": null,
            "flex_flow": null,
            "grid_area": null,
            "grid_auto_columns": null,
            "grid_auto_flow": null,
            "grid_auto_rows": null,
            "grid_column": null,
            "grid_gap": null,
            "grid_row": null,
            "grid_template_areas": null,
            "grid_template_columns": null,
            "grid_template_rows": null,
            "height": null,
            "justify_content": null,
            "justify_items": null,
            "left": null,
            "margin": null,
            "max_height": null,
            "max_width": null,
            "min_height": null,
            "min_width": null,
            "object_fit": null,
            "object_position": null,
            "order": null,
            "overflow": null,
            "overflow_x": null,
            "overflow_y": null,
            "padding": null,
            "right": null,
            "top": null,
            "visibility": null,
            "width": null
          }
        },
        "ba077cd8c07248b0999d0354d9b0efcb": {
          "model_module": "@jupyter-widgets/controls",
          "model_name": "ProgressStyleModel",
          "model_module_version": "1.5.0",
          "state": {
            "_model_module": "@jupyter-widgets/controls",
            "_model_module_version": "1.5.0",
            "_model_name": "ProgressStyleModel",
            "_view_count": null,
            "_view_module": "@jupyter-widgets/base",
            "_view_module_version": "1.2.0",
            "_view_name": "StyleView",
            "bar_color": null,
            "description_width": ""
          }
        },
        "46fbbf638f86460fa6010c90db025fdf": {
          "model_module": "@jupyter-widgets/base",
          "model_name": "LayoutModel",
          "model_module_version": "1.2.0",
          "state": {
            "_model_module": "@jupyter-widgets/base",
            "_model_module_version": "1.2.0",
            "_model_name": "LayoutModel",
            "_view_count": null,
            "_view_module": "@jupyter-widgets/base",
            "_view_module_version": "1.2.0",
            "_view_name": "LayoutView",
            "align_content": null,
            "align_items": null,
            "align_self": null,
            "border": null,
            "bottom": null,
            "display": null,
            "flex": null,
            "flex_flow": null,
            "grid_area": null,
            "grid_auto_columns": null,
            "grid_auto_flow": null,
            "grid_auto_rows": null,
            "grid_column": null,
            "grid_gap": null,
            "grid_row": null,
            "grid_template_areas": null,
            "grid_template_columns": null,
            "grid_template_rows": null,
            "height": null,
            "justify_content": null,
            "justify_items": null,
            "left": null,
            "margin": null,
            "max_height": null,
            "max_width": null,
            "min_height": null,
            "min_width": null,
            "object_fit": null,
            "object_position": null,
            "order": null,
            "overflow": null,
            "overflow_x": null,
            "overflow_y": null,
            "padding": null,
            "right": null,
            "top": null,
            "visibility": null,
            "width": null
          }
        },
        "80253dd334954e13b7c89bcb8993de25": {
          "model_module": "@jupyter-widgets/controls",
          "model_name": "DescriptionStyleModel",
          "model_module_version": "1.5.0",
          "state": {
            "_model_module": "@jupyter-widgets/controls",
            "_model_module_version": "1.5.0",
            "_model_name": "DescriptionStyleModel",
            "_view_count": null,
            "_view_module": "@jupyter-widgets/base",
            "_view_module_version": "1.2.0",
            "_view_name": "StyleView",
            "description_width": ""
          }
        },
        "2e50e8928a61414cb84ffc447c05f4a9": {
          "model_module": "@jupyter-widgets/controls",
          "model_name": "HBoxModel",
          "model_module_version": "1.5.0",
          "state": {
            "_dom_classes": [],
            "_model_module": "@jupyter-widgets/controls",
            "_model_module_version": "1.5.0",
            "_model_name": "HBoxModel",
            "_view_count": null,
            "_view_module": "@jupyter-widgets/controls",
            "_view_module_version": "1.5.0",
            "_view_name": "HBoxView",
            "box_style": "",
            "children": [
              "IPY_MODEL_185be45b9a7c4b4b8d33d83bbb1d5385",
              "IPY_MODEL_8fe28ce8ea5140519092afd67a302ee1",
              "IPY_MODEL_9c6bd8e8ff7a41e3a12ad9be5ef4ee8b"
            ],
            "layout": "IPY_MODEL_7a48aeec1f1d44699a64fa1b07243330"
          }
        },
        "185be45b9a7c4b4b8d33d83bbb1d5385": {
          "model_module": "@jupyter-widgets/controls",
          "model_name": "HTMLModel",
          "model_module_version": "1.5.0",
          "state": {
            "_dom_classes": [],
            "_model_module": "@jupyter-widgets/controls",
            "_model_module_version": "1.5.0",
            "_model_name": "HTMLModel",
            "_view_count": null,
            "_view_module": "@jupyter-widgets/controls",
            "_view_module_version": "1.5.0",
            "_view_name": "HTMLView",
            "description": "",
            "description_tooltip": null,
            "layout": "IPY_MODEL_e00c9473ff9e47dca1f9d0acaed27512",
            "placeholder": "​",
            "style": "IPY_MODEL_08a1964de71347c0b15b7573543ec369",
            "value": ""
          }
        },
        "8fe28ce8ea5140519092afd67a302ee1": {
          "model_module": "@jupyter-widgets/controls",
          "model_name": "FloatProgressModel",
          "model_module_version": "1.5.0",
          "state": {
            "_dom_classes": [],
            "_model_module": "@jupyter-widgets/controls",
            "_model_module_version": "1.5.0",
            "_model_name": "FloatProgressModel",
            "_view_count": null,
            "_view_module": "@jupyter-widgets/controls",
            "_view_module_version": "1.5.0",
            "_view_name": "ProgressView",
            "bar_style": "success",
            "description": "",
            "description_tooltip": null,
            "layout": "IPY_MODEL_e3c1b9ffd90b420cb67e047336505017",
            "max": 1,
            "min": 0,
            "orientation": "horizontal",
            "style": "IPY_MODEL_98a2794dd1df4d79acaedbcc0743e028",
            "value": 1
          }
        },
        "9c6bd8e8ff7a41e3a12ad9be5ef4ee8b": {
          "model_module": "@jupyter-widgets/controls",
          "model_name": "HTMLModel",
          "model_module_version": "1.5.0",
          "state": {
            "_dom_classes": [],
            "_model_module": "@jupyter-widgets/controls",
            "_model_module_version": "1.5.0",
            "_model_name": "HTMLModel",
            "_view_count": null,
            "_view_module": "@jupyter-widgets/controls",
            "_view_module_version": "1.5.0",
            "_view_name": "HTMLView",
            "description": "",
            "description_tooltip": null,
            "layout": "IPY_MODEL_b03eeba3c4a74269a205e103a4c642d3",
            "placeholder": "​",
            "style": "IPY_MODEL_761849bae2b84c9f9946fb3cac2b82a6",
            "value": " 4620/? [00:00&lt;00:00, 6083.12ex/s]"
          }
        },
        "7a48aeec1f1d44699a64fa1b07243330": {
          "model_module": "@jupyter-widgets/base",
          "model_name": "LayoutModel",
          "model_module_version": "1.2.0",
          "state": {
            "_model_module": "@jupyter-widgets/base",
            "_model_module_version": "1.2.0",
            "_model_name": "LayoutModel",
            "_view_count": null,
            "_view_module": "@jupyter-widgets/base",
            "_view_module_version": "1.2.0",
            "_view_name": "LayoutView",
            "align_content": null,
            "align_items": null,
            "align_self": null,
            "border": null,
            "bottom": null,
            "display": null,
            "flex": null,
            "flex_flow": null,
            "grid_area": null,
            "grid_auto_columns": null,
            "grid_auto_flow": null,
            "grid_auto_rows": null,
            "grid_column": null,
            "grid_gap": null,
            "grid_row": null,
            "grid_template_areas": null,
            "grid_template_columns": null,
            "grid_template_rows": null,
            "height": null,
            "justify_content": null,
            "justify_items": null,
            "left": null,
            "margin": null,
            "max_height": null,
            "max_width": null,
            "min_height": null,
            "min_width": null,
            "object_fit": null,
            "object_position": null,
            "order": null,
            "overflow": null,
            "overflow_x": null,
            "overflow_y": null,
            "padding": null,
            "right": null,
            "top": null,
            "visibility": null,
            "width": null
          }
        },
        "e00c9473ff9e47dca1f9d0acaed27512": {
          "model_module": "@jupyter-widgets/base",
          "model_name": "LayoutModel",
          "model_module_version": "1.2.0",
          "state": {
            "_model_module": "@jupyter-widgets/base",
            "_model_module_version": "1.2.0",
            "_model_name": "LayoutModel",
            "_view_count": null,
            "_view_module": "@jupyter-widgets/base",
            "_view_module_version": "1.2.0",
            "_view_name": "LayoutView",
            "align_content": null,
            "align_items": null,
            "align_self": null,
            "border": null,
            "bottom": null,
            "display": null,
            "flex": null,
            "flex_flow": null,
            "grid_area": null,
            "grid_auto_columns": null,
            "grid_auto_flow": null,
            "grid_auto_rows": null,
            "grid_column": null,
            "grid_gap": null,
            "grid_row": null,
            "grid_template_areas": null,
            "grid_template_columns": null,
            "grid_template_rows": null,
            "height": null,
            "justify_content": null,
            "justify_items": null,
            "left": null,
            "margin": null,
            "max_height": null,
            "max_width": null,
            "min_height": null,
            "min_width": null,
            "object_fit": null,
            "object_position": null,
            "order": null,
            "overflow": null,
            "overflow_x": null,
            "overflow_y": null,
            "padding": null,
            "right": null,
            "top": null,
            "visibility": null,
            "width": null
          }
        },
        "08a1964de71347c0b15b7573543ec369": {
          "model_module": "@jupyter-widgets/controls",
          "model_name": "DescriptionStyleModel",
          "model_module_version": "1.5.0",
          "state": {
            "_model_module": "@jupyter-widgets/controls",
            "_model_module_version": "1.5.0",
            "_model_name": "DescriptionStyleModel",
            "_view_count": null,
            "_view_module": "@jupyter-widgets/base",
            "_view_module_version": "1.2.0",
            "_view_name": "StyleView",
            "description_width": ""
          }
        },
        "e3c1b9ffd90b420cb67e047336505017": {
          "model_module": "@jupyter-widgets/base",
          "model_name": "LayoutModel",
          "model_module_version": "1.2.0",
          "state": {
            "_model_module": "@jupyter-widgets/base",
            "_model_module_version": "1.2.0",
            "_model_name": "LayoutModel",
            "_view_count": null,
            "_view_module": "@jupyter-widgets/base",
            "_view_module_version": "1.2.0",
            "_view_name": "LayoutView",
            "align_content": null,
            "align_items": null,
            "align_self": null,
            "border": null,
            "bottom": null,
            "display": null,
            "flex": null,
            "flex_flow": null,
            "grid_area": null,
            "grid_auto_columns": null,
            "grid_auto_flow": null,
            "grid_auto_rows": null,
            "grid_column": null,
            "grid_gap": null,
            "grid_row": null,
            "grid_template_areas": null,
            "grid_template_columns": null,
            "grid_template_rows": null,
            "height": null,
            "justify_content": null,
            "justify_items": null,
            "left": null,
            "margin": null,
            "max_height": null,
            "max_width": null,
            "min_height": null,
            "min_width": null,
            "object_fit": null,
            "object_position": null,
            "order": null,
            "overflow": null,
            "overflow_x": null,
            "overflow_y": null,
            "padding": null,
            "right": null,
            "top": null,
            "visibility": null,
            "width": "20px"
          }
        },
        "98a2794dd1df4d79acaedbcc0743e028": {
          "model_module": "@jupyter-widgets/controls",
          "model_name": "ProgressStyleModel",
          "model_module_version": "1.5.0",
          "state": {
            "_model_module": "@jupyter-widgets/controls",
            "_model_module_version": "1.5.0",
            "_model_name": "ProgressStyleModel",
            "_view_count": null,
            "_view_module": "@jupyter-widgets/base",
            "_view_module_version": "1.2.0",
            "_view_name": "StyleView",
            "bar_color": null,
            "description_width": ""
          }
        },
        "b03eeba3c4a74269a205e103a4c642d3": {
          "model_module": "@jupyter-widgets/base",
          "model_name": "LayoutModel",
          "model_module_version": "1.2.0",
          "state": {
            "_model_module": "@jupyter-widgets/base",
            "_model_module_version": "1.2.0",
            "_model_name": "LayoutModel",
            "_view_count": null,
            "_view_module": "@jupyter-widgets/base",
            "_view_module_version": "1.2.0",
            "_view_name": "LayoutView",
            "align_content": null,
            "align_items": null,
            "align_self": null,
            "border": null,
            "bottom": null,
            "display": null,
            "flex": null,
            "flex_flow": null,
            "grid_area": null,
            "grid_auto_columns": null,
            "grid_auto_flow": null,
            "grid_auto_rows": null,
            "grid_column": null,
            "grid_gap": null,
            "grid_row": null,
            "grid_template_areas": null,
            "grid_template_columns": null,
            "grid_template_rows": null,
            "height": null,
            "justify_content": null,
            "justify_items": null,
            "left": null,
            "margin": null,
            "max_height": null,
            "max_width": null,
            "min_height": null,
            "min_width": null,
            "object_fit": null,
            "object_position": null,
            "order": null,
            "overflow": null,
            "overflow_x": null,
            "overflow_y": null,
            "padding": null,
            "right": null,
            "top": null,
            "visibility": null,
            "width": null
          }
        },
        "761849bae2b84c9f9946fb3cac2b82a6": {
          "model_module": "@jupyter-widgets/controls",
          "model_name": "DescriptionStyleModel",
          "model_module_version": "1.5.0",
          "state": {
            "_model_module": "@jupyter-widgets/controls",
            "_model_module_version": "1.5.0",
            "_model_name": "DescriptionStyleModel",
            "_view_count": null,
            "_view_module": "@jupyter-widgets/base",
            "_view_module_version": "1.2.0",
            "_view_name": "StyleView",
            "description_width": ""
          }
        },
        "43e14d2dd8054a58ae40d0f01ee5f19b": {
          "model_module": "@jupyter-widgets/controls",
          "model_name": "HBoxModel",
          "model_module_version": "1.5.0",
          "state": {
            "_dom_classes": [],
            "_model_module": "@jupyter-widgets/controls",
            "_model_module_version": "1.5.0",
            "_model_name": "HBoxModel",
            "_view_count": null,
            "_view_module": "@jupyter-widgets/controls",
            "_view_module_version": "1.5.0",
            "_view_name": "HBoxView",
            "box_style": "",
            "children": [
              "IPY_MODEL_d336f48f9e8f42e38d22b4352fd8a93c",
              "IPY_MODEL_1b6a300888c342aa891755d5b341a67c",
              "IPY_MODEL_3044f5cee88e4dc58e8f4b12907682e3"
            ],
            "layout": "IPY_MODEL_b4cc0c7fb40742c58e9b13bf040f2d39"
          }
        },
        "d336f48f9e8f42e38d22b4352fd8a93c": {
          "model_module": "@jupyter-widgets/controls",
          "model_name": "HTMLModel",
          "model_module_version": "1.5.0",
          "state": {
            "_dom_classes": [],
            "_model_module": "@jupyter-widgets/controls",
            "_model_module_version": "1.5.0",
            "_model_name": "HTMLModel",
            "_view_count": null,
            "_view_module": "@jupyter-widgets/controls",
            "_view_module_version": "1.5.0",
            "_view_name": "HTMLView",
            "description": "",
            "description_tooltip": null,
            "layout": "IPY_MODEL_4f026dcb4246483dacb717870bf747ca",
            "placeholder": "​",
            "style": "IPY_MODEL_61ec4e66e2cc4695b0e95aa1f7fef1a1",
            "value": ""
          }
        },
        "1b6a300888c342aa891755d5b341a67c": {
          "model_module": "@jupyter-widgets/controls",
          "model_name": "FloatProgressModel",
          "model_module_version": "1.5.0",
          "state": {
            "_dom_classes": [],
            "_model_module": "@jupyter-widgets/controls",
            "_model_module_version": "1.5.0",
            "_model_name": "FloatProgressModel",
            "_view_count": null,
            "_view_module": "@jupyter-widgets/controls",
            "_view_module_version": "1.5.0",
            "_view_name": "ProgressView",
            "bar_style": "success",
            "description": "",
            "description_tooltip": null,
            "layout": "IPY_MODEL_68b6ba0896614cd9953242e1905fc90f",
            "max": 1,
            "min": 0,
            "orientation": "horizontal",
            "style": "IPY_MODEL_190b0fa470bb4be6b7d1f45f1ed52add",
            "value": 1
          }
        },
        "3044f5cee88e4dc58e8f4b12907682e3": {
          "model_module": "@jupyter-widgets/controls",
          "model_name": "HTMLModel",
          "model_module_version": "1.5.0",
          "state": {
            "_dom_classes": [],
            "_model_module": "@jupyter-widgets/controls",
            "_model_module_version": "1.5.0",
            "_model_name": "HTMLModel",
            "_view_count": null,
            "_view_module": "@jupyter-widgets/controls",
            "_view_module_version": "1.5.0",
            "_view_name": "HTMLView",
            "description": "",
            "description_tooltip": null,
            "layout": "IPY_MODEL_897943693dc84a8bb48d726bbec5aae3",
            "placeholder": "​",
            "style": "IPY_MODEL_d6243ff1ee69443cadd044ccd551f39e",
            "value": " 1680/? [00:00&lt;00:00, 5934.02ex/s]"
          }
        },
        "b4cc0c7fb40742c58e9b13bf040f2d39": {
          "model_module": "@jupyter-widgets/base",
          "model_name": "LayoutModel",
          "model_module_version": "1.2.0",
          "state": {
            "_model_module": "@jupyter-widgets/base",
            "_model_module_version": "1.2.0",
            "_model_name": "LayoutModel",
            "_view_count": null,
            "_view_module": "@jupyter-widgets/base",
            "_view_module_version": "1.2.0",
            "_view_name": "LayoutView",
            "align_content": null,
            "align_items": null,
            "align_self": null,
            "border": null,
            "bottom": null,
            "display": null,
            "flex": null,
            "flex_flow": null,
            "grid_area": null,
            "grid_auto_columns": null,
            "grid_auto_flow": null,
            "grid_auto_rows": null,
            "grid_column": null,
            "grid_gap": null,
            "grid_row": null,
            "grid_template_areas": null,
            "grid_template_columns": null,
            "grid_template_rows": null,
            "height": null,
            "justify_content": null,
            "justify_items": null,
            "left": null,
            "margin": null,
            "max_height": null,
            "max_width": null,
            "min_height": null,
            "min_width": null,
            "object_fit": null,
            "object_position": null,
            "order": null,
            "overflow": null,
            "overflow_x": null,
            "overflow_y": null,
            "padding": null,
            "right": null,
            "top": null,
            "visibility": null,
            "width": null
          }
        },
        "4f026dcb4246483dacb717870bf747ca": {
          "model_module": "@jupyter-widgets/base",
          "model_name": "LayoutModel",
          "model_module_version": "1.2.0",
          "state": {
            "_model_module": "@jupyter-widgets/base",
            "_model_module_version": "1.2.0",
            "_model_name": "LayoutModel",
            "_view_count": null,
            "_view_module": "@jupyter-widgets/base",
            "_view_module_version": "1.2.0",
            "_view_name": "LayoutView",
            "align_content": null,
            "align_items": null,
            "align_self": null,
            "border": null,
            "bottom": null,
            "display": null,
            "flex": null,
            "flex_flow": null,
            "grid_area": null,
            "grid_auto_columns": null,
            "grid_auto_flow": null,
            "grid_auto_rows": null,
            "grid_column": null,
            "grid_gap": null,
            "grid_row": null,
            "grid_template_areas": null,
            "grid_template_columns": null,
            "grid_template_rows": null,
            "height": null,
            "justify_content": null,
            "justify_items": null,
            "left": null,
            "margin": null,
            "max_height": null,
            "max_width": null,
            "min_height": null,
            "min_width": null,
            "object_fit": null,
            "object_position": null,
            "order": null,
            "overflow": null,
            "overflow_x": null,
            "overflow_y": null,
            "padding": null,
            "right": null,
            "top": null,
            "visibility": null,
            "width": null
          }
        },
        "61ec4e66e2cc4695b0e95aa1f7fef1a1": {
          "model_module": "@jupyter-widgets/controls",
          "model_name": "DescriptionStyleModel",
          "model_module_version": "1.5.0",
          "state": {
            "_model_module": "@jupyter-widgets/controls",
            "_model_module_version": "1.5.0",
            "_model_name": "DescriptionStyleModel",
            "_view_count": null,
            "_view_module": "@jupyter-widgets/base",
            "_view_module_version": "1.2.0",
            "_view_name": "StyleView",
            "description_width": ""
          }
        },
        "68b6ba0896614cd9953242e1905fc90f": {
          "model_module": "@jupyter-widgets/base",
          "model_name": "LayoutModel",
          "model_module_version": "1.2.0",
          "state": {
            "_model_module": "@jupyter-widgets/base",
            "_model_module_version": "1.2.0",
            "_model_name": "LayoutModel",
            "_view_count": null,
            "_view_module": "@jupyter-widgets/base",
            "_view_module_version": "1.2.0",
            "_view_name": "LayoutView",
            "align_content": null,
            "align_items": null,
            "align_self": null,
            "border": null,
            "bottom": null,
            "display": null,
            "flex": null,
            "flex_flow": null,
            "grid_area": null,
            "grid_auto_columns": null,
            "grid_auto_flow": null,
            "grid_auto_rows": null,
            "grid_column": null,
            "grid_gap": null,
            "grid_row": null,
            "grid_template_areas": null,
            "grid_template_columns": null,
            "grid_template_rows": null,
            "height": null,
            "justify_content": null,
            "justify_items": null,
            "left": null,
            "margin": null,
            "max_height": null,
            "max_width": null,
            "min_height": null,
            "min_width": null,
            "object_fit": null,
            "object_position": null,
            "order": null,
            "overflow": null,
            "overflow_x": null,
            "overflow_y": null,
            "padding": null,
            "right": null,
            "top": null,
            "visibility": null,
            "width": "20px"
          }
        },
        "190b0fa470bb4be6b7d1f45f1ed52add": {
          "model_module": "@jupyter-widgets/controls",
          "model_name": "ProgressStyleModel",
          "model_module_version": "1.5.0",
          "state": {
            "_model_module": "@jupyter-widgets/controls",
            "_model_module_version": "1.5.0",
            "_model_name": "ProgressStyleModel",
            "_view_count": null,
            "_view_module": "@jupyter-widgets/base",
            "_view_module_version": "1.2.0",
            "_view_name": "StyleView",
            "bar_color": null,
            "description_width": ""
          }
        },
        "897943693dc84a8bb48d726bbec5aae3": {
          "model_module": "@jupyter-widgets/base",
          "model_name": "LayoutModel",
          "model_module_version": "1.2.0",
          "state": {
            "_model_module": "@jupyter-widgets/base",
            "_model_module_version": "1.2.0",
            "_model_name": "LayoutModel",
            "_view_count": null,
            "_view_module": "@jupyter-widgets/base",
            "_view_module_version": "1.2.0",
            "_view_name": "LayoutView",
            "align_content": null,
            "align_items": null,
            "align_self": null,
            "border": null,
            "bottom": null,
            "display": null,
            "flex": null,
            "flex_flow": null,
            "grid_area": null,
            "grid_auto_columns": null,
            "grid_auto_flow": null,
            "grid_auto_rows": null,
            "grid_column": null,
            "grid_gap": null,
            "grid_row": null,
            "grid_template_areas": null,
            "grid_template_columns": null,
            "grid_template_rows": null,
            "height": null,
            "justify_content": null,
            "justify_items": null,
            "left": null,
            "margin": null,
            "max_height": null,
            "max_width": null,
            "min_height": null,
            "min_width": null,
            "object_fit": null,
            "object_position": null,
            "order": null,
            "overflow": null,
            "overflow_x": null,
            "overflow_y": null,
            "padding": null,
            "right": null,
            "top": null,
            "visibility": null,
            "width": null
          }
        },
        "d6243ff1ee69443cadd044ccd551f39e": {
          "model_module": "@jupyter-widgets/controls",
          "model_name": "DescriptionStyleModel",
          "model_module_version": "1.5.0",
          "state": {
            "_model_module": "@jupyter-widgets/controls",
            "_model_module_version": "1.5.0",
            "_model_name": "DescriptionStyleModel",
            "_view_count": null,
            "_view_module": "@jupyter-widgets/base",
            "_view_module_version": "1.2.0",
            "_view_name": "StyleView",
            "description_width": ""
          }
        },
        "96fe8ff0cdaa4ad1a2f2c783e8d0775e": {
          "model_module": "@jupyter-widgets/controls",
          "model_name": "HBoxModel",
          "model_module_version": "1.5.0",
          "state": {
            "_dom_classes": [],
            "_model_module": "@jupyter-widgets/controls",
            "_model_module_version": "1.5.0",
            "_model_name": "HBoxModel",
            "_view_count": null,
            "_view_module": "@jupyter-widgets/controls",
            "_view_module_version": "1.5.0",
            "_view_name": "HBoxView",
            "box_style": "",
            "children": [
              "IPY_MODEL_d96edc08157d4bd2b17a66142f6f4087",
              "IPY_MODEL_b3fb0e3ce4204f308ec5aeeea76d3f97",
              "IPY_MODEL_846d31bf5e9a40d88189ff68e607b53b"
            ],
            "layout": "IPY_MODEL_78d716722d834d64b3deaaca198b751b"
          }
        },
        "d96edc08157d4bd2b17a66142f6f4087": {
          "model_module": "@jupyter-widgets/controls",
          "model_name": "HTMLModel",
          "model_module_version": "1.5.0",
          "state": {
            "_dom_classes": [],
            "_model_module": "@jupyter-widgets/controls",
            "_model_module_version": "1.5.0",
            "_model_name": "HTMLModel",
            "_view_count": null,
            "_view_module": "@jupyter-widgets/controls",
            "_view_module_version": "1.5.0",
            "_view_name": "HTMLView",
            "description": "",
            "description_tooltip": null,
            "layout": "IPY_MODEL_11454826ebcd48f9a7b474d1cd11685d",
            "placeholder": "​",
            "style": "IPY_MODEL_fca3045ebece4d448ab12ca337a6fff2",
            "value": "100%"
          }
        },
        "b3fb0e3ce4204f308ec5aeeea76d3f97": {
          "model_module": "@jupyter-widgets/controls",
          "model_name": "FloatProgressModel",
          "model_module_version": "1.5.0",
          "state": {
            "_dom_classes": [],
            "_model_module": "@jupyter-widgets/controls",
            "_model_module_version": "1.5.0",
            "_model_name": "FloatProgressModel",
            "_view_count": null,
            "_view_module": "@jupyter-widgets/controls",
            "_view_module_version": "1.5.0",
            "_view_name": "ProgressView",
            "bar_style": "success",
            "description": "",
            "description_tooltip": null,
            "layout": "IPY_MODEL_34fa050e7ffc42a0af170204d8b90e55",
            "max": 1,
            "min": 0,
            "orientation": "horizontal",
            "style": "IPY_MODEL_01882a4c5cac422f859ee1a0bb168aec",
            "value": 1
          }
        },
        "846d31bf5e9a40d88189ff68e607b53b": {
          "model_module": "@jupyter-widgets/controls",
          "model_name": "HTMLModel",
          "model_module_version": "1.5.0",
          "state": {
            "_dom_classes": [],
            "_model_module": "@jupyter-widgets/controls",
            "_model_module_version": "1.5.0",
            "_model_name": "HTMLModel",
            "_view_count": null,
            "_view_module": "@jupyter-widgets/controls",
            "_view_module_version": "1.5.0",
            "_view_name": "HTMLView",
            "description": "",
            "description_tooltip": null,
            "layout": "IPY_MODEL_caea73ee195e4d3a9343c5b7fe0a49db",
            "placeholder": "​",
            "style": "IPY_MODEL_8330171f7b0a421cad549120e8d5f849",
            "value": " 1/1 [00:00&lt;00:00, 15.22ba/s]"
          }
        },
        "78d716722d834d64b3deaaca198b751b": {
          "model_module": "@jupyter-widgets/base",
          "model_name": "LayoutModel",
          "model_module_version": "1.2.0",
          "state": {
            "_model_module": "@jupyter-widgets/base",
            "_model_module_version": "1.2.0",
            "_model_name": "LayoutModel",
            "_view_count": null,
            "_view_module": "@jupyter-widgets/base",
            "_view_module_version": "1.2.0",
            "_view_name": "LayoutView",
            "align_content": null,
            "align_items": null,
            "align_self": null,
            "border": null,
            "bottom": null,
            "display": null,
            "flex": null,
            "flex_flow": null,
            "grid_area": null,
            "grid_auto_columns": null,
            "grid_auto_flow": null,
            "grid_auto_rows": null,
            "grid_column": null,
            "grid_gap": null,
            "grid_row": null,
            "grid_template_areas": null,
            "grid_template_columns": null,
            "grid_template_rows": null,
            "height": null,
            "justify_content": null,
            "justify_items": null,
            "left": null,
            "margin": null,
            "max_height": null,
            "max_width": null,
            "min_height": null,
            "min_width": null,
            "object_fit": null,
            "object_position": null,
            "order": null,
            "overflow": null,
            "overflow_x": null,
            "overflow_y": null,
            "padding": null,
            "right": null,
            "top": null,
            "visibility": null,
            "width": null
          }
        },
        "11454826ebcd48f9a7b474d1cd11685d": {
          "model_module": "@jupyter-widgets/base",
          "model_name": "LayoutModel",
          "model_module_version": "1.2.0",
          "state": {
            "_model_module": "@jupyter-widgets/base",
            "_model_module_version": "1.2.0",
            "_model_name": "LayoutModel",
            "_view_count": null,
            "_view_module": "@jupyter-widgets/base",
            "_view_module_version": "1.2.0",
            "_view_name": "LayoutView",
            "align_content": null,
            "align_items": null,
            "align_self": null,
            "border": null,
            "bottom": null,
            "display": null,
            "flex": null,
            "flex_flow": null,
            "grid_area": null,
            "grid_auto_columns": null,
            "grid_auto_flow": null,
            "grid_auto_rows": null,
            "grid_column": null,
            "grid_gap": null,
            "grid_row": null,
            "grid_template_areas": null,
            "grid_template_columns": null,
            "grid_template_rows": null,
            "height": null,
            "justify_content": null,
            "justify_items": null,
            "left": null,
            "margin": null,
            "max_height": null,
            "max_width": null,
            "min_height": null,
            "min_width": null,
            "object_fit": null,
            "object_position": null,
            "order": null,
            "overflow": null,
            "overflow_x": null,
            "overflow_y": null,
            "padding": null,
            "right": null,
            "top": null,
            "visibility": null,
            "width": null
          }
        },
        "fca3045ebece4d448ab12ca337a6fff2": {
          "model_module": "@jupyter-widgets/controls",
          "model_name": "DescriptionStyleModel",
          "model_module_version": "1.5.0",
          "state": {
            "_model_module": "@jupyter-widgets/controls",
            "_model_module_version": "1.5.0",
            "_model_name": "DescriptionStyleModel",
            "_view_count": null,
            "_view_module": "@jupyter-widgets/base",
            "_view_module_version": "1.2.0",
            "_view_name": "StyleView",
            "description_width": ""
          }
        },
        "34fa050e7ffc42a0af170204d8b90e55": {
          "model_module": "@jupyter-widgets/base",
          "model_name": "LayoutModel",
          "model_module_version": "1.2.0",
          "state": {
            "_model_module": "@jupyter-widgets/base",
            "_model_module_version": "1.2.0",
            "_model_name": "LayoutModel",
            "_view_count": null,
            "_view_module": "@jupyter-widgets/base",
            "_view_module_version": "1.2.0",
            "_view_name": "LayoutView",
            "align_content": null,
            "align_items": null,
            "align_self": null,
            "border": null,
            "bottom": null,
            "display": null,
            "flex": null,
            "flex_flow": null,
            "grid_area": null,
            "grid_auto_columns": null,
            "grid_auto_flow": null,
            "grid_auto_rows": null,
            "grid_column": null,
            "grid_gap": null,
            "grid_row": null,
            "grid_template_areas": null,
            "grid_template_columns": null,
            "grid_template_rows": null,
            "height": null,
            "justify_content": null,
            "justify_items": null,
            "left": null,
            "margin": null,
            "max_height": null,
            "max_width": null,
            "min_height": null,
            "min_width": null,
            "object_fit": null,
            "object_position": null,
            "order": null,
            "overflow": null,
            "overflow_x": null,
            "overflow_y": null,
            "padding": null,
            "right": null,
            "top": null,
            "visibility": null,
            "width": null
          }
        },
        "01882a4c5cac422f859ee1a0bb168aec": {
          "model_module": "@jupyter-widgets/controls",
          "model_name": "ProgressStyleModel",
          "model_module_version": "1.5.0",
          "state": {
            "_model_module": "@jupyter-widgets/controls",
            "_model_module_version": "1.5.0",
            "_model_name": "ProgressStyleModel",
            "_view_count": null,
            "_view_module": "@jupyter-widgets/base",
            "_view_module_version": "1.2.0",
            "_view_name": "StyleView",
            "bar_color": null,
            "description_width": ""
          }
        },
        "caea73ee195e4d3a9343c5b7fe0a49db": {
          "model_module": "@jupyter-widgets/base",
          "model_name": "LayoutModel",
          "model_module_version": "1.2.0",
          "state": {
            "_model_module": "@jupyter-widgets/base",
            "_model_module_version": "1.2.0",
            "_model_name": "LayoutModel",
            "_view_count": null,
            "_view_module": "@jupyter-widgets/base",
            "_view_module_version": "1.2.0",
            "_view_name": "LayoutView",
            "align_content": null,
            "align_items": null,
            "align_self": null,
            "border": null,
            "bottom": null,
            "display": null,
            "flex": null,
            "flex_flow": null,
            "grid_area": null,
            "grid_auto_columns": null,
            "grid_auto_flow": null,
            "grid_auto_rows": null,
            "grid_column": null,
            "grid_gap": null,
            "grid_row": null,
            "grid_template_areas": null,
            "grid_template_columns": null,
            "grid_template_rows": null,
            "height": null,
            "justify_content": null,
            "justify_items": null,
            "left": null,
            "margin": null,
            "max_height": null,
            "max_width": null,
            "min_height": null,
            "min_width": null,
            "object_fit": null,
            "object_position": null,
            "order": null,
            "overflow": null,
            "overflow_x": null,
            "overflow_y": null,
            "padding": null,
            "right": null,
            "top": null,
            "visibility": null,
            "width": null
          }
        },
        "8330171f7b0a421cad549120e8d5f849": {
          "model_module": "@jupyter-widgets/controls",
          "model_name": "DescriptionStyleModel",
          "model_module_version": "1.5.0",
          "state": {
            "_model_module": "@jupyter-widgets/controls",
            "_model_module_version": "1.5.0",
            "_model_name": "DescriptionStyleModel",
            "_view_count": null,
            "_view_module": "@jupyter-widgets/base",
            "_view_module_version": "1.2.0",
            "_view_name": "StyleView",
            "description_width": ""
          }
        },
        "4b6f8b769443463cbc8f3ff213ad4837": {
          "model_module": "@jupyter-widgets/controls",
          "model_name": "HBoxModel",
          "model_module_version": "1.5.0",
          "state": {
            "_dom_classes": [],
            "_model_module": "@jupyter-widgets/controls",
            "_model_module_version": "1.5.0",
            "_model_name": "HBoxModel",
            "_view_count": null,
            "_view_module": "@jupyter-widgets/controls",
            "_view_module_version": "1.5.0",
            "_view_name": "HBoxView",
            "box_style": "",
            "children": [
              "IPY_MODEL_f6b45e4b56d34f8f951662ccb71c5a5c",
              "IPY_MODEL_32fb7ebbf8ab44b08aa59e0cfaf991a3",
              "IPY_MODEL_4ba05bff02f046e5baf8287b0a73bc40"
            ],
            "layout": "IPY_MODEL_1f9154159b584a3784d55037211ea0e6"
          }
        },
        "f6b45e4b56d34f8f951662ccb71c5a5c": {
          "model_module": "@jupyter-widgets/controls",
          "model_name": "HTMLModel",
          "model_module_version": "1.5.0",
          "state": {
            "_dom_classes": [],
            "_model_module": "@jupyter-widgets/controls",
            "_model_module_version": "1.5.0",
            "_model_name": "HTMLModel",
            "_view_count": null,
            "_view_module": "@jupyter-widgets/controls",
            "_view_module_version": "1.5.0",
            "_view_name": "HTMLView",
            "description": "",
            "description_tooltip": null,
            "layout": "IPY_MODEL_8a8d7c4ecd4448b9b9977fb8ec568967",
            "placeholder": "​",
            "style": "IPY_MODEL_d0d170efd09c4b2e9861acba688791dd",
            "value": "100%"
          }
        },
        "32fb7ebbf8ab44b08aa59e0cfaf991a3": {
          "model_module": "@jupyter-widgets/controls",
          "model_name": "FloatProgressModel",
          "model_module_version": "1.5.0",
          "state": {
            "_dom_classes": [],
            "_model_module": "@jupyter-widgets/controls",
            "_model_module_version": "1.5.0",
            "_model_name": "FloatProgressModel",
            "_view_count": null,
            "_view_module": "@jupyter-widgets/controls",
            "_view_module_version": "1.5.0",
            "_view_name": "ProgressView",
            "bar_style": "success",
            "description": "",
            "description_tooltip": null,
            "layout": "IPY_MODEL_52a7f86ace5648789b4d3ce46c7739a2",
            "max": 1,
            "min": 0,
            "orientation": "horizontal",
            "style": "IPY_MODEL_1f7218f244e540469a2289ac45c9bd84",
            "value": 1
          }
        },
        "4ba05bff02f046e5baf8287b0a73bc40": {
          "model_module": "@jupyter-widgets/controls",
          "model_name": "HTMLModel",
          "model_module_version": "1.5.0",
          "state": {
            "_dom_classes": [],
            "_model_module": "@jupyter-widgets/controls",
            "_model_module_version": "1.5.0",
            "_model_name": "HTMLModel",
            "_view_count": null,
            "_view_module": "@jupyter-widgets/controls",
            "_view_module_version": "1.5.0",
            "_view_name": "HTMLView",
            "description": "",
            "description_tooltip": null,
            "layout": "IPY_MODEL_fd65d09239594b59bb153bf0f6b9d0f5",
            "placeholder": "​",
            "style": "IPY_MODEL_fe9371540ee4486ab07138e72bcc33e1",
            "value": " 1/1 [00:00&lt;00:00, 21.98ba/s]"
          }
        },
        "1f9154159b584a3784d55037211ea0e6": {
          "model_module": "@jupyter-widgets/base",
          "model_name": "LayoutModel",
          "model_module_version": "1.2.0",
          "state": {
            "_model_module": "@jupyter-widgets/base",
            "_model_module_version": "1.2.0",
            "_model_name": "LayoutModel",
            "_view_count": null,
            "_view_module": "@jupyter-widgets/base",
            "_view_module_version": "1.2.0",
            "_view_name": "LayoutView",
            "align_content": null,
            "align_items": null,
            "align_self": null,
            "border": null,
            "bottom": null,
            "display": null,
            "flex": null,
            "flex_flow": null,
            "grid_area": null,
            "grid_auto_columns": null,
            "grid_auto_flow": null,
            "grid_auto_rows": null,
            "grid_column": null,
            "grid_gap": null,
            "grid_row": null,
            "grid_template_areas": null,
            "grid_template_columns": null,
            "grid_template_rows": null,
            "height": null,
            "justify_content": null,
            "justify_items": null,
            "left": null,
            "margin": null,
            "max_height": null,
            "max_width": null,
            "min_height": null,
            "min_width": null,
            "object_fit": null,
            "object_position": null,
            "order": null,
            "overflow": null,
            "overflow_x": null,
            "overflow_y": null,
            "padding": null,
            "right": null,
            "top": null,
            "visibility": null,
            "width": null
          }
        },
        "8a8d7c4ecd4448b9b9977fb8ec568967": {
          "model_module": "@jupyter-widgets/base",
          "model_name": "LayoutModel",
          "model_module_version": "1.2.0",
          "state": {
            "_model_module": "@jupyter-widgets/base",
            "_model_module_version": "1.2.0",
            "_model_name": "LayoutModel",
            "_view_count": null,
            "_view_module": "@jupyter-widgets/base",
            "_view_module_version": "1.2.0",
            "_view_name": "LayoutView",
            "align_content": null,
            "align_items": null,
            "align_self": null,
            "border": null,
            "bottom": null,
            "display": null,
            "flex": null,
            "flex_flow": null,
            "grid_area": null,
            "grid_auto_columns": null,
            "grid_auto_flow": null,
            "grid_auto_rows": null,
            "grid_column": null,
            "grid_gap": null,
            "grid_row": null,
            "grid_template_areas": null,
            "grid_template_columns": null,
            "grid_template_rows": null,
            "height": null,
            "justify_content": null,
            "justify_items": null,
            "left": null,
            "margin": null,
            "max_height": null,
            "max_width": null,
            "min_height": null,
            "min_width": null,
            "object_fit": null,
            "object_position": null,
            "order": null,
            "overflow": null,
            "overflow_x": null,
            "overflow_y": null,
            "padding": null,
            "right": null,
            "top": null,
            "visibility": null,
            "width": null
          }
        },
        "d0d170efd09c4b2e9861acba688791dd": {
          "model_module": "@jupyter-widgets/controls",
          "model_name": "DescriptionStyleModel",
          "model_module_version": "1.5.0",
          "state": {
            "_model_module": "@jupyter-widgets/controls",
            "_model_module_version": "1.5.0",
            "_model_name": "DescriptionStyleModel",
            "_view_count": null,
            "_view_module": "@jupyter-widgets/base",
            "_view_module_version": "1.2.0",
            "_view_name": "StyleView",
            "description_width": ""
          }
        },
        "52a7f86ace5648789b4d3ce46c7739a2": {
          "model_module": "@jupyter-widgets/base",
          "model_name": "LayoutModel",
          "model_module_version": "1.2.0",
          "state": {
            "_model_module": "@jupyter-widgets/base",
            "_model_module_version": "1.2.0",
            "_model_name": "LayoutModel",
            "_view_count": null,
            "_view_module": "@jupyter-widgets/base",
            "_view_module_version": "1.2.0",
            "_view_name": "LayoutView",
            "align_content": null,
            "align_items": null,
            "align_self": null,
            "border": null,
            "bottom": null,
            "display": null,
            "flex": null,
            "flex_flow": null,
            "grid_area": null,
            "grid_auto_columns": null,
            "grid_auto_flow": null,
            "grid_auto_rows": null,
            "grid_column": null,
            "grid_gap": null,
            "grid_row": null,
            "grid_template_areas": null,
            "grid_template_columns": null,
            "grid_template_rows": null,
            "height": null,
            "justify_content": null,
            "justify_items": null,
            "left": null,
            "margin": null,
            "max_height": null,
            "max_width": null,
            "min_height": null,
            "min_width": null,
            "object_fit": null,
            "object_position": null,
            "order": null,
            "overflow": null,
            "overflow_x": null,
            "overflow_y": null,
            "padding": null,
            "right": null,
            "top": null,
            "visibility": null,
            "width": null
          }
        },
        "1f7218f244e540469a2289ac45c9bd84": {
          "model_module": "@jupyter-widgets/controls",
          "model_name": "ProgressStyleModel",
          "model_module_version": "1.5.0",
          "state": {
            "_model_module": "@jupyter-widgets/controls",
            "_model_module_version": "1.5.0",
            "_model_name": "ProgressStyleModel",
            "_view_count": null,
            "_view_module": "@jupyter-widgets/base",
            "_view_module_version": "1.2.0",
            "_view_name": "StyleView",
            "bar_color": null,
            "description_width": ""
          }
        },
        "fd65d09239594b59bb153bf0f6b9d0f5": {
          "model_module": "@jupyter-widgets/base",
          "model_name": "LayoutModel",
          "model_module_version": "1.2.0",
          "state": {
            "_model_module": "@jupyter-widgets/base",
            "_model_module_version": "1.2.0",
            "_model_name": "LayoutModel",
            "_view_count": null,
            "_view_module": "@jupyter-widgets/base",
            "_view_module_version": "1.2.0",
            "_view_name": "LayoutView",
            "align_content": null,
            "align_items": null,
            "align_self": null,
            "border": null,
            "bottom": null,
            "display": null,
            "flex": null,
            "flex_flow": null,
            "grid_area": null,
            "grid_auto_columns": null,
            "grid_auto_flow": null,
            "grid_auto_rows": null,
            "grid_column": null,
            "grid_gap": null,
            "grid_row": null,
            "grid_template_areas": null,
            "grid_template_columns": null,
            "grid_template_rows": null,
            "height": null,
            "justify_content": null,
            "justify_items": null,
            "left": null,
            "margin": null,
            "max_height": null,
            "max_width": null,
            "min_height": null,
            "min_width": null,
            "object_fit": null,
            "object_position": null,
            "order": null,
            "overflow": null,
            "overflow_x": null,
            "overflow_y": null,
            "padding": null,
            "right": null,
            "top": null,
            "visibility": null,
            "width": null
          }
        },
        "fe9371540ee4486ab07138e72bcc33e1": {
          "model_module": "@jupyter-widgets/controls",
          "model_name": "DescriptionStyleModel",
          "model_module_version": "1.5.0",
          "state": {
            "_model_module": "@jupyter-widgets/controls",
            "_model_module_version": "1.5.0",
            "_model_name": "DescriptionStyleModel",
            "_view_count": null,
            "_view_module": "@jupyter-widgets/base",
            "_view_module_version": "1.2.0",
            "_view_name": "StyleView",
            "description_width": ""
          }
        },
        "2f1db1eaeefa420ea0ddc30647675710": {
          "model_module": "@jupyter-widgets/controls",
          "model_name": "HBoxModel",
          "model_module_version": "1.5.0",
          "state": {
            "_dom_classes": [],
            "_model_module": "@jupyter-widgets/controls",
            "_model_module_version": "1.5.0",
            "_model_name": "HBoxModel",
            "_view_count": null,
            "_view_module": "@jupyter-widgets/controls",
            "_view_module_version": "1.5.0",
            "_view_name": "HBoxView",
            "box_style": "",
            "children": [
              "IPY_MODEL_843f160f3be043fba268a8c5bdecdd4e",
              "IPY_MODEL_f8d8e5021f744ab18f1ebcddc93ec0e1",
              "IPY_MODEL_6feddbcb0b42483e8fc10feb67950792"
            ],
            "layout": "IPY_MODEL_100a699fe1f14fdbae4f3f6b2bad9e3d"
          }
        },
        "843f160f3be043fba268a8c5bdecdd4e": {
          "model_module": "@jupyter-widgets/controls",
          "model_name": "HTMLModel",
          "model_module_version": "1.5.0",
          "state": {
            "_dom_classes": [],
            "_model_module": "@jupyter-widgets/controls",
            "_model_module_version": "1.5.0",
            "_model_name": "HTMLModel",
            "_view_count": null,
            "_view_module": "@jupyter-widgets/controls",
            "_view_module_version": "1.5.0",
            "_view_name": "HTMLView",
            "description": "",
            "description_tooltip": null,
            "layout": "IPY_MODEL_f10b4dd7e6ad42588f23f6ed2abe8ed7",
            "placeholder": "​",
            "style": "IPY_MODEL_80c42fd11b814fa3a2c9d8192d361b51",
            "value": "100%"
          }
        },
        "f8d8e5021f744ab18f1ebcddc93ec0e1": {
          "model_module": "@jupyter-widgets/controls",
          "model_name": "FloatProgressModel",
          "model_module_version": "1.5.0",
          "state": {
            "_dom_classes": [],
            "_model_module": "@jupyter-widgets/controls",
            "_model_module_version": "1.5.0",
            "_model_name": "FloatProgressModel",
            "_view_count": null,
            "_view_module": "@jupyter-widgets/controls",
            "_view_module_version": "1.5.0",
            "_view_name": "ProgressView",
            "bar_style": "success",
            "description": "",
            "description_tooltip": null,
            "layout": "IPY_MODEL_5ca81f209ad8463d9b9f6a6d4bd43127",
            "max": 5,
            "min": 0,
            "orientation": "horizontal",
            "style": "IPY_MODEL_ce37826fd77d4c5494de965f391ee458",
            "value": 5
          }
        },
        "6feddbcb0b42483e8fc10feb67950792": {
          "model_module": "@jupyter-widgets/controls",
          "model_name": "HTMLModel",
          "model_module_version": "1.5.0",
          "state": {
            "_dom_classes": [],
            "_model_module": "@jupyter-widgets/controls",
            "_model_module_version": "1.5.0",
            "_model_name": "HTMLModel",
            "_view_count": null,
            "_view_module": "@jupyter-widgets/controls",
            "_view_module_version": "1.5.0",
            "_view_name": "HTMLView",
            "description": "",
            "description_tooltip": null,
            "layout": "IPY_MODEL_3ad01aac69604294a4f34bbb4b68359f",
            "placeholder": "​",
            "style": "IPY_MODEL_9d6da61f45454666b7675527676fe95a",
            "value": " 5/5 [00:00&lt;00:00, 126.45ba/s]"
          }
        },
        "100a699fe1f14fdbae4f3f6b2bad9e3d": {
          "model_module": "@jupyter-widgets/base",
          "model_name": "LayoutModel",
          "model_module_version": "1.2.0",
          "state": {
            "_model_module": "@jupyter-widgets/base",
            "_model_module_version": "1.2.0",
            "_model_name": "LayoutModel",
            "_view_count": null,
            "_view_module": "@jupyter-widgets/base",
            "_view_module_version": "1.2.0",
            "_view_name": "LayoutView",
            "align_content": null,
            "align_items": null,
            "align_self": null,
            "border": null,
            "bottom": null,
            "display": null,
            "flex": null,
            "flex_flow": null,
            "grid_area": null,
            "grid_auto_columns": null,
            "grid_auto_flow": null,
            "grid_auto_rows": null,
            "grid_column": null,
            "grid_gap": null,
            "grid_row": null,
            "grid_template_areas": null,
            "grid_template_columns": null,
            "grid_template_rows": null,
            "height": null,
            "justify_content": null,
            "justify_items": null,
            "left": null,
            "margin": null,
            "max_height": null,
            "max_width": null,
            "min_height": null,
            "min_width": null,
            "object_fit": null,
            "object_position": null,
            "order": null,
            "overflow": null,
            "overflow_x": null,
            "overflow_y": null,
            "padding": null,
            "right": null,
            "top": null,
            "visibility": null,
            "width": null
          }
        },
        "f10b4dd7e6ad42588f23f6ed2abe8ed7": {
          "model_module": "@jupyter-widgets/base",
          "model_name": "LayoutModel",
          "model_module_version": "1.2.0",
          "state": {
            "_model_module": "@jupyter-widgets/base",
            "_model_module_version": "1.2.0",
            "_model_name": "LayoutModel",
            "_view_count": null,
            "_view_module": "@jupyter-widgets/base",
            "_view_module_version": "1.2.0",
            "_view_name": "LayoutView",
            "align_content": null,
            "align_items": null,
            "align_self": null,
            "border": null,
            "bottom": null,
            "display": null,
            "flex": null,
            "flex_flow": null,
            "grid_area": null,
            "grid_auto_columns": null,
            "grid_auto_flow": null,
            "grid_auto_rows": null,
            "grid_column": null,
            "grid_gap": null,
            "grid_row": null,
            "grid_template_areas": null,
            "grid_template_columns": null,
            "grid_template_rows": null,
            "height": null,
            "justify_content": null,
            "justify_items": null,
            "left": null,
            "margin": null,
            "max_height": null,
            "max_width": null,
            "min_height": null,
            "min_width": null,
            "object_fit": null,
            "object_position": null,
            "order": null,
            "overflow": null,
            "overflow_x": null,
            "overflow_y": null,
            "padding": null,
            "right": null,
            "top": null,
            "visibility": null,
            "width": null
          }
        },
        "80c42fd11b814fa3a2c9d8192d361b51": {
          "model_module": "@jupyter-widgets/controls",
          "model_name": "DescriptionStyleModel",
          "model_module_version": "1.5.0",
          "state": {
            "_model_module": "@jupyter-widgets/controls",
            "_model_module_version": "1.5.0",
            "_model_name": "DescriptionStyleModel",
            "_view_count": null,
            "_view_module": "@jupyter-widgets/base",
            "_view_module_version": "1.2.0",
            "_view_name": "StyleView",
            "description_width": ""
          }
        },
        "5ca81f209ad8463d9b9f6a6d4bd43127": {
          "model_module": "@jupyter-widgets/base",
          "model_name": "LayoutModel",
          "model_module_version": "1.2.0",
          "state": {
            "_model_module": "@jupyter-widgets/base",
            "_model_module_version": "1.2.0",
            "_model_name": "LayoutModel",
            "_view_count": null,
            "_view_module": "@jupyter-widgets/base",
            "_view_module_version": "1.2.0",
            "_view_name": "LayoutView",
            "align_content": null,
            "align_items": null,
            "align_self": null,
            "border": null,
            "bottom": null,
            "display": null,
            "flex": null,
            "flex_flow": null,
            "grid_area": null,
            "grid_auto_columns": null,
            "grid_auto_flow": null,
            "grid_auto_rows": null,
            "grid_column": null,
            "grid_gap": null,
            "grid_row": null,
            "grid_template_areas": null,
            "grid_template_columns": null,
            "grid_template_rows": null,
            "height": null,
            "justify_content": null,
            "justify_items": null,
            "left": null,
            "margin": null,
            "max_height": null,
            "max_width": null,
            "min_height": null,
            "min_width": null,
            "object_fit": null,
            "object_position": null,
            "order": null,
            "overflow": null,
            "overflow_x": null,
            "overflow_y": null,
            "padding": null,
            "right": null,
            "top": null,
            "visibility": null,
            "width": null
          }
        },
        "ce37826fd77d4c5494de965f391ee458": {
          "model_module": "@jupyter-widgets/controls",
          "model_name": "ProgressStyleModel",
          "model_module_version": "1.5.0",
          "state": {
            "_model_module": "@jupyter-widgets/controls",
            "_model_module_version": "1.5.0",
            "_model_name": "ProgressStyleModel",
            "_view_count": null,
            "_view_module": "@jupyter-widgets/base",
            "_view_module_version": "1.2.0",
            "_view_name": "StyleView",
            "bar_color": null,
            "description_width": ""
          }
        },
        "3ad01aac69604294a4f34bbb4b68359f": {
          "model_module": "@jupyter-widgets/base",
          "model_name": "LayoutModel",
          "model_module_version": "1.2.0",
          "state": {
            "_model_module": "@jupyter-widgets/base",
            "_model_module_version": "1.2.0",
            "_model_name": "LayoutModel",
            "_view_count": null,
            "_view_module": "@jupyter-widgets/base",
            "_view_module_version": "1.2.0",
            "_view_name": "LayoutView",
            "align_content": null,
            "align_items": null,
            "align_self": null,
            "border": null,
            "bottom": null,
            "display": null,
            "flex": null,
            "flex_flow": null,
            "grid_area": null,
            "grid_auto_columns": null,
            "grid_auto_flow": null,
            "grid_auto_rows": null,
            "grid_column": null,
            "grid_gap": null,
            "grid_row": null,
            "grid_template_areas": null,
            "grid_template_columns": null,
            "grid_template_rows": null,
            "height": null,
            "justify_content": null,
            "justify_items": null,
            "left": null,
            "margin": null,
            "max_height": null,
            "max_width": null,
            "min_height": null,
            "min_width": null,
            "object_fit": null,
            "object_position": null,
            "order": null,
            "overflow": null,
            "overflow_x": null,
            "overflow_y": null,
            "padding": null,
            "right": null,
            "top": null,
            "visibility": null,
            "width": null
          }
        },
        "9d6da61f45454666b7675527676fe95a": {
          "model_module": "@jupyter-widgets/controls",
          "model_name": "DescriptionStyleModel",
          "model_module_version": "1.5.0",
          "state": {
            "_model_module": "@jupyter-widgets/controls",
            "_model_module_version": "1.5.0",
            "_model_name": "DescriptionStyleModel",
            "_view_count": null,
            "_view_module": "@jupyter-widgets/base",
            "_view_module_version": "1.2.0",
            "_view_name": "StyleView",
            "description_width": ""
          }
        }
      }
    },
    "gpuClass": "standard",
    "accelerator": "GPU"
  },
  "cells": [
    {
      "cell_type": "markdown",
      "metadata": {
        "id": "view-in-github",
        "colab_type": "text"
      },
      "source": [
        "<a href=\"https://colab.research.google.com/github/enricoaquilina/DataScience-DeepLearning/blob/master/Copy_of_Fine_tuning_Wav2Vec2_for_English_ASR.ipynb\" target=\"_parent\"><img src=\"https://colab.research.google.com/assets/colab-badge.svg\" alt=\"Open In Colab\"/></a>"
      ]
    },
    {
      "cell_type": "markdown",
      "metadata": {
        "id": "LBSYoWbi-45k"
      },
      "source": [
        "# **Fine-tuning Wav2Vec2 for English ASR with 🤗 Transformers**"
      ]
    },
    {
      "cell_type": "markdown",
      "metadata": {
        "id": "V7YOT2mnUiea"
      },
      "source": [
        "Wav2Vec2 is a pretrained model for Automatic Speech Recognition (ASR) and was released in [September 2020](https://ai.facebook.com/blog/wav2vec-20-learning-the-structure-of-speech-from-raw-audio/) by Alexei Baevski, Michael Auli, and Alex Conneau.\n",
        "\n",
        "Using a novel contrastive pretraining objective, Wav2Vec2 learns powerful speech representations from more than 50.000 hours of unlabeled speech. Similar, to [BERT's masked language modeling](http://jalammar.github.io/illustrated-bert/), the model learns contextualized speech representations by randomly masking feature vectors before passing them to a transformer network.\n",
        "\n",
        "![wav2vec2_structure](https://raw.githubusercontent.com/patrickvonplaten/scientific_images/master/wav2vec2.png)\n",
        "\n",
        "For the first time, it has been shown that pretraining, followed by fine-tuning on very little labeled speech data achieves competitive results to state-of-the-art ASR systems. Using as little as 10 minutes of labeled data, Wav2Vec2 yields a word error rate (WER) of less than 5% on the clean test set of [LibriSpeech](https://huggingface.co/datasets/librispeech_asr) - *cf.* with Table 9 of the [paper](https://arxiv.org/pdf/2006.11477.pdf)."
      ]
    },
    {
      "cell_type": "markdown",
      "metadata": {
        "id": "nT_QrfWtsxIz"
      },
      "source": [
        "In this notebook, we will give an in-detail explanation of how Wav2Vec2's pretrained checkpoints can be fine-tuned on any English ASR dataset. Note that in this notebook, we will fine-tune Wav2Vec2 without making use of a language model. It is much simpler to use Wav2Vec2 without a language model as an end-to-end ASR system and it has been shown that a standalone Wav2Vec2 acoustic model achieves impressive results. For demonstration purposes, we fine-tune the \"base\"-sized [pretrained checkpoint](https://huggingface.co/facebook/wav2vec2-base) on the rather small [Timit](https://huggingface.co/datasets/timit_asr) dataset that contains just 5h of training data."
      ]
    },
    {
      "cell_type": "markdown",
      "metadata": {
        "id": "Gx9OdDYrCtQ1"
      },
      "source": [
        "Wav2Vec2 is fine-tuned using Connectionist Temporal Classification (CTC), which is an algorithm that is used to train neural networks for sequence-to-sequence problems and mainly in Automatic Speech Recognition and handwriting recognition. \n",
        "\n",
        "I highly recommend reading the blog post [Sequence Modeling with CTC (2017)](https://distill.pub/2017/ctc/) very well-written blog post by Awni Hannun."
      ]
    },
    {
      "cell_type": "markdown",
      "metadata": {
        "id": "qW3J3rBizeds"
      },
      "source": [
        "First, let's try to get a good GPU in our colab! With Google Colab's free version it's sadly becoming much harder to get access to a good GPU. With Google Colab Pro, one has a much easier time getting access to a V100 or P100 GPU however."
      ]
    },
    {
      "cell_type": "code",
      "metadata": {
        "id": "SLAufgh_xxj7",
        "colab": {
          "base_uri": "https://localhost:8080/"
        },
        "outputId": "6f039c1d-53e5-4078-d392-531fdd512f9d"
      },
      "source": [
        "gpu_info = !nvidia-smi\n",
        "gpu_info = '\\n'.join(gpu_info)\n",
        "if gpu_info.find('failed') >= 0:\n",
        "  print('Not connected to a GPU')\n",
        "else:\n",
        "  print(gpu_info)"
      ],
      "execution_count": 19,
      "outputs": [
        {
          "output_type": "stream",
          "name": "stdout",
          "text": [
            "Thu Dec 29 07:30:07 2022       \n",
            "+-----------------------------------------------------------------------------+\n",
            "| NVIDIA-SMI 460.32.03    Driver Version: 460.32.03    CUDA Version: 11.2     |\n",
            "|-------------------------------+----------------------+----------------------+\n",
            "| GPU  Name        Persistence-M| Bus-Id        Disp.A | Volatile Uncorr. ECC |\n",
            "| Fan  Temp  Perf  Pwr:Usage/Cap|         Memory-Usage | GPU-Util  Compute M. |\n",
            "|                               |                      |               MIG M. |\n",
            "|===============================+======================+======================|\n",
            "|   0  Tesla T4            Off  | 00000000:00:04.0 Off |                    0 |\n",
            "| N/A   41C    P0    26W /  70W |      0MiB / 15109MiB |      0%      Default |\n",
            "|                               |                      |                  N/A |\n",
            "+-------------------------------+----------------------+----------------------+\n",
            "                                                                               \n",
            "+-----------------------------------------------------------------------------+\n",
            "| Processes:                                                                  |\n",
            "|  GPU   GI   CI        PID   Type   Process name                  GPU Memory |\n",
            "|        ID   ID                                                   Usage      |\n",
            "|=============================================================================|\n",
            "|  No running processes found                                                 |\n",
            "+-----------------------------------------------------------------------------+\n"
          ]
        }
      ]
    },
    {
      "cell_type": "markdown",
      "metadata": {
        "id": "e335hPmdtASZ"
      },
      "source": [
        "Before we start, let's install both `datasets` and `transformers` from master. Also, we need the `librosa` package to load audio files and the `jiwer` to evaluate our fine-tuned model using the [word error rate (WER)](https://huggingface.co/metrics/wer) metric ${}^1$."
      ]
    },
    {
      "cell_type": "code",
      "metadata": {
        "id": "c8eh87Hoee5d"
      },
      "source": [
        "%%capture\n",
        "!pip install datasets==1.18.3\n",
        "!pip install transformers==4.24.0\n",
        "!pip install jiwer\n",
        "# !pip install git+https://github.com/huggingface/transformers.git@push_to_hub_save"
      ],
      "execution_count": 20,
      "outputs": []
    },
    {
      "cell_type": "code",
      "source": [
        "# !pip install -U huggingface-hub transformers datasets"
      ],
      "metadata": {
        "id": "bqOWupdB44HQ"
      },
      "execution_count": 21,
      "outputs": []
    },
    {
      "cell_type": "code",
      "source": [
        "!pip show transformers"
      ],
      "metadata": {
        "colab": {
          "base_uri": "https://localhost:8080/"
        },
        "id": "W77jl5PW5r6F",
        "outputId": "b3847720-544f-43cc-fcdf-6aa6f53522b2"
      },
      "execution_count": 22,
      "outputs": [
        {
          "output_type": "stream",
          "name": "stdout",
          "text": [
            "Name: transformers\n",
            "Version: 4.24.0\n",
            "Summary: State-of-the-art Machine Learning for JAX, PyTorch and TensorFlow\n",
            "Home-page: https://github.com/huggingface/transformers\n",
            "Author: The Hugging Face team (past and future) with the help of all our contributors (https://github.com/huggingface/transformers/graphs/contributors)\n",
            "Author-email: transformers@huggingface.co\n",
            "License: Apache\n",
            "Location: /usr/local/lib/python3.8/dist-packages\n",
            "Requires: tokenizers, numpy, packaging, filelock, regex, requests, pyyaml, tqdm, huggingface-hub\n",
            "Required-by: \n"
          ]
        }
      ]
    },
    {
      "cell_type": "markdown",
      "metadata": {
        "id": "8_6kYmDMH9lR"
      },
      "source": [
        "Next we strongly suggest to upload your training checkpoints directly to the [🤗 Hub](https://huggingface.co/) while training. The [🤗 Hub](https://huggingface.co/) has integrated version control so you can be sure that no model checkpoint is getting lost during training. \n",
        "\n",
        "To do so you have to store your authentication token from the Hugging Face website (sign up [here](https://huggingface.co/join) if you haven't already!)"
      ]
    },
    {
      "cell_type": "code",
      "metadata": {
        "colab": {
          "base_uri": "https://localhost:8080/",
          "height": 359,
          "referenced_widgets": [
            "c68d8dc66da14999a30332b9a8903b08",
            "4202e7896cf74ffc9001c0ccb639db4c",
            "3946aff2a3b74e9fbb93be18e071d424",
            "2d4737f86d4a42268c75781e92bc04af",
            "949f6053810f47bab2800e891e906662",
            "14710ad9a35f42df989f5a3089370924",
            "7d0d9a31ebbf49f8bd872bf8d6bf9661",
            "602d9f350b5f46e88b126041d5d4d24b",
            "72d4ecb087d741a8a8c21384d24d1909",
            "c985ba1a1ea54514ba957d8364f686ed",
            "e49185388e6f4f2a9b9115dd934e28d7",
            "94332044f67e4cb6bef2a96a328394a0",
            "02a0ac724a544d39ac53f988978ae1ad",
            "5b5d962dc3454c8fba475bf5e9d29826",
            "e97e1847d8a34635ad9e571c0a14267e",
            "bdb52f3083914e739b868508c23284af",
            "2047f44f6ae24a4198c62dbb30ea7e11"
          ]
        },
        "id": "zFLBDyzQIA3R",
        "outputId": "eb74bb05-06e6-4cb3-9950-0ac04e6506b8"
      },
      "source": [
        "from huggingface_hub import notebook_login\n",
        "\n",
        "notebook_login()"
      ],
      "execution_count": 23,
      "outputs": [
        {
          "output_type": "display_data",
          "data": {
            "text/plain": [
              "VBox(children=(HTML(value='<center> <img\\nsrc=https://huggingface.co/front/assets/huggingface_logo-noborder.sv…"
            ],
            "application/vnd.jupyter.widget-view+json": {
              "version_major": 2,
              "version_minor": 0,
              "model_id": "c68d8dc66da14999a30332b9a8903b08"
            }
          },
          "metadata": {}
        }
      ]
    },
    {
      "cell_type": "markdown",
      "metadata": {
        "id": "zCyw5D23IQ1F"
      },
      "source": [
        "\n",
        "Then you need to install Git-LFS to upload your model checkpoints:"
      ]
    },
    {
      "cell_type": "code",
      "metadata": {
        "id": "Q9BnQDhOITBC"
      },
      "source": [
        "%%capture\n",
        "!apt install git-lfs"
      ],
      "execution_count": 24,
      "outputs": []
    },
    {
      "cell_type": "markdown",
      "metadata": {
        "id": "Mn9swf6EQ9Vd"
      },
      "source": [
        "\n",
        "\n",
        "\n",
        "---\n",
        "\n",
        "${}^1$ Timit is usually evaluated using the phoneme error rate (PER), but by far the most common metric in ASR is the word error rate (WER). To keep this notebook as general as possible we decided to evaluate the model using WER."
      ]
    },
    {
      "cell_type": "markdown",
      "metadata": {
        "id": "0mW-C1Nt-j7k"
      },
      "source": [
        "## Prepare Data, Tokenizer, Feature Extractor"
      ]
    },
    {
      "cell_type": "markdown",
      "metadata": {
        "id": "BeBosnY9BH3e"
      },
      "source": [
        "ASR models transcribe speech to text, which means that we both need a feature extractor that processes the speech signal to the model's input format, *e.g.* a feature vector, and a tokenizer that processes the model's output format to text. \n",
        "\n",
        "In 🤗 Transformers, the Wav2Vec2 model is thus accompanied by both a tokenizer, called [Wav2Vec2CTCTokenizer](https://huggingface.co/transformers/master/model_doc/wav2vec2.html#wav2vec2ctctokenizer), and a feature extractor, called [Wav2Vec2FeatureExtractor](https://huggingface.co/transformers/master/model_doc/wav2vec2.html#wav2vec2featureextractor).\n",
        "\n",
        "Let's start by creating the tokenizer responsible for decoding the model's predictions."
      ]
    },
    {
      "cell_type": "markdown",
      "metadata": {
        "id": "sEXEWEJGQPqD"
      },
      "source": [
        "### Create Wav2Vec2CTCTokenizer"
      ]
    },
    {
      "cell_type": "markdown",
      "metadata": {
        "id": "tWmMikuNEKl_"
      },
      "source": [
        "The [pretrained Wav2Vec2 checkpoint]( ) maps the speech signal to a sequence of context representations as illustrated in the figure above. A fine-tuned Wav2Vec2 checkpoint needs to map this sequence of context representations to its corresponding transcription so that a linear layer has to be added on top of the transformer block (shown in yellow). This linear layer is used to classifies each context representation to a token class analogous how, *e.g.*, after pretraining a linear layer is added on top of BERT's embeddings for further classification - *cf.* with *\"BERT\"* section of this [blog post](https://huggingface.co/blog/warm-starting-encoder-decoder).\n",
        "\n",
        "The output size of this layer corresponds to the number of tokens in the vocabulary, which does **not** depend on Wav2Vec2's pretraining task, but only on the labeled dataset used for fine-tuning. So in the first step, we will take a look at Timit and define a vocabulary based on the dataset's transcriptions."
      ]
    },
    {
      "cell_type": "markdown",
      "metadata": {
        "id": "bee4g9rpLxll"
      },
      "source": [
        "Let's start by loading the dataset and taking a look at its structure."
      ]
    },
    {
      "cell_type": "code",
      "metadata": {
        "id": "2MMXcWFFgCXU",
        "colab": {
          "base_uri": "https://localhost:8080/",
          "height": 87,
          "referenced_widgets": [
            "1a0a554da67e4b77a4702ded6caab415",
            "4f9db6dc484945e389b7c63add455717",
            "627f92c3d0f94432a714032c8b8bcaeb",
            "1864fecc6a5444c297e20208127bb639",
            "e789b229de814dba8b218bbfbc75cda3",
            "e39d247f6de345219fbb28265382e0ba",
            "8d396c060b6f4a2f8f75eec2a86f9cdc",
            "f05543d5f96e4fc188d655f0b8b33179",
            "ba077cd8c07248b0999d0354d9b0efcb",
            "46fbbf638f86460fa6010c90db025fdf",
            "80253dd334954e13b7c89bcb8993de25"
          ]
        },
        "outputId": "42389558-afba-4771-a057-061687c5feb8"
      },
      "source": [
        "from datasets import load_dataset, load_metric\n",
        "\n",
        "timit = load_dataset(\"timit_asr\")"
      ],
      "execution_count": 25,
      "outputs": [
        {
          "output_type": "stream",
          "name": "stderr",
          "text": [
            "WARNING:datasets.builder:Reusing dataset timit_asr (/root/.cache/huggingface/datasets/timit_asr/clean/2.0.1/b11b576ddcccbcefa7c9f0c4e6c2a43756f3033adffe0fb686aa61043d0450ad)\n"
          ]
        },
        {
          "output_type": "display_data",
          "data": {
            "text/plain": [
              "  0%|          | 0/2 [00:00<?, ?it/s]"
            ],
            "application/vnd.jupyter.widget-view+json": {
              "version_major": 2,
              "version_minor": 0,
              "model_id": "1a0a554da67e4b77a4702ded6caab415"
            }
          },
          "metadata": {}
        }
      ]
    },
    {
      "cell_type": "code",
      "metadata": {
        "colab": {
          "base_uri": "https://localhost:8080/"
        },
        "id": "QbIM-L0xdvf4",
        "outputId": "13cb980f-1adb-4480-bcea-942e2f3eb40c"
      },
      "source": [
        "timit"
      ],
      "execution_count": 26,
      "outputs": [
        {
          "output_type": "execute_result",
          "data": {
            "text/plain": [
              "DatasetDict({\n",
              "    train: Dataset({\n",
              "        features: ['file', 'audio', 'text', 'phonetic_detail', 'word_detail', 'dialect_region', 'sentence_type', 'speaker_id', 'id'],\n",
              "        num_rows: 4620\n",
              "    })\n",
              "    test: Dataset({\n",
              "        features: ['file', 'audio', 'text', 'phonetic_detail', 'word_detail', 'dialect_region', 'sentence_type', 'speaker_id', 'id'],\n",
              "        num_rows: 1680\n",
              "    })\n",
              "})"
            ]
          },
          "metadata": {},
          "execution_count": 26
        }
      ]
    },
    {
      "cell_type": "markdown",
      "metadata": {
        "id": "ri5y5N_HMANq"
      },
      "source": [
        "Many ASR datasets only provide the target text, `'text'` for each audio `'audio'` and file `'file'`. Timit actually provides much more information about each audio file, such as the `'phonetic_detail'`, etc., which is why many researchers choose to evaluate their models on phoneme classification instead of speech recognition when working with Timit. However, we want to keep the notebook as general as possible, so that we will only consider the transcribed text for fine-tuning.\n",
        "\n"
      ]
    },
    {
      "cell_type": "code",
      "metadata": {
        "id": "kbyq6lDgQc2a"
      },
      "source": [
        "timit = timit.remove_columns([\"phonetic_detail\", \"word_detail\", \"dialect_region\", \"id\", \"sentence_type\", \"speaker_id\"])"
      ],
      "execution_count": 27,
      "outputs": []
    },
    {
      "cell_type": "markdown",
      "metadata": {
        "id": "Go9Hq4e4NDT9"
      },
      "source": [
        "Let's write a short function to display some random samples of the dataset and run it a couple of times to get a feeling for the transcriptions."
      ]
    },
    {
      "cell_type": "code",
      "metadata": {
        "id": "72737oog2F6U"
      },
      "source": [
        "from datasets import ClassLabel\n",
        "import random\n",
        "import pandas as pd\n",
        "from IPython.display import display, HTML\n",
        "\n",
        "def show_random_elements(dataset, num_examples=10):\n",
        "    assert num_examples <= len(dataset), \"Can't pick more elements than there are in the dataset.\"\n",
        "    picks = []\n",
        "    for _ in range(num_examples):\n",
        "        pick = random.randint(0, len(dataset)-1)\n",
        "        while pick in picks:\n",
        "            pick = random.randint(0, len(dataset)-1)\n",
        "        picks.append(pick)\n",
        "    \n",
        "    df = pd.DataFrame(dataset[picks])\n",
        "    display(HTML(df.to_html()))"
      ],
      "execution_count": 28,
      "outputs": []
    },
    {
      "cell_type": "code",
      "metadata": {
        "colab": {
          "base_uri": "https://localhost:8080/",
          "height": 363
        },
        "id": "K_JUmf3G3b9S",
        "outputId": "3aad4e06-aa3a-4b91-bbdc-d1a3a21a9066"
      },
      "source": [
        "show_random_elements(timit[\"train\"].remove_columns([\"audio\", \"file\"]), num_examples=10)"
      ],
      "execution_count": 29,
      "outputs": [
        {
          "output_type": "display_data",
          "data": {
            "text/plain": [
              "<IPython.core.display.HTML object>"
            ],
            "text/html": [
              "<table border=\"1\" class=\"dataframe\">\n",
              "  <thead>\n",
              "    <tr style=\"text-align: right;\">\n",
              "      <th></th>\n",
              "      <th>text</th>\n",
              "    </tr>\n",
              "  </thead>\n",
              "  <tbody>\n",
              "    <tr>\n",
              "      <th>0</th>\n",
              "      <td>Shipbuilding is a most fascinating process.</td>\n",
              "    </tr>\n",
              "    <tr>\n",
              "      <th>1</th>\n",
              "      <td>Biblical scholars argue history.</td>\n",
              "    </tr>\n",
              "    <tr>\n",
              "      <th>2</th>\n",
              "      <td>He wanted to show the town what happened to anyone who tried to start trouble.</td>\n",
              "    </tr>\n",
              "    <tr>\n",
              "      <th>3</th>\n",
              "      <td>Does creole cooking use curry?</td>\n",
              "    </tr>\n",
              "    <tr>\n",
              "      <th>4</th>\n",
              "      <td>These exclusive documents must be locked up at all times.</td>\n",
              "    </tr>\n",
              "    <tr>\n",
              "      <th>5</th>\n",
              "      <td>Remove the splinter with a pair of tweezers.</td>\n",
              "    </tr>\n",
              "    <tr>\n",
              "      <th>6</th>\n",
              "      <td>Prompted by a guilty urge, he had disobeyed the order of a man he respected.</td>\n",
              "    </tr>\n",
              "    <tr>\n",
              "      <th>7</th>\n",
              "      <td>The coyote, bobcat, and hyena are wild animals.</td>\n",
              "    </tr>\n",
              "    <tr>\n",
              "      <th>8</th>\n",
              "      <td>The previous speaker presented ambiguous results.</td>\n",
              "    </tr>\n",
              "    <tr>\n",
              "      <th>9</th>\n",
              "      <td>But why pay her bills?</td>\n",
              "    </tr>\n",
              "  </tbody>\n",
              "</table>"
            ]
          },
          "metadata": {}
        }
      ]
    },
    {
      "cell_type": "markdown",
      "metadata": {
        "id": "fowcOllGNNju"
      },
      "source": [
        "Alright! The transcriptions look very clean and the language seems to correspond more to written text than dialogue. This makes sense taking into account that [Timit](https://huggingface.co/datasets/timit_asr) is a read speech corpus."
      ]
    },
    {
      "cell_type": "markdown",
      "metadata": {
        "id": "vq7OR50LN49m"
      },
      "source": [
        "We can see that the transcriptions contain some special characters, such as `,.?!;:`. Without a language model, it is much harder to classify speech chunks to such special characters because they don't really correspond to a characteristic sound unit. *E.g.*, the letter `\"s\"` has a more or less clear sound, whereas the special character `\".\"` does not.\n",
        "Also in order to understand the meaning of a speech signal, it is usually not necessary to include special characters in the transcription.\n",
        "\n",
        "In addition, we normalize the text to only have lower case letters and append a word separator token at the end."
      ]
    },
    {
      "cell_type": "code",
      "metadata": {
        "id": "svKzVJ_hQGK6"
      },
      "source": [
        "import re\n",
        "chars_to_ignore_regex = '[\\,\\?\\.\\!\\-\\;\\:\\\"]'\n",
        "\n",
        "def remove_special_characters(batch):\n",
        "    batch[\"text\"] = re.sub(chars_to_ignore_regex, '', batch[\"text\"]).lower() + \" \"\n",
        "    return batch"
      ],
      "execution_count": 30,
      "outputs": []
    },
    {
      "cell_type": "code",
      "metadata": {
        "colab": {
          "base_uri": "https://localhost:8080/",
          "height": 81,
          "referenced_widgets": [
            "2e50e8928a61414cb84ffc447c05f4a9",
            "185be45b9a7c4b4b8d33d83bbb1d5385",
            "8fe28ce8ea5140519092afd67a302ee1",
            "9c6bd8e8ff7a41e3a12ad9be5ef4ee8b",
            "7a48aeec1f1d44699a64fa1b07243330",
            "e00c9473ff9e47dca1f9d0acaed27512",
            "08a1964de71347c0b15b7573543ec369",
            "e3c1b9ffd90b420cb67e047336505017",
            "98a2794dd1df4d79acaedbcc0743e028",
            "b03eeba3c4a74269a205e103a4c642d3",
            "761849bae2b84c9f9946fb3cac2b82a6",
            "43e14d2dd8054a58ae40d0f01ee5f19b",
            "d336f48f9e8f42e38d22b4352fd8a93c",
            "1b6a300888c342aa891755d5b341a67c",
            "3044f5cee88e4dc58e8f4b12907682e3",
            "b4cc0c7fb40742c58e9b13bf040f2d39",
            "4f026dcb4246483dacb717870bf747ca",
            "61ec4e66e2cc4695b0e95aa1f7fef1a1",
            "68b6ba0896614cd9953242e1905fc90f",
            "190b0fa470bb4be6b7d1f45f1ed52add",
            "897943693dc84a8bb48d726bbec5aae3",
            "d6243ff1ee69443cadd044ccd551f39e"
          ]
        },
        "id": "XIHocAuTQbBR",
        "outputId": "6eda075d-7500-459f-e81a-33c2cf212827"
      },
      "source": [
        "timit = timit.map(remove_special_characters)"
      ],
      "execution_count": 31,
      "outputs": [
        {
          "output_type": "display_data",
          "data": {
            "text/plain": [
              "0ex [00:00, ?ex/s]"
            ],
            "application/vnd.jupyter.widget-view+json": {
              "version_major": 2,
              "version_minor": 0,
              "model_id": "2e50e8928a61414cb84ffc447c05f4a9"
            }
          },
          "metadata": {}
        },
        {
          "output_type": "display_data",
          "data": {
            "text/plain": [
              "0ex [00:00, ?ex/s]"
            ],
            "application/vnd.jupyter.widget-view+json": {
              "version_major": 2,
              "version_minor": 0,
              "model_id": "43e14d2dd8054a58ae40d0f01ee5f19b"
            }
          },
          "metadata": {}
        }
      ]
    },
    {
      "cell_type": "code",
      "metadata": {
        "colab": {
          "base_uri": "https://localhost:8080/",
          "height": 363
        },
        "id": "RBDRAAYxRE6n",
        "outputId": "6cb54417-df60-4a98-dd84-943920896caa"
      },
      "source": [
        "show_random_elements(timit[\"train\"].remove_columns([\"audio\", \"file\"]))"
      ],
      "execution_count": 32,
      "outputs": [
        {
          "output_type": "display_data",
          "data": {
            "text/plain": [
              "<IPython.core.display.HTML object>"
            ],
            "text/html": [
              "<table border=\"1\" class=\"dataframe\">\n",
              "  <thead>\n",
              "    <tr style=\"text-align: right;\">\n",
              "      <th></th>\n",
              "      <th>text</th>\n",
              "    </tr>\n",
              "  </thead>\n",
              "  <tbody>\n",
              "    <tr>\n",
              "      <th>0</th>\n",
              "      <td>she had your dark suit in greasy wash water all year</td>\n",
              "    </tr>\n",
              "    <tr>\n",
              "      <th>1</th>\n",
              "      <td>the meeting is now adjourned</td>\n",
              "    </tr>\n",
              "    <tr>\n",
              "      <th>2</th>\n",
              "      <td>she had your dark suit in greasy wash water all year</td>\n",
              "    </tr>\n",
              "    <tr>\n",
              "      <th>3</th>\n",
              "      <td>the high security prison was surrounded by barbed wire</td>\n",
              "    </tr>\n",
              "    <tr>\n",
              "      <th>4</th>\n",
              "      <td>from childhood he had known all about knives</td>\n",
              "    </tr>\n",
              "    <tr>\n",
              "      <th>5</th>\n",
              "      <td>his sudden departure shocked the cast</td>\n",
              "    </tr>\n",
              "    <tr>\n",
              "      <th>6</th>\n",
              "      <td>don't ask me to carry an oily rag like that</td>\n",
              "    </tr>\n",
              "    <tr>\n",
              "      <th>7</th>\n",
              "      <td>she had your dark suit in greasy wash water all year</td>\n",
              "    </tr>\n",
              "    <tr>\n",
              "      <th>8</th>\n",
              "      <td>the previous speaker presented ambiguous results</td>\n",
              "    </tr>\n",
              "    <tr>\n",
              "      <th>9</th>\n",
              "      <td>she looked at me provocatively</td>\n",
              "    </tr>\n",
              "  </tbody>\n",
              "</table>"
            ]
          },
          "metadata": {}
        }
      ]
    },
    {
      "cell_type": "markdown",
      "metadata": {
        "id": "jwfaptH5RJwA"
      },
      "source": [
        "Good! This looks better. We have removed most special characters from transcriptions and normalized them to lower-case only.\n",
        "\n",
        "In CTC, it is common to classify speech chunks into letters, so we will do the same here. \n",
        "Let's extract all distinct letters of the training and test data and build our vocabulary from this set of letters.\n",
        "\n",
        "We write a mapping function that concatenates all transcriptions into one long transcription and then transforms the string into a set of chars. \n",
        "It is important to pass the argument `batched=True` to the `map(...)` function so that the mapping function has access to all transcriptions at once."
      ]
    },
    {
      "cell_type": "code",
      "metadata": {
        "id": "LwCshNbbeRZR"
      },
      "source": [
        "def extract_all_chars(batch):\n",
        "  all_text = \" \".join(batch[\"text\"])\n",
        "  vocab = list(set(all_text))\n",
        "  return {\"vocab\": [vocab], \"all_text\": [all_text]}"
      ],
      "execution_count": 33,
      "outputs": []
    },
    {
      "cell_type": "code",
      "metadata": {
        "colab": {
          "base_uri": "https://localhost:8080/",
          "height": 81,
          "referenced_widgets": [
            "96fe8ff0cdaa4ad1a2f2c783e8d0775e",
            "d96edc08157d4bd2b17a66142f6f4087",
            "b3fb0e3ce4204f308ec5aeeea76d3f97",
            "846d31bf5e9a40d88189ff68e607b53b",
            "78d716722d834d64b3deaaca198b751b",
            "11454826ebcd48f9a7b474d1cd11685d",
            "fca3045ebece4d448ab12ca337a6fff2",
            "34fa050e7ffc42a0af170204d8b90e55",
            "01882a4c5cac422f859ee1a0bb168aec",
            "caea73ee195e4d3a9343c5b7fe0a49db",
            "8330171f7b0a421cad549120e8d5f849",
            "4b6f8b769443463cbc8f3ff213ad4837",
            "f6b45e4b56d34f8f951662ccb71c5a5c",
            "32fb7ebbf8ab44b08aa59e0cfaf991a3",
            "4ba05bff02f046e5baf8287b0a73bc40",
            "1f9154159b584a3784d55037211ea0e6",
            "8a8d7c4ecd4448b9b9977fb8ec568967",
            "d0d170efd09c4b2e9861acba688791dd",
            "52a7f86ace5648789b4d3ce46c7739a2",
            "1f7218f244e540469a2289ac45c9bd84",
            "fd65d09239594b59bb153bf0f6b9d0f5",
            "fe9371540ee4486ab07138e72bcc33e1"
          ]
        },
        "id": "_m6uUjjcfbjH",
        "outputId": "adc3bc3a-64be-4d43-8dfc-b6211ea966d6"
      },
      "source": [
        "vocabs = timit.map(extract_all_chars, batched=True, batch_size=-1, keep_in_memory=True, remove_columns=timit.column_names[\"train\"])"
      ],
      "execution_count": 34,
      "outputs": [
        {
          "output_type": "display_data",
          "data": {
            "text/plain": [
              "  0%|          | 0/1 [00:00<?, ?ba/s]"
            ],
            "application/vnd.jupyter.widget-view+json": {
              "version_major": 2,
              "version_minor": 0,
              "model_id": "96fe8ff0cdaa4ad1a2f2c783e8d0775e"
            }
          },
          "metadata": {}
        },
        {
          "output_type": "display_data",
          "data": {
            "text/plain": [
              "  0%|          | 0/1 [00:00<?, ?ba/s]"
            ],
            "application/vnd.jupyter.widget-view+json": {
              "version_major": 2,
              "version_minor": 0,
              "model_id": "4b6f8b769443463cbc8f3ff213ad4837"
            }
          },
          "metadata": {}
        }
      ]
    },
    {
      "cell_type": "markdown",
      "metadata": {
        "id": "7oVgE8RZSJNP"
      },
      "source": [
        "Now, we create the union of all distinct letters in the training dataset and test dataset and convert the resulting list into an enumerated dictionary."
      ]
    },
    {
      "cell_type": "code",
      "metadata": {
        "id": "aQfneNsmlJI0"
      },
      "source": [
        "vocab_list = list(set(vocabs[\"train\"][\"vocab\"][0]) | set(vocabs[\"test\"][\"vocab\"][0]))"
      ],
      "execution_count": 35,
      "outputs": []
    },
    {
      "cell_type": "code",
      "metadata": {
        "colab": {
          "base_uri": "https://localhost:8080/"
        },
        "id": "_0kRndSvqaKk",
        "outputId": "78965ab2-f034-403b-fa2e-6bcd9c94e99c"
      },
      "source": [
        "vocab_dict = {v: k for k, v in enumerate(vocab_list)}\n",
        "vocab_dict"
      ],
      "execution_count": 36,
      "outputs": [
        {
          "output_type": "execute_result",
          "data": {
            "text/plain": [
              "{'t': 0,\n",
              " 'd': 1,\n",
              " 'j': 2,\n",
              " 'v': 3,\n",
              " 's': 4,\n",
              " 'y': 5,\n",
              " 'i': 6,\n",
              " 'q': 7,\n",
              " 'z': 8,\n",
              " 'a': 9,\n",
              " 'c': 10,\n",
              " ' ': 11,\n",
              " 'b': 12,\n",
              " 'k': 13,\n",
              " 'u': 14,\n",
              " \"'\": 15,\n",
              " 'p': 16,\n",
              " 'f': 17,\n",
              " 'o': 18,\n",
              " 'm': 19,\n",
              " 'r': 20,\n",
              " 'g': 21,\n",
              " 'h': 22,\n",
              " 'e': 23,\n",
              " 'n': 24,\n",
              " 'l': 25,\n",
              " 'x': 26,\n",
              " 'w': 27}"
            ]
          },
          "metadata": {},
          "execution_count": 36
        }
      ]
    },
    {
      "cell_type": "markdown",
      "metadata": {
        "id": "JOSzbvs9SXT1"
      },
      "source": [
        "Cool, we see that all letters of the alphabet occur in the dataset (which is not really surprising) and we also extracted the special characters `\" \"` and `'`. Note that we did not exclude those special characters because: \n",
        "\n",
        "- The model has to learn to predict when a word finished or else the model prediction would always be a sequence of chars which would make it impossible to separate words from each other.\n",
        "- In English, we need to keep the `'` character to differentiate between words, *e.g.*, `\"it's\"` and `\"its\"` which have very different meanings."
      ]
    },
    {
      "cell_type": "markdown",
      "metadata": {
        "id": "b1fBRCn-TRaO"
      },
      "source": [
        "To make it clearer that `\" \"` has its own token class, we give it a more visible character `|`. In addition, we also add an \"unknown\" token so that the model can later deal with characters not encountered in Timit's training set. \n",
        "\n",
        "Finally, we also add a padding token that corresponds to CTC's \"*blank token*\". The \"blank token\" is a core component of the CTC algorithm. For more information, please take a look at the \"Alignment\" section [here](https://distill.pub/2017/ctc/)."
      ]
    },
    {
      "cell_type": "code",
      "metadata": {
        "id": "npbIbBoLgaFX"
      },
      "source": [
        "vocab_dict[\"|\"] = vocab_dict[\" \"]\n",
        "del vocab_dict[\" \"]"
      ],
      "execution_count": 37,
      "outputs": []
    },
    {
      "cell_type": "code",
      "metadata": {
        "id": "znF0bNunsjbl",
        "colab": {
          "base_uri": "https://localhost:8080/"
        },
        "outputId": "9ad0cf53-4683-48cb-a196-7dee32524da5"
      },
      "source": [
        "vocab_dict[\"[UNK]\"] = len(vocab_dict)\n",
        "vocab_dict[\"[PAD]\"] = len(vocab_dict)\n",
        "len(vocab_dict)"
      ],
      "execution_count": 38,
      "outputs": [
        {
          "output_type": "execute_result",
          "data": {
            "text/plain": [
              "30"
            ]
          },
          "metadata": {},
          "execution_count": 38
        }
      ]
    },
    {
      "cell_type": "markdown",
      "metadata": {
        "id": "SFPGfet8U5sL"
      },
      "source": [
        "Cool, now our vocabulary is complete and consists of 30 tokens, which means that the linear layer that we will add on top of the pretrained Wav2Vec2 checkpoint will have an output dimension of 30."
      ]
    },
    {
      "cell_type": "markdown",
      "metadata": {
        "id": "1CujRgBNVRaD"
      },
      "source": [
        "Let's now save the vocabulary as a json file."
      ]
    },
    {
      "cell_type": "code",
      "metadata": {
        "id": "ehyUoh9vk191"
      },
      "source": [
        "import json\n",
        "with open('vocab.json', 'w') as vocab_file:\n",
        "    json.dump(vocab_dict, vocab_file)"
      ],
      "execution_count": 39,
      "outputs": []
    },
    {
      "cell_type": "markdown",
      "metadata": {
        "id": "SHJDaKlIVVim"
      },
      "source": [
        "In a final step, we use the json file to instantiate an object of the `Wav2Vec2CTCTokenizer` class."
      ]
    },
    {
      "cell_type": "code",
      "metadata": {
        "id": "xriFGEWQkO4M"
      },
      "source": [
        "from transformers import Wav2Vec2CTCTokenizer\n",
        "\n",
        "tokenizer = Wav2Vec2CTCTokenizer(\"./vocab.json\", unk_token=\"[UNK]\", pad_token=\"[PAD]\", word_delimiter_token=\"|\")"
      ],
      "execution_count": 40,
      "outputs": []
    },
    {
      "cell_type": "markdown",
      "metadata": {
        "id": "P6L2EVWwIazG"
      },
      "source": [
        "If one wants to re-use the just created tokenizer with the fine-tuned model of this notebook, it is strongly advised to upload the `tokenizer` to the [🤗 Hub](https://huggingface.co/). Let's call the repo to which we will upload the files\n",
        "`\"wav2vec2-base-timit-demo-colab\"`:"
      ]
    },
    {
      "cell_type": "code",
      "metadata": {
        "id": "1mbffBdxIl0M"
      },
      "source": [
        "repo_name = \"wav2vec2-large-lv60-self-colab\""
      ],
      "execution_count": 41,
      "outputs": []
    },
    {
      "cell_type": "markdown",
      "metadata": {
        "id": "pmpG2ftFIu3B"
      },
      "source": [
        "and upload the tokenizer to the [🤗 Hub](https://huggingface.co/)."
      ]
    },
    {
      "cell_type": "code",
      "metadata": {
        "colab": {
          "base_uri": "https://localhost:8080/"
        },
        "id": "ScBMUz8jIxJi",
        "outputId": "f94cd9ed-88dd-47b5-8cff-931c500d6b5e"
      },
      "source": [
        "tokenizer.push_to_hub(repo_name)"
      ],
      "execution_count": 42,
      "outputs": [
        {
          "output_type": "execute_result",
          "data": {
            "text/plain": [
              "CommitInfo(commit_url='https://huggingface.co/eaqui/wav2vec2-large-lv60-self-colab/commit/770c12eae8e6894ffc95a28bda702f94b06e9f96', commit_message='Upload tokenizer', commit_description='', oid='770c12eae8e6894ffc95a28bda702f94b06e9f96', pr_url=None, pr_revision=None, pr_num=None)"
            ]
          },
          "metadata": {},
          "execution_count": 42
        }
      ]
    },
    {
      "cell_type": "markdown",
      "metadata": {
        "id": "KvL12DrNV4cx"
      },
      "source": [
        "Great, you can see the just created repository under `https://huggingface.co/<your-username>/wav2vec2-base-timit-demo-colab`"
      ]
    },
    {
      "cell_type": "code",
      "source": [
        "!pip show huggingface_hub transformers datasets"
      ],
      "metadata": {
        "colab": {
          "base_uri": "https://localhost:8080/"
        },
        "id": "h6qWH6Tw2VFC",
        "outputId": "6e602eda-648a-4cc0-84d9-37b11d6574b6"
      },
      "execution_count": 43,
      "outputs": [
        {
          "output_type": "stream",
          "name": "stdout",
          "text": [
            "Name: huggingface-hub\n",
            "Version: 0.11.1\n",
            "Summary: Client library to download and publish models, datasets and other repos on the huggingface.co hub\n",
            "Home-page: https://github.com/huggingface/huggingface_hub\n",
            "Author: Hugging Face, Inc.\n",
            "Author-email: julien@huggingface.co\n",
            "License: Apache\n",
            "Location: /usr/local/lib/python3.8/dist-packages\n",
            "Requires: requests, pyyaml, filelock, typing-extensions, packaging, tqdm\n",
            "Required-by: transformers, datasets\n",
            "---\n",
            "Name: transformers\n",
            "Version: 4.24.0\n",
            "Summary: State-of-the-art Machine Learning for JAX, PyTorch and TensorFlow\n",
            "Home-page: https://github.com/huggingface/transformers\n",
            "Author: The Hugging Face team (past and future) with the help of all our contributors (https://github.com/huggingface/transformers/graphs/contributors)\n",
            "Author-email: transformers@huggingface.co\n",
            "License: Apache\n",
            "Location: /usr/local/lib/python3.8/dist-packages\n",
            "Requires: regex, requests, pyyaml, tqdm, packaging, huggingface-hub, numpy, filelock, tokenizers\n",
            "Required-by: \n",
            "---\n",
            "Name: datasets\n",
            "Version: 1.18.3\n",
            "Summary: HuggingFace community-driven open-source library of datasets\n",
            "Home-page: https://github.com/huggingface/datasets\n",
            "Author: HuggingFace Inc.\n",
            "Author-email: thomas@huggingface.co\n",
            "License: Apache 2.0\n",
            "Location: /usr/local/lib/python3.8/dist-packages\n",
            "Requires: tqdm, pyarrow, packaging, fsspec, xxhash, huggingface-hub, requests, pandas, multiprocess, dill, aiohttp, numpy\n",
            "Required-by: \n"
          ]
        }
      ]
    },
    {
      "cell_type": "code",
      "source": [
        "# timit['train'].push_to_hub(repo_name)"
      ],
      "metadata": {
        "id": "YQ16XyAW0esG"
      },
      "execution_count": 44,
      "outputs": []
    },
    {
      "cell_type": "markdown",
      "metadata": {
        "id": "mYcIiR2FQ96i"
      },
      "source": [
        "### Create Wav2Vec2 Feature Extractor"
      ]
    },
    {
      "cell_type": "markdown",
      "metadata": {
        "id": "Y6mDEyW719rx"
      },
      "source": [
        "Speech is a continuous signal and to be treated by computers, it first has to be discretized, which is usually called **sampling**. The sampling rate hereby plays an important role in that it defines how many data points of the speech signal are measured per second. Therefore, sampling with a higher sampling rate results in a better approximation of the *real* speech signal but also necessitates more values per second.\n",
        "\n",
        "A pretrained checkpoint expects its input data to have been sampled more or less from the same distribution as the data it was trained on. The same speech signals sampled at two different rates have a very different distribution, *e.g.*, doubling the sampling rate results in data points being twice as long. Thus, \n",
        "before fine-tuning a pretrained checkpoint of an ASR model, it is crucial to verify that the sampling rate of the data that was used to pretrain the model matches the sampling rate of the dataset used to fine-tune the model.\n",
        "\n",
        "Wav2Vec2 was pretrained on the audio data of [LibriSpeech](https://huggingface.co/datasets/librispeech_asr) and LibriVox which both were sampling with 16kHz. Our fine-tuning dataset, [Timit](hhtps://huggingface.co/datasets/timit_asr), was luckily also sampled with 16kHz. If the fine-tuning dataset would have been sampled with a rate lower or higher than 16kHz, we first would have had to up or downsample the speech signal to match the sampling rate of the data used for pretraining. \n",
        "\n"
      ]
    },
    {
      "cell_type": "markdown",
      "metadata": {
        "id": "KuUbPW7oV-B5"
      },
      "source": [
        "A Wav2Vec2 feature extractor object requires the following parameters to be instantiated:\n",
        "\n",
        "- `feature_size`: Speech models take a sequence of feature vectors as an input. While the length of this sequence obviously varies, the feature size should not. In the case of Wav2Vec2, the feature size is 1 because the model was trained on the raw speech signal ${}^2$.\n",
        "- `sampling_rate`: The sampling rate at which the model is trained on.\n",
        "- `padding_value`: For batched inference, shorter inputs need to be padded with a specific value\n",
        "- `do_normalize`: Whether the input should be *zero-mean-unit-variance* normalized or not. Usually, speech models perform better when normalizing the input\n",
        "- `return_attention_mask`: Whether the model should make use of an `attention_mask` for batched inference. In general, models should **always** make use of the `attention_mask` to mask padded tokens. However, due to a very specific design choice of `Wav2Vec2`'s \"base\" checkpoint, better results are achieved when using no `attention_mask`. This is **not** recommended for other speech models. For more information, one can take a look at [this](https://github.com/pytorch/fairseq/issues/3227) issue. **Important** If you want to use this notebook to fine-tune [large-lv60](https://huggingface.co/facebook/wav2vec2-large-lv60), this parameter should be set to `True`."
      ]
    },
    {
      "cell_type": "code",
      "metadata": {
        "id": "kAR0-2KLkopp"
      },
      "source": [
        "from transformers import Wav2Vec2FeatureExtractor\n",
        "\n",
        "feature_extractor = Wav2Vec2FeatureExtractor(feature_size=1, sampling_rate=16000, padding_value=0.0, do_normalize=True, return_attention_mask=False)"
      ],
      "execution_count": 45,
      "outputs": []
    },
    {
      "cell_type": "markdown",
      "metadata": {
        "id": "qUETetgqYC3W"
      },
      "source": [
        "Great, Wav2Vec2's feature extraction pipeline is thereby fully defined!\n",
        "\n",
        "To make the usage of Wav2Vec2 as user-friendly as possible, the feature extractor and tokenizer are *wrapped* into a single `Wav2Vec2Processor` class so that one only needs a `model` and `processor` object."
      ]
    },
    {
      "cell_type": "code",
      "metadata": {
        "id": "KYZtoW-tlZgl"
      },
      "source": [
        "from transformers import Wav2Vec2Processor\n",
        "\n",
        "processor = Wav2Vec2Processor(feature_extractor=feature_extractor, tokenizer=tokenizer)"
      ],
      "execution_count": 46,
      "outputs": []
    },
    {
      "cell_type": "markdown",
      "metadata": {
        "id": "DrKnYuvDIoOO"
      },
      "source": [
        "Next, we can prepare the dataset."
      ]
    },
    {
      "cell_type": "markdown",
      "metadata": {
        "id": "YFmShnl7RE35"
      },
      "source": [
        "### Preprocess Data\n",
        "\n",
        "So far, we have not looked at the actual values of the speech signal but just the transcription. In addition to `'text'`, our datasets include two more column names `'file'` and `'audio'`. `'file'` states the absolute path of the audio file. Let's take a look."
      ]
    },
    {
      "cell_type": "code",
      "metadata": {
        "colab": {
          "base_uri": "https://localhost:8080/",
          "height": 53
        },
        "id": "TTCS7W6XJ9BG",
        "outputId": "96d93201-8f66-4b6c-8ae8-818825940ea6"
      },
      "source": [
        "timit[\"train\"][0][\"file\"]"
      ],
      "execution_count": 47,
      "outputs": [
        {
          "output_type": "execute_result",
          "data": {
            "text/plain": [
              "'/root/.cache/huggingface/datasets/downloads/extracted/404950a46da14eac65eb4e2a8317b1372fb3971d980d91d5d5b221275b1fd7e0/data/TRAIN/DR4/MMDM0/SI681.WAV'"
            ],
            "application/vnd.google.colaboratory.intrinsic+json": {
              "type": "string"
            }
          },
          "metadata": {},
          "execution_count": 47
        }
      ]
    },
    {
      "cell_type": "markdown",
      "metadata": {
        "id": "BwxprOw4Nzrl"
      },
      "source": [
        "`Wav2Vec2` expects the input in the format of a 1-dimensional array of 16 kHz. This means that the audio file has to be loaded and resampled.\n",
        "\n",
        " Thankfully, `datasets` does this automatically when calling the column `audio`. Let try it out. "
      ]
    },
    {
      "cell_type": "code",
      "metadata": {
        "colab": {
          "base_uri": "https://localhost:8080/"
        },
        "id": "mk9QHuSsN7lf",
        "outputId": "f3545dd8-9d3d-48b6-a3ba-87dce7de3bb0"
      },
      "source": [
        "timit[\"train\"][0][\"audio\"]"
      ],
      "execution_count": 48,
      "outputs": [
        {
          "output_type": "execute_result",
          "data": {
            "text/plain": [
              "{'path': '/root/.cache/huggingface/datasets/downloads/extracted/404950a46da14eac65eb4e2a8317b1372fb3971d980d91d5d5b221275b1fd7e0/data/TRAIN/DR4/MMDM0/SI681.WAV',\n",
              " 'array': array([-2.1362305e-04,  6.1035156e-05,  3.0517578e-05, ...,\n",
              "        -3.0517578e-05, -9.1552734e-05, -6.1035156e-05], dtype=float32),\n",
              " 'sampling_rate': 16000}"
            ]
          },
          "metadata": {},
          "execution_count": 48
        }
      ]
    },
    {
      "cell_type": "markdown",
      "metadata": {
        "id": "wSBIGEiaKHMn"
      },
      "source": [
        "We can see that the audio file has automatically been loaded. This is thanks to the new [`\"Audio\"` feature](https://huggingface.co/docs/datasets/package_reference/main_classes.html?highlight=audio#datasets.Audio) introduced in `datasets == 4.13.3`, which loads and resamples audio files on-the-fly upon calling.\n",
        "\n",
        "The sampling rate is set to 16kHz which is what `Wav2Vec2` expects as an input."
      ]
    },
    {
      "cell_type": "markdown",
      "metadata": {
        "id": "SOckzFd4Mbzq"
      },
      "source": [
        "Great, let's listen to a couple of audio files to better understand the dataset and verify that the audio was correctly loaded. \n",
        "\n",
        "**Note**: *You can click the following cell a couple of times to listen to different speech samples.*"
      ]
    },
    {
      "cell_type": "code",
      "metadata": {
        "colab": {
          "base_uri": "https://localhost:8080/",
          "height": 93
        },
        "id": "dueM6U7Ev0OA",
        "outputId": "fe3c8aef-ad6b-4c33-d754-ead507f575bb"
      },
      "source": [
        "import IPython.display as ipd\n",
        "import numpy as np\n",
        "import random\n",
        "\n",
        "rand_int = random.randint(0, len(timit[\"train\"]))\n",
        "\n",
        "print(timit[\"train\"][rand_int][\"text\"])\n",
        "ipd.Audio(data=np.asarray(timit[\"train\"][rand_int][\"audio\"][\"array\"]), autoplay=True, rate=16000)"
      ],
      "execution_count": 49,
      "outputs": [
        {
          "output_type": "stream",
          "name": "stdout",
          "text": [
            "i gave them several choices and let them set the priorities \n"
          ]
        },
        {
          "output_type": "execute_result",
          "data": {
            "text/plain": [
              "<IPython.lib.display.Audio object>"
            ],
            "text/html": [
              "\n",
              "                <audio  controls=\"controls\" autoplay=\"autoplay\">\n",
              "                    <source src=\"data:audio/wav;base64,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\" type=\"audio/wav\" />\n",
              "                    Your browser does not support the audio element.\n",
              "                </audio>\n",
              "              "
            ]
          },
          "metadata": {},
          "execution_count": 49
        }
      ]
    },
    {
      "cell_type": "markdown",
      "metadata": {
        "id": "1MaL9J2dNVtG"
      },
      "source": [
        "It can be heard, that the speakers change along with their speaking rate, accent, etc. Overall, the recordings sound relatively clear though, which is to be expected from a read speech corpus.\n",
        "\n",
        "Let's do a final check that the data is correctly prepared, by printing the shape of the speech input, its transcription, and the corresponding sampling rate.\n",
        "\n",
        "**Note**: *You can click the following cell a couple of times to verify multiple samples.*"
      ]
    },
    {
      "cell_type": "code",
      "metadata": {
        "colab": {
          "base_uri": "https://localhost:8080/"
        },
        "id": "1Po2g7YPuRTx",
        "outputId": "921e62e0-5237-4415-d522-14c64ab2829d"
      },
      "source": [
        "rand_int = random.randint(0, len(timit[\"train\"]))\n",
        "\n",
        "print(\"Target text:\", timit[\"train\"][rand_int][\"text\"])\n",
        "print(\"Input array shape:\", np.asarray(timit[\"train\"][rand_int][\"audio\"][\"array\"]).shape)\n",
        "print(\"Sampling rate:\", timit[\"train\"][rand_int][\"audio\"][\"sampling_rate\"])"
      ],
      "execution_count": 50,
      "outputs": [
        {
          "output_type": "stream",
          "name": "stdout",
          "text": [
            "Target text: nevertheless it's true \n",
            "Input array shape: (18842,)\n",
            "Sampling rate: 16000\n"
          ]
        }
      ]
    },
    {
      "cell_type": "markdown",
      "metadata": {
        "id": "M9teZcSwOBJ4"
      },
      "source": [
        "Good! Everything looks fine - the data is a 1-dimensional array, the sampling rate always corresponds to 16kHz, and the target text is normalized."
      ]
    },
    {
      "cell_type": "markdown",
      "metadata": {
        "id": "k3Pbn5WvOYZF"
      },
      "source": [
        "Finally, we can process the dataset to the format expected by the model for training. We will make use of the `map(...)` function.\n",
        "\n",
        "First, we load and resample the audio data, simply by calling `batch[\"audio\"]`.\n",
        "Second, we extract the `input_values` from the loaded audio file. In our case, the `Wav2Vec2Processor` only normalizes the data. For other speech models, however, this step can include more complex feature extraction, such as [Log-Mel feature extraction](https://en.wikipedia.org/wiki/Mel-frequency_cepstrum).\n",
        "Third, we encode the transcriptions to label ids.\n",
        "\n",
        "**Note**: This mapping function is a good example of how the `Wav2Vec2Processor` class should be used. In \"normal\" context, calling `processor(...)` is redirected to `Wav2Vec2FeatureExtractor`'s call method. When wrapping the processor into the `as_target_processor` context, however, the same method is redirected to `Wav2Vec2CTCTokenizer`'s call method.\n",
        "For more information please check the [docs](https://huggingface.co/transformers/master/model_doc/wav2vec2.html#transformers.Wav2Vec2Processor.__call__)."
      ]
    },
    {
      "cell_type": "code",
      "metadata": {
        "id": "eJY7I0XAwe9p"
      },
      "source": [
        "def prepare_dataset(batch):\n",
        "    audio = batch[\"audio\"]\n",
        "\n",
        "    # batched output is \"un-batched\" to ensure mapping is correct\n",
        "    batch[\"input_values\"] = processor(audio[\"array\"], sampling_rate=audio[\"sampling_rate\"]).input_values[0]\n",
        "    batch[\"input_length\"] = len(batch[\"input_values\"])\n",
        "    \n",
        "    with processor.as_target_processor():\n",
        "        batch[\"labels\"] = processor(batch[\"text\"]).input_ids\n",
        "    return batch"
      ],
      "execution_count": 51,
      "outputs": []
    },
    {
      "cell_type": "markdown",
      "metadata": {
        "id": "hVMZhH4-nP8-"
      },
      "source": [
        "Let's apply the data preparation function to all examples."
      ]
    },
    {
      "cell_type": "code",
      "metadata": {
        "id": "-np9xYK-wl8q",
        "colab": {
          "base_uri": "https://localhost:8080/",
          "height": 323
        },
        "outputId": "69ef0432-bdd5-401d-de11-fd719718fba3"
      },
      "source": [
        "timit = timit.map(prepare_dataset, remove_columns=timit.column_names[\"train\"], num_proc=4)"
      ],
      "execution_count": 52,
      "outputs": [
        {
          "output_type": "stream",
          "name": "stderr",
          "text": [
            "/usr/local/lib/python3.8/dist-packages/transformers/models/wav2vec2/processing_wav2vec2.py:154: UserWarning: `as_target_processor` is deprecated and will be removed in v5 of Transformers. You can process your labels by using the argument `text` of the regular `__call__` method (either in the same call as your audio inputs, or in a separate call.\n",
            "  warnings.warn(\n",
            "/usr/local/lib/python3.8/dist-packages/transformers/models/wav2vec2/processing_wav2vec2.py:154: UserWarning: `as_target_processor` is deprecated and will be removed in v5 of Transformers. You can process your labels by using the argument `text` of the regular `__call__` method (either in the same call as your audio inputs, or in a separate call.\n",
            "  warnings.warn(\n",
            "/usr/local/lib/python3.8/dist-packages/transformers/models/wav2vec2/processing_wav2vec2.py:154: UserWarning: `as_target_processor` is deprecated and will be removed in v5 of Transformers. You can process your labels by using the argument `text` of the regular `__call__` method (either in the same call as your audio inputs, or in a separate call.\n",
            "  warnings.warn(\n",
            "/usr/local/lib/python3.8/dist-packages/transformers/models/wav2vec2/processing_wav2vec2.py:154: UserWarning: `as_target_processor` is deprecated and will be removed in v5 of Transformers. You can process your labels by using the argument `text` of the regular `__call__` method (either in the same call as your audio inputs, or in a separate call.\n",
            "  warnings.warn(\n",
            "/usr/local/lib/python3.8/dist-packages/transformers/models/wav2vec2/processing_wav2vec2.py:154: UserWarning: `as_target_processor` is deprecated and will be removed in v5 of Transformers. You can process your labels by using the argument `text` of the regular `__call__` method (either in the same call as your audio inputs, or in a separate call.\n",
            "  warnings.warn(\n",
            "/usr/local/lib/python3.8/dist-packages/transformers/models/wav2vec2/processing_wav2vec2.py:154: UserWarning: `as_target_processor` is deprecated and will be removed in v5 of Transformers. You can process your labels by using the argument `text` of the regular `__call__` method (either in the same call as your audio inputs, or in a separate call.\n",
            "  warnings.warn(\n",
            "/usr/local/lib/python3.8/dist-packages/transformers/models/wav2vec2/processing_wav2vec2.py:154: UserWarning: `as_target_processor` is deprecated and will be removed in v5 of Transformers. You can process your labels by using the argument `text` of the regular `__call__` method (either in the same call as your audio inputs, or in a separate call.\n",
            "  warnings.warn(\n",
            "/usr/local/lib/python3.8/dist-packages/transformers/models/wav2vec2/processing_wav2vec2.py:154: UserWarning: `as_target_processor` is deprecated and will be removed in v5 of Transformers. You can process your labels by using the argument `text` of the regular `__call__` method (either in the same call as your audio inputs, or in a separate call.\n",
            "  warnings.warn(\n"
          ]
        }
      ]
    },
    {
      "cell_type": "markdown",
      "metadata": {
        "id": "p_MuJSH8nTuQ"
      },
      "source": [
        "**Note**: Currently `datasets` make use of [`torchaudio`](https://pytorch.org/audio/stable/index.html) and [`librosa`](https://librosa.org/doc/latest/index.html) for audio loading and resampling. If you wish to implement your own costumized data loading/sampling, feel free to just make use of the `\"path\"` column instead and disregard the `\"audio\"` column."
      ]
    },
    {
      "cell_type": "markdown",
      "metadata": {
        "id": "M4J0bU1WsvAg"
      },
      "source": [
        "Long input sequences require a lot of memory. Since `Wav2Vec2` is based on `self-attention` the memory requirement scales quadratically with the input length for long input sequences (*cf.* with [this](https://www.reddit.com/r/MachineLearning/comments/genjvb/d_why_is_the_maximum_input_sequence_length_of/) reddit post). For this demo, let's filter all sequences that are longer than 4 seconds out of the training dataset."
      ]
    },
    {
      "cell_type": "code",
      "metadata": {
        "colab": {
          "base_uri": "https://localhost:8080/",
          "height": 49,
          "referenced_widgets": [
            "2f1db1eaeefa420ea0ddc30647675710",
            "843f160f3be043fba268a8c5bdecdd4e",
            "f8d8e5021f744ab18f1ebcddc93ec0e1",
            "6feddbcb0b42483e8fc10feb67950792",
            "100a699fe1f14fdbae4f3f6b2bad9e3d",
            "f10b4dd7e6ad42588f23f6ed2abe8ed7",
            "80c42fd11b814fa3a2c9d8192d361b51",
            "5ca81f209ad8463d9b9f6a6d4bd43127",
            "ce37826fd77d4c5494de965f391ee458",
            "3ad01aac69604294a4f34bbb4b68359f",
            "9d6da61f45454666b7675527676fe95a"
          ]
        },
        "id": "nqGobEPUvG3v",
        "outputId": "ceff1311-bdda-425c-f662-f55b6dc5ab76"
      },
      "source": [
        "max_input_length_in_sec = 4.0\n",
        "timit[\"train\"] = timit[\"train\"].filter(lambda x: x < max_input_length_in_sec * processor.feature_extractor.sampling_rate, input_columns=[\"input_length\"])"
      ],
      "execution_count": 53,
      "outputs": [
        {
          "output_type": "display_data",
          "data": {
            "text/plain": [
              "  0%|          | 0/5 [00:00<?, ?ba/s]"
            ],
            "application/vnd.jupyter.widget-view+json": {
              "version_major": 2,
              "version_minor": 0,
              "model_id": "2f1db1eaeefa420ea0ddc30647675710"
            }
          },
          "metadata": {}
        }
      ]
    },
    {
      "cell_type": "markdown",
      "metadata": {
        "id": "25Genil2v_Br"
      },
      "source": [
        "Awesome, now we are ready to start training!"
      ]
    },
    {
      "cell_type": "markdown",
      "metadata": {
        "id": "gYlQkKVoRUos"
      },
      "source": [
        "## Training & Evaluation\n",
        "\n",
        "The data is processed so that we are ready to start setting up the training pipeline. We will make use of 🤗's [Trainer](https://huggingface.co/transformers/master/main_classes/trainer.html?highlight=trainer) for which we essentially need to do the following:\n",
        "\n",
        "- Define a data collator. In contrast to most NLP models, Wav2Vec2 has a much larger input length than output length. *E.g.*, a sample of input length 50000 has an output length of no more than 100. Given the large input sizes, it is much more efficient to pad the training batches dynamically meaning that all training samples should only be padded to the longest sample in their batch and not the overall longest sample. Therefore, fine-tuning Wav2Vec2 requires a special padding data collator, which we will define below\n",
        "\n",
        "- Evaluation metric. During training, the model should be evaluated on the word error rate. We should define a `compute_metrics` function accordingly\n",
        "\n",
        "- Load a pretrained checkpoint. We need to load a pretrained checkpoint and configure it correctly for training.\n",
        "\n",
        "- Define the training configuration.\n",
        "\n",
        "After having fine-tuned the model, we will correctly evaluate it on the test data and verify that it has indeed learned to correctly transcribe speech."
      ]
    },
    {
      "cell_type": "markdown",
      "metadata": {
        "id": "Slk403unUS91"
      },
      "source": [
        "### Set-up Trainer\n",
        "\n",
        "Let's start by defining the data collator. The code for the data collator was copied from [this example](https://github.com/huggingface/transformers/blob/9a06b6b11bdfc42eea08fa91d0c737d1863c99e3/examples/research_projects/wav2vec2/run_asr.py#L81).\n",
        "\n",
        "Without going into too many details, in contrast to the common data collators, this data collator treats the `input_values` and `labels` differently and thus applies to separate padding functions on them (again making use of Wav2Vec2's context manager). This is necessary because in speech input and output are of different modalities meaning that they should not be treated by the same padding function.\n",
        "Analogous to the common data collators, the padding tokens in the labels with `-100` so that those tokens are **not** taken into account when computing the loss."
      ]
    },
    {
      "cell_type": "code",
      "metadata": {
        "id": "tborvC9hx88e"
      },
      "source": [
        "import torch\n",
        "\n",
        "from dataclasses import dataclass, field\n",
        "from typing import Any, Dict, List, Optional, Union\n",
        "\n",
        "@dataclass\n",
        "class DataCollatorCTCWithPadding:\n",
        "    \"\"\"\n",
        "    Data collator that will dynamically pad the inputs received.\n",
        "    Args:\n",
        "        processor (:class:`~transformers.Wav2Vec2Processor`)\n",
        "            The processor used for proccessing the data.\n",
        "        padding (:obj:`bool`, :obj:`str` or :class:`~transformers.tokenization_utils_base.PaddingStrategy`, `optional`, defaults to :obj:`True`):\n",
        "            Select a strategy to pad the returned sequences (according to the model's padding side and padding index)\n",
        "            among:\n",
        "            * :obj:`True` or :obj:`'longest'`: Pad to the longest sequence in the batch (or no padding if only a single\n",
        "              sequence if provided).\n",
        "            * :obj:`'max_length'`: Pad to a maximum length specified with the argument :obj:`max_length` or to the\n",
        "              maximum acceptable input length for the model if that argument is not provided.\n",
        "            * :obj:`False` or :obj:`'do_not_pad'` (default): No padding (i.e., can output a batch with sequences of\n",
        "              different lengths).\n",
        "    \"\"\"\n",
        "\n",
        "    processor: Wav2Vec2Processor\n",
        "    padding: Union[bool, str] = True\n",
        "\n",
        "    def __call__(self, features: List[Dict[str, Union[List[int], torch.Tensor]]]) -> Dict[str, torch.Tensor]:\n",
        "        # split inputs and labels since they have to be of different lenghts and need\n",
        "        # different padding methods\n",
        "        input_features = [{\"input_values\": feature[\"input_values\"]} for feature in features]\n",
        "        label_features = [{\"input_ids\": feature[\"labels\"]} for feature in features]\n",
        "\n",
        "        batch = self.processor.pad(\n",
        "            input_features,\n",
        "            padding=self.padding,\n",
        "            return_tensors=\"pt\",\n",
        "        )\n",
        "        with self.processor.as_target_processor():\n",
        "            labels_batch = self.processor.pad(\n",
        "                label_features,\n",
        "                padding=self.padding,\n",
        "                return_tensors=\"pt\",\n",
        "            )\n",
        "\n",
        "        # replace padding with -100 to ignore loss correctly\n",
        "        labels = labels_batch[\"input_ids\"].masked_fill(labels_batch.attention_mask.ne(1), -100)\n",
        "\n",
        "        batch[\"labels\"] = labels\n",
        "\n",
        "        return batch"
      ],
      "execution_count": 54,
      "outputs": []
    },
    {
      "cell_type": "code",
      "metadata": {
        "id": "lbQf5GuZyQ4_"
      },
      "source": [
        "data_collator = DataCollatorCTCWithPadding(processor=processor, padding=True)"
      ],
      "execution_count": 55,
      "outputs": []
    },
    {
      "cell_type": "markdown",
      "metadata": {
        "id": "xO-Zdj-5cxXp"
      },
      "source": [
        "Next, the evaluation metric is defined. As mentioned earlier, the \n",
        "predominant metric in ASR is the word error rate (WER), hence we will use it in this notebook as well."
      ]
    },
    {
      "cell_type": "code",
      "metadata": {
        "id": "9Xsux2gmyXso"
      },
      "source": [
        "wer_metric = load_metric(\"wer\")"
      ],
      "execution_count": 56,
      "outputs": []
    },
    {
      "cell_type": "markdown",
      "metadata": {
        "id": "E1qZU5p-deqB"
      },
      "source": [
        "The model will return a sequence of logit vectors:\n",
        "$\\mathbf{y}_1, \\ldots, \\mathbf{y}_m$ with $\\mathbf{y}_1 = f_{\\theta}(x_1, \\ldots, x_n)[0]$ and $n >> m$.\n",
        "\n",
        "A logit vector $\\mathbf{y}_1$ contains the log-odds for each word in the vocabulary we defined earlier, thus $\\text{len}(\\mathbf{y}_i) =$ `config.vocab_size`. We are interested in the most likely prediction of the model and thus take the `argmax(...)` of the logits. Also, we transform the encoded labels back to the original string by replacing `-100` with the `pad_token_id` and decoding the ids while making sure that consecutive tokens are **not** grouped to the same token in CTC style ${}^1$."
      ]
    },
    {
      "cell_type": "code",
      "metadata": {
        "id": "1XZ-kjweyTy_"
      },
      "source": [
        "def compute_metrics(pred):\n",
        "    pred_logits = pred.predictions\n",
        "    pred_ids = np.argmax(pred_logits, axis=-1)\n",
        "\n",
        "    pred.label_ids[pred.label_ids == -100] = processor.tokenizer.pad_token_id\n",
        "\n",
        "    pred_str = processor.batch_decode(pred_ids)\n",
        "    # we do not want to group tokens when computing the metrics\n",
        "    label_str = processor.batch_decode(pred.label_ids, group_tokens=False)\n",
        "\n",
        "    wer = wer_metric.compute(predictions=pred_str, references=label_str)\n",
        "\n",
        "    return {\"wer\": wer}"
      ],
      "execution_count": 57,
      "outputs": []
    },
    {
      "cell_type": "markdown",
      "metadata": {
        "id": "Xmgrx4bRwLIH"
      },
      "source": [
        "Now, we can load the pretrained `Wav2Vec2` checkpoint. The tokenizer's `pad_token_id` must be to define the model's `pad_token_id` or in the case of `Wav2Vec2ForCTC` also CTC's *blank token* ${}^2$. To save GPU memory, we enable PyTorch's [gradient checkpointing](https://pytorch.org/docs/stable/checkpoint.html) and also set the loss reduction to \"*mean*\"."
      ]
    },
    {
      "cell_type": "code",
      "metadata": {
        "colab": {
          "base_uri": "https://localhost:8080/"
        },
        "id": "e7cqAWIayn6w",
        "outputId": "651bd118-664d-4c53-8655-254edffedaef"
      },
      "source": [
        "from transformers import Wav2Vec2ForCTC\n",
        "\n",
        "model = Wav2Vec2ForCTC.from_pretrained(\n",
        "    \"facebook/wav2vec2-large-960h-lv60-self\",    \n",
        "    ctc_loss_reduction=\"mean\", \n",
        "    pad_token_id=processor.tokenizer.pad_token_id,\n",
        ")\n",
        "\n",
        "# facebook/wav2vec2-base"
      ],
      "execution_count": 58,
      "outputs": [
        {
          "output_type": "stream",
          "name": "stderr",
          "text": [
            "Some weights of Wav2Vec2ForCTC were not initialized from the model checkpoint at facebook/wav2vec2-large-960h-lv60-self and are newly initialized: ['wav2vec2.masked_spec_embed']\n",
            "You should probably TRAIN this model on a down-stream task to be able to use it for predictions and inference.\n"
          ]
        }
      ]
    },
    {
      "cell_type": "markdown",
      "metadata": {
        "id": "1DwR3XLSzGDD"
      },
      "source": [
        "The first component of Wav2Vec2 consists of a stack of CNN layers that are used to extract acoustically meaningful - but contextually independent - features from the raw speech signal. This part of the model has already been sufficiently trained during pretrainind and as stated in the [paper](https://arxiv.org/abs/2006.11477) does not need to be fine-tuned anymore. \n",
        "Thus, we can set the `requires_grad` to `False` for all parameters of the *feature extraction* part."
      ]
    },
    {
      "cell_type": "code",
      "source": [
        "model.freeze_feature_encoder()"
      ],
      "metadata": {
        "id": "Et_NUAZjWppc"
      },
      "execution_count": 59,
      "outputs": []
    },
    {
      "cell_type": "markdown",
      "metadata": {
        "id": "lD4aGhQM0K-D"
      },
      "source": [
        "In a final step, we define all parameters related to training. \n",
        "To give more explanation on some of the parameters:\n",
        "- `group_by_length` makes training more efficient by grouping training samples of similar input length into one batch. This can significantly speed up training time by heavily reducing the overall number of useless padding tokens that are passed through the model\n",
        "- `learning_rate` and `weight_decay` were heuristically tuned until fine-tuning has become stable. Note that those parameters strongly depend on the Timit dataset and might be suboptimal for other speech datasets.\n",
        "\n",
        "For more explanations on other parameters, one can take a look at the [docs](https://huggingface.co/transformers/master/main_classes/trainer.html?highlight=trainer#trainingarguments).\n",
        "\n",
        "During training, a checkpoint will be uploaded asynchronously to the hub every 400 training steps. It allows you to also play around with the demo widget even while your model is still training.\n",
        "\n",
        "**Note**: If one does not want to upload the model checkpoints to the hub, simply set `push_to_hub=False`."
      ]
    },
    {
      "cell_type": "code",
      "metadata": {
        "id": "KbeKSV7uzGPP"
      },
      "source": [
        "from transformers import TrainingArguments\n",
        "\n",
        "training_args = TrainingArguments(\n",
        "  # overwrite_output_dir=True,\n",
        "  output_dir=repo_name,\n",
        "  evaluation_strategy=\"steps\",\n",
        "  group_by_length=True,\n",
        "  per_device_train_batch_size=8,  \n",
        "  num_train_epochs=12,\n",
        "  fp16=True,\n",
        "  gradient_checkpointing=True,\n",
        "  save_steps=500,\n",
        "  eval_steps=500,\n",
        "  logging_steps=500,\n",
        "  learning_rate=1e-4,\n",
        "  weight_decay=0.005,\n",
        "  warmup_steps=1000,\n",
        "  save_total_limit=2,\n",
        "  hub_strategy='every_save',\n",
        "  push_to_hub=True,\n",
        "  disable_tqdm=False,\n",
        "  # log_level=\"error\"\n",
        ")"
      ],
      "execution_count": 60,
      "outputs": []
    },
    {
      "cell_type": "markdown",
      "metadata": {
        "id": "OsW-WZcL1ZtN"
      },
      "source": [
        "Now, all instances can be passed to Trainer and we are ready to start training!"
      ]
    },
    {
      "cell_type": "code",
      "metadata": {
        "id": "rY7vBmFCPFgC",
        "colab": {
          "base_uri": "https://localhost:8080/"
        },
        "outputId": "17be50ec-d915-4c0a-d2ff-1f93ab209c48"
      },
      "source": [
        "from transformers import Trainer\n",
        "\n",
        "trainer = Trainer(\n",
        "    model=model,\n",
        "    data_collator=data_collator,\n",
        "    args=training_args,\n",
        "    compute_metrics=compute_metrics,\n",
        "    train_dataset=timit[\"train\"],\n",
        "    eval_dataset=timit[\"test\"],\n",
        "    tokenizer=processor.feature_extractor,\n",
        ")"
      ],
      "execution_count": 61,
      "outputs": [
        {
          "output_type": "stream",
          "name": "stderr",
          "text": [
            "Cloning https://huggingface.co/eaqui/wav2vec2-large-lv60-self-colab into local empty directory.\n",
            "WARNING:huggingface_hub.repository:Cloning https://huggingface.co/eaqui/wav2vec2-large-lv60-self-colab into local empty directory.\n",
            "Using cuda_amp half precision backend\n"
          ]
        }
      ]
    },
    {
      "cell_type": "markdown",
      "metadata": {
        "id": "UoXBx1JAA0DX"
      },
      "source": [
        "\n",
        "\n",
        "---\n",
        "\n",
        "${}^1$ To allow models to become independent of the speaker rate, in CTC, consecutive tokens that are identical are simply grouped as a single token. However, the encoded labels should not be grouped when decoding since they don't correspond to the predicted tokens of the model, which is why the `group_tokens=False` parameter has to be passed. If we wouldn't pass this parameter a word like `\"hello\"` would incorrectly be encoded, and decoded as `\"helo\"`.\n",
        "\n",
        "${}^2$ The blank token allows the model to predict a word, such as `\"hello\"` by forcing it to insert the blank token between the two l's. A CTC-conform prediction of `\"hello\"` of our model would be `[PAD] [PAD] \"h\" \"e\" \"e\" \"l\" \"l\" [PAD] \"l\" \"o\" \"o\" [PAD]`."
      ]
    },
    {
      "cell_type": "markdown",
      "metadata": {
        "id": "rpvZHM1xReIW"
      },
      "source": [
        "### Training"
      ]
    },
    {
      "cell_type": "markdown",
      "metadata": {
        "id": "j-3oKSzZ1hGq"
      },
      "source": [
        "Training will take between 90 and 270 minutes depending on the GPU allocated to this notebook. While the trained model yields satisfying results on *Timit*'s test data, it is by no means an optimally fine-tuned model. The purpose of this notebook is to demonstrate how Wav2Vec2's [base](https://huggingface.co/facebook/wav2vec2-base), [large](https://huggingface.co/facebook/wav2vec2-large), and [large-lv60](https://huggingface.co/facebook/wav2vec2-large-lv60) checkpoints can be fine-tuned on any English dataset.\n",
        "\n",
        "In case you want to use this google colab to fine-tune your model, you should make sure that your training doesn't stop due to inactivity. A simple hack to prevent this is to paste the following code into the console of this tab (*right mouse click -> inspect -> Console tab and insert code*)."
      ]
    },
    {
      "cell_type": "markdown",
      "metadata": {
        "id": "VYYAvgkW4P0m"
      },
      "source": [
        "```javascript\n",
        "function ConnectButton(){\n",
        "    console.log(\"Connect pushed\"); \n",
        "    document.querySelector(\"#top-toolbar > colab-connect-button\").shadowRoot.querySelector(\"#connect\").click() \n",
        "}\n",
        "setInterval(ConnectButton,60000);\n",
        "```"
      ]
    },
    {
      "cell_type": "markdown",
      "metadata": {
        "id": "PmY6yqd1zvzU"
      },
      "source": [
        "Depending on what GPU was allocated to your google colab it might be possible that you are seeing an `\"out-of-memory\"` error here. In this case, it's probably best to reduce `per_device_train_batch_size` to 16 or even less and eventually make use of [`gradient_accumulation`](https://huggingface.co/transformers/master/main_classes/trainer.html#trainingarguments)."
      ]
    },
    {
      "cell_type": "code",
      "metadata": {
        "colab": {
          "base_uri": "https://localhost:8080/",
          "height": 328
        },
        "id": "_UEjJqGsQw24",
        "outputId": "29cb5a27-0aef-474c-9359-dc9da55b8770"
      },
      "source": [
        "trainer.train()"
      ],
      "execution_count": null,
      "outputs": [
        {
          "output_type": "stream",
          "name": "stderr",
          "text": [
            "The following columns in the training set don't have a corresponding argument in `Wav2Vec2ForCTC.forward` and have been ignored: input_length. If input_length are not expected by `Wav2Vec2ForCTC.forward`,  you can safely ignore this message.\n",
            "/usr/local/lib/python3.8/dist-packages/transformers/optimization.py:306: FutureWarning: This implementation of AdamW is deprecated and will be removed in a future version. Use the PyTorch implementation torch.optim.AdamW instead, or set `no_deprecation_warning=True` to disable this warning\n",
            "  warnings.warn(\n",
            "***** Running training *****\n",
            "  Num examples = 3978\n",
            "  Num Epochs = 12\n",
            "  Instantaneous batch size per device = 8\n",
            "  Total train batch size (w. parallel, distributed & accumulation) = 8\n",
            "  Gradient Accumulation steps = 1\n",
            "  Total optimization steps = 5976\n",
            "  Number of trainable parameters = 311261344\n",
            "/usr/local/lib/python3.8/dist-packages/transformers/models/wav2vec2/processing_wav2vec2.py:154: UserWarning: `as_target_processor` is deprecated and will be removed in v5 of Transformers. You can process your labels by using the argument `text` of the regular `__call__` method (either in the same call as your audio inputs, or in a separate call.\n",
            "  warnings.warn(\n"
          ]
        },
        {
          "output_type": "display_data",
          "data": {
            "text/plain": [
              "<IPython.core.display.HTML object>"
            ],
            "text/html": [
              "\n",
              "    <div>\n",
              "      \n",
              "      <progress value='318' max='5976' style='width:300px; height:20px; vertical-align: middle;'></progress>\n",
              "      [ 318/5976 03:10 < 56:55, 1.66 it/s, Epoch 0.64/12]\n",
              "    </div>\n",
              "    <table border=\"1\" class=\"dataframe\">\n",
              "  <thead>\n",
              " <tr style=\"text-align: left;\">\n",
              "      <th>Step</th>\n",
              "      <th>Training Loss</th>\n",
              "      <th>Validation Loss</th>\n",
              "    </tr>\n",
              "  </thead>\n",
              "  <tbody>\n",
              "  </tbody>\n",
              "</table><p>"
            ]
          },
          "metadata": {}
        }
      ]
    },
    {
      "cell_type": "markdown",
      "metadata": {
        "id": "UCyp-v3n4Zlt"
      },
      "source": [
        "The final WER should be around 0.3 which is reasonable given that state-of-the-art phoneme error rates (PER) are just below 0.1 (see [leaderboard](https://paperswithcode.com/sota/speech-recognition-on-timit)) and that WER is usually worse than PER.\n",
        "\n",
        "You can now upload the result of the training to the Hub, just execute this instruction:"
      ]
    },
    {
      "cell_type": "code",
      "metadata": {
        "id": "JYGQYBhHNsvj"
      },
      "source": [
        "trainer.push_to_hub()"
      ],
      "execution_count": null,
      "outputs": []
    },
    {
      "cell_type": "markdown",
      "metadata": {
        "id": "djzwS5WeNu16"
      },
      "source": [
        "You can now share this model with all your friends, family, favorite pets: they can all load it with the identifier \"your-username/the-name-you-picked\" so for instance:"
      ]
    },
    {
      "cell_type": "markdown",
      "metadata": {
        "id": "Adm0LngNNxq7"
      },
      "source": [
        "```python\n",
        "from transformers import AutoModelForCTC, Wav2Vec2Processor\n",
        "\n",
        "model = AutoModelForCTC.from_pretrained(\"eaqui/wav2vec2-base-demo-colab\")\n",
        "processor = Wav2Vec2Processor.from_pretrained(\"eaqui/wav2vec2-base-demo-colab\")\n",
        "```"
      ]
    },
    {
      "cell_type": "markdown",
      "metadata": {
        "id": "nD4XP5IHncsY"
      },
      "source": [
        "### Evaluate\n",
        "\n",
        "In the final part, we run our model on some of the validation data to get a feeling for how well it works.\n",
        "\n",
        "Let's load the `processor` and `model`."
      ]
    },
    {
      "cell_type": "code",
      "metadata": {
        "id": "-rg0USDCnbo6"
      },
      "source": [
        "from transformers import AutoModelForCTC, Wav2Vec2Processor\n",
        "\n",
        "processor = Wav2Vec2Processor.from_pretrained(\"eaqui/wav2vec2-base-demo-colab\")\n",
        "model = AutoModelForCTC.from_pretrained(\"eaqui/wav2vec2-base-demo-colab\").cuda()"
      ],
      "execution_count": null,
      "outputs": []
    },
    {
      "cell_type": "markdown",
      "metadata": {
        "id": "TUuZpB0v5jn_"
      },
      "source": [
        "Now, we will make use of the `map(...)` function to predict the transcription of every test sample and to save the prediction in the dataset itself. We will call the resulting dictionary `\"results\"`. \n",
        "\n",
        "**Note**: we evaluate the test data set with `batch_size=1` on purpose due to this [issue](https://github.com/pytorch/fairseq/issues/3227). Since padded inputs don't yield the exact same output as non-padded inputs, a better WER can be achieved by not padding the input at all."
      ]
    },
    {
      "cell_type": "code",
      "metadata": {
        "id": "40naJl53n7jT"
      },
      "source": [
        "def map_to_result(batch):\n",
        "  with torch.no_grad():\n",
        "    input_values = torch.tensor(batch[\"input_values\"], device=\"cuda\").unsqueeze(0)\n",
        "    logits = model(input_values).logits\n",
        "\n",
        "  pred_ids = torch.argmax(logits, dim=-1)\n",
        "  batch[\"pred_str\"] = processor.batch_decode(pred_ids)[0]\n",
        "  batch[\"text\"] = processor.decode(batch[\"labels\"], group_tokens=False)\n",
        "  \n",
        "  return batch"
      ],
      "execution_count": null,
      "outputs": []
    },
    {
      "cell_type": "code",
      "metadata": {
        "id": "uPqH7gZqrGPi"
      },
      "source": [
        "results = timit[\"test\"].map(map_to_result, remove_columns=timit[\"test\"].column_names)"
      ],
      "execution_count": null,
      "outputs": []
    },
    {
      "cell_type": "markdown",
      "metadata": {
        "id": "-mqpdB8R6rty"
      },
      "source": [
        "Let's compute the overall WER now."
      ]
    },
    {
      "cell_type": "code",
      "metadata": {
        "id": "PmqAb4Isx8OK"
      },
      "source": [
        "print(\"Test WER: {:.3f}\".format(wer_metric.compute(predictions=results[\"pred_str\"], references=results[\"text\"])))"
      ],
      "execution_count": null,
      "outputs": []
    },
    {
      "cell_type": "markdown",
      "metadata": {
        "id": "6Va94d8Y7Q98"
      },
      "source": [
        "21.8% WER - not bad! Our demo model would have probably made it on the official [leaderboard](https://paperswithcode.com/sota/speech-recognition-on-timit).\n",
        "\n",
        "Let's take a look at some predictions to see what errors are made by the model."
      ]
    },
    {
      "cell_type": "code",
      "metadata": {
        "id": "odNDiFVRy53w"
      },
      "source": [
        "show_random_elements(results)"
      ],
      "execution_count": null,
      "outputs": []
    },
    {
      "cell_type": "markdown",
      "metadata": {
        "id": "5HFCujhd9n4N"
      },
      "source": [
        "It becomes clear that the predicted transcriptions are acoustically very similar to the target transcriptions, but often contain spelling or grammatical errors. This shouldn't be very surprising though given that we purely rely on Wav2Vec2 without making use of a language model."
      ]
    },
    {
      "cell_type": "markdown",
      "metadata": {
        "id": "a3ydKvUl9FTK"
      },
      "source": [
        "Finally, to better understand how CTC works, it is worth taking a deeper look at the exact output of the model. Let's run the first test sample through the model, take the predicted ids and convert them to their corresponding tokens."
      ]
    },
    {
      "cell_type": "code",
      "metadata": {
        "id": "AqaM45t87uM4",
        "colab": {
          "base_uri": "https://localhost:8080/",
          "height": 70
        },
        "outputId": "9a4cd014-1c10-4fb7-f7b2-b6c3e9286891"
      },
      "source": [
        "model.to(\"cuda\")\n",
        "\n",
        "with torch.no_grad():\n",
        "  logits = model(torch.tensor(timit[\"test\"][:1][\"input_values\"], device=\"cuda\")).logits\n",
        "\n",
        "pred_ids = torch.argmax(logits, dim=-1)\n",
        "\n",
        "# convert ids to tokens\n",
        "\" \".join(processor.tokenizer.convert_ids_to_tokens(pred_ids[0].tolist()))"
      ],
      "execution_count": null,
      "outputs": [
        {
          "output_type": "execute_result",
          "data": {
            "text/plain": [
              "'[PAD] [PAD] [PAD] [PAD] [PAD] [PAD] t t h e e | b b [PAD] [PAD] [PAD] o n n n g [PAD] [PAD] o l l l [PAD] [PAD] [PAD] o o | | w w [PAD] a s s | | [PAD] [PAD] p [PAD] l l [PAD] e s s s s e n n t t l l l [PAD] y y | | | s s [PAD] [PAD] i i t t [PAD] [PAD] [PAD] u u u u [PAD] [PAD] [PAD] a a a t t e e e d | | | n n e e a a r | | t h h e | | | s s h h [PAD] [PAD] [PAD] o o o r r r e | | [PAD] [PAD] [PAD] [PAD] [PAD] [PAD] [PAD] [PAD]'"
            ],
            "application/vnd.google.colaboratory.intrinsic+json": {
              "type": "string"
            }
          },
          "metadata": {},
          "execution_count": 115
        }
      ]
    },
    {
      "cell_type": "markdown",
      "metadata": {
        "id": "tdO8E28g-n5C"
      },
      "source": [
        "The output should make it a bit clearer how CTC works in practice. The model is to some extent invariant to speaking rate since it has learned to either just repeat the same token in case the speech chunk to be classified still corresponds to the same token. This makes CTC a very powerful algorithm for speech recognition since the speech file's transcription is often very much independent of its length.\n",
        "\n",
        "I again advise the reader to take a look at [this](https://distill.pub/2017/ctc) very nice blog post to better understand CTC."
      ]
    }
  ]
}